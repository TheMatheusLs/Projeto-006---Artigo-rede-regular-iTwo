{
 "cells": [
  {
   "cell_type": "markdown",
   "metadata": {},
   "source": [
    "# Treinando o modelo na Versão 01"
   ]
  },
  {
   "cell_type": "code",
   "execution_count": 1,
   "metadata": {},
   "outputs": [
    {
     "name": "stdout",
     "output_type": "stream",
     "text": [
      "Using gymnasium version 0.29.1\n"
     ]
    }
   ],
   "source": [
    "import gymnasium as gym\n",
    "print(f\"Using gymnasium version {gym.__version__}\")\n"
   ]
  },
  {
   "cell_type": "code",
   "execution_count": 2,
   "metadata": {},
   "outputs": [
    {
     "name": "stdout",
     "output_type": "stream",
     "text": [
      "Using stable-baselines3 version 2.2.1\n"
     ]
    }
   ],
   "source": [
    "import stable_baselines3\n",
    "from stable_baselines3 import PPO\n",
    "from stable_baselines3.common.env_util import make_vec_env\n",
    "from stable_baselines3.common.evaluation import evaluate_policy\n",
    "from stable_baselines3.common.callbacks import BaseCallback, CheckpointCallback, EvalCallback\n",
    "from stable_baselines3.common.monitor import Monitor\n",
    "import numpy as np\n",
    "import os\n",
    "\n",
    "print(f\"Using stable-baselines3 version {stable_baselines3.__version__}\")"
   ]
  },
  {
   "cell_type": "code",
   "execution_count": 3,
   "metadata": {},
   "outputs": [],
   "source": [
    "from Enviroment.Settings import *\n",
    "from Enviroment.Manager import Enviroment"
   ]
  },
  {
   "cell_type": "code",
   "execution_count": 4,
   "metadata": {},
   "outputs": [
    {
     "name": "stdout",
     "output_type": "stream",
     "text": [
      "Using torch version 2.1.2+cpu\n"
     ]
    }
   ],
   "source": [
    "import torch as th\n",
    "\n",
    "print(f\"Using torch version {th.__version__}\")"
   ]
  },
  {
   "cell_type": "code",
   "execution_count": 5,
   "metadata": {},
   "outputs": [],
   "source": [
    "class TensorboardCallback(BaseCallback):\n",
    "    \"\"\"\n",
    "    Custom callback for plotting additional values in tensorboard.\n",
    "    \"\"\"\n",
    "\n",
    "    def __init__(self, verbose=0):\n",
    "        super().__init__(verbose)\n",
    "        self.pb_history = []\n",
    "\n",
    "    def _on_step(self) -> bool:\n",
    "\n",
    "        # Acessa o ambiente\n",
    "        env = self.training_env.envs[0].env\n",
    "\n",
    "        info = env.get_custom_info()\n",
    "\n",
    "        if info[\"total_requests\"] > 39998:\n",
    "            self.logger.record(\"custom_on_episode/total_requests\", info[\"total_requests\"])\n",
    "            self.logger.record(\"custom_on_episode/blocking_probability\", info[\"blocking_probability\"])\n",
    "            self.pb_history.append(info[\"blocking_probability\"])\n",
    "            self.logger.record(\"custom_on_episode/blocking_probability_total_mean\", np.mean(self.pb_history))\n",
    "\n",
    "            # Salva a média da probabilidade de bloqueio dos últimos 10 episódios\n",
    "            self.logger.record(\"custom_on_episode/blocking_probability_mean_10\", np.mean(self.pb_history[-10:]))\n",
    "\n",
    "\n",
    "            self.logger.record(\"custom_on_episode/reward_episode\", info[\"reward_episode\"])\n",
    "            self.logger.record(\"custom_on_episode/total_number_of_blocks\", info[\"total_number_of_blocks\"])\n",
    "            self.logger.record(\"custom_on_episode/calls_SAR\", env.SAR_calls)\n",
    "\n",
    "        # Verifica se o episódio terminou\t\n",
    "        return True"
   ]
  },
  {
   "cell_type": "code",
   "execution_count": 6,
   "metadata": {},
   "outputs": [
    {
     "name": "stdout",
     "output_type": "stream",
     "text": [
      "Using the enviroment {'Observation': 'availability-vector', 'Action': 'RSA-SAR', 'Reward': 'RL-defaut', 'StopCond': '40kReqs', 'StartCond': 'Empty'}\n",
      "Using the log path ../logs/Train_PPO_40kReqs_300_v3_001\n"
     ]
    },
    {
     "name": "stderr",
     "output_type": "stream",
     "text": [
      "d:\\98_phD_Files\\Projeto 006 - Artigo rede regular iTwo\\venv\\Lib\\site-packages\\stable_baselines3\\ppo\\ppo.py:155: UserWarning: You have specified a mini-batch size of 4096, but because the `RolloutBuffer` is of size `n_steps * n_envs = 20000`, after every 4 untruncated mini-batches, there will be a truncated mini-batch of size 3616\n",
      "We recommend using a `batch_size` that is a factor of `n_steps * n_envs`.\n",
      "Info: (n_steps=20000 and n_envs=1)\n",
      "  warnings.warn(\n",
      "d:\\98_phD_Files\\Projeto 006 - Artigo rede regular iTwo\\venv\\Lib\\site-packages\\stable_baselines3\\common\\policies.py:484: UserWarning: As shared layers in the mlp_extractor are removed since SB3 v1.8.0, you should now pass directly a dictionary and not a list (net_arch=dict(pi=..., vf=...) instead of net_arch=[dict(pi=..., vf=...)])\n",
      "  warnings.warn(\n"
     ]
    },
    {
     "data": {
      "application/vnd.jupyter.widget-view+json": {
       "model_id": "c439d8443a2c40689532be247a0bc7d3",
       "version_major": 2,
       "version_minor": 0
      },
      "text/plain": [
       "Output()"
      ]
     },
     "metadata": {},
     "output_type": "display_data"
    },
    {
     "data": {
      "text/html": [
       "<pre style=\"white-space:pre;overflow-x:auto;line-height:normal;font-family:Menlo,'DejaVu Sans Mono',consolas,'Courier New',monospace\">Saving model checkpoint to ../logs/Train_PPO_40kReqs_300_v3_001/training/best_model_40000_steps.zip\n",
       "</pre>\n"
      ],
      "text/plain": [
       "Saving model checkpoint to ../logs/Train_PPO_40kReqs_300_v3_001/training/best_model_40000_steps.zip\n"
      ]
     },
     "metadata": {},
     "output_type": "display_data"
    },
    {
     "data": {
      "text/html": [
       "<pre style=\"white-space:pre;overflow-x:auto;line-height:normal;font-family:Menlo,'DejaVu Sans Mono',consolas,'Courier New',monospace\">Eval num_timesteps=40000, episode_reward=39003.20 +/- 56.77\n",
       "</pre>\n"
      ],
      "text/plain": [
       "Eval num_timesteps=40000, episode_reward=39003.20 +/- 56.77\n"
      ]
     },
     "metadata": {},
     "output_type": "display_data"
    },
    {
     "data": {
      "text/html": [
       "<pre style=\"white-space:pre;overflow-x:auto;line-height:normal;font-family:Menlo,'DejaVu Sans Mono',consolas,'Courier New',monospace\">Episode length: 40000.00 +/- 0.00\n",
       "</pre>\n"
      ],
      "text/plain": [
       "Episode length: 40000.00 +/- 0.00\n"
      ]
     },
     "metadata": {},
     "output_type": "display_data"
    },
    {
     "data": {
      "text/html": [
       "<pre style=\"white-space:pre;overflow-x:auto;line-height:normal;font-family:Menlo,'DejaVu Sans Mono',consolas,'Courier New',monospace\">New best mean reward!\n",
       "</pre>\n"
      ],
      "text/plain": [
       "New best mean reward!\n"
      ]
     },
     "metadata": {},
     "output_type": "display_data"
    },
    {
     "data": {
      "text/html": [
       "<pre style=\"white-space:pre;overflow-x:auto;line-height:normal;font-family:Menlo,'DejaVu Sans Mono',consolas,'Courier New',monospace\">Saving model checkpoint to ../logs/Train_PPO_40kReqs_300_v3_001/training/best_model_79999_steps.zip\n",
       "</pre>\n"
      ],
      "text/plain": [
       "Saving model checkpoint to ../logs/Train_PPO_40kReqs_300_v3_001/training/best_model_79999_steps.zip\n"
      ]
     },
     "metadata": {},
     "output_type": "display_data"
    },
    {
     "data": {
      "text/html": [
       "<pre style=\"white-space:pre;overflow-x:auto;line-height:normal;font-family:Menlo,'DejaVu Sans Mono',consolas,'Courier New',monospace\">Eval num_timesteps=80000, episode_reward=39090.40 +/- 69.82\n",
       "</pre>\n"
      ],
      "text/plain": [
       "Eval num_timesteps=80000, episode_reward=39090.40 +/- 69.82\n"
      ]
     },
     "metadata": {},
     "output_type": "display_data"
    },
    {
     "data": {
      "text/html": [
       "<pre style=\"white-space:pre;overflow-x:auto;line-height:normal;font-family:Menlo,'DejaVu Sans Mono',consolas,'Courier New',monospace\">Episode length: 40000.00 +/- 0.00\n",
       "</pre>\n"
      ],
      "text/plain": [
       "Episode length: 40000.00 +/- 0.00\n"
      ]
     },
     "metadata": {},
     "output_type": "display_data"
    },
    {
     "data": {
      "text/html": [
       "<pre style=\"white-space:pre;overflow-x:auto;line-height:normal;font-family:Menlo,'DejaVu Sans Mono',consolas,'Courier New',monospace\">New best mean reward!\n",
       "</pre>\n"
      ],
      "text/plain": [
       "New best mean reward!\n"
      ]
     },
     "metadata": {},
     "output_type": "display_data"
    },
    {
     "data": {
      "text/html": [
       "<pre style=\"white-space:pre;overflow-x:auto;line-height:normal;font-family:Menlo,'DejaVu Sans Mono',consolas,'Courier New',monospace\">Saving model checkpoint to ../logs/Train_PPO_40kReqs_300_v3_001/training/best_model_119998_steps.zip\n",
       "</pre>\n"
      ],
      "text/plain": [
       "Saving model checkpoint to ../logs/Train_PPO_40kReqs_300_v3_001/training/best_model_119998_steps.zip\n"
      ]
     },
     "metadata": {},
     "output_type": "display_data"
    },
    {
     "data": {
      "text/html": [
       "<pre style=\"white-space:pre;overflow-x:auto;line-height:normal;font-family:Menlo,'DejaVu Sans Mono',consolas,'Courier New',monospace\">Eval num_timesteps=120000, episode_reward=39019.20 +/- 51.56\n",
       "</pre>\n"
      ],
      "text/plain": [
       "Eval num_timesteps=120000, episode_reward=39019.20 +/- 51.56\n"
      ]
     },
     "metadata": {},
     "output_type": "display_data"
    },
    {
     "data": {
      "text/html": [
       "<pre style=\"white-space:pre;overflow-x:auto;line-height:normal;font-family:Menlo,'DejaVu Sans Mono',consolas,'Courier New',monospace\">Episode length: 40000.00 +/- 0.00\n",
       "</pre>\n"
      ],
      "text/plain": [
       "Episode length: 40000.00 +/- 0.00\n"
      ]
     },
     "metadata": {},
     "output_type": "display_data"
    },
    {
     "data": {
      "text/html": [
       "<pre style=\"white-space:pre;overflow-x:auto;line-height:normal;font-family:Menlo,'DejaVu Sans Mono',consolas,'Courier New',monospace\">Saving model checkpoint to ../logs/Train_PPO_40kReqs_300_v3_001/training/best_model_159998_steps.zip\n",
       "</pre>\n"
      ],
      "text/plain": [
       "Saving model checkpoint to ../logs/Train_PPO_40kReqs_300_v3_001/training/best_model_159998_steps.zip\n"
      ]
     },
     "metadata": {},
     "output_type": "display_data"
    },
    {
     "data": {
      "text/html": [
       "<pre style=\"white-space:pre;overflow-x:auto;line-height:normal;font-family:Menlo,'DejaVu Sans Mono',consolas,'Courier New',monospace\">Eval num_timesteps=160000, episode_reward=39090.80 +/- 80.82\n",
       "</pre>\n"
      ],
      "text/plain": [
       "Eval num_timesteps=160000, episode_reward=39090.80 +/- 80.82\n"
      ]
     },
     "metadata": {},
     "output_type": "display_data"
    },
    {
     "data": {
      "text/html": [
       "<pre style=\"white-space:pre;overflow-x:auto;line-height:normal;font-family:Menlo,'DejaVu Sans Mono',consolas,'Courier New',monospace\">Episode length: 40000.00 +/- 0.00\n",
       "</pre>\n"
      ],
      "text/plain": [
       "Episode length: 40000.00 +/- 0.00\n"
      ]
     },
     "metadata": {},
     "output_type": "display_data"
    },
    {
     "data": {
      "text/html": [
       "<pre style=\"white-space:pre;overflow-x:auto;line-height:normal;font-family:Menlo,'DejaVu Sans Mono',consolas,'Courier New',monospace\">New best mean reward!\n",
       "</pre>\n"
      ],
      "text/plain": [
       "New best mean reward!\n"
      ]
     },
     "metadata": {},
     "output_type": "display_data"
    },
    {
     "data": {
      "text/html": [
       "<pre style=\"white-space:pre;overflow-x:auto;line-height:normal;font-family:Menlo,'DejaVu Sans Mono',consolas,'Courier New',monospace\">Saving model checkpoint to ../logs/Train_PPO_40kReqs_300_v3_001/training/best_model_199997_steps.zip\n",
       "</pre>\n"
      ],
      "text/plain": [
       "Saving model checkpoint to ../logs/Train_PPO_40kReqs_300_v3_001/training/best_model_199997_steps.zip\n"
      ]
     },
     "metadata": {},
     "output_type": "display_data"
    },
    {
     "data": {
      "text/html": [
       "<pre style=\"white-space:pre;overflow-x:auto;line-height:normal;font-family:Menlo,'DejaVu Sans Mono',consolas,'Courier New',monospace\">Eval num_timesteps=200000, episode_reward=39003.60 +/- 140.19\n",
       "</pre>\n"
      ],
      "text/plain": [
       "Eval num_timesteps=200000, episode_reward=39003.60 +/- 140.19\n"
      ]
     },
     "metadata": {},
     "output_type": "display_data"
    },
    {
     "data": {
      "text/html": [
       "<pre style=\"white-space:pre;overflow-x:auto;line-height:normal;font-family:Menlo,'DejaVu Sans Mono',consolas,'Courier New',monospace\">Episode length: 40000.00 +/- 0.00\n",
       "</pre>\n"
      ],
      "text/plain": [
       "Episode length: 40000.00 +/- 0.00\n"
      ]
     },
     "metadata": {},
     "output_type": "display_data"
    },
    {
     "data": {
      "text/html": [
       "<pre style=\"white-space:pre;overflow-x:auto;line-height:normal;font-family:Menlo,'DejaVu Sans Mono',consolas,'Courier New',monospace\">Saving model checkpoint to ../logs/Train_PPO_40kReqs_300_v3_001/training/best_model_239997_steps.zip\n",
       "</pre>\n"
      ],
      "text/plain": [
       "Saving model checkpoint to ../logs/Train_PPO_40kReqs_300_v3_001/training/best_model_239997_steps.zip\n"
      ]
     },
     "metadata": {},
     "output_type": "display_data"
    },
    {
     "data": {
      "text/html": [
       "<pre style=\"white-space:pre;overflow-x:auto;line-height:normal;font-family:Menlo,'DejaVu Sans Mono',consolas,'Courier New',monospace\">Eval num_timesteps=240000, episode_reward=38990.40 +/- 128.50\n",
       "</pre>\n"
      ],
      "text/plain": [
       "Eval num_timesteps=240000, episode_reward=38990.40 +/- 128.50\n"
      ]
     },
     "metadata": {},
     "output_type": "display_data"
    },
    {
     "data": {
      "text/html": [
       "<pre style=\"white-space:pre;overflow-x:auto;line-height:normal;font-family:Menlo,'DejaVu Sans Mono',consolas,'Courier New',monospace\">Episode length: 40000.00 +/- 0.00\n",
       "</pre>\n"
      ],
      "text/plain": [
       "Episode length: 40000.00 +/- 0.00\n"
      ]
     },
     "metadata": {},
     "output_type": "display_data"
    },
    {
     "data": {
      "text/html": [
       "<pre style=\"white-space:pre;overflow-x:auto;line-height:normal;font-family:Menlo,'DejaVu Sans Mono',consolas,'Courier New',monospace\">Saving model checkpoint to ../logs/Train_PPO_40kReqs_300_v3_001/training/best_model_279997_steps.zip\n",
       "</pre>\n"
      ],
      "text/plain": [
       "Saving model checkpoint to ../logs/Train_PPO_40kReqs_300_v3_001/training/best_model_279997_steps.zip\n"
      ]
     },
     "metadata": {},
     "output_type": "display_data"
    },
    {
     "data": {
      "text/html": [
       "<pre style=\"white-space:pre;overflow-x:auto;line-height:normal;font-family:Menlo,'DejaVu Sans Mono',consolas,'Courier New',monospace\">Eval num_timesteps=280000, episode_reward=39100.40 +/- 166.46\n",
       "</pre>\n"
      ],
      "text/plain": [
       "Eval num_timesteps=280000, episode_reward=39100.40 +/- 166.46\n"
      ]
     },
     "metadata": {},
     "output_type": "display_data"
    },
    {
     "data": {
      "text/html": [
       "<pre style=\"white-space:pre;overflow-x:auto;line-height:normal;font-family:Menlo,'DejaVu Sans Mono',consolas,'Courier New',monospace\">Episode length: 40000.00 +/- 0.00\n",
       "</pre>\n"
      ],
      "text/plain": [
       "Episode length: 40000.00 +/- 0.00\n"
      ]
     },
     "metadata": {},
     "output_type": "display_data"
    },
    {
     "data": {
      "text/html": [
       "<pre style=\"white-space:pre;overflow-x:auto;line-height:normal;font-family:Menlo,'DejaVu Sans Mono',consolas,'Courier New',monospace\">New best mean reward!\n",
       "</pre>\n"
      ],
      "text/plain": [
       "New best mean reward!\n"
      ]
     },
     "metadata": {},
     "output_type": "display_data"
    },
    {
     "data": {
      "text/html": [
       "<pre style=\"white-space:pre;overflow-x:auto;line-height:normal;font-family:Menlo,'DejaVu Sans Mono',consolas,'Courier New',monospace\">Saving model checkpoint to ../logs/Train_PPO_40kReqs_300_v3_001/training/best_model_319996_steps.zip\n",
       "</pre>\n"
      ],
      "text/plain": [
       "Saving model checkpoint to ../logs/Train_PPO_40kReqs_300_v3_001/training/best_model_319996_steps.zip\n"
      ]
     },
     "metadata": {},
     "output_type": "display_data"
    },
    {
     "data": {
      "text/html": [
       "<pre style=\"white-space:pre;overflow-x:auto;line-height:normal;font-family:Menlo,'DejaVu Sans Mono',consolas,'Courier New',monospace\">Eval num_timesteps=320000, episode_reward=39083.60 +/- 104.41\n",
       "</pre>\n"
      ],
      "text/plain": [
       "Eval num_timesteps=320000, episode_reward=39083.60 +/- 104.41\n"
      ]
     },
     "metadata": {},
     "output_type": "display_data"
    },
    {
     "data": {
      "text/html": [
       "<pre style=\"white-space:pre;overflow-x:auto;line-height:normal;font-family:Menlo,'DejaVu Sans Mono',consolas,'Courier New',monospace\">Episode length: 40000.00 +/- 0.00\n",
       "</pre>\n"
      ],
      "text/plain": [
       "Episode length: 40000.00 +/- 0.00\n"
      ]
     },
     "metadata": {},
     "output_type": "display_data"
    },
    {
     "data": {
      "text/html": [
       "<pre style=\"white-space:pre;overflow-x:auto;line-height:normal;font-family:Menlo,'DejaVu Sans Mono',consolas,'Courier New',monospace\">Saving model checkpoint to ../logs/Train_PPO_40kReqs_300_v3_001/training/best_model_359996_steps.zip\n",
       "</pre>\n"
      ],
      "text/plain": [
       "Saving model checkpoint to ../logs/Train_PPO_40kReqs_300_v3_001/training/best_model_359996_steps.zip\n"
      ]
     },
     "metadata": {},
     "output_type": "display_data"
    },
    {
     "data": {
      "text/html": [
       "<pre style=\"white-space:pre;overflow-x:auto;line-height:normal;font-family:Menlo,'DejaVu Sans Mono',consolas,'Courier New',monospace\">Eval num_timesteps=360000, episode_reward=39059.20 +/- 84.76\n",
       "</pre>\n"
      ],
      "text/plain": [
       "Eval num_timesteps=360000, episode_reward=39059.20 +/- 84.76\n"
      ]
     },
     "metadata": {},
     "output_type": "display_data"
    },
    {
     "data": {
      "text/html": [
       "<pre style=\"white-space:pre;overflow-x:auto;line-height:normal;font-family:Menlo,'DejaVu Sans Mono',consolas,'Courier New',monospace\">Episode length: 40000.00 +/- 0.00\n",
       "</pre>\n"
      ],
      "text/plain": [
       "Episode length: 40000.00 +/- 0.00\n"
      ]
     },
     "metadata": {},
     "output_type": "display_data"
    },
    {
     "data": {
      "text/html": [
       "<pre style=\"white-space:pre;overflow-x:auto;line-height:normal;font-family:Menlo,'DejaVu Sans Mono',consolas,'Courier New',monospace\">Saving model checkpoint to ../logs/Train_PPO_40kReqs_300_v3_001/training/best_model_399996_steps.zip\n",
       "</pre>\n"
      ],
      "text/plain": [
       "Saving model checkpoint to ../logs/Train_PPO_40kReqs_300_v3_001/training/best_model_399996_steps.zip\n"
      ]
     },
     "metadata": {},
     "output_type": "display_data"
    },
    {
     "data": {
      "text/html": [
       "<pre style=\"white-space:pre;overflow-x:auto;line-height:normal;font-family:Menlo,'DejaVu Sans Mono',consolas,'Courier New',monospace\">Eval num_timesteps=400000, episode_reward=39106.80 +/- 125.01\n",
       "</pre>\n"
      ],
      "text/plain": [
       "Eval num_timesteps=400000, episode_reward=39106.80 +/- 125.01\n"
      ]
     },
     "metadata": {},
     "output_type": "display_data"
    },
    {
     "data": {
      "text/html": [
       "<pre style=\"white-space:pre;overflow-x:auto;line-height:normal;font-family:Menlo,'DejaVu Sans Mono',consolas,'Courier New',monospace\">Episode length: 40000.00 +/- 0.00\n",
       "</pre>\n"
      ],
      "text/plain": [
       "Episode length: 40000.00 +/- 0.00\n"
      ]
     },
     "metadata": {},
     "output_type": "display_data"
    },
    {
     "data": {
      "text/html": [
       "<pre style=\"white-space:pre;overflow-x:auto;line-height:normal;font-family:Menlo,'DejaVu Sans Mono',consolas,'Courier New',monospace\">New best mean reward!\n",
       "</pre>\n"
      ],
      "text/plain": [
       "New best mean reward!\n"
      ]
     },
     "metadata": {},
     "output_type": "display_data"
    },
    {
     "data": {
      "text/html": [
       "<pre style=\"white-space:pre;overflow-x:auto;line-height:normal;font-family:Menlo,'DejaVu Sans Mono',consolas,'Courier New',monospace\">Saving model checkpoint to ../logs/Train_PPO_40kReqs_300_v3_001/training/best_model_439995_steps.zip\n",
       "</pre>\n"
      ],
      "text/plain": [
       "Saving model checkpoint to ../logs/Train_PPO_40kReqs_300_v3_001/training/best_model_439995_steps.zip\n"
      ]
     },
     "metadata": {},
     "output_type": "display_data"
    },
    {
     "data": {
      "text/html": [
       "<pre style=\"white-space:pre;overflow-x:auto;line-height:normal;font-family:Menlo,'DejaVu Sans Mono',consolas,'Courier New',monospace\">Eval num_timesteps=440000, episode_reward=39069.20 +/- 107.50\n",
       "</pre>\n"
      ],
      "text/plain": [
       "Eval num_timesteps=440000, episode_reward=39069.20 +/- 107.50\n"
      ]
     },
     "metadata": {},
     "output_type": "display_data"
    },
    {
     "data": {
      "text/html": [
       "<pre style=\"white-space:pre;overflow-x:auto;line-height:normal;font-family:Menlo,'DejaVu Sans Mono',consolas,'Courier New',monospace\">Episode length: 40000.00 +/- 0.00\n",
       "</pre>\n"
      ],
      "text/plain": [
       "Episode length: 40000.00 +/- 0.00\n"
      ]
     },
     "metadata": {},
     "output_type": "display_data"
    },
    {
     "data": {
      "text/html": [
       "<pre style=\"white-space:pre;overflow-x:auto;line-height:normal;font-family:Menlo,'DejaVu Sans Mono',consolas,'Courier New',monospace\">Saving model checkpoint to ../logs/Train_PPO_40kReqs_300_v3_001/training/best_model_479995_steps.zip\n",
       "</pre>\n"
      ],
      "text/plain": [
       "Saving model checkpoint to ../logs/Train_PPO_40kReqs_300_v3_001/training/best_model_479995_steps.zip\n"
      ]
     },
     "metadata": {},
     "output_type": "display_data"
    },
    {
     "data": {
      "text/html": [
       "<pre style=\"white-space:pre;overflow-x:auto;line-height:normal;font-family:Menlo,'DejaVu Sans Mono',consolas,'Courier New',monospace\">Eval num_timesteps=480000, episode_reward=39039.60 +/- 121.40\n",
       "</pre>\n"
      ],
      "text/plain": [
       "Eval num_timesteps=480000, episode_reward=39039.60 +/- 121.40\n"
      ]
     },
     "metadata": {},
     "output_type": "display_data"
    },
    {
     "data": {
      "text/html": [
       "<pre style=\"white-space:pre;overflow-x:auto;line-height:normal;font-family:Menlo,'DejaVu Sans Mono',consolas,'Courier New',monospace\">Episode length: 40000.00 +/- 0.00\n",
       "</pre>\n"
      ],
      "text/plain": [
       "Episode length: 40000.00 +/- 0.00\n"
      ]
     },
     "metadata": {},
     "output_type": "display_data"
    },
    {
     "data": {
      "text/html": [
       "<pre style=\"white-space:pre;overflow-x:auto;line-height:normal;font-family:Menlo,'DejaVu Sans Mono',consolas,'Courier New',monospace\">Saving model checkpoint to ../logs/Train_PPO_40kReqs_300_v3_001/training/best_model_519995_steps.zip\n",
       "</pre>\n"
      ],
      "text/plain": [
       "Saving model checkpoint to ../logs/Train_PPO_40kReqs_300_v3_001/training/best_model_519995_steps.zip\n"
      ]
     },
     "metadata": {},
     "output_type": "display_data"
    },
    {
     "data": {
      "text/html": [
       "<pre style=\"white-space:pre;overflow-x:auto;line-height:normal;font-family:Menlo,'DejaVu Sans Mono',consolas,'Courier New',monospace\">Eval num_timesteps=520000, episode_reward=39061.60 +/- 215.17\n",
       "</pre>\n"
      ],
      "text/plain": [
       "Eval num_timesteps=520000, episode_reward=39061.60 +/- 215.17\n"
      ]
     },
     "metadata": {},
     "output_type": "display_data"
    },
    {
     "data": {
      "text/html": [
       "<pre style=\"white-space:pre;overflow-x:auto;line-height:normal;font-family:Menlo,'DejaVu Sans Mono',consolas,'Courier New',monospace\">Episode length: 40000.00 +/- 0.00\n",
       "</pre>\n"
      ],
      "text/plain": [
       "Episode length: 40000.00 +/- 0.00\n"
      ]
     },
     "metadata": {},
     "output_type": "display_data"
    },
    {
     "data": {
      "text/html": [
       "<pre style=\"white-space:pre;overflow-x:auto;line-height:normal;font-family:Menlo,'DejaVu Sans Mono',consolas,'Courier New',monospace\">Saving model checkpoint to ../logs/Train_PPO_40kReqs_300_v3_001/training/best_model_559995_steps.zip\n",
       "</pre>\n"
      ],
      "text/plain": [
       "Saving model checkpoint to ../logs/Train_PPO_40kReqs_300_v3_001/training/best_model_559995_steps.zip\n"
      ]
     },
     "metadata": {},
     "output_type": "display_data"
    },
    {
     "data": {
      "text/html": [
       "<pre style=\"white-space:pre;overflow-x:auto;line-height:normal;font-family:Menlo,'DejaVu Sans Mono',consolas,'Courier New',monospace\">Eval num_timesteps=560000, episode_reward=39059.60 +/- 50.09\n",
       "</pre>\n"
      ],
      "text/plain": [
       "Eval num_timesteps=560000, episode_reward=39059.60 +/- 50.09\n"
      ]
     },
     "metadata": {},
     "output_type": "display_data"
    },
    {
     "data": {
      "text/html": [
       "<pre style=\"white-space:pre;overflow-x:auto;line-height:normal;font-family:Menlo,'DejaVu Sans Mono',consolas,'Courier New',monospace\">Episode length: 40000.00 +/- 0.00\n",
       "</pre>\n"
      ],
      "text/plain": [
       "Episode length: 40000.00 +/- 0.00\n"
      ]
     },
     "metadata": {},
     "output_type": "display_data"
    },
    {
     "data": {
      "text/html": [
       "<pre style=\"white-space:pre;overflow-x:auto;line-height:normal;font-family:Menlo,'DejaVu Sans Mono',consolas,'Courier New',monospace\">Saving model checkpoint to ../logs/Train_PPO_40kReqs_300_v3_001/training/best_model_599995_steps.zip\n",
       "</pre>\n"
      ],
      "text/plain": [
       "Saving model checkpoint to ../logs/Train_PPO_40kReqs_300_v3_001/training/best_model_599995_steps.zip\n"
      ]
     },
     "metadata": {},
     "output_type": "display_data"
    },
    {
     "data": {
      "text/html": [
       "<pre style=\"white-space:pre;overflow-x:auto;line-height:normal;font-family:Menlo,'DejaVu Sans Mono',consolas,'Courier New',monospace\">Eval num_timesteps=600000, episode_reward=39036.40 +/- 85.88\n",
       "</pre>\n"
      ],
      "text/plain": [
       "Eval num_timesteps=600000, episode_reward=39036.40 +/- 85.88\n"
      ]
     },
     "metadata": {},
     "output_type": "display_data"
    },
    {
     "data": {
      "text/html": [
       "<pre style=\"white-space:pre;overflow-x:auto;line-height:normal;font-family:Menlo,'DejaVu Sans Mono',consolas,'Courier New',monospace\">Episode length: 40000.00 +/- 0.00\n",
       "</pre>\n"
      ],
      "text/plain": [
       "Episode length: 40000.00 +/- 0.00\n"
      ]
     },
     "metadata": {},
     "output_type": "display_data"
    },
    {
     "data": {
      "text/html": [
       "<pre style=\"white-space:pre;overflow-x:auto;line-height:normal;font-family:Menlo,'DejaVu Sans Mono',consolas,'Courier New',monospace\">Saving model checkpoint to ../logs/Train_PPO_40kReqs_300_v3_001/training/best_model_639995_steps.zip\n",
       "</pre>\n"
      ],
      "text/plain": [
       "Saving model checkpoint to ../logs/Train_PPO_40kReqs_300_v3_001/training/best_model_639995_steps.zip\n"
      ]
     },
     "metadata": {},
     "output_type": "display_data"
    },
    {
     "data": {
      "text/html": [
       "<pre style=\"white-space:pre;overflow-x:auto;line-height:normal;font-family:Menlo,'DejaVu Sans Mono',consolas,'Courier New',monospace\">Eval num_timesteps=640000, episode_reward=39054.40 +/- 158.81\n",
       "</pre>\n"
      ],
      "text/plain": [
       "Eval num_timesteps=640000, episode_reward=39054.40 +/- 158.81\n"
      ]
     },
     "metadata": {},
     "output_type": "display_data"
    },
    {
     "data": {
      "text/html": [
       "<pre style=\"white-space:pre;overflow-x:auto;line-height:normal;font-family:Menlo,'DejaVu Sans Mono',consolas,'Courier New',monospace\">Episode length: 40000.00 +/- 0.00\n",
       "</pre>\n"
      ],
      "text/plain": [
       "Episode length: 40000.00 +/- 0.00\n"
      ]
     },
     "metadata": {},
     "output_type": "display_data"
    },
    {
     "data": {
      "text/html": [
       "<pre style=\"white-space:pre;overflow-x:auto;line-height:normal;font-family:Menlo,'DejaVu Sans Mono',consolas,'Courier New',monospace\">Saving model checkpoint to ../logs/Train_PPO_40kReqs_300_v3_001/training/best_model_679995_steps.zip\n",
       "</pre>\n"
      ],
      "text/plain": [
       "Saving model checkpoint to ../logs/Train_PPO_40kReqs_300_v3_001/training/best_model_679995_steps.zip\n"
      ]
     },
     "metadata": {},
     "output_type": "display_data"
    },
    {
     "data": {
      "text/html": [
       "<pre style=\"white-space:pre;overflow-x:auto;line-height:normal;font-family:Menlo,'DejaVu Sans Mono',consolas,'Courier New',monospace\">Eval num_timesteps=680000, episode_reward=39113.60 +/- 113.85\n",
       "</pre>\n"
      ],
      "text/plain": [
       "Eval num_timesteps=680000, episode_reward=39113.60 +/- 113.85\n"
      ]
     },
     "metadata": {},
     "output_type": "display_data"
    },
    {
     "data": {
      "text/html": [
       "<pre style=\"white-space:pre;overflow-x:auto;line-height:normal;font-family:Menlo,'DejaVu Sans Mono',consolas,'Courier New',monospace\">Episode length: 40000.00 +/- 0.00\n",
       "</pre>\n"
      ],
      "text/plain": [
       "Episode length: 40000.00 +/- 0.00\n"
      ]
     },
     "metadata": {},
     "output_type": "display_data"
    },
    {
     "data": {
      "text/html": [
       "<pre style=\"white-space:pre;overflow-x:auto;line-height:normal;font-family:Menlo,'DejaVu Sans Mono',consolas,'Courier New',monospace\">New best mean reward!\n",
       "</pre>\n"
      ],
      "text/plain": [
       "New best mean reward!\n"
      ]
     },
     "metadata": {},
     "output_type": "display_data"
    },
    {
     "data": {
      "text/html": [
       "<pre style=\"white-space:pre;overflow-x:auto;line-height:normal;font-family:Menlo,'DejaVu Sans Mono',consolas,'Courier New',monospace\">Saving model checkpoint to ../logs/Train_PPO_40kReqs_300_v3_001/training/best_model_719994_steps.zip\n",
       "</pre>\n"
      ],
      "text/plain": [
       "Saving model checkpoint to ../logs/Train_PPO_40kReqs_300_v3_001/training/best_model_719994_steps.zip\n"
      ]
     },
     "metadata": {},
     "output_type": "display_data"
    },
    {
     "data": {
      "text/html": [
       "<pre style=\"white-space:pre;overflow-x:auto;line-height:normal;font-family:Menlo,'DejaVu Sans Mono',consolas,'Courier New',monospace\">Eval num_timesteps=720000, episode_reward=39103.20 +/- 114.05\n",
       "</pre>\n"
      ],
      "text/plain": [
       "Eval num_timesteps=720000, episode_reward=39103.20 +/- 114.05\n"
      ]
     },
     "metadata": {},
     "output_type": "display_data"
    },
    {
     "data": {
      "text/html": [
       "<pre style=\"white-space:pre;overflow-x:auto;line-height:normal;font-family:Menlo,'DejaVu Sans Mono',consolas,'Courier New',monospace\">Episode length: 40000.00 +/- 0.00\n",
       "</pre>\n"
      ],
      "text/plain": [
       "Episode length: 40000.00 +/- 0.00\n"
      ]
     },
     "metadata": {},
     "output_type": "display_data"
    },
    {
     "data": {
      "text/html": [
       "<pre style=\"white-space:pre;overflow-x:auto;line-height:normal;font-family:Menlo,'DejaVu Sans Mono',consolas,'Courier New',monospace\">Saving model checkpoint to ../logs/Train_PPO_40kReqs_300_v3_001/training/best_model_759994_steps.zip\n",
       "</pre>\n"
      ],
      "text/plain": [
       "Saving model checkpoint to ../logs/Train_PPO_40kReqs_300_v3_001/training/best_model_759994_steps.zip\n"
      ]
     },
     "metadata": {},
     "output_type": "display_data"
    },
    {
     "data": {
      "text/html": [
       "<pre style=\"white-space:pre;overflow-x:auto;line-height:normal;font-family:Menlo,'DejaVu Sans Mono',consolas,'Courier New',monospace\">Eval num_timesteps=760000, episode_reward=39022.40 +/- 109.77\n",
       "</pre>\n"
      ],
      "text/plain": [
       "Eval num_timesteps=760000, episode_reward=39022.40 +/- 109.77\n"
      ]
     },
     "metadata": {},
     "output_type": "display_data"
    },
    {
     "data": {
      "text/html": [
       "<pre style=\"white-space:pre;overflow-x:auto;line-height:normal;font-family:Menlo,'DejaVu Sans Mono',consolas,'Courier New',monospace\">Episode length: 40000.00 +/- 0.00\n",
       "</pre>\n"
      ],
      "text/plain": [
       "Episode length: 40000.00 +/- 0.00\n"
      ]
     },
     "metadata": {},
     "output_type": "display_data"
    },
    {
     "data": {
      "text/html": [
       "<pre style=\"white-space:pre;overflow-x:auto;line-height:normal;font-family:Menlo,'DejaVu Sans Mono',consolas,'Courier New',monospace\">Saving model checkpoint to ../logs/Train_PPO_40kReqs_300_v3_001/training/best_model_799994_steps.zip\n",
       "</pre>\n"
      ],
      "text/plain": [
       "Saving model checkpoint to ../logs/Train_PPO_40kReqs_300_v3_001/training/best_model_799994_steps.zip\n"
      ]
     },
     "metadata": {},
     "output_type": "display_data"
    },
    {
     "data": {
      "text/html": [
       "<pre style=\"white-space:pre;overflow-x:auto;line-height:normal;font-family:Menlo,'DejaVu Sans Mono',consolas,'Courier New',monospace\">Eval num_timesteps=800000, episode_reward=39099.60 +/- 80.90\n",
       "</pre>\n"
      ],
      "text/plain": [
       "Eval num_timesteps=800000, episode_reward=39099.60 +/- 80.90\n"
      ]
     },
     "metadata": {},
     "output_type": "display_data"
    },
    {
     "data": {
      "text/html": [
       "<pre style=\"white-space:pre;overflow-x:auto;line-height:normal;font-family:Menlo,'DejaVu Sans Mono',consolas,'Courier New',monospace\">Episode length: 40000.00 +/- 0.00\n",
       "</pre>\n"
      ],
      "text/plain": [
       "Episode length: 40000.00 +/- 0.00\n"
      ]
     },
     "metadata": {},
     "output_type": "display_data"
    },
    {
     "data": {
      "text/html": [
       "<pre style=\"white-space:pre;overflow-x:auto;line-height:normal;font-family:Menlo,'DejaVu Sans Mono',consolas,'Courier New',monospace\">Saving model checkpoint to ../logs/Train_PPO_40kReqs_300_v3_001/training/best_model_839994_steps.zip\n",
       "</pre>\n"
      ],
      "text/plain": [
       "Saving model checkpoint to ../logs/Train_PPO_40kReqs_300_v3_001/training/best_model_839994_steps.zip\n"
      ]
     },
     "metadata": {},
     "output_type": "display_data"
    },
    {
     "data": {
      "text/html": [
       "<pre style=\"white-space:pre;overflow-x:auto;line-height:normal;font-family:Menlo,'DejaVu Sans Mono',consolas,'Courier New',monospace\">Eval num_timesteps=840000, episode_reward=39101.60 +/- 105.08\n",
       "</pre>\n"
      ],
      "text/plain": [
       "Eval num_timesteps=840000, episode_reward=39101.60 +/- 105.08\n"
      ]
     },
     "metadata": {},
     "output_type": "display_data"
    },
    {
     "data": {
      "text/html": [
       "<pre style=\"white-space:pre;overflow-x:auto;line-height:normal;font-family:Menlo,'DejaVu Sans Mono',consolas,'Courier New',monospace\">Saving model checkpoint to ../logs/Train_PPO_40kReqs_300_v3_001/training/best_model_879994_steps.zip\n",
       "</pre>\n"
      ],
      "text/plain": [
       "Saving model checkpoint to ../logs/Train_PPO_40kReqs_300_v3_001/training/best_model_879994_steps.zip\n"
      ]
     },
     "metadata": {},
     "output_type": "display_data"
    },
    {
     "data": {
      "text/html": [
       "<pre style=\"white-space:pre;overflow-x:auto;line-height:normal;font-family:Menlo,'DejaVu Sans Mono',consolas,'Courier New',monospace\">Eval num_timesteps=880000, episode_reward=39078.80 +/- 119.07\n",
       "</pre>\n"
      ],
      "text/plain": [
       "Eval num_timesteps=880000, episode_reward=39078.80 +/- 119.07\n"
      ]
     },
     "metadata": {},
     "output_type": "display_data"
    },
    {
     "data": {
      "text/html": [
       "<pre style=\"white-space:pre;overflow-x:auto;line-height:normal;font-family:Menlo,'DejaVu Sans Mono',consolas,'Courier New',monospace\">Episode length: 40000.00 +/- 0.00\n",
       "</pre>\n"
      ],
      "text/plain": [
       "Episode length: 40000.00 +/- 0.00\n"
      ]
     },
     "metadata": {},
     "output_type": "display_data"
    },
    {
     "data": {
      "text/html": [
       "<pre style=\"white-space:pre;overflow-x:auto;line-height:normal;font-family:Menlo,'DejaVu Sans Mono',consolas,'Courier New',monospace\">Saving model checkpoint to ../logs/Train_PPO_40kReqs_300_v3_001/training/best_model_919994_steps.zip\n",
       "</pre>\n"
      ],
      "text/plain": [
       "Saving model checkpoint to ../logs/Train_PPO_40kReqs_300_v3_001/training/best_model_919994_steps.zip\n"
      ]
     },
     "metadata": {},
     "output_type": "display_data"
    },
    {
     "data": {
      "text/html": [
       "<pre style=\"white-space:pre;overflow-x:auto;line-height:normal;font-family:Menlo,'DejaVu Sans Mono',consolas,'Courier New',monospace\">Eval num_timesteps=920000, episode_reward=39040.80 +/- 125.53\n",
       "</pre>\n"
      ],
      "text/plain": [
       "Eval num_timesteps=920000, episode_reward=39040.80 +/- 125.53\n"
      ]
     },
     "metadata": {},
     "output_type": "display_data"
    },
    {
     "data": {
      "text/html": [
       "<pre style=\"white-space:pre;overflow-x:auto;line-height:normal;font-family:Menlo,'DejaVu Sans Mono',consolas,'Courier New',monospace\">Episode length: 40000.00 +/- 0.00\n",
       "</pre>\n"
      ],
      "text/plain": [
       "Episode length: 40000.00 +/- 0.00\n"
      ]
     },
     "metadata": {},
     "output_type": "display_data"
    },
    {
     "data": {
      "text/html": [
       "<pre style=\"white-space:pre;overflow-x:auto;line-height:normal;font-family:Menlo,'DejaVu Sans Mono',consolas,'Courier New',monospace\">Saving model checkpoint to ../logs/Train_PPO_40kReqs_300_v3_001/training/best_model_959994_steps.zip\n",
       "</pre>\n"
      ],
      "text/plain": [
       "Saving model checkpoint to ../logs/Train_PPO_40kReqs_300_v3_001/training/best_model_959994_steps.zip\n"
      ]
     },
     "metadata": {},
     "output_type": "display_data"
    },
    {
     "data": {
      "text/html": [
       "<pre style=\"white-space:pre;overflow-x:auto;line-height:normal;font-family:Menlo,'DejaVu Sans Mono',consolas,'Courier New',monospace\">Eval num_timesteps=960000, episode_reward=39085.20 +/- 159.81\n",
       "</pre>\n"
      ],
      "text/plain": [
       "Eval num_timesteps=960000, episode_reward=39085.20 +/- 159.81\n"
      ]
     },
     "metadata": {},
     "output_type": "display_data"
    },
    {
     "data": {
      "text/html": [
       "<pre style=\"white-space:pre;overflow-x:auto;line-height:normal;font-family:Menlo,'DejaVu Sans Mono',consolas,'Courier New',monospace\">Episode length: 40000.00 +/- 0.00\n",
       "</pre>\n"
      ],
      "text/plain": [
       "Episode length: 40000.00 +/- 0.00\n"
      ]
     },
     "metadata": {},
     "output_type": "display_data"
    },
    {
     "data": {
      "text/html": [
       "<pre style=\"white-space:pre;overflow-x:auto;line-height:normal;font-family:Menlo,'DejaVu Sans Mono',consolas,'Courier New',monospace\">Saving model checkpoint to ../logs/Train_PPO_40kReqs_300_v3_001/training/best_model_999994_steps.zip\n",
       "</pre>\n"
      ],
      "text/plain": [
       "Saving model checkpoint to ../logs/Train_PPO_40kReqs_300_v3_001/training/best_model_999994_steps.zip\n"
      ]
     },
     "metadata": {},
     "output_type": "display_data"
    },
    {
     "data": {
      "text/html": [
       "<pre style=\"white-space:pre;overflow-x:auto;line-height:normal;font-family:Menlo,'DejaVu Sans Mono',consolas,'Courier New',monospace\">Eval num_timesteps=1000000, episode_reward=39092.80 +/- 95.91\n",
       "</pre>\n"
      ],
      "text/plain": [
       "Eval num_timesteps=1000000, episode_reward=39092.80 +/- 95.91\n"
      ]
     },
     "metadata": {},
     "output_type": "display_data"
    },
    {
     "data": {
      "text/html": [
       "<pre style=\"white-space:pre;overflow-x:auto;line-height:normal;font-family:Menlo,'DejaVu Sans Mono',consolas,'Courier New',monospace\">Episode length: 40000.00 +/- 0.00\n",
       "</pre>\n"
      ],
      "text/plain": [
       "Episode length: 40000.00 +/- 0.00\n"
      ]
     },
     "metadata": {},
     "output_type": "display_data"
    },
    {
     "data": {
      "text/html": [
       "<pre style=\"white-space:pre;overflow-x:auto;line-height:normal;font-family:Menlo,'DejaVu Sans Mono',consolas,'Courier New',monospace\">Saving model checkpoint to ../logs/Train_PPO_40kReqs_300_v3_001/training/best_model_1039994_steps.zip\n",
       "</pre>\n"
      ],
      "text/plain": [
       "Saving model checkpoint to ../logs/Train_PPO_40kReqs_300_v3_001/training/best_model_1039994_steps.zip\n"
      ]
     },
     "metadata": {},
     "output_type": "display_data"
    },
    {
     "data": {
      "text/html": [
       "<pre style=\"white-space:pre;overflow-x:auto;line-height:normal;font-family:Menlo,'DejaVu Sans Mono',consolas,'Courier New',monospace\">Eval num_timesteps=1040000, episode_reward=39036.80 +/- 59.36\n",
       "</pre>\n"
      ],
      "text/plain": [
       "Eval num_timesteps=1040000, episode_reward=39036.80 +/- 59.36\n"
      ]
     },
     "metadata": {},
     "output_type": "display_data"
    },
    {
     "data": {
      "text/html": [
       "<pre style=\"white-space:pre;overflow-x:auto;line-height:normal;font-family:Menlo,'DejaVu Sans Mono',consolas,'Courier New',monospace\">Episode length: 40000.00 +/- 0.00\n",
       "</pre>\n"
      ],
      "text/plain": [
       "Episode length: 40000.00 +/- 0.00\n"
      ]
     },
     "metadata": {},
     "output_type": "display_data"
    },
    {
     "data": {
      "text/html": [
       "<pre style=\"white-space:pre;overflow-x:auto;line-height:normal;font-family:Menlo,'DejaVu Sans Mono',consolas,'Courier New',monospace\">Saving model checkpoint to ../logs/Train_PPO_40kReqs_300_v3_001/training/best_model_1079994_steps.zip\n",
       "</pre>\n"
      ],
      "text/plain": [
       "Saving model checkpoint to ../logs/Train_PPO_40kReqs_300_v3_001/training/best_model_1079994_steps.zip\n"
      ]
     },
     "metadata": {},
     "output_type": "display_data"
    },
    {
     "data": {
      "text/html": [
       "<pre style=\"white-space:pre;overflow-x:auto;line-height:normal;font-family:Menlo,'DejaVu Sans Mono',consolas,'Courier New',monospace\">Eval num_timesteps=1080000, episode_reward=38947.20 +/- 163.33\n",
       "</pre>\n"
      ],
      "text/plain": [
       "Eval num_timesteps=1080000, episode_reward=38947.20 +/- 163.33\n"
      ]
     },
     "metadata": {},
     "output_type": "display_data"
    },
    {
     "data": {
      "text/html": [
       "<pre style=\"white-space:pre;overflow-x:auto;line-height:normal;font-family:Menlo,'DejaVu Sans Mono',consolas,'Courier New',monospace\">Episode length: 40000.00 +/- 0.00\n",
       "</pre>\n"
      ],
      "text/plain": [
       "Episode length: 40000.00 +/- 0.00\n"
      ]
     },
     "metadata": {},
     "output_type": "display_data"
    },
    {
     "data": {
      "text/html": [
       "<pre style=\"white-space:pre;overflow-x:auto;line-height:normal;font-family:Menlo,'DejaVu Sans Mono',consolas,'Courier New',monospace\">Saving model checkpoint to ../logs/Train_PPO_40kReqs_300_v3_001/training/best_model_1119994_steps.zip\n",
       "</pre>\n"
      ],
      "text/plain": [
       "Saving model checkpoint to ../logs/Train_PPO_40kReqs_300_v3_001/training/best_model_1119994_steps.zip\n"
      ]
     },
     "metadata": {},
     "output_type": "display_data"
    },
    {
     "data": {
      "text/html": [
       "<pre style=\"white-space:pre;overflow-x:auto;line-height:normal;font-family:Menlo,'DejaVu Sans Mono',consolas,'Courier New',monospace\">Eval num_timesteps=1120000, episode_reward=39091.60 +/- 131.92\n",
       "</pre>\n"
      ],
      "text/plain": [
       "Eval num_timesteps=1120000, episode_reward=39091.60 +/- 131.92\n"
      ]
     },
     "metadata": {},
     "output_type": "display_data"
    },
    {
     "data": {
      "text/html": [
       "<pre style=\"white-space:pre;overflow-x:auto;line-height:normal;font-family:Menlo,'DejaVu Sans Mono',consolas,'Courier New',monospace\">Episode length: 40000.00 +/- 0.00\n",
       "</pre>\n"
      ],
      "text/plain": [
       "Episode length: 40000.00 +/- 0.00\n"
      ]
     },
     "metadata": {},
     "output_type": "display_data"
    },
    {
     "data": {
      "text/html": [
       "<pre style=\"white-space:pre;overflow-x:auto;line-height:normal;font-family:Menlo,'DejaVu Sans Mono',consolas,'Courier New',monospace\">Saving model checkpoint to ../logs/Train_PPO_40kReqs_300_v3_001/training/best_model_1159994_steps.zip\n",
       "</pre>\n"
      ],
      "text/plain": [
       "Saving model checkpoint to ../logs/Train_PPO_40kReqs_300_v3_001/training/best_model_1159994_steps.zip\n"
      ]
     },
     "metadata": {},
     "output_type": "display_data"
    },
    {
     "data": {
      "text/html": [
       "<pre style=\"white-space:pre;overflow-x:auto;line-height:normal;font-family:Menlo,'DejaVu Sans Mono',consolas,'Courier New',monospace\">Eval num_timesteps=1160000, episode_reward=39077.20 +/- 92.91\n",
       "</pre>\n"
      ],
      "text/plain": [
       "Eval num_timesteps=1160000, episode_reward=39077.20 +/- 92.91\n"
      ]
     },
     "metadata": {},
     "output_type": "display_data"
    },
    {
     "data": {
      "text/html": [
       "<pre style=\"white-space:pre;overflow-x:auto;line-height:normal;font-family:Menlo,'DejaVu Sans Mono',consolas,'Courier New',monospace\">Episode length: 40000.00 +/- 0.00\n",
       "</pre>\n"
      ],
      "text/plain": [
       "Episode length: 40000.00 +/- 0.00\n"
      ]
     },
     "metadata": {},
     "output_type": "display_data"
    },
    {
     "data": {
      "text/html": [
       "<pre style=\"white-space:pre;overflow-x:auto;line-height:normal;font-family:Menlo,'DejaVu Sans Mono',consolas,'Courier New',monospace\">Saving model checkpoint to ../logs/Train_PPO_40kReqs_300_v3_001/training/best_model_1199994_steps.zip\n",
       "</pre>\n"
      ],
      "text/plain": [
       "Saving model checkpoint to ../logs/Train_PPO_40kReqs_300_v3_001/training/best_model_1199994_steps.zip\n"
      ]
     },
     "metadata": {},
     "output_type": "display_data"
    },
    {
     "data": {
      "text/html": [
       "<pre style=\"white-space:pre;overflow-x:auto;line-height:normal;font-family:Menlo,'DejaVu Sans Mono',consolas,'Courier New',monospace\">Eval num_timesteps=1200000, episode_reward=39090.40 +/- 114.91\n",
       "</pre>\n"
      ],
      "text/plain": [
       "Eval num_timesteps=1200000, episode_reward=39090.40 +/- 114.91\n"
      ]
     },
     "metadata": {},
     "output_type": "display_data"
    },
    {
     "data": {
      "text/html": [
       "<pre style=\"white-space:pre;overflow-x:auto;line-height:normal;font-family:Menlo,'DejaVu Sans Mono',consolas,'Courier New',monospace\">Episode length: 40000.00 +/- 0.00\n",
       "</pre>\n"
      ],
      "text/plain": [
       "Episode length: 40000.00 +/- 0.00\n"
      ]
     },
     "metadata": {},
     "output_type": "display_data"
    },
    {
     "data": {
      "text/html": [
       "<pre style=\"white-space:pre;overflow-x:auto;line-height:normal;font-family:Menlo,'DejaVu Sans Mono',consolas,'Courier New',monospace\">Saving model checkpoint to ../logs/Train_PPO_40kReqs_300_v3_001/training/best_model_1239994_steps.zip\n",
       "</pre>\n"
      ],
      "text/plain": [
       "Saving model checkpoint to ../logs/Train_PPO_40kReqs_300_v3_001/training/best_model_1239994_steps.zip\n"
      ]
     },
     "metadata": {},
     "output_type": "display_data"
    },
    {
     "data": {
      "text/html": [
       "<pre style=\"white-space:pre;overflow-x:auto;line-height:normal;font-family:Menlo,'DejaVu Sans Mono',consolas,'Courier New',monospace\">Eval num_timesteps=1240000, episode_reward=39063.20 +/- 91.67\n",
       "</pre>\n"
      ],
      "text/plain": [
       "Eval num_timesteps=1240000, episode_reward=39063.20 +/- 91.67\n"
      ]
     },
     "metadata": {},
     "output_type": "display_data"
    },
    {
     "data": {
      "text/html": [
       "<pre style=\"white-space:pre;overflow-x:auto;line-height:normal;font-family:Menlo,'DejaVu Sans Mono',consolas,'Courier New',monospace\">Episode length: 40000.00 +/- 0.00\n",
       "</pre>\n"
      ],
      "text/plain": [
       "Episode length: 40000.00 +/- 0.00\n"
      ]
     },
     "metadata": {},
     "output_type": "display_data"
    },
    {
     "data": {
      "text/html": [
       "<pre style=\"white-space:pre;overflow-x:auto;line-height:normal;font-family:Menlo,'DejaVu Sans Mono',consolas,'Courier New',monospace\">Saving model checkpoint to ../logs/Train_PPO_40kReqs_300_v3_001/training/best_model_1279994_steps.zip\n",
       "</pre>\n"
      ],
      "text/plain": [
       "Saving model checkpoint to ../logs/Train_PPO_40kReqs_300_v3_001/training/best_model_1279994_steps.zip\n"
      ]
     },
     "metadata": {},
     "output_type": "display_data"
    },
    {
     "data": {
      "text/html": [
       "<pre style=\"white-space:pre;overflow-x:auto;line-height:normal;font-family:Menlo,'DejaVu Sans Mono',consolas,'Courier New',monospace\">Eval num_timesteps=1280000, episode_reward=39047.60 +/- 63.26\n",
       "</pre>\n"
      ],
      "text/plain": [
       "Eval num_timesteps=1280000, episode_reward=39047.60 +/- 63.26\n"
      ]
     },
     "metadata": {},
     "output_type": "display_data"
    },
    {
     "data": {
      "text/html": [
       "<pre style=\"white-space:pre;overflow-x:auto;line-height:normal;font-family:Menlo,'DejaVu Sans Mono',consolas,'Courier New',monospace\">Episode length: 40000.00 +/- 0.00\n",
       "</pre>\n"
      ],
      "text/plain": [
       "Episode length: 40000.00 +/- 0.00\n"
      ]
     },
     "metadata": {},
     "output_type": "display_data"
    },
    {
     "data": {
      "text/html": [
       "<pre style=\"white-space:pre;overflow-x:auto;line-height:normal;font-family:Menlo,'DejaVu Sans Mono',consolas,'Courier New',monospace\">Saving model checkpoint to ../logs/Train_PPO_40kReqs_300_v3_001/training/best_model_1319994_steps.zip\n",
       "</pre>\n"
      ],
      "text/plain": [
       "Saving model checkpoint to ../logs/Train_PPO_40kReqs_300_v3_001/training/best_model_1319994_steps.zip\n"
      ]
     },
     "metadata": {},
     "output_type": "display_data"
    },
    {
     "data": {
      "text/html": [
       "<pre style=\"white-space:pre;overflow-x:auto;line-height:normal;font-family:Menlo,'DejaVu Sans Mono',consolas,'Courier New',monospace\">Eval num_timesteps=1320000, episode_reward=39062.80 +/- 44.68\n",
       "</pre>\n"
      ],
      "text/plain": [
       "Eval num_timesteps=1320000, episode_reward=39062.80 +/- 44.68\n"
      ]
     },
     "metadata": {},
     "output_type": "display_data"
    },
    {
     "data": {
      "text/html": [
       "<pre style=\"white-space:pre;overflow-x:auto;line-height:normal;font-family:Menlo,'DejaVu Sans Mono',consolas,'Courier New',monospace\">Episode length: 40000.00 +/- 0.00\n",
       "</pre>\n"
      ],
      "text/plain": [
       "Episode length: 40000.00 +/- 0.00\n"
      ]
     },
     "metadata": {},
     "output_type": "display_data"
    },
    {
     "data": {
      "text/html": [
       "<pre style=\"white-space:pre;overflow-x:auto;line-height:normal;font-family:Menlo,'DejaVu Sans Mono',consolas,'Courier New',monospace\">Saving model checkpoint to ../logs/Train_PPO_40kReqs_300_v3_001/training/best_model_1359994_steps.zip\n",
       "</pre>\n"
      ],
      "text/plain": [
       "Saving model checkpoint to ../logs/Train_PPO_40kReqs_300_v3_001/training/best_model_1359994_steps.zip\n"
      ]
     },
     "metadata": {},
     "output_type": "display_data"
    },
    {
     "data": {
      "text/html": [
       "<pre style=\"white-space:pre;overflow-x:auto;line-height:normal;font-family:Menlo,'DejaVu Sans Mono',consolas,'Courier New',monospace\">Eval num_timesteps=1360000, episode_reward=39064.00 +/- 77.37\n",
       "</pre>\n"
      ],
      "text/plain": [
       "Eval num_timesteps=1360000, episode_reward=39064.00 +/- 77.37\n"
      ]
     },
     "metadata": {},
     "output_type": "display_data"
    },
    {
     "data": {
      "text/html": [
       "<pre style=\"white-space:pre;overflow-x:auto;line-height:normal;font-family:Menlo,'DejaVu Sans Mono',consolas,'Courier New',monospace\">Episode length: 40000.00 +/- 0.00\n",
       "</pre>\n"
      ],
      "text/plain": [
       "Episode length: 40000.00 +/- 0.00\n"
      ]
     },
     "metadata": {},
     "output_type": "display_data"
    },
    {
     "data": {
      "text/html": [
       "<pre style=\"white-space:pre;overflow-x:auto;line-height:normal;font-family:Menlo,'DejaVu Sans Mono',consolas,'Courier New',monospace\">Saving model checkpoint to ../logs/Train_PPO_40kReqs_300_v3_001/training/best_model_1399994_steps.zip\n",
       "</pre>\n"
      ],
      "text/plain": [
       "Saving model checkpoint to ../logs/Train_PPO_40kReqs_300_v3_001/training/best_model_1399994_steps.zip\n"
      ]
     },
     "metadata": {},
     "output_type": "display_data"
    },
    {
     "data": {
      "text/html": [
       "<pre style=\"white-space:pre;overflow-x:auto;line-height:normal;font-family:Menlo,'DejaVu Sans Mono',consolas,'Courier New',monospace\">Eval num_timesteps=1400000, episode_reward=38921.20 +/- 45.18\n",
       "</pre>\n"
      ],
      "text/plain": [
       "Eval num_timesteps=1400000, episode_reward=38921.20 +/- 45.18\n"
      ]
     },
     "metadata": {},
     "output_type": "display_data"
    },
    {
     "data": {
      "text/html": [
       "<pre style=\"white-space:pre;overflow-x:auto;line-height:normal;font-family:Menlo,'DejaVu Sans Mono',consolas,'Courier New',monospace\">Episode length: 40000.00 +/- 0.00\n",
       "</pre>\n"
      ],
      "text/plain": [
       "Episode length: 40000.00 +/- 0.00\n"
      ]
     },
     "metadata": {},
     "output_type": "display_data"
    },
    {
     "data": {
      "text/html": [
       "<pre style=\"white-space:pre;overflow-x:auto;line-height:normal;font-family:Menlo,'DejaVu Sans Mono',consolas,'Courier New',monospace\">Saving model checkpoint to ../logs/Train_PPO_40kReqs_300_v3_001/training/best_model_1439994_steps.zip\n",
       "</pre>\n"
      ],
      "text/plain": [
       "Saving model checkpoint to ../logs/Train_PPO_40kReqs_300_v3_001/training/best_model_1439994_steps.zip\n"
      ]
     },
     "metadata": {},
     "output_type": "display_data"
    },
    {
     "data": {
      "text/html": [
       "<pre style=\"white-space:pre;overflow-x:auto;line-height:normal;font-family:Menlo,'DejaVu Sans Mono',consolas,'Courier New',monospace\">Eval num_timesteps=1440000, episode_reward=39025.20 +/- 123.53\n",
       "</pre>\n"
      ],
      "text/plain": [
       "Eval num_timesteps=1440000, episode_reward=39025.20 +/- 123.53\n"
      ]
     },
     "metadata": {},
     "output_type": "display_data"
    },
    {
     "data": {
      "text/html": [
       "<pre style=\"white-space:pre;overflow-x:auto;line-height:normal;font-family:Menlo,'DejaVu Sans Mono',consolas,'Courier New',monospace\">Episode length: 40000.00 +/- 0.00\n",
       "</pre>\n"
      ],
      "text/plain": [
       "Episode length: 40000.00 +/- 0.00\n"
      ]
     },
     "metadata": {},
     "output_type": "display_data"
    },
    {
     "data": {
      "text/html": [
       "<pre style=\"white-space:pre;overflow-x:auto;line-height:normal;font-family:Menlo,'DejaVu Sans Mono',consolas,'Courier New',monospace\">Saving model checkpoint to ../logs/Train_PPO_40kReqs_300_v3_001/training/best_model_1479994_steps.zip\n",
       "</pre>\n"
      ],
      "text/plain": [
       "Saving model checkpoint to ../logs/Train_PPO_40kReqs_300_v3_001/training/best_model_1479994_steps.zip\n"
      ]
     },
     "metadata": {},
     "output_type": "display_data"
    },
    {
     "data": {
      "text/html": [
       "<pre style=\"white-space:pre;overflow-x:auto;line-height:normal;font-family:Menlo,'DejaVu Sans Mono',consolas,'Courier New',monospace\">Eval num_timesteps=1480000, episode_reward=39099.60 +/- 108.48\n",
       "</pre>\n"
      ],
      "text/plain": [
       "Eval num_timesteps=1480000, episode_reward=39099.60 +/- 108.48\n"
      ]
     },
     "metadata": {},
     "output_type": "display_data"
    },
    {
     "data": {
      "text/html": [
       "<pre style=\"white-space:pre;overflow-x:auto;line-height:normal;font-family:Menlo,'DejaVu Sans Mono',consolas,'Courier New',monospace\">Episode length: 40000.00 +/- 0.00\n",
       "</pre>\n"
      ],
      "text/plain": [
       "Episode length: 40000.00 +/- 0.00\n"
      ]
     },
     "metadata": {},
     "output_type": "display_data"
    },
    {
     "data": {
      "text/html": [
       "<pre style=\"white-space:pre;overflow-x:auto;line-height:normal;font-family:Menlo,'DejaVu Sans Mono',consolas,'Courier New',monospace\">Saving model checkpoint to ../logs/Train_PPO_40kReqs_300_v3_001/training/best_model_1519994_steps.zip\n",
       "</pre>\n"
      ],
      "text/plain": [
       "Saving model checkpoint to ../logs/Train_PPO_40kReqs_300_v3_001/training/best_model_1519994_steps.zip\n"
      ]
     },
     "metadata": {},
     "output_type": "display_data"
    },
    {
     "data": {
      "text/html": [
       "<pre style=\"white-space:pre;overflow-x:auto;line-height:normal;font-family:Menlo,'DejaVu Sans Mono',consolas,'Courier New',monospace\">Eval num_timesteps=1520000, episode_reward=38986.80 +/- 57.71\n",
       "</pre>\n"
      ],
      "text/plain": [
       "Eval num_timesteps=1520000, episode_reward=38986.80 +/- 57.71\n"
      ]
     },
     "metadata": {},
     "output_type": "display_data"
    },
    {
     "data": {
      "text/html": [
       "<pre style=\"white-space:pre;overflow-x:auto;line-height:normal;font-family:Menlo,'DejaVu Sans Mono',consolas,'Courier New',monospace\">Episode length: 40000.00 +/- 0.00\n",
       "</pre>\n"
      ],
      "text/plain": [
       "Episode length: 40000.00 +/- 0.00\n"
      ]
     },
     "metadata": {},
     "output_type": "display_data"
    },
    {
     "data": {
      "text/html": [
       "<pre style=\"white-space:pre;overflow-x:auto;line-height:normal;font-family:Menlo,'DejaVu Sans Mono',consolas,'Courier New',monospace\">Saving model checkpoint to ../logs/Train_PPO_40kReqs_300_v3_001/training/best_model_1559994_steps.zip\n",
       "</pre>\n"
      ],
      "text/plain": [
       "Saving model checkpoint to ../logs/Train_PPO_40kReqs_300_v3_001/training/best_model_1559994_steps.zip\n"
      ]
     },
     "metadata": {},
     "output_type": "display_data"
    },
    {
     "data": {
      "text/html": [
       "<pre style=\"white-space:pre;overflow-x:auto;line-height:normal;font-family:Menlo,'DejaVu Sans Mono',consolas,'Courier New',monospace\">Eval num_timesteps=1560000, episode_reward=39062.00 +/- 83.16\n",
       "</pre>\n"
      ],
      "text/plain": [
       "Eval num_timesteps=1560000, episode_reward=39062.00 +/- 83.16\n"
      ]
     },
     "metadata": {},
     "output_type": "display_data"
    },
    {
     "data": {
      "text/html": [
       "<pre style=\"white-space:pre;overflow-x:auto;line-height:normal;font-family:Menlo,'DejaVu Sans Mono',consolas,'Courier New',monospace\">Episode length: 40000.00 +/- 0.00\n",
       "</pre>\n"
      ],
      "text/plain": [
       "Episode length: 40000.00 +/- 0.00\n"
      ]
     },
     "metadata": {},
     "output_type": "display_data"
    },
    {
     "data": {
      "text/html": [
       "<pre style=\"white-space:pre;overflow-x:auto;line-height:normal;font-family:Menlo,'DejaVu Sans Mono',consolas,'Courier New',monospace\">Saving model checkpoint to ../logs/Train_PPO_40kReqs_300_v3_001/training/best_model_1599994_steps.zip\n",
       "</pre>\n"
      ],
      "text/plain": [
       "Saving model checkpoint to ../logs/Train_PPO_40kReqs_300_v3_001/training/best_model_1599994_steps.zip\n"
      ]
     },
     "metadata": {},
     "output_type": "display_data"
    },
    {
     "data": {
      "text/html": [
       "<pre style=\"white-space:pre;overflow-x:auto;line-height:normal;font-family:Menlo,'DejaVu Sans Mono',consolas,'Courier New',monospace\">Eval num_timesteps=1600000, episode_reward=39002.80 +/- 89.38\n",
       "</pre>\n"
      ],
      "text/plain": [
       "Eval num_timesteps=1600000, episode_reward=39002.80 +/- 89.38\n"
      ]
     },
     "metadata": {},
     "output_type": "display_data"
    },
    {
     "data": {
      "text/html": [
       "<pre style=\"white-space:pre;overflow-x:auto;line-height:normal;font-family:Menlo,'DejaVu Sans Mono',consolas,'Courier New',monospace\">Episode length: 40000.00 +/- 0.00\n",
       "</pre>\n"
      ],
      "text/plain": [
       "Episode length: 40000.00 +/- 0.00\n"
      ]
     },
     "metadata": {},
     "output_type": "display_data"
    },
    {
     "data": {
      "text/html": [
       "<pre style=\"white-space:pre;overflow-x:auto;line-height:normal;font-family:Menlo,'DejaVu Sans Mono',consolas,'Courier New',monospace\">Saving model checkpoint to ../logs/Train_PPO_40kReqs_300_v3_001/training/best_model_1639994_steps.zip\n",
       "</pre>\n"
      ],
      "text/plain": [
       "Saving model checkpoint to ../logs/Train_PPO_40kReqs_300_v3_001/training/best_model_1639994_steps.zip\n"
      ]
     },
     "metadata": {},
     "output_type": "display_data"
    },
    {
     "data": {
      "text/html": [
       "<pre style=\"white-space:pre;overflow-x:auto;line-height:normal;font-family:Menlo,'DejaVu Sans Mono',consolas,'Courier New',monospace\">Eval num_timesteps=1640000, episode_reward=39064.80 +/- 99.19\n",
       "</pre>\n"
      ],
      "text/plain": [
       "Eval num_timesteps=1640000, episode_reward=39064.80 +/- 99.19\n"
      ]
     },
     "metadata": {},
     "output_type": "display_data"
    },
    {
     "data": {
      "text/html": [
       "<pre style=\"white-space:pre;overflow-x:auto;line-height:normal;font-family:Menlo,'DejaVu Sans Mono',consolas,'Courier New',monospace\">Episode length: 40000.00 +/- 0.00\n",
       "</pre>\n"
      ],
      "text/plain": [
       "Episode length: 40000.00 +/- 0.00\n"
      ]
     },
     "metadata": {},
     "output_type": "display_data"
    },
    {
     "data": {
      "text/html": [
       "<pre style=\"white-space:pre;overflow-x:auto;line-height:normal;font-family:Menlo,'DejaVu Sans Mono',consolas,'Courier New',monospace\">Saving model checkpoint to ../logs/Train_PPO_40kReqs_300_v3_001/training/best_model_1679994_steps.zip\n",
       "</pre>\n"
      ],
      "text/plain": [
       "Saving model checkpoint to ../logs/Train_PPO_40kReqs_300_v3_001/training/best_model_1679994_steps.zip\n"
      ]
     },
     "metadata": {},
     "output_type": "display_data"
    },
    {
     "data": {
      "text/html": [
       "<pre style=\"white-space:pre;overflow-x:auto;line-height:normal;font-family:Menlo,'DejaVu Sans Mono',consolas,'Courier New',monospace\">Eval num_timesteps=1680000, episode_reward=38985.60 +/- 64.34\n",
       "</pre>\n"
      ],
      "text/plain": [
       "Eval num_timesteps=1680000, episode_reward=38985.60 +/- 64.34\n"
      ]
     },
     "metadata": {},
     "output_type": "display_data"
    },
    {
     "data": {
      "text/html": [
       "<pre style=\"white-space:pre;overflow-x:auto;line-height:normal;font-family:Menlo,'DejaVu Sans Mono',consolas,'Courier New',monospace\">Episode length: 40000.00 +/- 0.00\n",
       "</pre>\n"
      ],
      "text/plain": [
       "Episode length: 40000.00 +/- 0.00\n"
      ]
     },
     "metadata": {},
     "output_type": "display_data"
    },
    {
     "data": {
      "text/html": [
       "<pre style=\"white-space:pre;overflow-x:auto;line-height:normal;font-family:Menlo,'DejaVu Sans Mono',consolas,'Courier New',monospace\">Saving model checkpoint to ../logs/Train_PPO_40kReqs_300_v3_001/training/best_model_1719994_steps.zip\n",
       "</pre>\n"
      ],
      "text/plain": [
       "Saving model checkpoint to ../logs/Train_PPO_40kReqs_300_v3_001/training/best_model_1719994_steps.zip\n"
      ]
     },
     "metadata": {},
     "output_type": "display_data"
    },
    {
     "data": {
      "text/html": [
       "<pre style=\"white-space:pre;overflow-x:auto;line-height:normal;font-family:Menlo,'DejaVu Sans Mono',consolas,'Courier New',monospace\">Eval num_timesteps=1720000, episode_reward=38955.60 +/- 100.92\n",
       "</pre>\n"
      ],
      "text/plain": [
       "Eval num_timesteps=1720000, episode_reward=38955.60 +/- 100.92\n"
      ]
     },
     "metadata": {},
     "output_type": "display_data"
    },
    {
     "data": {
      "text/html": [
       "<pre style=\"white-space:pre;overflow-x:auto;line-height:normal;font-family:Menlo,'DejaVu Sans Mono',consolas,'Courier New',monospace\">Episode length: 40000.00 +/- 0.00\n",
       "</pre>\n"
      ],
      "text/plain": [
       "Episode length: 40000.00 +/- 0.00\n"
      ]
     },
     "metadata": {},
     "output_type": "display_data"
    },
    {
     "data": {
      "text/html": [
       "<pre style=\"white-space:pre;overflow-x:auto;line-height:normal;font-family:Menlo,'DejaVu Sans Mono',consolas,'Courier New',monospace\">Saving model checkpoint to ../logs/Train_PPO_40kReqs_300_v3_001/training/best_model_1759994_steps.zip\n",
       "</pre>\n"
      ],
      "text/plain": [
       "Saving model checkpoint to ../logs/Train_PPO_40kReqs_300_v3_001/training/best_model_1759994_steps.zip\n"
      ]
     },
     "metadata": {},
     "output_type": "display_data"
    },
    {
     "data": {
      "text/html": [
       "<pre style=\"white-space:pre;overflow-x:auto;line-height:normal;font-family:Menlo,'DejaVu Sans Mono',consolas,'Courier New',monospace\">Eval num_timesteps=1760000, episode_reward=39003.20 +/- 71.74\n",
       "</pre>\n"
      ],
      "text/plain": [
       "Eval num_timesteps=1760000, episode_reward=39003.20 +/- 71.74\n"
      ]
     },
     "metadata": {},
     "output_type": "display_data"
    },
    {
     "data": {
      "text/html": [
       "<pre style=\"white-space:pre;overflow-x:auto;line-height:normal;font-family:Menlo,'DejaVu Sans Mono',consolas,'Courier New',monospace\">Episode length: 40000.00 +/- 0.00\n",
       "</pre>\n"
      ],
      "text/plain": [
       "Episode length: 40000.00 +/- 0.00\n"
      ]
     },
     "metadata": {},
     "output_type": "display_data"
    },
    {
     "data": {
      "text/html": [
       "<pre style=\"white-space:pre;overflow-x:auto;line-height:normal;font-family:Menlo,'DejaVu Sans Mono',consolas,'Courier New',monospace\">Saving model checkpoint to ../logs/Train_PPO_40kReqs_300_v3_001/training/best_model_1799994_steps.zip\n",
       "</pre>\n"
      ],
      "text/plain": [
       "Saving model checkpoint to ../logs/Train_PPO_40kReqs_300_v3_001/training/best_model_1799994_steps.zip\n"
      ]
     },
     "metadata": {},
     "output_type": "display_data"
    },
    {
     "data": {
      "text/html": [
       "<pre style=\"white-space:pre;overflow-x:auto;line-height:normal;font-family:Menlo,'DejaVu Sans Mono',consolas,'Courier New',monospace\">Eval num_timesteps=1800000, episode_reward=39029.20 +/- 122.05\n",
       "</pre>\n"
      ],
      "text/plain": [
       "Eval num_timesteps=1800000, episode_reward=39029.20 +/- 122.05\n"
      ]
     },
     "metadata": {},
     "output_type": "display_data"
    },
    {
     "data": {
      "text/html": [
       "<pre style=\"white-space:pre;overflow-x:auto;line-height:normal;font-family:Menlo,'DejaVu Sans Mono',consolas,'Courier New',monospace\">Episode length: 40000.00 +/- 0.00\n",
       "</pre>\n"
      ],
      "text/plain": [
       "Episode length: 40000.00 +/- 0.00\n"
      ]
     },
     "metadata": {},
     "output_type": "display_data"
    },
    {
     "data": {
      "text/html": [
       "<pre style=\"white-space:pre;overflow-x:auto;line-height:normal;font-family:Menlo,'DejaVu Sans Mono',consolas,'Courier New',monospace\">Saving model checkpoint to ../logs/Train_PPO_40kReqs_300_v3_001/training/best_model_1839994_steps.zip\n",
       "</pre>\n"
      ],
      "text/plain": [
       "Saving model checkpoint to ../logs/Train_PPO_40kReqs_300_v3_001/training/best_model_1839994_steps.zip\n"
      ]
     },
     "metadata": {},
     "output_type": "display_data"
    },
    {
     "data": {
      "text/html": [
       "<pre style=\"white-space:pre;overflow-x:auto;line-height:normal;font-family:Menlo,'DejaVu Sans Mono',consolas,'Courier New',monospace\">Eval num_timesteps=1840000, episode_reward=39061.60 +/- 138.42\n",
       "</pre>\n"
      ],
      "text/plain": [
       "Eval num_timesteps=1840000, episode_reward=39061.60 +/- 138.42\n"
      ]
     },
     "metadata": {},
     "output_type": "display_data"
    },
    {
     "data": {
      "text/html": [
       "<pre style=\"white-space:pre;overflow-x:auto;line-height:normal;font-family:Menlo,'DejaVu Sans Mono',consolas,'Courier New',monospace\">Episode length: 40000.00 +/- 0.00\n",
       "</pre>\n"
      ],
      "text/plain": [
       "Episode length: 40000.00 +/- 0.00\n"
      ]
     },
     "metadata": {},
     "output_type": "display_data"
    },
    {
     "data": {
      "text/html": [
       "<pre style=\"white-space:pre;overflow-x:auto;line-height:normal;font-family:Menlo,'DejaVu Sans Mono',consolas,'Courier New',monospace\">Saving model checkpoint to ../logs/Train_PPO_40kReqs_300_v3_001/training/best_model_1879994_steps.zip\n",
       "</pre>\n"
      ],
      "text/plain": [
       "Saving model checkpoint to ../logs/Train_PPO_40kReqs_300_v3_001/training/best_model_1879994_steps.zip\n"
      ]
     },
     "metadata": {},
     "output_type": "display_data"
    },
    {
     "data": {
      "text/html": [
       "<pre style=\"white-space:pre;overflow-x:auto;line-height:normal;font-family:Menlo,'DejaVu Sans Mono',consolas,'Courier New',monospace\">Eval num_timesteps=1880000, episode_reward=38980.80 +/- 158.74\n",
       "</pre>\n"
      ],
      "text/plain": [
       "Eval num_timesteps=1880000, episode_reward=38980.80 +/- 158.74\n"
      ]
     },
     "metadata": {},
     "output_type": "display_data"
    },
    {
     "data": {
      "text/html": [
       "<pre style=\"white-space:pre;overflow-x:auto;line-height:normal;font-family:Menlo,'DejaVu Sans Mono',consolas,'Courier New',monospace\">Episode length: 40000.00 +/- 0.00\n",
       "</pre>\n"
      ],
      "text/plain": [
       "Episode length: 40000.00 +/- 0.00\n"
      ]
     },
     "metadata": {},
     "output_type": "display_data"
    },
    {
     "data": {
      "text/html": [
       "<pre style=\"white-space:pre;overflow-x:auto;line-height:normal;font-family:Menlo,'DejaVu Sans Mono',consolas,'Courier New',monospace\">Saving model checkpoint to ../logs/Train_PPO_40kReqs_300_v3_001/training/best_model_1919994_steps.zip\n",
       "</pre>\n"
      ],
      "text/plain": [
       "Saving model checkpoint to ../logs/Train_PPO_40kReqs_300_v3_001/training/best_model_1919994_steps.zip\n"
      ]
     },
     "metadata": {},
     "output_type": "display_data"
    },
    {
     "data": {
      "text/html": [
       "<pre style=\"white-space:pre;overflow-x:auto;line-height:normal;font-family:Menlo,'DejaVu Sans Mono',consolas,'Courier New',monospace\">Eval num_timesteps=1920000, episode_reward=39114.40 +/- 76.38\n",
       "</pre>\n"
      ],
      "text/plain": [
       "Eval num_timesteps=1920000, episode_reward=39114.40 +/- 76.38\n"
      ]
     },
     "metadata": {},
     "output_type": "display_data"
    },
    {
     "data": {
      "text/html": [
       "<pre style=\"white-space:pre;overflow-x:auto;line-height:normal;font-family:Menlo,'DejaVu Sans Mono',consolas,'Courier New',monospace\">Episode length: 40000.00 +/- 0.00\n",
       "</pre>\n"
      ],
      "text/plain": [
       "Episode length: 40000.00 +/- 0.00\n"
      ]
     },
     "metadata": {},
     "output_type": "display_data"
    },
    {
     "data": {
      "text/html": [
       "<pre style=\"white-space:pre;overflow-x:auto;line-height:normal;font-family:Menlo,'DejaVu Sans Mono',consolas,'Courier New',monospace\">New best mean reward!\n",
       "</pre>\n"
      ],
      "text/plain": [
       "New best mean reward!\n"
      ]
     },
     "metadata": {},
     "output_type": "display_data"
    },
    {
     "data": {
      "text/html": [
       "<pre style=\"white-space:pre;overflow-x:auto;line-height:normal;font-family:Menlo,'DejaVu Sans Mono',consolas,'Courier New',monospace\">Saving model checkpoint to ../logs/Train_PPO_40kReqs_300_v3_001/training/best_model_1959993_steps.zip\n",
       "</pre>\n"
      ],
      "text/plain": [
       "Saving model checkpoint to ../logs/Train_PPO_40kReqs_300_v3_001/training/best_model_1959993_steps.zip\n"
      ]
     },
     "metadata": {},
     "output_type": "display_data"
    },
    {
     "data": {
      "text/html": [
       "<pre style=\"white-space:pre;overflow-x:auto;line-height:normal;font-family:Menlo,'DejaVu Sans Mono',consolas,'Courier New',monospace\">Eval num_timesteps=1960000, episode_reward=39026.00 +/- 105.40\n",
       "</pre>\n"
      ],
      "text/plain": [
       "Eval num_timesteps=1960000, episode_reward=39026.00 +/- 105.40\n"
      ]
     },
     "metadata": {},
     "output_type": "display_data"
    },
    {
     "data": {
      "text/html": [
       "<pre style=\"white-space:pre;overflow-x:auto;line-height:normal;font-family:Menlo,'DejaVu Sans Mono',consolas,'Courier New',monospace\">Episode length: 40000.00 +/- 0.00\n",
       "</pre>\n"
      ],
      "text/plain": [
       "Episode length: 40000.00 +/- 0.00\n"
      ]
     },
     "metadata": {},
     "output_type": "display_data"
    },
    {
     "data": {
      "text/html": [
       "<pre style=\"white-space:pre;overflow-x:auto;line-height:normal;font-family:Menlo,'DejaVu Sans Mono',consolas,'Courier New',monospace\">Saving model checkpoint to ../logs/Train_PPO_40kReqs_300_v3_001/training/best_model_1999993_steps.zip\n",
       "</pre>\n"
      ],
      "text/plain": [
       "Saving model checkpoint to ../logs/Train_PPO_40kReqs_300_v3_001/training/best_model_1999993_steps.zip\n"
      ]
     },
     "metadata": {},
     "output_type": "display_data"
    },
    {
     "data": {
      "text/html": [
       "<pre style=\"white-space:pre;overflow-x:auto;line-height:normal;font-family:Menlo,'DejaVu Sans Mono',consolas,'Courier New',monospace\">Eval num_timesteps=2000000, episode_reward=39010.80 +/- 92.76\n",
       "</pre>\n"
      ],
      "text/plain": [
       "Eval num_timesteps=2000000, episode_reward=39010.80 +/- 92.76\n"
      ]
     },
     "metadata": {},
     "output_type": "display_data"
    },
    {
     "data": {
      "text/html": [
       "<pre style=\"white-space:pre;overflow-x:auto;line-height:normal;font-family:Menlo,'DejaVu Sans Mono',consolas,'Courier New',monospace\">Episode length: 40000.00 +/- 0.00\n",
       "</pre>\n"
      ],
      "text/plain": [
       "Episode length: 40000.00 +/- 0.00\n"
      ]
     },
     "metadata": {},
     "output_type": "display_data"
    },
    {
     "data": {
      "text/html": [
       "<pre style=\"white-space:pre;overflow-x:auto;line-height:normal;font-family:Menlo,'DejaVu Sans Mono',consolas,'Courier New',monospace\">Saving model checkpoint to ../logs/Train_PPO_40kReqs_300_v3_001/training/best_model_2039993_steps.zip\n",
       "</pre>\n"
      ],
      "text/plain": [
       "Saving model checkpoint to ../logs/Train_PPO_40kReqs_300_v3_001/training/best_model_2039993_steps.zip\n"
      ]
     },
     "metadata": {},
     "output_type": "display_data"
    },
    {
     "data": {
      "text/html": [
       "<pre style=\"white-space:pre;overflow-x:auto;line-height:normal;font-family:Menlo,'DejaVu Sans Mono',consolas,'Courier New',monospace\">Eval num_timesteps=2040000, episode_reward=39025.20 +/- 172.49\n",
       "</pre>\n"
      ],
      "text/plain": [
       "Eval num_timesteps=2040000, episode_reward=39025.20 +/- 172.49\n"
      ]
     },
     "metadata": {},
     "output_type": "display_data"
    },
    {
     "data": {
      "text/html": [
       "<pre style=\"white-space:pre;overflow-x:auto;line-height:normal;font-family:Menlo,'DejaVu Sans Mono',consolas,'Courier New',monospace\">Episode length: 40000.00 +/- 0.00\n",
       "</pre>\n"
      ],
      "text/plain": [
       "Episode length: 40000.00 +/- 0.00\n"
      ]
     },
     "metadata": {},
     "output_type": "display_data"
    },
    {
     "data": {
      "text/html": [
       "<pre style=\"white-space:pre;overflow-x:auto;line-height:normal;font-family:Menlo,'DejaVu Sans Mono',consolas,'Courier New',monospace\">Saving model checkpoint to ../logs/Train_PPO_40kReqs_300_v3_001/training/best_model_2079993_steps.zip\n",
       "</pre>\n"
      ],
      "text/plain": [
       "Saving model checkpoint to ../logs/Train_PPO_40kReqs_300_v3_001/training/best_model_2079993_steps.zip\n"
      ]
     },
     "metadata": {},
     "output_type": "display_data"
    },
    {
     "data": {
      "text/html": [
       "<pre style=\"white-space:pre;overflow-x:auto;line-height:normal;font-family:Menlo,'DejaVu Sans Mono',consolas,'Courier New',monospace\">Eval num_timesteps=2080000, episode_reward=39061.20 +/- 112.23\n",
       "</pre>\n"
      ],
      "text/plain": [
       "Eval num_timesteps=2080000, episode_reward=39061.20 +/- 112.23\n"
      ]
     },
     "metadata": {},
     "output_type": "display_data"
    },
    {
     "data": {
      "text/html": [
       "<pre style=\"white-space:pre;overflow-x:auto;line-height:normal;font-family:Menlo,'DejaVu Sans Mono',consolas,'Courier New',monospace\">Episode length: 40000.00 +/- 0.00\n",
       "</pre>\n"
      ],
      "text/plain": [
       "Episode length: 40000.00 +/- 0.00\n"
      ]
     },
     "metadata": {},
     "output_type": "display_data"
    },
    {
     "data": {
      "text/html": [
       "<pre style=\"white-space:pre;overflow-x:auto;line-height:normal;font-family:Menlo,'DejaVu Sans Mono',consolas,'Courier New',monospace\">Saving model checkpoint to ../logs/Train_PPO_40kReqs_300_v3_001/training/best_model_2119993_steps.zip\n",
       "</pre>\n"
      ],
      "text/plain": [
       "Saving model checkpoint to ../logs/Train_PPO_40kReqs_300_v3_001/training/best_model_2119993_steps.zip\n"
      ]
     },
     "metadata": {},
     "output_type": "display_data"
    },
    {
     "data": {
      "text/html": [
       "<pre style=\"white-space:pre;overflow-x:auto;line-height:normal;font-family:Menlo,'DejaVu Sans Mono',consolas,'Courier New',monospace\">Eval num_timesteps=2120000, episode_reward=39084.80 +/- 59.20\n",
       "</pre>\n"
      ],
      "text/plain": [
       "Eval num_timesteps=2120000, episode_reward=39084.80 +/- 59.20\n"
      ]
     },
     "metadata": {},
     "output_type": "display_data"
    },
    {
     "data": {
      "text/html": [
       "<pre style=\"white-space:pre;overflow-x:auto;line-height:normal;font-family:Menlo,'DejaVu Sans Mono',consolas,'Courier New',monospace\">Episode length: 40000.00 +/- 0.00\n",
       "</pre>\n"
      ],
      "text/plain": [
       "Episode length: 40000.00 +/- 0.00\n"
      ]
     },
     "metadata": {},
     "output_type": "display_data"
    },
    {
     "data": {
      "text/html": [
       "<pre style=\"white-space:pre;overflow-x:auto;line-height:normal;font-family:Menlo,'DejaVu Sans Mono',consolas,'Courier New',monospace\">Saving model checkpoint to ../logs/Train_PPO_40kReqs_300_v3_001/training/best_model_2159993_steps.zip\n",
       "</pre>\n"
      ],
      "text/plain": [
       "Saving model checkpoint to ../logs/Train_PPO_40kReqs_300_v3_001/training/best_model_2159993_steps.zip\n"
      ]
     },
     "metadata": {},
     "output_type": "display_data"
    },
    {
     "data": {
      "text/html": [
       "<pre style=\"white-space:pre;overflow-x:auto;line-height:normal;font-family:Menlo,'DejaVu Sans Mono',consolas,'Courier New',monospace\">Eval num_timesteps=2160000, episode_reward=39094.80 +/- 75.37\n",
       "</pre>\n"
      ],
      "text/plain": [
       "Eval num_timesteps=2160000, episode_reward=39094.80 +/- 75.37\n"
      ]
     },
     "metadata": {},
     "output_type": "display_data"
    },
    {
     "data": {
      "text/html": [
       "<pre style=\"white-space:pre;overflow-x:auto;line-height:normal;font-family:Menlo,'DejaVu Sans Mono',consolas,'Courier New',monospace\">Episode length: 40000.00 +/- 0.00\n",
       "</pre>\n"
      ],
      "text/plain": [
       "Episode length: 40000.00 +/- 0.00\n"
      ]
     },
     "metadata": {},
     "output_type": "display_data"
    },
    {
     "data": {
      "text/html": [
       "<pre style=\"white-space:pre;overflow-x:auto;line-height:normal;font-family:Menlo,'DejaVu Sans Mono',consolas,'Courier New',monospace\">Saving model checkpoint to ../logs/Train_PPO_40kReqs_300_v3_001/training/best_model_2199993_steps.zip\n",
       "</pre>\n"
      ],
      "text/plain": [
       "Saving model checkpoint to ../logs/Train_PPO_40kReqs_300_v3_001/training/best_model_2199993_steps.zip\n"
      ]
     },
     "metadata": {},
     "output_type": "display_data"
    },
    {
     "data": {
      "text/html": [
       "<pre style=\"white-space:pre;overflow-x:auto;line-height:normal;font-family:Menlo,'DejaVu Sans Mono',consolas,'Courier New',monospace\">Eval num_timesteps=2200000, episode_reward=39031.20 +/- 112.15\n",
       "</pre>\n"
      ],
      "text/plain": [
       "Eval num_timesteps=2200000, episode_reward=39031.20 +/- 112.15\n"
      ]
     },
     "metadata": {},
     "output_type": "display_data"
    },
    {
     "data": {
      "text/html": [
       "<pre style=\"white-space:pre;overflow-x:auto;line-height:normal;font-family:Menlo,'DejaVu Sans Mono',consolas,'Courier New',monospace\">Episode length: 40000.00 +/- 0.00\n",
       "</pre>\n"
      ],
      "text/plain": [
       "Episode length: 40000.00 +/- 0.00\n"
      ]
     },
     "metadata": {},
     "output_type": "display_data"
    },
    {
     "data": {
      "text/html": [
       "<pre style=\"white-space:pre;overflow-x:auto;line-height:normal;font-family:Menlo,'DejaVu Sans Mono',consolas,'Courier New',monospace\">Saving model checkpoint to ../logs/Train_PPO_40kReqs_300_v3_001/training/best_model_2239993_steps.zip\n",
       "</pre>\n"
      ],
      "text/plain": [
       "Saving model checkpoint to ../logs/Train_PPO_40kReqs_300_v3_001/training/best_model_2239993_steps.zip\n"
      ]
     },
     "metadata": {},
     "output_type": "display_data"
    },
    {
     "data": {
      "text/html": [
       "<pre style=\"white-space:pre;overflow-x:auto;line-height:normal;font-family:Menlo,'DejaVu Sans Mono',consolas,'Courier New',monospace\">Eval num_timesteps=2240000, episode_reward=39084.40 +/- 35.49\n",
       "</pre>\n"
      ],
      "text/plain": [
       "Eval num_timesteps=2240000, episode_reward=39084.40 +/- 35.49\n"
      ]
     },
     "metadata": {},
     "output_type": "display_data"
    },
    {
     "data": {
      "text/html": [
       "<pre style=\"white-space:pre;overflow-x:auto;line-height:normal;font-family:Menlo,'DejaVu Sans Mono',consolas,'Courier New',monospace\">Episode length: 40000.00 +/- 0.00\n",
       "</pre>\n"
      ],
      "text/plain": [
       "Episode length: 40000.00 +/- 0.00\n"
      ]
     },
     "metadata": {},
     "output_type": "display_data"
    },
    {
     "data": {
      "text/html": [
       "<pre style=\"white-space:pre;overflow-x:auto;line-height:normal;font-family:Menlo,'DejaVu Sans Mono',consolas,'Courier New',monospace\">Saving model checkpoint to ../logs/Train_PPO_40kReqs_300_v3_001/training/best_model_2279993_steps.zip\n",
       "</pre>\n"
      ],
      "text/plain": [
       "Saving model checkpoint to ../logs/Train_PPO_40kReqs_300_v3_001/training/best_model_2279993_steps.zip\n"
      ]
     },
     "metadata": {},
     "output_type": "display_data"
    },
    {
     "data": {
      "text/html": [
       "<pre style=\"white-space:pre;overflow-x:auto;line-height:normal;font-family:Menlo,'DejaVu Sans Mono',consolas,'Courier New',monospace\">Eval num_timesteps=2280000, episode_reward=38990.80 +/- 71.11\n",
       "</pre>\n"
      ],
      "text/plain": [
       "Eval num_timesteps=2280000, episode_reward=38990.80 +/- 71.11\n"
      ]
     },
     "metadata": {},
     "output_type": "display_data"
    },
    {
     "data": {
      "text/html": [
       "<pre style=\"white-space:pre;overflow-x:auto;line-height:normal;font-family:Menlo,'DejaVu Sans Mono',consolas,'Courier New',monospace\">Episode length: 40000.00 +/- 0.00\n",
       "</pre>\n"
      ],
      "text/plain": [
       "Episode length: 40000.00 +/- 0.00\n"
      ]
     },
     "metadata": {},
     "output_type": "display_data"
    },
    {
     "data": {
      "text/html": [
       "<pre style=\"white-space:pre;overflow-x:auto;line-height:normal;font-family:Menlo,'DejaVu Sans Mono',consolas,'Courier New',monospace\">Saving model checkpoint to ../logs/Train_PPO_40kReqs_300_v3_001/training/best_model_2319993_steps.zip\n",
       "</pre>\n"
      ],
      "text/plain": [
       "Saving model checkpoint to ../logs/Train_PPO_40kReqs_300_v3_001/training/best_model_2319993_steps.zip\n"
      ]
     },
     "metadata": {},
     "output_type": "display_data"
    },
    {
     "data": {
      "text/html": [
       "<pre style=\"white-space:pre;overflow-x:auto;line-height:normal;font-family:Menlo,'DejaVu Sans Mono',consolas,'Courier New',monospace\">Eval num_timesteps=2320000, episode_reward=38997.20 +/- 137.50\n",
       "</pre>\n"
      ],
      "text/plain": [
       "Eval num_timesteps=2320000, episode_reward=38997.20 +/- 137.50\n"
      ]
     },
     "metadata": {},
     "output_type": "display_data"
    },
    {
     "data": {
      "text/html": [
       "<pre style=\"white-space:pre;overflow-x:auto;line-height:normal;font-family:Menlo,'DejaVu Sans Mono',consolas,'Courier New',monospace\">Episode length: 40000.00 +/- 0.00\n",
       "</pre>\n"
      ],
      "text/plain": [
       "Episode length: 40000.00 +/- 0.00\n"
      ]
     },
     "metadata": {},
     "output_type": "display_data"
    },
    {
     "data": {
      "text/html": [
       "<pre style=\"white-space:pre;overflow-x:auto;line-height:normal;font-family:Menlo,'DejaVu Sans Mono',consolas,'Courier New',monospace\">Saving model checkpoint to ../logs/Train_PPO_40kReqs_300_v3_001/training/best_model_2359993_steps.zip\n",
       "</pre>\n"
      ],
      "text/plain": [
       "Saving model checkpoint to ../logs/Train_PPO_40kReqs_300_v3_001/training/best_model_2359993_steps.zip\n"
      ]
     },
     "metadata": {},
     "output_type": "display_data"
    },
    {
     "data": {
      "text/html": [
       "<pre style=\"white-space:pre;overflow-x:auto;line-height:normal;font-family:Menlo,'DejaVu Sans Mono',consolas,'Courier New',monospace\">Eval num_timesteps=2360000, episode_reward=39022.00 +/- 144.15\n",
       "</pre>\n"
      ],
      "text/plain": [
       "Eval num_timesteps=2360000, episode_reward=39022.00 +/- 144.15\n"
      ]
     },
     "metadata": {},
     "output_type": "display_data"
    },
    {
     "data": {
      "text/html": [
       "<pre style=\"white-space:pre;overflow-x:auto;line-height:normal;font-family:Menlo,'DejaVu Sans Mono',consolas,'Courier New',monospace\">Episode length: 40000.00 +/- 0.00\n",
       "</pre>\n"
      ],
      "text/plain": [
       "Episode length: 40000.00 +/- 0.00\n"
      ]
     },
     "metadata": {},
     "output_type": "display_data"
    },
    {
     "data": {
      "text/html": [
       "<pre style=\"white-space:pre;overflow-x:auto;line-height:normal;font-family:Menlo,'DejaVu Sans Mono',consolas,'Courier New',monospace\">Saving model checkpoint to ../logs/Train_PPO_40kReqs_300_v3_001/training/best_model_2399993_steps.zip\n",
       "</pre>\n"
      ],
      "text/plain": [
       "Saving model checkpoint to ../logs/Train_PPO_40kReqs_300_v3_001/training/best_model_2399993_steps.zip\n"
      ]
     },
     "metadata": {},
     "output_type": "display_data"
    },
    {
     "data": {
      "text/html": [
       "<pre style=\"white-space:pre;overflow-x:auto;line-height:normal;font-family:Menlo,'DejaVu Sans Mono',consolas,'Courier New',monospace\">Eval num_timesteps=2400000, episode_reward=38984.00 +/- 93.05\n",
       "</pre>\n"
      ],
      "text/plain": [
       "Eval num_timesteps=2400000, episode_reward=38984.00 +/- 93.05\n"
      ]
     },
     "metadata": {},
     "output_type": "display_data"
    },
    {
     "data": {
      "text/html": [
       "<pre style=\"white-space:pre;overflow-x:auto;line-height:normal;font-family:Menlo,'DejaVu Sans Mono',consolas,'Courier New',monospace\">Episode length: 40000.00 +/- 0.00\n",
       "</pre>\n"
      ],
      "text/plain": [
       "Episode length: 40000.00 +/- 0.00\n"
      ]
     },
     "metadata": {},
     "output_type": "display_data"
    },
    {
     "data": {
      "text/html": [
       "<pre style=\"white-space:pre;overflow-x:auto;line-height:normal;font-family:Menlo,'DejaVu Sans Mono',consolas,'Courier New',monospace\">Saving model checkpoint to ../logs/Train_PPO_40kReqs_300_v3_001/training/best_model_2439993_steps.zip\n",
       "</pre>\n"
      ],
      "text/plain": [
       "Saving model checkpoint to ../logs/Train_PPO_40kReqs_300_v3_001/training/best_model_2439993_steps.zip\n"
      ]
     },
     "metadata": {},
     "output_type": "display_data"
    },
    {
     "data": {
      "text/html": [
       "<pre style=\"white-space:pre;overflow-x:auto;line-height:normal;font-family:Menlo,'DejaVu Sans Mono',consolas,'Courier New',monospace\">Eval num_timesteps=2440000, episode_reward=39013.60 +/- 41.38\n",
       "</pre>\n"
      ],
      "text/plain": [
       "Eval num_timesteps=2440000, episode_reward=39013.60 +/- 41.38\n"
      ]
     },
     "metadata": {},
     "output_type": "display_data"
    },
    {
     "data": {
      "text/html": [
       "<pre style=\"white-space:pre;overflow-x:auto;line-height:normal;font-family:Menlo,'DejaVu Sans Mono',consolas,'Courier New',monospace\">Episode length: 40000.00 +/- 0.00\n",
       "</pre>\n"
      ],
      "text/plain": [
       "Episode length: 40000.00 +/- 0.00\n"
      ]
     },
     "metadata": {},
     "output_type": "display_data"
    },
    {
     "data": {
      "text/html": [
       "<pre style=\"white-space:pre;overflow-x:auto;line-height:normal;font-family:Menlo,'DejaVu Sans Mono',consolas,'Courier New',monospace\">Saving model checkpoint to ../logs/Train_PPO_40kReqs_300_v3_001/training/best_model_2479993_steps.zip\n",
       "</pre>\n"
      ],
      "text/plain": [
       "Saving model checkpoint to ../logs/Train_PPO_40kReqs_300_v3_001/training/best_model_2479993_steps.zip\n"
      ]
     },
     "metadata": {},
     "output_type": "display_data"
    },
    {
     "data": {
      "text/html": [
       "<pre style=\"white-space:pre;overflow-x:auto;line-height:normal;font-family:Menlo,'DejaVu Sans Mono',consolas,'Courier New',monospace\">Eval num_timesteps=2480000, episode_reward=38986.40 +/- 63.74\n",
       "</pre>\n"
      ],
      "text/plain": [
       "Eval num_timesteps=2480000, episode_reward=38986.40 +/- 63.74\n"
      ]
     },
     "metadata": {},
     "output_type": "display_data"
    },
    {
     "data": {
      "text/html": [
       "<pre style=\"white-space:pre;overflow-x:auto;line-height:normal;font-family:Menlo,'DejaVu Sans Mono',consolas,'Courier New',monospace\">Episode length: 40000.00 +/- 0.00\n",
       "</pre>\n"
      ],
      "text/plain": [
       "Episode length: 40000.00 +/- 0.00\n"
      ]
     },
     "metadata": {},
     "output_type": "display_data"
    },
    {
     "data": {
      "text/html": [
       "<pre style=\"white-space:pre;overflow-x:auto;line-height:normal;font-family:Menlo,'DejaVu Sans Mono',consolas,'Courier New',monospace\">Saving model checkpoint to ../logs/Train_PPO_40kReqs_300_v3_001/training/best_model_2519993_steps.zip\n",
       "</pre>\n"
      ],
      "text/plain": [
       "Saving model checkpoint to ../logs/Train_PPO_40kReqs_300_v3_001/training/best_model_2519993_steps.zip\n"
      ]
     },
     "metadata": {},
     "output_type": "display_data"
    },
    {
     "data": {
      "text/html": [
       "<pre style=\"white-space:pre;overflow-x:auto;line-height:normal;font-family:Menlo,'DejaVu Sans Mono',consolas,'Courier New',monospace\">Eval num_timesteps=2520000, episode_reward=39064.40 +/- 63.59\n",
       "</pre>\n"
      ],
      "text/plain": [
       "Eval num_timesteps=2520000, episode_reward=39064.40 +/- 63.59\n"
      ]
     },
     "metadata": {},
     "output_type": "display_data"
    },
    {
     "data": {
      "text/html": [
       "<pre style=\"white-space:pre;overflow-x:auto;line-height:normal;font-family:Menlo,'DejaVu Sans Mono',consolas,'Courier New',monospace\">Episode length: 40000.00 +/- 0.00\n",
       "</pre>\n"
      ],
      "text/plain": [
       "Episode length: 40000.00 +/- 0.00\n"
      ]
     },
     "metadata": {},
     "output_type": "display_data"
    },
    {
     "data": {
      "text/html": [
       "<pre style=\"white-space:pre;overflow-x:auto;line-height:normal;font-family:Menlo,'DejaVu Sans Mono',consolas,'Courier New',monospace\">Saving model checkpoint to ../logs/Train_PPO_40kReqs_300_v3_001/training/best_model_2559993_steps.zip\n",
       "</pre>\n"
      ],
      "text/plain": [
       "Saving model checkpoint to ../logs/Train_PPO_40kReqs_300_v3_001/training/best_model_2559993_steps.zip\n"
      ]
     },
     "metadata": {},
     "output_type": "display_data"
    },
    {
     "data": {
      "text/html": [
       "<pre style=\"white-space:pre;overflow-x:auto;line-height:normal;font-family:Menlo,'DejaVu Sans Mono',consolas,'Courier New',monospace\">Eval num_timesteps=2560000, episode_reward=39066.80 +/- 125.82\n",
       "</pre>\n"
      ],
      "text/plain": [
       "Eval num_timesteps=2560000, episode_reward=39066.80 +/- 125.82\n"
      ]
     },
     "metadata": {},
     "output_type": "display_data"
    },
    {
     "data": {
      "text/html": [
       "<pre style=\"white-space:pre;overflow-x:auto;line-height:normal;font-family:Menlo,'DejaVu Sans Mono',consolas,'Courier New',monospace\">Episode length: 40000.00 +/- 0.00\n",
       "</pre>\n"
      ],
      "text/plain": [
       "Episode length: 40000.00 +/- 0.00\n"
      ]
     },
     "metadata": {},
     "output_type": "display_data"
    },
    {
     "data": {
      "text/html": [
       "<pre style=\"white-space:pre;overflow-x:auto;line-height:normal;font-family:Menlo,'DejaVu Sans Mono',consolas,'Courier New',monospace\">Saving model checkpoint to ../logs/Train_PPO_40kReqs_300_v3_001/training/best_model_2599993_steps.zip\n",
       "</pre>\n"
      ],
      "text/plain": [
       "Saving model checkpoint to ../logs/Train_PPO_40kReqs_300_v3_001/training/best_model_2599993_steps.zip\n"
      ]
     },
     "metadata": {},
     "output_type": "display_data"
    },
    {
     "data": {
      "text/html": [
       "<pre style=\"white-space:pre;overflow-x:auto;line-height:normal;font-family:Menlo,'DejaVu Sans Mono',consolas,'Courier New',monospace\">Eval num_timesteps=2600000, episode_reward=39137.60 +/- 48.91\n",
       "</pre>\n"
      ],
      "text/plain": [
       "Eval num_timesteps=2600000, episode_reward=39137.60 +/- 48.91\n"
      ]
     },
     "metadata": {},
     "output_type": "display_data"
    },
    {
     "data": {
      "text/html": [
       "<pre style=\"white-space:pre;overflow-x:auto;line-height:normal;font-family:Menlo,'DejaVu Sans Mono',consolas,'Courier New',monospace\">Episode length: 40000.00 +/- 0.00\n",
       "</pre>\n"
      ],
      "text/plain": [
       "Episode length: 40000.00 +/- 0.00\n"
      ]
     },
     "metadata": {},
     "output_type": "display_data"
    },
    {
     "data": {
      "text/html": [
       "<pre style=\"white-space:pre;overflow-x:auto;line-height:normal;font-family:Menlo,'DejaVu Sans Mono',consolas,'Courier New',monospace\">New best mean reward!\n",
       "</pre>\n"
      ],
      "text/plain": [
       "New best mean reward!\n"
      ]
     },
     "metadata": {},
     "output_type": "display_data"
    },
    {
     "data": {
      "text/html": [
       "<pre style=\"white-space:pre;overflow-x:auto;line-height:normal;font-family:Menlo,'DejaVu Sans Mono',consolas,'Courier New',monospace\">Saving model checkpoint to ../logs/Train_PPO_40kReqs_300_v3_001/training/best_model_2639992_steps.zip\n",
       "</pre>\n"
      ],
      "text/plain": [
       "Saving model checkpoint to ../logs/Train_PPO_40kReqs_300_v3_001/training/best_model_2639992_steps.zip\n"
      ]
     },
     "metadata": {},
     "output_type": "display_data"
    },
    {
     "data": {
      "text/html": [
       "<pre style=\"white-space:pre;overflow-x:auto;line-height:normal;font-family:Menlo,'DejaVu Sans Mono',consolas,'Courier New',monospace\">Eval num_timesteps=2640000, episode_reward=39062.80 +/- 109.04\n",
       "</pre>\n"
      ],
      "text/plain": [
       "Eval num_timesteps=2640000, episode_reward=39062.80 +/- 109.04\n"
      ]
     },
     "metadata": {},
     "output_type": "display_data"
    },
    {
     "data": {
      "text/html": [
       "<pre style=\"white-space:pre;overflow-x:auto;line-height:normal;font-family:Menlo,'DejaVu Sans Mono',consolas,'Courier New',monospace\">Episode length: 40000.00 +/- 0.00\n",
       "</pre>\n"
      ],
      "text/plain": [
       "Episode length: 40000.00 +/- 0.00\n"
      ]
     },
     "metadata": {},
     "output_type": "display_data"
    },
    {
     "data": {
      "text/html": [
       "<pre style=\"white-space:pre;overflow-x:auto;line-height:normal;font-family:Menlo,'DejaVu Sans Mono',consolas,'Courier New',monospace\">Saving model checkpoint to ../logs/Train_PPO_40kReqs_300_v3_001/training/best_model_2679992_steps.zip\n",
       "</pre>\n"
      ],
      "text/plain": [
       "Saving model checkpoint to ../logs/Train_PPO_40kReqs_300_v3_001/training/best_model_2679992_steps.zip\n"
      ]
     },
     "metadata": {},
     "output_type": "display_data"
    },
    {
     "data": {
      "text/html": [
       "<pre style=\"white-space:pre;overflow-x:auto;line-height:normal;font-family:Menlo,'DejaVu Sans Mono',consolas,'Courier New',monospace\">Eval num_timesteps=2680000, episode_reward=39044.00 +/- 82.76\n",
       "</pre>\n"
      ],
      "text/plain": [
       "Eval num_timesteps=2680000, episode_reward=39044.00 +/- 82.76\n"
      ]
     },
     "metadata": {},
     "output_type": "display_data"
    },
    {
     "data": {
      "text/html": [
       "<pre style=\"white-space:pre;overflow-x:auto;line-height:normal;font-family:Menlo,'DejaVu Sans Mono',consolas,'Courier New',monospace\">Episode length: 40000.00 +/- 0.00\n",
       "</pre>\n"
      ],
      "text/plain": [
       "Episode length: 40000.00 +/- 0.00\n"
      ]
     },
     "metadata": {},
     "output_type": "display_data"
    },
    {
     "data": {
      "text/html": [
       "<pre style=\"white-space:pre;overflow-x:auto;line-height:normal;font-family:Menlo,'DejaVu Sans Mono',consolas,'Courier New',monospace\">Saving model checkpoint to ../logs/Train_PPO_40kReqs_300_v3_001/training/best_model_2719992_steps.zip\n",
       "</pre>\n"
      ],
      "text/plain": [
       "Saving model checkpoint to ../logs/Train_PPO_40kReqs_300_v3_001/training/best_model_2719992_steps.zip\n"
      ]
     },
     "metadata": {},
     "output_type": "display_data"
    },
    {
     "data": {
      "text/html": [
       "<pre style=\"white-space:pre;overflow-x:auto;line-height:normal;font-family:Menlo,'DejaVu Sans Mono',consolas,'Courier New',monospace\">Eval num_timesteps=2720000, episode_reward=39030.40 +/- 101.19\n",
       "</pre>\n"
      ],
      "text/plain": [
       "Eval num_timesteps=2720000, episode_reward=39030.40 +/- 101.19\n"
      ]
     },
     "metadata": {},
     "output_type": "display_data"
    },
    {
     "data": {
      "text/html": [
       "<pre style=\"white-space:pre;overflow-x:auto;line-height:normal;font-family:Menlo,'DejaVu Sans Mono',consolas,'Courier New',monospace\">Episode length: 40000.00 +/- 0.00\n",
       "</pre>\n"
      ],
      "text/plain": [
       "Episode length: 40000.00 +/- 0.00\n"
      ]
     },
     "metadata": {},
     "output_type": "display_data"
    },
    {
     "data": {
      "text/html": [
       "<pre style=\"white-space:pre;overflow-x:auto;line-height:normal;font-family:Menlo,'DejaVu Sans Mono',consolas,'Courier New',monospace\">Saving model checkpoint to ../logs/Train_PPO_40kReqs_300_v3_001/training/best_model_2759992_steps.zip\n",
       "</pre>\n"
      ],
      "text/plain": [
       "Saving model checkpoint to ../logs/Train_PPO_40kReqs_300_v3_001/training/best_model_2759992_steps.zip\n"
      ]
     },
     "metadata": {},
     "output_type": "display_data"
    },
    {
     "data": {
      "text/html": [
       "<pre style=\"white-space:pre;overflow-x:auto;line-height:normal;font-family:Menlo,'DejaVu Sans Mono',consolas,'Courier New',monospace\">Eval num_timesteps=2760000, episode_reward=38998.00 +/- 153.10\n",
       "</pre>\n"
      ],
      "text/plain": [
       "Eval num_timesteps=2760000, episode_reward=38998.00 +/- 153.10\n"
      ]
     },
     "metadata": {},
     "output_type": "display_data"
    },
    {
     "data": {
      "text/html": [
       "<pre style=\"white-space:pre;overflow-x:auto;line-height:normal;font-family:Menlo,'DejaVu Sans Mono',consolas,'Courier New',monospace\">Episode length: 40000.00 +/- 0.00\n",
       "</pre>\n"
      ],
      "text/plain": [
       "Episode length: 40000.00 +/- 0.00\n"
      ]
     },
     "metadata": {},
     "output_type": "display_data"
    },
    {
     "data": {
      "text/html": [
       "<pre style=\"white-space:pre;overflow-x:auto;line-height:normal;font-family:Menlo,'DejaVu Sans Mono',consolas,'Courier New',monospace\">Saving model checkpoint to ../logs/Train_PPO_40kReqs_300_v3_001/training/best_model_2799992_steps.zip\n",
       "</pre>\n"
      ],
      "text/plain": [
       "Saving model checkpoint to ../logs/Train_PPO_40kReqs_300_v3_001/training/best_model_2799992_steps.zip\n"
      ]
     },
     "metadata": {},
     "output_type": "display_data"
    },
    {
     "data": {
      "text/html": [
       "<pre style=\"white-space:pre;overflow-x:auto;line-height:normal;font-family:Menlo,'DejaVu Sans Mono',consolas,'Courier New',monospace\">Eval num_timesteps=2800000, episode_reward=38884.80 +/- 145.68\n",
       "</pre>\n"
      ],
      "text/plain": [
       "Eval num_timesteps=2800000, episode_reward=38884.80 +/- 145.68\n"
      ]
     },
     "metadata": {},
     "output_type": "display_data"
    },
    {
     "data": {
      "text/html": [
       "<pre style=\"white-space:pre;overflow-x:auto;line-height:normal;font-family:Menlo,'DejaVu Sans Mono',consolas,'Courier New',monospace\">Saving model checkpoint to ../logs/Train_PPO_40kReqs_300_v3_001/training/best_model_2839992_steps.zip\n",
       "</pre>\n"
      ],
      "text/plain": [
       "Saving model checkpoint to ../logs/Train_PPO_40kReqs_300_v3_001/training/best_model_2839992_steps.zip\n"
      ]
     },
     "metadata": {},
     "output_type": "display_data"
    },
    {
     "data": {
      "text/html": [
       "<pre style=\"white-space:pre;overflow-x:auto;line-height:normal;font-family:Menlo,'DejaVu Sans Mono',consolas,'Courier New',monospace\">Eval num_timesteps=2840000, episode_reward=38870.40 +/- 54.43\n",
       "</pre>\n"
      ],
      "text/plain": [
       "Eval num_timesteps=2840000, episode_reward=38870.40 +/- 54.43\n"
      ]
     },
     "metadata": {},
     "output_type": "display_data"
    },
    {
     "data": {
      "text/html": [
       "<pre style=\"white-space:pre;overflow-x:auto;line-height:normal;font-family:Menlo,'DejaVu Sans Mono',consolas,'Courier New',monospace\">Episode length: 40000.00 +/- 0.00\n",
       "</pre>\n"
      ],
      "text/plain": [
       "Episode length: 40000.00 +/- 0.00\n"
      ]
     },
     "metadata": {},
     "output_type": "display_data"
    },
    {
     "data": {
      "text/html": [
       "<pre style=\"white-space:pre;overflow-x:auto;line-height:normal;font-family:Menlo,'DejaVu Sans Mono',consolas,'Courier New',monospace\">Saving model checkpoint to ../logs/Train_PPO_40kReqs_300_v3_001/training/best_model_2879992_steps.zip\n",
       "</pre>\n"
      ],
      "text/plain": [
       "Saving model checkpoint to ../logs/Train_PPO_40kReqs_300_v3_001/training/best_model_2879992_steps.zip\n"
      ]
     },
     "metadata": {},
     "output_type": "display_data"
    },
    {
     "data": {
      "text/html": [
       "<pre style=\"white-space:pre;overflow-x:auto;line-height:normal;font-family:Menlo,'DejaVu Sans Mono',consolas,'Courier New',monospace\">Eval num_timesteps=2880000, episode_reward=39049.20 +/- 138.43\n",
       "</pre>\n"
      ],
      "text/plain": [
       "Eval num_timesteps=2880000, episode_reward=39049.20 +/- 138.43\n"
      ]
     },
     "metadata": {},
     "output_type": "display_data"
    },
    {
     "data": {
      "text/html": [
       "<pre style=\"white-space:pre;overflow-x:auto;line-height:normal;font-family:Menlo,'DejaVu Sans Mono',consolas,'Courier New',monospace\">Episode length: 40000.00 +/- 0.00\n",
       "</pre>\n"
      ],
      "text/plain": [
       "Episode length: 40000.00 +/- 0.00\n"
      ]
     },
     "metadata": {},
     "output_type": "display_data"
    },
    {
     "data": {
      "text/html": [
       "<pre style=\"white-space:pre;overflow-x:auto;line-height:normal;font-family:Menlo,'DejaVu Sans Mono',consolas,'Courier New',monospace\">Saving model checkpoint to ../logs/Train_PPO_40kReqs_300_v3_001/training/best_model_2919992_steps.zip\n",
       "</pre>\n"
      ],
      "text/plain": [
       "Saving model checkpoint to ../logs/Train_PPO_40kReqs_300_v3_001/training/best_model_2919992_steps.zip\n"
      ]
     },
     "metadata": {},
     "output_type": "display_data"
    },
    {
     "data": {
      "text/html": [
       "<pre style=\"white-space:pre;overflow-x:auto;line-height:normal;font-family:Menlo,'DejaVu Sans Mono',consolas,'Courier New',monospace\">Eval num_timesteps=2920000, episode_reward=39029.20 +/- 93.95\n",
       "</pre>\n"
      ],
      "text/plain": [
       "Eval num_timesteps=2920000, episode_reward=39029.20 +/- 93.95\n"
      ]
     },
     "metadata": {},
     "output_type": "display_data"
    },
    {
     "data": {
      "text/html": [
       "<pre style=\"white-space:pre;overflow-x:auto;line-height:normal;font-family:Menlo,'DejaVu Sans Mono',consolas,'Courier New',monospace\">Episode length: 40000.00 +/- 0.00\n",
       "</pre>\n"
      ],
      "text/plain": [
       "Episode length: 40000.00 +/- 0.00\n"
      ]
     },
     "metadata": {},
     "output_type": "display_data"
    },
    {
     "data": {
      "text/html": [
       "<pre style=\"white-space:pre;overflow-x:auto;line-height:normal;font-family:Menlo,'DejaVu Sans Mono',consolas,'Courier New',monospace\">Saving model checkpoint to ../logs/Train_PPO_40kReqs_300_v3_001/training/best_model_2959992_steps.zip\n",
       "</pre>\n"
      ],
      "text/plain": [
       "Saving model checkpoint to ../logs/Train_PPO_40kReqs_300_v3_001/training/best_model_2959992_steps.zip\n"
      ]
     },
     "metadata": {},
     "output_type": "display_data"
    },
    {
     "data": {
      "text/html": [
       "<pre style=\"white-space:pre;overflow-x:auto;line-height:normal;font-family:Menlo,'DejaVu Sans Mono',consolas,'Courier New',monospace\">Eval num_timesteps=2960000, episode_reward=39077.60 +/- 132.08\n",
       "</pre>\n"
      ],
      "text/plain": [
       "Eval num_timesteps=2960000, episode_reward=39077.60 +/- 132.08\n"
      ]
     },
     "metadata": {},
     "output_type": "display_data"
    },
    {
     "data": {
      "text/html": [
       "<pre style=\"white-space:pre;overflow-x:auto;line-height:normal;font-family:Menlo,'DejaVu Sans Mono',consolas,'Courier New',monospace\">Episode length: 40000.00 +/- 0.00\n",
       "</pre>\n"
      ],
      "text/plain": [
       "Episode length: 40000.00 +/- 0.00\n"
      ]
     },
     "metadata": {},
     "output_type": "display_data"
    },
    {
     "data": {
      "text/html": [
       "<pre style=\"white-space:pre;overflow-x:auto;line-height:normal;font-family:Menlo,'DejaVu Sans Mono',consolas,'Courier New',monospace\">Saving model checkpoint to ../logs/Train_PPO_40kReqs_300_v3_001/training/best_model_2999992_steps.zip\n",
       "</pre>\n"
      ],
      "text/plain": [
       "Saving model checkpoint to ../logs/Train_PPO_40kReqs_300_v3_001/training/best_model_2999992_steps.zip\n"
      ]
     },
     "metadata": {},
     "output_type": "display_data"
    },
    {
     "data": {
      "text/html": [
       "<pre style=\"white-space:pre;overflow-x:auto;line-height:normal;font-family:Menlo,'DejaVu Sans Mono',consolas,'Courier New',monospace\">Eval num_timesteps=3000000, episode_reward=39091.60 +/- 30.29\n",
       "</pre>\n"
      ],
      "text/plain": [
       "Eval num_timesteps=3000000, episode_reward=39091.60 +/- 30.29\n"
      ]
     },
     "metadata": {},
     "output_type": "display_data"
    },
    {
     "data": {
      "text/html": [
       "<pre style=\"white-space:pre;overflow-x:auto;line-height:normal;font-family:Menlo,'DejaVu Sans Mono',consolas,'Courier New',monospace\">Episode length: 40000.00 +/- 0.00\n",
       "</pre>\n"
      ],
      "text/plain": [
       "Episode length: 40000.00 +/- 0.00\n"
      ]
     },
     "metadata": {},
     "output_type": "display_data"
    },
    {
     "data": {
      "text/html": [
       "<pre style=\"white-space:pre;overflow-x:auto;line-height:normal;font-family:Menlo,'DejaVu Sans Mono',consolas,'Courier New',monospace\">Saving model checkpoint to ../logs/Train_PPO_40kReqs_300_v3_001/training/best_model_3039992_steps.zip\n",
       "</pre>\n"
      ],
      "text/plain": [
       "Saving model checkpoint to ../logs/Train_PPO_40kReqs_300_v3_001/training/best_model_3039992_steps.zip\n"
      ]
     },
     "metadata": {},
     "output_type": "display_data"
    },
    {
     "data": {
      "text/html": [
       "<pre style=\"white-space:pre;overflow-x:auto;line-height:normal;font-family:Menlo,'DejaVu Sans Mono',consolas,'Courier New',monospace\">Eval num_timesteps=3040000, episode_reward=39042.80 +/- 130.76\n",
       "</pre>\n"
      ],
      "text/plain": [
       "Eval num_timesteps=3040000, episode_reward=39042.80 +/- 130.76\n"
      ]
     },
     "metadata": {},
     "output_type": "display_data"
    },
    {
     "data": {
      "text/html": [
       "<pre style=\"white-space:pre;overflow-x:auto;line-height:normal;font-family:Menlo,'DejaVu Sans Mono',consolas,'Courier New',monospace\">Episode length: 40000.00 +/- 0.00\n",
       "</pre>\n"
      ],
      "text/plain": [
       "Episode length: 40000.00 +/- 0.00\n"
      ]
     },
     "metadata": {},
     "output_type": "display_data"
    },
    {
     "data": {
      "text/html": [
       "<pre style=\"white-space:pre;overflow-x:auto;line-height:normal;font-family:Menlo,'DejaVu Sans Mono',consolas,'Courier New',monospace\">Saving model checkpoint to ../logs/Train_PPO_40kReqs_300_v3_001/training/best_model_3079992_steps.zip\n",
       "</pre>\n"
      ],
      "text/plain": [
       "Saving model checkpoint to ../logs/Train_PPO_40kReqs_300_v3_001/training/best_model_3079992_steps.zip\n"
      ]
     },
     "metadata": {},
     "output_type": "display_data"
    },
    {
     "data": {
      "text/html": [
       "<pre style=\"white-space:pre;overflow-x:auto;line-height:normal;font-family:Menlo,'DejaVu Sans Mono',consolas,'Courier New',monospace\">Eval num_timesteps=3080000, episode_reward=39081.20 +/- 70.98\n",
       "</pre>\n"
      ],
      "text/plain": [
       "Eval num_timesteps=3080000, episode_reward=39081.20 +/- 70.98\n"
      ]
     },
     "metadata": {},
     "output_type": "display_data"
    },
    {
     "data": {
      "text/html": [
       "<pre style=\"white-space:pre;overflow-x:auto;line-height:normal;font-family:Menlo,'DejaVu Sans Mono',consolas,'Courier New',monospace\">Episode length: 40000.00 +/- 0.00\n",
       "</pre>\n"
      ],
      "text/plain": [
       "Episode length: 40000.00 +/- 0.00\n"
      ]
     },
     "metadata": {},
     "output_type": "display_data"
    },
    {
     "data": {
      "text/html": [
       "<pre style=\"white-space:pre;overflow-x:auto;line-height:normal;font-family:Menlo,'DejaVu Sans Mono',consolas,'Courier New',monospace\">Saving model checkpoint to ../logs/Train_PPO_40kReqs_300_v3_001/training/best_model_3119992_steps.zip\n",
       "</pre>\n"
      ],
      "text/plain": [
       "Saving model checkpoint to ../logs/Train_PPO_40kReqs_300_v3_001/training/best_model_3119992_steps.zip\n"
      ]
     },
     "metadata": {},
     "output_type": "display_data"
    },
    {
     "data": {
      "text/html": [
       "<pre style=\"white-space:pre;overflow-x:auto;line-height:normal;font-family:Menlo,'DejaVu Sans Mono',consolas,'Courier New',monospace\">Eval num_timesteps=3120000, episode_reward=38992.00 +/- 98.56\n",
       "</pre>\n"
      ],
      "text/plain": [
       "Eval num_timesteps=3120000, episode_reward=38992.00 +/- 98.56\n"
      ]
     },
     "metadata": {},
     "output_type": "display_data"
    },
    {
     "data": {
      "text/html": [
       "<pre style=\"white-space:pre;overflow-x:auto;line-height:normal;font-family:Menlo,'DejaVu Sans Mono',consolas,'Courier New',monospace\">Episode length: 40000.00 +/- 0.00\n",
       "</pre>\n"
      ],
      "text/plain": [
       "Episode length: 40000.00 +/- 0.00\n"
      ]
     },
     "metadata": {},
     "output_type": "display_data"
    },
    {
     "data": {
      "text/html": [
       "<pre style=\"white-space:pre;overflow-x:auto;line-height:normal;font-family:Menlo,'DejaVu Sans Mono',consolas,'Courier New',monospace\">Saving model checkpoint to ../logs/Train_PPO_40kReqs_300_v3_001/training/best_model_3159992_steps.zip\n",
       "</pre>\n"
      ],
      "text/plain": [
       "Saving model checkpoint to ../logs/Train_PPO_40kReqs_300_v3_001/training/best_model_3159992_steps.zip\n"
      ]
     },
     "metadata": {},
     "output_type": "display_data"
    },
    {
     "data": {
      "text/html": [
       "<pre style=\"white-space:pre;overflow-x:auto;line-height:normal;font-family:Menlo,'DejaVu Sans Mono',consolas,'Courier New',monospace\">Eval num_timesteps=3160000, episode_reward=39020.00 +/- 114.81\n",
       "</pre>\n"
      ],
      "text/plain": [
       "Eval num_timesteps=3160000, episode_reward=39020.00 +/- 114.81\n"
      ]
     },
     "metadata": {},
     "output_type": "display_data"
    },
    {
     "data": {
      "text/html": [
       "<pre style=\"white-space:pre;overflow-x:auto;line-height:normal;font-family:Menlo,'DejaVu Sans Mono',consolas,'Courier New',monospace\">Episode length: 40000.00 +/- 0.00\n",
       "</pre>\n"
      ],
      "text/plain": [
       "Episode length: 40000.00 +/- 0.00\n"
      ]
     },
     "metadata": {},
     "output_type": "display_data"
    },
    {
     "data": {
      "text/html": [
       "<pre style=\"white-space:pre;overflow-x:auto;line-height:normal;font-family:Menlo,'DejaVu Sans Mono',consolas,'Courier New',monospace\">Saving model checkpoint to ../logs/Train_PPO_40kReqs_300_v3_001/training/best_model_3199992_steps.zip\n",
       "</pre>\n"
      ],
      "text/plain": [
       "Saving model checkpoint to ../logs/Train_PPO_40kReqs_300_v3_001/training/best_model_3199992_steps.zip\n"
      ]
     },
     "metadata": {},
     "output_type": "display_data"
    },
    {
     "data": {
      "text/html": [
       "<pre style=\"white-space:pre;overflow-x:auto;line-height:normal;font-family:Menlo,'DejaVu Sans Mono',consolas,'Courier New',monospace\">Eval num_timesteps=3200000, episode_reward=39080.00 +/- 74.54\n",
       "</pre>\n"
      ],
      "text/plain": [
       "Eval num_timesteps=3200000, episode_reward=39080.00 +/- 74.54\n"
      ]
     },
     "metadata": {},
     "output_type": "display_data"
    },
    {
     "data": {
      "text/html": [
       "<pre style=\"white-space:pre;overflow-x:auto;line-height:normal;font-family:Menlo,'DejaVu Sans Mono',consolas,'Courier New',monospace\">Episode length: 40000.00 +/- 0.00\n",
       "</pre>\n"
      ],
      "text/plain": [
       "Episode length: 40000.00 +/- 0.00\n"
      ]
     },
     "metadata": {},
     "output_type": "display_data"
    },
    {
     "data": {
      "text/html": [
       "<pre style=\"white-space:pre;overflow-x:auto;line-height:normal;font-family:Menlo,'DejaVu Sans Mono',consolas,'Courier New',monospace\">Saving model checkpoint to ../logs/Train_PPO_40kReqs_300_v3_001/training/best_model_3239992_steps.zip\n",
       "</pre>\n"
      ],
      "text/plain": [
       "Saving model checkpoint to ../logs/Train_PPO_40kReqs_300_v3_001/training/best_model_3239992_steps.zip\n"
      ]
     },
     "metadata": {},
     "output_type": "display_data"
    },
    {
     "data": {
      "text/html": [
       "<pre style=\"white-space:pre;overflow-x:auto;line-height:normal;font-family:Menlo,'DejaVu Sans Mono',consolas,'Courier New',monospace\">Eval num_timesteps=3240000, episode_reward=39064.40 +/- 52.36\n",
       "</pre>\n"
      ],
      "text/plain": [
       "Eval num_timesteps=3240000, episode_reward=39064.40 +/- 52.36\n"
      ]
     },
     "metadata": {},
     "output_type": "display_data"
    },
    {
     "data": {
      "text/html": [
       "<pre style=\"white-space:pre;overflow-x:auto;line-height:normal;font-family:Menlo,'DejaVu Sans Mono',consolas,'Courier New',monospace\">Episode length: 40000.00 +/- 0.00\n",
       "</pre>\n"
      ],
      "text/plain": [
       "Episode length: 40000.00 +/- 0.00\n"
      ]
     },
     "metadata": {},
     "output_type": "display_data"
    },
    {
     "data": {
      "text/html": [
       "<pre style=\"white-space:pre;overflow-x:auto;line-height:normal;font-family:Menlo,'DejaVu Sans Mono',consolas,'Courier New',monospace\">Saving model checkpoint to ../logs/Train_PPO_40kReqs_300_v3_001/training/best_model_3279992_steps.zip\n",
       "</pre>\n"
      ],
      "text/plain": [
       "Saving model checkpoint to ../logs/Train_PPO_40kReqs_300_v3_001/training/best_model_3279992_steps.zip\n"
      ]
     },
     "metadata": {},
     "output_type": "display_data"
    },
    {
     "data": {
      "text/html": [
       "<pre style=\"white-space:pre;overflow-x:auto;line-height:normal;font-family:Menlo,'DejaVu Sans Mono',consolas,'Courier New',monospace\">Eval num_timesteps=3280000, episode_reward=39119.60 +/- 84.68\n",
       "</pre>\n"
      ],
      "text/plain": [
       "Eval num_timesteps=3280000, episode_reward=39119.60 +/- 84.68\n"
      ]
     },
     "metadata": {},
     "output_type": "display_data"
    },
    {
     "data": {
      "text/html": [
       "<pre style=\"white-space:pre;overflow-x:auto;line-height:normal;font-family:Menlo,'DejaVu Sans Mono',consolas,'Courier New',monospace\">Episode length: 40000.00 +/- 0.00\n",
       "</pre>\n"
      ],
      "text/plain": [
       "Episode length: 40000.00 +/- 0.00\n"
      ]
     },
     "metadata": {},
     "output_type": "display_data"
    },
    {
     "data": {
      "text/html": [
       "<pre style=\"white-space:pre;overflow-x:auto;line-height:normal;font-family:Menlo,'DejaVu Sans Mono',consolas,'Courier New',monospace\">Saving model checkpoint to ../logs/Train_PPO_40kReqs_300_v3_001/training/best_model_3319992_steps.zip\n",
       "</pre>\n"
      ],
      "text/plain": [
       "Saving model checkpoint to ../logs/Train_PPO_40kReqs_300_v3_001/training/best_model_3319992_steps.zip\n"
      ]
     },
     "metadata": {},
     "output_type": "display_data"
    },
    {
     "data": {
      "text/html": [
       "<pre style=\"white-space:pre;overflow-x:auto;line-height:normal;font-family:Menlo,'DejaVu Sans Mono',consolas,'Courier New',monospace\">Eval num_timesteps=3320000, episode_reward=39028.00 +/- 89.98\n",
       "</pre>\n"
      ],
      "text/plain": [
       "Eval num_timesteps=3320000, episode_reward=39028.00 +/- 89.98\n"
      ]
     },
     "metadata": {},
     "output_type": "display_data"
    },
    {
     "data": {
      "text/html": [
       "<pre style=\"white-space:pre;overflow-x:auto;line-height:normal;font-family:Menlo,'DejaVu Sans Mono',consolas,'Courier New',monospace\">Episode length: 40000.00 +/- 0.00\n",
       "</pre>\n"
      ],
      "text/plain": [
       "Episode length: 40000.00 +/- 0.00\n"
      ]
     },
     "metadata": {},
     "output_type": "display_data"
    },
    {
     "data": {
      "text/html": [
       "<pre style=\"white-space:pre;overflow-x:auto;line-height:normal;font-family:Menlo,'DejaVu Sans Mono',consolas,'Courier New',monospace\">Saving model checkpoint to ../logs/Train_PPO_40kReqs_300_v3_001/training/best_model_3359992_steps.zip\n",
       "</pre>\n"
      ],
      "text/plain": [
       "Saving model checkpoint to ../logs/Train_PPO_40kReqs_300_v3_001/training/best_model_3359992_steps.zip\n"
      ]
     },
     "metadata": {},
     "output_type": "display_data"
    },
    {
     "data": {
      "text/html": [
       "<pre style=\"white-space:pre;overflow-x:auto;line-height:normal;font-family:Menlo,'DejaVu Sans Mono',consolas,'Courier New',monospace\">Eval num_timesteps=3360000, episode_reward=39013.20 +/- 23.82\n",
       "</pre>\n"
      ],
      "text/plain": [
       "Eval num_timesteps=3360000, episode_reward=39013.20 +/- 23.82\n"
      ]
     },
     "metadata": {},
     "output_type": "display_data"
    },
    {
     "data": {
      "text/html": [
       "<pre style=\"white-space:pre;overflow-x:auto;line-height:normal;font-family:Menlo,'DejaVu Sans Mono',consolas,'Courier New',monospace\">Episode length: 40000.00 +/- 0.00\n",
       "</pre>\n"
      ],
      "text/plain": [
       "Episode length: 40000.00 +/- 0.00\n"
      ]
     },
     "metadata": {},
     "output_type": "display_data"
    },
    {
     "data": {
      "text/html": [
       "<pre style=\"white-space:pre;overflow-x:auto;line-height:normal;font-family:Menlo,'DejaVu Sans Mono',consolas,'Courier New',monospace\">Saving model checkpoint to ../logs/Train_PPO_40kReqs_300_v3_001/training/best_model_3399992_steps.zip\n",
       "</pre>\n"
      ],
      "text/plain": [
       "Saving model checkpoint to ../logs/Train_PPO_40kReqs_300_v3_001/training/best_model_3399992_steps.zip\n"
      ]
     },
     "metadata": {},
     "output_type": "display_data"
    },
    {
     "data": {
      "text/html": [
       "<pre style=\"white-space:pre;overflow-x:auto;line-height:normal;font-family:Menlo,'DejaVu Sans Mono',consolas,'Courier New',monospace\">Eval num_timesteps=3400000, episode_reward=38959.20 +/- 188.86\n",
       "</pre>\n"
      ],
      "text/plain": [
       "Eval num_timesteps=3400000, episode_reward=38959.20 +/- 188.86\n"
      ]
     },
     "metadata": {},
     "output_type": "display_data"
    },
    {
     "data": {
      "text/html": [
       "<pre style=\"white-space:pre;overflow-x:auto;line-height:normal;font-family:Menlo,'DejaVu Sans Mono',consolas,'Courier New',monospace\">Episode length: 40000.00 +/- 0.00\n",
       "</pre>\n"
      ],
      "text/plain": [
       "Episode length: 40000.00 +/- 0.00\n"
      ]
     },
     "metadata": {},
     "output_type": "display_data"
    },
    {
     "data": {
      "text/html": [
       "<pre style=\"white-space:pre;overflow-x:auto;line-height:normal;font-family:Menlo,'DejaVu Sans Mono',consolas,'Courier New',monospace\">Saving model checkpoint to ../logs/Train_PPO_40kReqs_300_v3_001/training/best_model_3439992_steps.zip\n",
       "</pre>\n"
      ],
      "text/plain": [
       "Saving model checkpoint to ../logs/Train_PPO_40kReqs_300_v3_001/training/best_model_3439992_steps.zip\n"
      ]
     },
     "metadata": {},
     "output_type": "display_data"
    },
    {
     "data": {
      "text/html": [
       "<pre style=\"white-space:pre;overflow-x:auto;line-height:normal;font-family:Menlo,'DejaVu Sans Mono',consolas,'Courier New',monospace\">Eval num_timesteps=3440000, episode_reward=38970.00 +/- 126.74\n",
       "</pre>\n"
      ],
      "text/plain": [
       "Eval num_timesteps=3440000, episode_reward=38970.00 +/- 126.74\n"
      ]
     },
     "metadata": {},
     "output_type": "display_data"
    },
    {
     "data": {
      "text/html": [
       "<pre style=\"white-space:pre;overflow-x:auto;line-height:normal;font-family:Menlo,'DejaVu Sans Mono',consolas,'Courier New',monospace\">Episode length: 40000.00 +/- 0.00\n",
       "</pre>\n"
      ],
      "text/plain": [
       "Episode length: 40000.00 +/- 0.00\n"
      ]
     },
     "metadata": {},
     "output_type": "display_data"
    },
    {
     "data": {
      "text/html": [
       "<pre style=\"white-space:pre;overflow-x:auto;line-height:normal;font-family:Menlo,'DejaVu Sans Mono',consolas,'Courier New',monospace\">Saving model checkpoint to ../logs/Train_PPO_40kReqs_300_v3_001/training/best_model_3479992_steps.zip\n",
       "</pre>\n"
      ],
      "text/plain": [
       "Saving model checkpoint to ../logs/Train_PPO_40kReqs_300_v3_001/training/best_model_3479992_steps.zip\n"
      ]
     },
     "metadata": {},
     "output_type": "display_data"
    },
    {
     "data": {
      "text/html": [
       "<pre style=\"white-space:pre;overflow-x:auto;line-height:normal;font-family:Menlo,'DejaVu Sans Mono',consolas,'Courier New',monospace\">Eval num_timesteps=3480000, episode_reward=39168.80 +/- 61.31\n",
       "</pre>\n"
      ],
      "text/plain": [
       "Eval num_timesteps=3480000, episode_reward=39168.80 +/- 61.31\n"
      ]
     },
     "metadata": {},
     "output_type": "display_data"
    },
    {
     "data": {
      "text/html": [
       "<pre style=\"white-space:pre;overflow-x:auto;line-height:normal;font-family:Menlo,'DejaVu Sans Mono',consolas,'Courier New',monospace\">Episode length: 40000.00 +/- 0.00\n",
       "</pre>\n"
      ],
      "text/plain": [
       "Episode length: 40000.00 +/- 0.00\n"
      ]
     },
     "metadata": {},
     "output_type": "display_data"
    },
    {
     "data": {
      "text/html": [
       "<pre style=\"white-space:pre;overflow-x:auto;line-height:normal;font-family:Menlo,'DejaVu Sans Mono',consolas,'Courier New',monospace\">New best mean reward!\n",
       "</pre>\n"
      ],
      "text/plain": [
       "New best mean reward!\n"
      ]
     },
     "metadata": {},
     "output_type": "display_data"
    },
    {
     "data": {
      "text/html": [
       "<pre style=\"white-space:pre;overflow-x:auto;line-height:normal;font-family:Menlo,'DejaVu Sans Mono',consolas,'Courier New',monospace\">Saving model checkpoint to ../logs/Train_PPO_40kReqs_300_v3_001/training/best_model_3519991_steps.zip\n",
       "</pre>\n"
      ],
      "text/plain": [
       "Saving model checkpoint to ../logs/Train_PPO_40kReqs_300_v3_001/training/best_model_3519991_steps.zip\n"
      ]
     },
     "metadata": {},
     "output_type": "display_data"
    },
    {
     "data": {
      "text/html": [
       "<pre style=\"white-space:pre;overflow-x:auto;line-height:normal;font-family:Menlo,'DejaVu Sans Mono',consolas,'Courier New',monospace\">Eval num_timesteps=3520000, episode_reward=39034.40 +/- 120.90\n",
       "</pre>\n"
      ],
      "text/plain": [
       "Eval num_timesteps=3520000, episode_reward=39034.40 +/- 120.90\n"
      ]
     },
     "metadata": {},
     "output_type": "display_data"
    },
    {
     "data": {
      "text/html": [
       "<pre style=\"white-space:pre;overflow-x:auto;line-height:normal;font-family:Menlo,'DejaVu Sans Mono',consolas,'Courier New',monospace\">Episode length: 40000.00 +/- 0.00\n",
       "</pre>\n"
      ],
      "text/plain": [
       "Episode length: 40000.00 +/- 0.00\n"
      ]
     },
     "metadata": {},
     "output_type": "display_data"
    },
    {
     "data": {
      "text/html": [
       "<pre style=\"white-space:pre;overflow-x:auto;line-height:normal;font-family:Menlo,'DejaVu Sans Mono',consolas,'Courier New',monospace\">Saving model checkpoint to ../logs/Train_PPO_40kReqs_300_v3_001/training/best_model_3559991_steps.zip\n",
       "</pre>\n"
      ],
      "text/plain": [
       "Saving model checkpoint to ../logs/Train_PPO_40kReqs_300_v3_001/training/best_model_3559991_steps.zip\n"
      ]
     },
     "metadata": {},
     "output_type": "display_data"
    },
    {
     "data": {
      "text/html": [
       "<pre style=\"white-space:pre;overflow-x:auto;line-height:normal;font-family:Menlo,'DejaVu Sans Mono',consolas,'Courier New',monospace\">Eval num_timesteps=3560000, episode_reward=39014.80 +/- 81.49\n",
       "</pre>\n"
      ],
      "text/plain": [
       "Eval num_timesteps=3560000, episode_reward=39014.80 +/- 81.49\n"
      ]
     },
     "metadata": {},
     "output_type": "display_data"
    },
    {
     "data": {
      "text/html": [
       "<pre style=\"white-space:pre;overflow-x:auto;line-height:normal;font-family:Menlo,'DejaVu Sans Mono',consolas,'Courier New',monospace\">Episode length: 40000.00 +/- 0.00\n",
       "</pre>\n"
      ],
      "text/plain": [
       "Episode length: 40000.00 +/- 0.00\n"
      ]
     },
     "metadata": {},
     "output_type": "display_data"
    },
    {
     "data": {
      "text/html": [
       "<pre style=\"white-space:pre;overflow-x:auto;line-height:normal;font-family:Menlo,'DejaVu Sans Mono',consolas,'Courier New',monospace\">Saving model checkpoint to ../logs/Train_PPO_40kReqs_300_v3_001/training/best_model_3599991_steps.zip\n",
       "</pre>\n"
      ],
      "text/plain": [
       "Saving model checkpoint to ../logs/Train_PPO_40kReqs_300_v3_001/training/best_model_3599991_steps.zip\n"
      ]
     },
     "metadata": {},
     "output_type": "display_data"
    },
    {
     "data": {
      "text/html": [
       "<pre style=\"white-space:pre;overflow-x:auto;line-height:normal;font-family:Menlo,'DejaVu Sans Mono',consolas,'Courier New',monospace\">Eval num_timesteps=3600000, episode_reward=39006.40 +/- 92.15\n",
       "</pre>\n"
      ],
      "text/plain": [
       "Eval num_timesteps=3600000, episode_reward=39006.40 +/- 92.15\n"
      ]
     },
     "metadata": {},
     "output_type": "display_data"
    },
    {
     "data": {
      "text/html": [
       "<pre style=\"white-space:pre;overflow-x:auto;line-height:normal;font-family:Menlo,'DejaVu Sans Mono',consolas,'Courier New',monospace\">Episode length: 40000.00 +/- 0.00\n",
       "</pre>\n"
      ],
      "text/plain": [
       "Episode length: 40000.00 +/- 0.00\n"
      ]
     },
     "metadata": {},
     "output_type": "display_data"
    },
    {
     "data": {
      "text/html": [
       "<pre style=\"white-space:pre;overflow-x:auto;line-height:normal;font-family:Menlo,'DejaVu Sans Mono',consolas,'Courier New',monospace\">Saving model checkpoint to ../logs/Train_PPO_40kReqs_300_v3_001/training/best_model_3639991_steps.zip\n",
       "</pre>\n"
      ],
      "text/plain": [
       "Saving model checkpoint to ../logs/Train_PPO_40kReqs_300_v3_001/training/best_model_3639991_steps.zip\n"
      ]
     },
     "metadata": {},
     "output_type": "display_data"
    },
    {
     "data": {
      "text/html": [
       "<pre style=\"white-space:pre;overflow-x:auto;line-height:normal;font-family:Menlo,'DejaVu Sans Mono',consolas,'Courier New',monospace\">Eval num_timesteps=3640000, episode_reward=39030.40 +/- 81.97\n",
       "</pre>\n"
      ],
      "text/plain": [
       "Eval num_timesteps=3640000, episode_reward=39030.40 +/- 81.97\n"
      ]
     },
     "metadata": {},
     "output_type": "display_data"
    },
    {
     "data": {
      "text/html": [
       "<pre style=\"white-space:pre;overflow-x:auto;line-height:normal;font-family:Menlo,'DejaVu Sans Mono',consolas,'Courier New',monospace\">Episode length: 40000.00 +/- 0.00\n",
       "</pre>\n"
      ],
      "text/plain": [
       "Episode length: 40000.00 +/- 0.00\n"
      ]
     },
     "metadata": {},
     "output_type": "display_data"
    },
    {
     "data": {
      "text/html": [
       "<pre style=\"white-space:pre;overflow-x:auto;line-height:normal;font-family:Menlo,'DejaVu Sans Mono',consolas,'Courier New',monospace\">Saving model checkpoint to ../logs/Train_PPO_40kReqs_300_v3_001/training/best_model_3679991_steps.zip\n",
       "</pre>\n"
      ],
      "text/plain": [
       "Saving model checkpoint to ../logs/Train_PPO_40kReqs_300_v3_001/training/best_model_3679991_steps.zip\n"
      ]
     },
     "metadata": {},
     "output_type": "display_data"
    },
    {
     "data": {
      "text/html": [
       "<pre style=\"white-space:pre;overflow-x:auto;line-height:normal;font-family:Menlo,'DejaVu Sans Mono',consolas,'Courier New',monospace\">Eval num_timesteps=3680000, episode_reward=39052.80 +/- 59.22\n",
       "</pre>\n"
      ],
      "text/plain": [
       "Eval num_timesteps=3680000, episode_reward=39052.80 +/- 59.22\n"
      ]
     },
     "metadata": {},
     "output_type": "display_data"
    },
    {
     "data": {
      "text/html": [
       "<pre style=\"white-space:pre;overflow-x:auto;line-height:normal;font-family:Menlo,'DejaVu Sans Mono',consolas,'Courier New',monospace\">Episode length: 40000.00 +/- 0.00\n",
       "</pre>\n"
      ],
      "text/plain": [
       "Episode length: 40000.00 +/- 0.00\n"
      ]
     },
     "metadata": {},
     "output_type": "display_data"
    },
    {
     "data": {
      "text/html": [
       "<pre style=\"white-space:pre;overflow-x:auto;line-height:normal;font-family:Menlo,'DejaVu Sans Mono',consolas,'Courier New',monospace\">Saving model checkpoint to ../logs/Train_PPO_40kReqs_300_v3_001/training/best_model_3719991_steps.zip\n",
       "</pre>\n"
      ],
      "text/plain": [
       "Saving model checkpoint to ../logs/Train_PPO_40kReqs_300_v3_001/training/best_model_3719991_steps.zip\n"
      ]
     },
     "metadata": {},
     "output_type": "display_data"
    },
    {
     "data": {
      "text/html": [
       "<pre style=\"white-space:pre;overflow-x:auto;line-height:normal;font-family:Menlo,'DejaVu Sans Mono',consolas,'Courier New',monospace\">Eval num_timesteps=3720000, episode_reward=39136.80 +/- 32.29\n",
       "</pre>\n"
      ],
      "text/plain": [
       "Eval num_timesteps=3720000, episode_reward=39136.80 +/- 32.29\n"
      ]
     },
     "metadata": {},
     "output_type": "display_data"
    },
    {
     "data": {
      "text/html": [
       "<pre style=\"white-space:pre;overflow-x:auto;line-height:normal;font-family:Menlo,'DejaVu Sans Mono',consolas,'Courier New',monospace\">Episode length: 40000.00 +/- 0.00\n",
       "</pre>\n"
      ],
      "text/plain": [
       "Episode length: 40000.00 +/- 0.00\n"
      ]
     },
     "metadata": {},
     "output_type": "display_data"
    },
    {
     "data": {
      "text/html": [
       "<pre style=\"white-space:pre;overflow-x:auto;line-height:normal;font-family:Menlo,'DejaVu Sans Mono',consolas,'Courier New',monospace\">Saving model checkpoint to ../logs/Train_PPO_40kReqs_300_v3_001/training/best_model_3759991_steps.zip\n",
       "</pre>\n"
      ],
      "text/plain": [
       "Saving model checkpoint to ../logs/Train_PPO_40kReqs_300_v3_001/training/best_model_3759991_steps.zip\n"
      ]
     },
     "metadata": {},
     "output_type": "display_data"
    },
    {
     "data": {
      "text/html": [
       "<pre style=\"white-space:pre;overflow-x:auto;line-height:normal;font-family:Menlo,'DejaVu Sans Mono',consolas,'Courier New',monospace\">Eval num_timesteps=3760000, episode_reward=39052.00 +/- 49.10\n",
       "</pre>\n"
      ],
      "text/plain": [
       "Eval num_timesteps=3760000, episode_reward=39052.00 +/- 49.10\n"
      ]
     },
     "metadata": {},
     "output_type": "display_data"
    },
    {
     "data": {
      "text/html": [
       "<pre style=\"white-space:pre;overflow-x:auto;line-height:normal;font-family:Menlo,'DejaVu Sans Mono',consolas,'Courier New',monospace\">Episode length: 40000.00 +/- 0.00\n",
       "</pre>\n"
      ],
      "text/plain": [
       "Episode length: 40000.00 +/- 0.00\n"
      ]
     },
     "metadata": {},
     "output_type": "display_data"
    },
    {
     "data": {
      "text/html": [
       "<pre style=\"white-space:pre;overflow-x:auto;line-height:normal;font-family:Menlo,'DejaVu Sans Mono',consolas,'Courier New',monospace\">Saving model checkpoint to ../logs/Train_PPO_40kReqs_300_v3_001/training/best_model_3799991_steps.zip\n",
       "</pre>\n"
      ],
      "text/plain": [
       "Saving model checkpoint to ../logs/Train_PPO_40kReqs_300_v3_001/training/best_model_3799991_steps.zip\n"
      ]
     },
     "metadata": {},
     "output_type": "display_data"
    },
    {
     "data": {
      "text/html": [
       "<pre style=\"white-space:pre;overflow-x:auto;line-height:normal;font-family:Menlo,'DejaVu Sans Mono',consolas,'Courier New',monospace\">Eval num_timesteps=3800000, episode_reward=39064.00 +/- 64.12\n",
       "</pre>\n"
      ],
      "text/plain": [
       "Eval num_timesteps=3800000, episode_reward=39064.00 +/- 64.12\n"
      ]
     },
     "metadata": {},
     "output_type": "display_data"
    },
    {
     "data": {
      "text/html": [
       "<pre style=\"white-space:pre;overflow-x:auto;line-height:normal;font-family:Menlo,'DejaVu Sans Mono',consolas,'Courier New',monospace\">Episode length: 40000.00 +/- 0.00\n",
       "</pre>\n"
      ],
      "text/plain": [
       "Episode length: 40000.00 +/- 0.00\n"
      ]
     },
     "metadata": {},
     "output_type": "display_data"
    },
    {
     "data": {
      "text/html": [
       "<pre style=\"white-space:pre;overflow-x:auto;line-height:normal;font-family:Menlo,'DejaVu Sans Mono',consolas,'Courier New',monospace\">Saving model checkpoint to ../logs/Train_PPO_40kReqs_300_v3_001/training/best_model_3839991_steps.zip\n",
       "</pre>\n"
      ],
      "text/plain": [
       "Saving model checkpoint to ../logs/Train_PPO_40kReqs_300_v3_001/training/best_model_3839991_steps.zip\n"
      ]
     },
     "metadata": {},
     "output_type": "display_data"
    },
    {
     "data": {
      "text/html": [
       "<pre style=\"white-space:pre;overflow-x:auto;line-height:normal;font-family:Menlo,'DejaVu Sans Mono',consolas,'Courier New',monospace\">Eval num_timesteps=3840000, episode_reward=39018.80 +/- 96.69\n",
       "</pre>\n"
      ],
      "text/plain": [
       "Eval num_timesteps=3840000, episode_reward=39018.80 +/- 96.69\n"
      ]
     },
     "metadata": {},
     "output_type": "display_data"
    },
    {
     "data": {
      "text/html": [
       "<pre style=\"white-space:pre;overflow-x:auto;line-height:normal;font-family:Menlo,'DejaVu Sans Mono',consolas,'Courier New',monospace\">Episode length: 40000.00 +/- 0.00\n",
       "</pre>\n"
      ],
      "text/plain": [
       "Episode length: 40000.00 +/- 0.00\n"
      ]
     },
     "metadata": {},
     "output_type": "display_data"
    },
    {
     "data": {
      "text/html": [
       "<pre style=\"white-space:pre;overflow-x:auto;line-height:normal;font-family:Menlo,'DejaVu Sans Mono',consolas,'Courier New',monospace\">Saving model checkpoint to ../logs/Train_PPO_40kReqs_300_v3_001/training/best_model_3879991_steps.zip\n",
       "</pre>\n"
      ],
      "text/plain": [
       "Saving model checkpoint to ../logs/Train_PPO_40kReqs_300_v3_001/training/best_model_3879991_steps.zip\n"
      ]
     },
     "metadata": {},
     "output_type": "display_data"
    },
    {
     "data": {
      "text/html": [
       "<pre style=\"white-space:pre;overflow-x:auto;line-height:normal;font-family:Menlo,'DejaVu Sans Mono',consolas,'Courier New',monospace\">Eval num_timesteps=3880000, episode_reward=39044.80 +/- 105.81\n",
       "</pre>\n"
      ],
      "text/plain": [
       "Eval num_timesteps=3880000, episode_reward=39044.80 +/- 105.81\n"
      ]
     },
     "metadata": {},
     "output_type": "display_data"
    },
    {
     "data": {
      "text/html": [
       "<pre style=\"white-space:pre;overflow-x:auto;line-height:normal;font-family:Menlo,'DejaVu Sans Mono',consolas,'Courier New',monospace\">Episode length: 40000.00 +/- 0.00\n",
       "</pre>\n"
      ],
      "text/plain": [
       "Episode length: 40000.00 +/- 0.00\n"
      ]
     },
     "metadata": {},
     "output_type": "display_data"
    },
    {
     "data": {
      "text/html": [
       "<pre style=\"white-space:pre;overflow-x:auto;line-height:normal;font-family:Menlo,'DejaVu Sans Mono',consolas,'Courier New',monospace\">Saving model checkpoint to ../logs/Train_PPO_40kReqs_300_v3_001/training/best_model_3919991_steps.zip\n",
       "</pre>\n"
      ],
      "text/plain": [
       "Saving model checkpoint to ../logs/Train_PPO_40kReqs_300_v3_001/training/best_model_3919991_steps.zip\n"
      ]
     },
     "metadata": {},
     "output_type": "display_data"
    },
    {
     "data": {
      "text/html": [
       "<pre style=\"white-space:pre;overflow-x:auto;line-height:normal;font-family:Menlo,'DejaVu Sans Mono',consolas,'Courier New',monospace\">Eval num_timesteps=3920000, episode_reward=38957.60 +/- 61.40\n",
       "</pre>\n"
      ],
      "text/plain": [
       "Eval num_timesteps=3920000, episode_reward=38957.60 +/- 61.40\n"
      ]
     },
     "metadata": {},
     "output_type": "display_data"
    },
    {
     "data": {
      "text/html": [
       "<pre style=\"white-space:pre;overflow-x:auto;line-height:normal;font-family:Menlo,'DejaVu Sans Mono',consolas,'Courier New',monospace\">Episode length: 40000.00 +/- 0.00\n",
       "</pre>\n"
      ],
      "text/plain": [
       "Episode length: 40000.00 +/- 0.00\n"
      ]
     },
     "metadata": {},
     "output_type": "display_data"
    },
    {
     "data": {
      "text/html": [
       "<pre style=\"white-space:pre;overflow-x:auto;line-height:normal;font-family:Menlo,'DejaVu Sans Mono',consolas,'Courier New',monospace\">Saving model checkpoint to ../logs/Train_PPO_40kReqs_300_v3_001/training/best_model_3959991_steps.zip\n",
       "</pre>\n"
      ],
      "text/plain": [
       "Saving model checkpoint to ../logs/Train_PPO_40kReqs_300_v3_001/training/best_model_3959991_steps.zip\n"
      ]
     },
     "metadata": {},
     "output_type": "display_data"
    },
    {
     "data": {
      "text/html": [
       "<pre style=\"white-space:pre;overflow-x:auto;line-height:normal;font-family:Menlo,'DejaVu Sans Mono',consolas,'Courier New',monospace\">Eval num_timesteps=3960000, episode_reward=39032.80 +/- 127.76\n",
       "</pre>\n"
      ],
      "text/plain": [
       "Eval num_timesteps=3960000, episode_reward=39032.80 +/- 127.76\n"
      ]
     },
     "metadata": {},
     "output_type": "display_data"
    },
    {
     "data": {
      "text/html": [
       "<pre style=\"white-space:pre;overflow-x:auto;line-height:normal;font-family:Menlo,'DejaVu Sans Mono',consolas,'Courier New',monospace\">Episode length: 40000.00 +/- 0.00\n",
       "</pre>\n"
      ],
      "text/plain": [
       "Episode length: 40000.00 +/- 0.00\n"
      ]
     },
     "metadata": {},
     "output_type": "display_data"
    },
    {
     "data": {
      "text/html": [
       "<pre style=\"white-space:pre;overflow-x:auto;line-height:normal;font-family:Menlo,'DejaVu Sans Mono',consolas,'Courier New',monospace\">Saving model checkpoint to ../logs/Train_PPO_40kReqs_300_v3_001/training/best_model_3999991_steps.zip\n",
       "</pre>\n"
      ],
      "text/plain": [
       "Saving model checkpoint to ../logs/Train_PPO_40kReqs_300_v3_001/training/best_model_3999991_steps.zip\n"
      ]
     },
     "metadata": {},
     "output_type": "display_data"
    },
    {
     "data": {
      "text/html": [
       "<pre style=\"white-space:pre;overflow-x:auto;line-height:normal;font-family:Menlo,'DejaVu Sans Mono',consolas,'Courier New',monospace\">Eval num_timesteps=4000000, episode_reward=38992.00 +/- 77.95\n",
       "</pre>\n"
      ],
      "text/plain": [
       "Eval num_timesteps=4000000, episode_reward=38992.00 +/- 77.95\n"
      ]
     },
     "metadata": {},
     "output_type": "display_data"
    },
    {
     "data": {
      "text/html": [
       "<pre style=\"white-space:pre;overflow-x:auto;line-height:normal;font-family:Menlo,'DejaVu Sans Mono',consolas,'Courier New',monospace\">Episode length: 40000.00 +/- 0.00\n",
       "</pre>\n"
      ],
      "text/plain": [
       "Episode length: 40000.00 +/- 0.00\n"
      ]
     },
     "metadata": {},
     "output_type": "display_data"
    },
    {
     "data": {
      "text/html": [
       "<pre style=\"white-space:pre;overflow-x:auto;line-height:normal;font-family:Menlo,'DejaVu Sans Mono',consolas,'Courier New',monospace\">Saving model checkpoint to ../logs/Train_PPO_40kReqs_300_v3_001/training/best_model_4039991_steps.zip\n",
       "</pre>\n"
      ],
      "text/plain": [
       "Saving model checkpoint to ../logs/Train_PPO_40kReqs_300_v3_001/training/best_model_4039991_steps.zip\n"
      ]
     },
     "metadata": {},
     "output_type": "display_data"
    },
    {
     "data": {
      "text/html": [
       "<pre style=\"white-space:pre;overflow-x:auto;line-height:normal;font-family:Menlo,'DejaVu Sans Mono',consolas,'Courier New',monospace\">Eval num_timesteps=4040000, episode_reward=38923.60 +/- 74.72\n",
       "</pre>\n"
      ],
      "text/plain": [
       "Eval num_timesteps=4040000, episode_reward=38923.60 +/- 74.72\n"
      ]
     },
     "metadata": {},
     "output_type": "display_data"
    },
    {
     "data": {
      "text/html": [
       "<pre style=\"white-space:pre;overflow-x:auto;line-height:normal;font-family:Menlo,'DejaVu Sans Mono',consolas,'Courier New',monospace\">Episode length: 40000.00 +/- 0.00\n",
       "</pre>\n"
      ],
      "text/plain": [
       "Episode length: 40000.00 +/- 0.00\n"
      ]
     },
     "metadata": {},
     "output_type": "display_data"
    },
    {
     "data": {
      "text/html": [
       "<pre style=\"white-space:pre;overflow-x:auto;line-height:normal;font-family:Menlo,'DejaVu Sans Mono',consolas,'Courier New',monospace\">Saving model checkpoint to ../logs/Train_PPO_40kReqs_300_v3_001/training/best_model_4079991_steps.zip\n",
       "</pre>\n"
      ],
      "text/plain": [
       "Saving model checkpoint to ../logs/Train_PPO_40kReqs_300_v3_001/training/best_model_4079991_steps.zip\n"
      ]
     },
     "metadata": {},
     "output_type": "display_data"
    },
    {
     "data": {
      "text/html": [
       "<pre style=\"white-space:pre;overflow-x:auto;line-height:normal;font-family:Menlo,'DejaVu Sans Mono',consolas,'Courier New',monospace\">Eval num_timesteps=4080000, episode_reward=39004.80 +/- 164.21\n",
       "</pre>\n"
      ],
      "text/plain": [
       "Eval num_timesteps=4080000, episode_reward=39004.80 +/- 164.21\n"
      ]
     },
     "metadata": {},
     "output_type": "display_data"
    },
    {
     "data": {
      "text/html": [
       "<pre style=\"white-space:pre;overflow-x:auto;line-height:normal;font-family:Menlo,'DejaVu Sans Mono',consolas,'Courier New',monospace\">Episode length: 40000.00 +/- 0.00\n",
       "</pre>\n"
      ],
      "text/plain": [
       "Episode length: 40000.00 +/- 0.00\n"
      ]
     },
     "metadata": {},
     "output_type": "display_data"
    },
    {
     "data": {
      "text/html": [
       "<pre style=\"white-space:pre;overflow-x:auto;line-height:normal;font-family:Menlo,'DejaVu Sans Mono',consolas,'Courier New',monospace\">Saving model checkpoint to ../logs/Train_PPO_40kReqs_300_v3_001/training/best_model_4119991_steps.zip\n",
       "</pre>\n"
      ],
      "text/plain": [
       "Saving model checkpoint to ../logs/Train_PPO_40kReqs_300_v3_001/training/best_model_4119991_steps.zip\n"
      ]
     },
     "metadata": {},
     "output_type": "display_data"
    },
    {
     "data": {
      "text/html": [
       "<pre style=\"white-space:pre;overflow-x:auto;line-height:normal;font-family:Menlo,'DejaVu Sans Mono',consolas,'Courier New',monospace\">Eval num_timesteps=4120000, episode_reward=39084.80 +/- 107.59\n",
       "</pre>\n"
      ],
      "text/plain": [
       "Eval num_timesteps=4120000, episode_reward=39084.80 +/- 107.59\n"
      ]
     },
     "metadata": {},
     "output_type": "display_data"
    },
    {
     "data": {
      "text/html": [
       "<pre style=\"white-space:pre;overflow-x:auto;line-height:normal;font-family:Menlo,'DejaVu Sans Mono',consolas,'Courier New',monospace\">Episode length: 40000.00 +/- 0.00\n",
       "</pre>\n"
      ],
      "text/plain": [
       "Episode length: 40000.00 +/- 0.00\n"
      ]
     },
     "metadata": {},
     "output_type": "display_data"
    },
    {
     "data": {
      "text/html": [
       "<pre style=\"white-space:pre;overflow-x:auto;line-height:normal;font-family:Menlo,'DejaVu Sans Mono',consolas,'Courier New',monospace\">Saving model checkpoint to ../logs/Train_PPO_40kReqs_300_v3_001/training/best_model_4159991_steps.zip\n",
       "</pre>\n"
      ],
      "text/plain": [
       "Saving model checkpoint to ../logs/Train_PPO_40kReqs_300_v3_001/training/best_model_4159991_steps.zip\n"
      ]
     },
     "metadata": {},
     "output_type": "display_data"
    },
    {
     "data": {
      "text/html": [
       "<pre style=\"white-space:pre;overflow-x:auto;line-height:normal;font-family:Menlo,'DejaVu Sans Mono',consolas,'Courier New',monospace\">Eval num_timesteps=4160000, episode_reward=39151.20 +/- 68.50\n",
       "</pre>\n"
      ],
      "text/plain": [
       "Eval num_timesteps=4160000, episode_reward=39151.20 +/- 68.50\n"
      ]
     },
     "metadata": {},
     "output_type": "display_data"
    },
    {
     "data": {
      "text/html": [
       "<pre style=\"white-space:pre;overflow-x:auto;line-height:normal;font-family:Menlo,'DejaVu Sans Mono',consolas,'Courier New',monospace\">Episode length: 40000.00 +/- 0.00\n",
       "</pre>\n"
      ],
      "text/plain": [
       "Episode length: 40000.00 +/- 0.00\n"
      ]
     },
     "metadata": {},
     "output_type": "display_data"
    },
    {
     "data": {
      "text/html": [
       "<pre style=\"white-space:pre;overflow-x:auto;line-height:normal;font-family:Menlo,'DejaVu Sans Mono',consolas,'Courier New',monospace\">Saving model checkpoint to ../logs/Train_PPO_40kReqs_300_v3_001/training/best_model_4199991_steps.zip\n",
       "</pre>\n"
      ],
      "text/plain": [
       "Saving model checkpoint to ../logs/Train_PPO_40kReqs_300_v3_001/training/best_model_4199991_steps.zip\n"
      ]
     },
     "metadata": {},
     "output_type": "display_data"
    },
    {
     "data": {
      "text/html": [
       "<pre style=\"white-space:pre;overflow-x:auto;line-height:normal;font-family:Menlo,'DejaVu Sans Mono',consolas,'Courier New',monospace\">Eval num_timesteps=4200000, episode_reward=39087.60 +/- 76.73\n",
       "</pre>\n"
      ],
      "text/plain": [
       "Eval num_timesteps=4200000, episode_reward=39087.60 +/- 76.73\n"
      ]
     },
     "metadata": {},
     "output_type": "display_data"
    },
    {
     "data": {
      "text/html": [
       "<pre style=\"white-space:pre;overflow-x:auto;line-height:normal;font-family:Menlo,'DejaVu Sans Mono',consolas,'Courier New',monospace\">Episode length: 40000.00 +/- 0.00\n",
       "</pre>\n"
      ],
      "text/plain": [
       "Episode length: 40000.00 +/- 0.00\n"
      ]
     },
     "metadata": {},
     "output_type": "display_data"
    },
    {
     "data": {
      "text/html": [
       "<pre style=\"white-space:pre;overflow-x:auto;line-height:normal;font-family:Menlo,'DejaVu Sans Mono',consolas,'Courier New',monospace\">Saving model checkpoint to ../logs/Train_PPO_40kReqs_300_v3_001/training/best_model_4239991_steps.zip\n",
       "</pre>\n"
      ],
      "text/plain": [
       "Saving model checkpoint to ../logs/Train_PPO_40kReqs_300_v3_001/training/best_model_4239991_steps.zip\n"
      ]
     },
     "metadata": {},
     "output_type": "display_data"
    },
    {
     "data": {
      "text/html": [
       "<pre style=\"white-space:pre;overflow-x:auto;line-height:normal;font-family:Menlo,'DejaVu Sans Mono',consolas,'Courier New',monospace\">Eval num_timesteps=4240000, episode_reward=38895.60 +/- 125.69\n",
       "</pre>\n"
      ],
      "text/plain": [
       "Eval num_timesteps=4240000, episode_reward=38895.60 +/- 125.69\n"
      ]
     },
     "metadata": {},
     "output_type": "display_data"
    },
    {
     "data": {
      "text/html": [
       "<pre style=\"white-space:pre;overflow-x:auto;line-height:normal;font-family:Menlo,'DejaVu Sans Mono',consolas,'Courier New',monospace\">Episode length: 40000.00 +/- 0.00\n",
       "</pre>\n"
      ],
      "text/plain": [
       "Episode length: 40000.00 +/- 0.00\n"
      ]
     },
     "metadata": {},
     "output_type": "display_data"
    },
    {
     "data": {
      "text/html": [
       "<pre style=\"white-space:pre;overflow-x:auto;line-height:normal;font-family:Menlo,'DejaVu Sans Mono',consolas,'Courier New',monospace\">Saving model checkpoint to ../logs/Train_PPO_40kReqs_300_v3_001/training/best_model_4279991_steps.zip\n",
       "</pre>\n"
      ],
      "text/plain": [
       "Saving model checkpoint to ../logs/Train_PPO_40kReqs_300_v3_001/training/best_model_4279991_steps.zip\n"
      ]
     },
     "metadata": {},
     "output_type": "display_data"
    },
    {
     "data": {
      "text/html": [
       "<pre style=\"white-space:pre;overflow-x:auto;line-height:normal;font-family:Menlo,'DejaVu Sans Mono',consolas,'Courier New',monospace\">Eval num_timesteps=4280000, episode_reward=39118.80 +/- 65.15\n",
       "</pre>\n"
      ],
      "text/plain": [
       "Eval num_timesteps=4280000, episode_reward=39118.80 +/- 65.15\n"
      ]
     },
     "metadata": {},
     "output_type": "display_data"
    },
    {
     "data": {
      "text/html": [
       "<pre style=\"white-space:pre;overflow-x:auto;line-height:normal;font-family:Menlo,'DejaVu Sans Mono',consolas,'Courier New',monospace\">Episode length: 40000.00 +/- 0.00\n",
       "</pre>\n"
      ],
      "text/plain": [
       "Episode length: 40000.00 +/- 0.00\n"
      ]
     },
     "metadata": {},
     "output_type": "display_data"
    },
    {
     "data": {
      "text/html": [
       "<pre style=\"white-space:pre;overflow-x:auto;line-height:normal;font-family:Menlo,'DejaVu Sans Mono',consolas,'Courier New',monospace\">Saving model checkpoint to ../logs/Train_PPO_40kReqs_300_v3_001/training/best_model_4319991_steps.zip\n",
       "</pre>\n"
      ],
      "text/plain": [
       "Saving model checkpoint to ../logs/Train_PPO_40kReqs_300_v3_001/training/best_model_4319991_steps.zip\n"
      ]
     },
     "metadata": {},
     "output_type": "display_data"
    },
    {
     "data": {
      "text/html": [
       "<pre style=\"white-space:pre;overflow-x:auto;line-height:normal;font-family:Menlo,'DejaVu Sans Mono',consolas,'Courier New',monospace\">Eval num_timesteps=4320000, episode_reward=39024.00 +/- 109.92\n",
       "</pre>\n"
      ],
      "text/plain": [
       "Eval num_timesteps=4320000, episode_reward=39024.00 +/- 109.92\n"
      ]
     },
     "metadata": {},
     "output_type": "display_data"
    },
    {
     "data": {
      "text/html": [
       "<pre style=\"white-space:pre;overflow-x:auto;line-height:normal;font-family:Menlo,'DejaVu Sans Mono',consolas,'Courier New',monospace\">Saving model checkpoint to ../logs/Train_PPO_40kReqs_300_v3_001/training/best_model_4359991_steps.zip\n",
       "</pre>\n"
      ],
      "text/plain": [
       "Saving model checkpoint to ../logs/Train_PPO_40kReqs_300_v3_001/training/best_model_4359991_steps.zip\n"
      ]
     },
     "metadata": {},
     "output_type": "display_data"
    },
    {
     "data": {
      "text/html": [
       "<pre style=\"white-space:pre;overflow-x:auto;line-height:normal;font-family:Menlo,'DejaVu Sans Mono',consolas,'Courier New',monospace\">Eval num_timesteps=4360000, episode_reward=39099.20 +/- 118.28\n",
       "</pre>\n"
      ],
      "text/plain": [
       "Eval num_timesteps=4360000, episode_reward=39099.20 +/- 118.28\n"
      ]
     },
     "metadata": {},
     "output_type": "display_data"
    },
    {
     "data": {
      "text/html": [
       "<pre style=\"white-space:pre;overflow-x:auto;line-height:normal;font-family:Menlo,'DejaVu Sans Mono',consolas,'Courier New',monospace\">Saving model checkpoint to ../logs/Train_PPO_40kReqs_300_v3_001/training/best_model_4399991_steps.zip\n",
       "</pre>\n"
      ],
      "text/plain": [
       "Saving model checkpoint to ../logs/Train_PPO_40kReqs_300_v3_001/training/best_model_4399991_steps.zip\n"
      ]
     },
     "metadata": {},
     "output_type": "display_data"
    },
    {
     "data": {
      "text/html": [
       "<pre style=\"white-space:pre;overflow-x:auto;line-height:normal;font-family:Menlo,'DejaVu Sans Mono',consolas,'Courier New',monospace\">Eval num_timesteps=4400000, episode_reward=38957.20 +/- 98.44\n",
       "</pre>\n"
      ],
      "text/plain": [
       "Eval num_timesteps=4400000, episode_reward=38957.20 +/- 98.44\n"
      ]
     },
     "metadata": {},
     "output_type": "display_data"
    },
    {
     "data": {
      "text/html": [
       "<pre style=\"white-space:pre;overflow-x:auto;line-height:normal;font-family:Menlo,'DejaVu Sans Mono',consolas,'Courier New',monospace\">Episode length: 40000.00 +/- 0.00\n",
       "</pre>\n"
      ],
      "text/plain": [
       "Episode length: 40000.00 +/- 0.00\n"
      ]
     },
     "metadata": {},
     "output_type": "display_data"
    },
    {
     "data": {
      "text/html": [
       "<pre style=\"white-space:pre;overflow-x:auto;line-height:normal;font-family:Menlo,'DejaVu Sans Mono',consolas,'Courier New',monospace\">Saving model checkpoint to ../logs/Train_PPO_40kReqs_300_v3_001/training/best_model_4439991_steps.zip\n",
       "</pre>\n"
      ],
      "text/plain": [
       "Saving model checkpoint to ../logs/Train_PPO_40kReqs_300_v3_001/training/best_model_4439991_steps.zip\n"
      ]
     },
     "metadata": {},
     "output_type": "display_data"
    },
    {
     "data": {
      "text/html": [
       "<pre style=\"white-space:pre;overflow-x:auto;line-height:normal;font-family:Menlo,'DejaVu Sans Mono',consolas,'Courier New',monospace\">Eval num_timesteps=4440000, episode_reward=39078.40 +/- 167.68\n",
       "</pre>\n"
      ],
      "text/plain": [
       "Eval num_timesteps=4440000, episode_reward=39078.40 +/- 167.68\n"
      ]
     },
     "metadata": {},
     "output_type": "display_data"
    },
    {
     "data": {
      "text/html": [
       "<pre style=\"white-space:pre;overflow-x:auto;line-height:normal;font-family:Menlo,'DejaVu Sans Mono',consolas,'Courier New',monospace\">Episode length: 40000.00 +/- 0.00\n",
       "</pre>\n"
      ],
      "text/plain": [
       "Episode length: 40000.00 +/- 0.00\n"
      ]
     },
     "metadata": {},
     "output_type": "display_data"
    },
    {
     "data": {
      "text/html": [
       "<pre style=\"white-space:pre;overflow-x:auto;line-height:normal;font-family:Menlo,'DejaVu Sans Mono',consolas,'Courier New',monospace\">Saving model checkpoint to ../logs/Train_PPO_40kReqs_300_v3_001/training/best_model_4479991_steps.zip\n",
       "</pre>\n"
      ],
      "text/plain": [
       "Saving model checkpoint to ../logs/Train_PPO_40kReqs_300_v3_001/training/best_model_4479991_steps.zip\n"
      ]
     },
     "metadata": {},
     "output_type": "display_data"
    },
    {
     "data": {
      "text/html": [
       "<pre style=\"white-space:pre;overflow-x:auto;line-height:normal;font-family:Menlo,'DejaVu Sans Mono',consolas,'Courier New',monospace\">Eval num_timesteps=4480000, episode_reward=39026.40 +/- 125.50\n",
       "</pre>\n"
      ],
      "text/plain": [
       "Eval num_timesteps=4480000, episode_reward=39026.40 +/- 125.50\n"
      ]
     },
     "metadata": {},
     "output_type": "display_data"
    },
    {
     "data": {
      "text/html": [
       "<pre style=\"white-space:pre;overflow-x:auto;line-height:normal;font-family:Menlo,'DejaVu Sans Mono',consolas,'Courier New',monospace\">Episode length: 40000.00 +/- 0.00\n",
       "</pre>\n"
      ],
      "text/plain": [
       "Episode length: 40000.00 +/- 0.00\n"
      ]
     },
     "metadata": {},
     "output_type": "display_data"
    },
    {
     "data": {
      "text/html": [
       "<pre style=\"white-space:pre;overflow-x:auto;line-height:normal;font-family:Menlo,'DejaVu Sans Mono',consolas,'Courier New',monospace\">Saving model checkpoint to ../logs/Train_PPO_40kReqs_300_v3_001/training/best_model_4519991_steps.zip\n",
       "</pre>\n"
      ],
      "text/plain": [
       "Saving model checkpoint to ../logs/Train_PPO_40kReqs_300_v3_001/training/best_model_4519991_steps.zip\n"
      ]
     },
     "metadata": {},
     "output_type": "display_data"
    },
    {
     "data": {
      "text/html": [
       "<pre style=\"white-space:pre;overflow-x:auto;line-height:normal;font-family:Menlo,'DejaVu Sans Mono',consolas,'Courier New',monospace\">Eval num_timesteps=4520000, episode_reward=39018.80 +/- 52.38\n",
       "</pre>\n"
      ],
      "text/plain": [
       "Eval num_timesteps=4520000, episode_reward=39018.80 +/- 52.38\n"
      ]
     },
     "metadata": {},
     "output_type": "display_data"
    },
    {
     "data": {
      "text/html": [
       "<pre style=\"white-space:pre;overflow-x:auto;line-height:normal;font-family:Menlo,'DejaVu Sans Mono',consolas,'Courier New',monospace\">Episode length: 40000.00 +/- 0.00\n",
       "</pre>\n"
      ],
      "text/plain": [
       "Episode length: 40000.00 +/- 0.00\n"
      ]
     },
     "metadata": {},
     "output_type": "display_data"
    },
    {
     "data": {
      "text/html": [
       "<pre style=\"white-space:pre;overflow-x:auto;line-height:normal;font-family:Menlo,'DejaVu Sans Mono',consolas,'Courier New',monospace\">Saving model checkpoint to ../logs/Train_PPO_40kReqs_300_v3_001/training/best_model_4559991_steps.zip\n",
       "</pre>\n"
      ],
      "text/plain": [
       "Saving model checkpoint to ../logs/Train_PPO_40kReqs_300_v3_001/training/best_model_4559991_steps.zip\n"
      ]
     },
     "metadata": {},
     "output_type": "display_data"
    },
    {
     "data": {
      "text/html": [
       "<pre style=\"white-space:pre;overflow-x:auto;line-height:normal;font-family:Menlo,'DejaVu Sans Mono',consolas,'Courier New',monospace\">Eval num_timesteps=4560000, episode_reward=39122.80 +/- 111.56\n",
       "</pre>\n"
      ],
      "text/plain": [
       "Eval num_timesteps=4560000, episode_reward=39122.80 +/- 111.56\n"
      ]
     },
     "metadata": {},
     "output_type": "display_data"
    },
    {
     "data": {
      "text/html": [
       "<pre style=\"white-space:pre;overflow-x:auto;line-height:normal;font-family:Menlo,'DejaVu Sans Mono',consolas,'Courier New',monospace\">Episode length: 40000.00 +/- 0.00\n",
       "</pre>\n"
      ],
      "text/plain": [
       "Episode length: 40000.00 +/- 0.00\n"
      ]
     },
     "metadata": {},
     "output_type": "display_data"
    },
    {
     "data": {
      "text/html": [
       "<pre style=\"white-space:pre;overflow-x:auto;line-height:normal;font-family:Menlo,'DejaVu Sans Mono',consolas,'Courier New',monospace\">Saving model checkpoint to ../logs/Train_PPO_40kReqs_300_v3_001/training/best_model_4599991_steps.zip\n",
       "</pre>\n"
      ],
      "text/plain": [
       "Saving model checkpoint to ../logs/Train_PPO_40kReqs_300_v3_001/training/best_model_4599991_steps.zip\n"
      ]
     },
     "metadata": {},
     "output_type": "display_data"
    },
    {
     "data": {
      "text/html": [
       "<pre style=\"white-space:pre;overflow-x:auto;line-height:normal;font-family:Menlo,'DejaVu Sans Mono',consolas,'Courier New',monospace\">Eval num_timesteps=4600000, episode_reward=38934.80 +/- 126.75\n",
       "</pre>\n"
      ],
      "text/plain": [
       "Eval num_timesteps=4600000, episode_reward=38934.80 +/- 126.75\n"
      ]
     },
     "metadata": {},
     "output_type": "display_data"
    },
    {
     "data": {
      "text/html": [
       "<pre style=\"white-space:pre;overflow-x:auto;line-height:normal;font-family:Menlo,'DejaVu Sans Mono',consolas,'Courier New',monospace\">Episode length: 40000.00 +/- 0.00\n",
       "</pre>\n"
      ],
      "text/plain": [
       "Episode length: 40000.00 +/- 0.00\n"
      ]
     },
     "metadata": {},
     "output_type": "display_data"
    },
    {
     "data": {
      "text/html": [
       "<pre style=\"white-space:pre;overflow-x:auto;line-height:normal;font-family:Menlo,'DejaVu Sans Mono',consolas,'Courier New',monospace\">Saving model checkpoint to ../logs/Train_PPO_40kReqs_300_v3_001/training/best_model_4639991_steps.zip\n",
       "</pre>\n"
      ],
      "text/plain": [
       "Saving model checkpoint to ../logs/Train_PPO_40kReqs_300_v3_001/training/best_model_4639991_steps.zip\n"
      ]
     },
     "metadata": {},
     "output_type": "display_data"
    },
    {
     "data": {
      "text/html": [
       "<pre style=\"white-space:pre;overflow-x:auto;line-height:normal;font-family:Menlo,'DejaVu Sans Mono',consolas,'Courier New',monospace\">Eval num_timesteps=4640000, episode_reward=39002.80 +/- 64.27\n",
       "</pre>\n"
      ],
      "text/plain": [
       "Eval num_timesteps=4640000, episode_reward=39002.80 +/- 64.27\n"
      ]
     },
     "metadata": {},
     "output_type": "display_data"
    },
    {
     "data": {
      "text/html": [
       "<pre style=\"white-space:pre;overflow-x:auto;line-height:normal;font-family:Menlo,'DejaVu Sans Mono',consolas,'Courier New',monospace\">Episode length: 40000.00 +/- 0.00\n",
       "</pre>\n"
      ],
      "text/plain": [
       "Episode length: 40000.00 +/- 0.00\n"
      ]
     },
     "metadata": {},
     "output_type": "display_data"
    },
    {
     "data": {
      "text/html": [
       "<pre style=\"white-space:pre;overflow-x:auto;line-height:normal;font-family:Menlo,'DejaVu Sans Mono',consolas,'Courier New',monospace\">Saving model checkpoint to ../logs/Train_PPO_40kReqs_300_v3_001/training/best_model_4679991_steps.zip\n",
       "</pre>\n"
      ],
      "text/plain": [
       "Saving model checkpoint to ../logs/Train_PPO_40kReqs_300_v3_001/training/best_model_4679991_steps.zip\n"
      ]
     },
     "metadata": {},
     "output_type": "display_data"
    },
    {
     "data": {
      "text/html": [
       "<pre style=\"white-space:pre;overflow-x:auto;line-height:normal;font-family:Menlo,'DejaVu Sans Mono',consolas,'Courier New',monospace\">Eval num_timesteps=4680000, episode_reward=39031.60 +/- 94.58\n",
       "</pre>\n"
      ],
      "text/plain": [
       "Eval num_timesteps=4680000, episode_reward=39031.60 +/- 94.58\n"
      ]
     },
     "metadata": {},
     "output_type": "display_data"
    },
    {
     "data": {
      "text/html": [
       "<pre style=\"white-space:pre;overflow-x:auto;line-height:normal;font-family:Menlo,'DejaVu Sans Mono',consolas,'Courier New',monospace\">Episode length: 40000.00 +/- 0.00\n",
       "</pre>\n"
      ],
      "text/plain": [
       "Episode length: 40000.00 +/- 0.00\n"
      ]
     },
     "metadata": {},
     "output_type": "display_data"
    },
    {
     "data": {
      "text/html": [
       "<pre style=\"white-space:pre;overflow-x:auto;line-height:normal;font-family:Menlo,'DejaVu Sans Mono',consolas,'Courier New',monospace\">Saving model checkpoint to ../logs/Train_PPO_40kReqs_300_v3_001/training/best_model_4719991_steps.zip\n",
       "</pre>\n"
      ],
      "text/plain": [
       "Saving model checkpoint to ../logs/Train_PPO_40kReqs_300_v3_001/training/best_model_4719991_steps.zip\n"
      ]
     },
     "metadata": {},
     "output_type": "display_data"
    },
    {
     "data": {
      "text/html": [
       "<pre style=\"white-space:pre;overflow-x:auto;line-height:normal;font-family:Menlo,'DejaVu Sans Mono',consolas,'Courier New',monospace\">Eval num_timesteps=4720000, episode_reward=39013.60 +/- 52.72\n",
       "</pre>\n"
      ],
      "text/plain": [
       "Eval num_timesteps=4720000, episode_reward=39013.60 +/- 52.72\n"
      ]
     },
     "metadata": {},
     "output_type": "display_data"
    },
    {
     "data": {
      "text/html": [
       "<pre style=\"white-space:pre;overflow-x:auto;line-height:normal;font-family:Menlo,'DejaVu Sans Mono',consolas,'Courier New',monospace\">Episode length: 40000.00 +/- 0.00\n",
       "</pre>\n"
      ],
      "text/plain": [
       "Episode length: 40000.00 +/- 0.00\n"
      ]
     },
     "metadata": {},
     "output_type": "display_data"
    },
    {
     "data": {
      "text/html": [
       "<pre style=\"white-space:pre;overflow-x:auto;line-height:normal;font-family:Menlo,'DejaVu Sans Mono',consolas,'Courier New',monospace\">Saving model checkpoint to ../logs/Train_PPO_40kReqs_300_v3_001/training/best_model_4759991_steps.zip\n",
       "</pre>\n"
      ],
      "text/plain": [
       "Saving model checkpoint to ../logs/Train_PPO_40kReqs_300_v3_001/training/best_model_4759991_steps.zip\n"
      ]
     },
     "metadata": {},
     "output_type": "display_data"
    },
    {
     "data": {
      "text/html": [
       "<pre style=\"white-space:pre;overflow-x:auto;line-height:normal;font-family:Menlo,'DejaVu Sans Mono',consolas,'Courier New',monospace\">Eval num_timesteps=4760000, episode_reward=39066.00 +/- 78.53\n",
       "</pre>\n"
      ],
      "text/plain": [
       "Eval num_timesteps=4760000, episode_reward=39066.00 +/- 78.53\n"
      ]
     },
     "metadata": {},
     "output_type": "display_data"
    },
    {
     "data": {
      "text/html": [
       "<pre style=\"white-space:pre;overflow-x:auto;line-height:normal;font-family:Menlo,'DejaVu Sans Mono',consolas,'Courier New',monospace\">Episode length: 40000.00 +/- 0.00\n",
       "</pre>\n"
      ],
      "text/plain": [
       "Episode length: 40000.00 +/- 0.00\n"
      ]
     },
     "metadata": {},
     "output_type": "display_data"
    },
    {
     "data": {
      "text/html": [
       "<pre style=\"white-space:pre;overflow-x:auto;line-height:normal;font-family:Menlo,'DejaVu Sans Mono',consolas,'Courier New',monospace\">Saving model checkpoint to ../logs/Train_PPO_40kReqs_300_v3_001/training/best_model_4799991_steps.zip\n",
       "</pre>\n"
      ],
      "text/plain": [
       "Saving model checkpoint to ../logs/Train_PPO_40kReqs_300_v3_001/training/best_model_4799991_steps.zip\n"
      ]
     },
     "metadata": {},
     "output_type": "display_data"
    },
    {
     "data": {
      "text/html": [
       "<pre style=\"white-space:pre;overflow-x:auto;line-height:normal;font-family:Menlo,'DejaVu Sans Mono',consolas,'Courier New',monospace\">Eval num_timesteps=4800000, episode_reward=39010.40 +/- 85.88\n",
       "</pre>\n"
      ],
      "text/plain": [
       "Eval num_timesteps=4800000, episode_reward=39010.40 +/- 85.88\n"
      ]
     },
     "metadata": {},
     "output_type": "display_data"
    },
    {
     "data": {
      "text/html": [
       "<pre style=\"white-space:pre;overflow-x:auto;line-height:normal;font-family:Menlo,'DejaVu Sans Mono',consolas,'Courier New',monospace\">Episode length: 40000.00 +/- 0.00\n",
       "</pre>\n"
      ],
      "text/plain": [
       "Episode length: 40000.00 +/- 0.00\n"
      ]
     },
     "metadata": {},
     "output_type": "display_data"
    },
    {
     "data": {
      "text/html": [
       "<pre style=\"white-space:pre;overflow-x:auto;line-height:normal;font-family:Menlo,'DejaVu Sans Mono',consolas,'Courier New',monospace\">Saving model checkpoint to ../logs/Train_PPO_40kReqs_300_v3_001/training/best_model_4839991_steps.zip\n",
       "</pre>\n"
      ],
      "text/plain": [
       "Saving model checkpoint to ../logs/Train_PPO_40kReqs_300_v3_001/training/best_model_4839991_steps.zip\n"
      ]
     },
     "metadata": {},
     "output_type": "display_data"
    },
    {
     "data": {
      "text/html": [
       "<pre style=\"white-space:pre;overflow-x:auto;line-height:normal;font-family:Menlo,'DejaVu Sans Mono',consolas,'Courier New',monospace\">Eval num_timesteps=4840000, episode_reward=38994.40 +/- 67.31\n",
       "</pre>\n"
      ],
      "text/plain": [
       "Eval num_timesteps=4840000, episode_reward=38994.40 +/- 67.31\n"
      ]
     },
     "metadata": {},
     "output_type": "display_data"
    },
    {
     "data": {
      "text/html": [
       "<pre style=\"white-space:pre;overflow-x:auto;line-height:normal;font-family:Menlo,'DejaVu Sans Mono',consolas,'Courier New',monospace\">Episode length: 40000.00 +/- 0.00\n",
       "</pre>\n"
      ],
      "text/plain": [
       "Episode length: 40000.00 +/- 0.00\n"
      ]
     },
     "metadata": {},
     "output_type": "display_data"
    },
    {
     "data": {
      "text/html": [
       "<pre style=\"white-space:pre;overflow-x:auto;line-height:normal;font-family:Menlo,'DejaVu Sans Mono',consolas,'Courier New',monospace\">Saving model checkpoint to ../logs/Train_PPO_40kReqs_300_v3_001/training/best_model_4879991_steps.zip\n",
       "</pre>\n"
      ],
      "text/plain": [
       "Saving model checkpoint to ../logs/Train_PPO_40kReqs_300_v3_001/training/best_model_4879991_steps.zip\n"
      ]
     },
     "metadata": {},
     "output_type": "display_data"
    },
    {
     "data": {
      "text/html": [
       "<pre style=\"white-space:pre;overflow-x:auto;line-height:normal;font-family:Menlo,'DejaVu Sans Mono',consolas,'Courier New',monospace\">Eval num_timesteps=4880000, episode_reward=39000.80 +/- 99.89\n",
       "</pre>\n"
      ],
      "text/plain": [
       "Eval num_timesteps=4880000, episode_reward=39000.80 +/- 99.89\n"
      ]
     },
     "metadata": {},
     "output_type": "display_data"
    },
    {
     "data": {
      "text/html": [
       "<pre style=\"white-space:pre;overflow-x:auto;line-height:normal;font-family:Menlo,'DejaVu Sans Mono',consolas,'Courier New',monospace\">Episode length: 40000.00 +/- 0.00\n",
       "</pre>\n"
      ],
      "text/plain": [
       "Episode length: 40000.00 +/- 0.00\n"
      ]
     },
     "metadata": {},
     "output_type": "display_data"
    },
    {
     "data": {
      "text/html": [
       "<pre style=\"white-space:pre;overflow-x:auto;line-height:normal;font-family:Menlo,'DejaVu Sans Mono',consolas,'Courier New',monospace\">Saving model checkpoint to ../logs/Train_PPO_40kReqs_300_v3_001/training/best_model_4919991_steps.zip\n",
       "</pre>\n"
      ],
      "text/plain": [
       "Saving model checkpoint to ../logs/Train_PPO_40kReqs_300_v3_001/training/best_model_4919991_steps.zip\n"
      ]
     },
     "metadata": {},
     "output_type": "display_data"
    },
    {
     "data": {
      "text/html": [
       "<pre style=\"white-space:pre;overflow-x:auto;line-height:normal;font-family:Menlo,'DejaVu Sans Mono',consolas,'Courier New',monospace\">Eval num_timesteps=4920000, episode_reward=39058.40 +/- 91.09\n",
       "</pre>\n"
      ],
      "text/plain": [
       "Eval num_timesteps=4920000, episode_reward=39058.40 +/- 91.09\n"
      ]
     },
     "metadata": {},
     "output_type": "display_data"
    },
    {
     "data": {
      "text/html": [
       "<pre style=\"white-space:pre;overflow-x:auto;line-height:normal;font-family:Menlo,'DejaVu Sans Mono',consolas,'Courier New',monospace\">Episode length: 40000.00 +/- 0.00\n",
       "</pre>\n"
      ],
      "text/plain": [
       "Episode length: 40000.00 +/- 0.00\n"
      ]
     },
     "metadata": {},
     "output_type": "display_data"
    },
    {
     "data": {
      "text/html": [
       "<pre style=\"white-space:pre;overflow-x:auto;line-height:normal;font-family:Menlo,'DejaVu Sans Mono',consolas,'Courier New',monospace\">Saving model checkpoint to ../logs/Train_PPO_40kReqs_300_v3_001/training/best_model_4959991_steps.zip\n",
       "</pre>\n"
      ],
      "text/plain": [
       "Saving model checkpoint to ../logs/Train_PPO_40kReqs_300_v3_001/training/best_model_4959991_steps.zip\n"
      ]
     },
     "metadata": {},
     "output_type": "display_data"
    },
    {
     "data": {
      "text/html": [
       "<pre style=\"white-space:pre;overflow-x:auto;line-height:normal;font-family:Menlo,'DejaVu Sans Mono',consolas,'Courier New',monospace\">Eval num_timesteps=4960000, episode_reward=39088.00 +/- 116.54\n",
       "</pre>\n"
      ],
      "text/plain": [
       "Eval num_timesteps=4960000, episode_reward=39088.00 +/- 116.54\n"
      ]
     },
     "metadata": {},
     "output_type": "display_data"
    },
    {
     "data": {
      "text/html": [
       "<pre style=\"white-space:pre;overflow-x:auto;line-height:normal;font-family:Menlo,'DejaVu Sans Mono',consolas,'Courier New',monospace\">Episode length: 40000.00 +/- 0.00\n",
       "</pre>\n"
      ],
      "text/plain": [
       "Episode length: 40000.00 +/- 0.00\n"
      ]
     },
     "metadata": {},
     "output_type": "display_data"
    },
    {
     "data": {
      "text/html": [
       "<pre style=\"white-space:pre;overflow-x:auto;line-height:normal;font-family:Menlo,'DejaVu Sans Mono',consolas,'Courier New',monospace\">Saving model checkpoint to ../logs/Train_PPO_40kReqs_300_v3_001/training/best_model_4999991_steps.zip\n",
       "</pre>\n"
      ],
      "text/plain": [
       "Saving model checkpoint to ../logs/Train_PPO_40kReqs_300_v3_001/training/best_model_4999991_steps.zip\n"
      ]
     },
     "metadata": {},
     "output_type": "display_data"
    },
    {
     "data": {
      "text/html": [
       "<pre style=\"white-space:pre;overflow-x:auto;line-height:normal;font-family:Menlo,'DejaVu Sans Mono',consolas,'Courier New',monospace\">Eval num_timesteps=5000000, episode_reward=39102.00 +/- 69.19\n",
       "</pre>\n"
      ],
      "text/plain": [
       "Eval num_timesteps=5000000, episode_reward=39102.00 +/- 69.19\n"
      ]
     },
     "metadata": {},
     "output_type": "display_data"
    },
    {
     "data": {
      "text/html": [
       "<pre style=\"white-space:pre;overflow-x:auto;line-height:normal;font-family:Menlo,'DejaVu Sans Mono',consolas,'Courier New',monospace\">Episode length: 40000.00 +/- 0.00\n",
       "</pre>\n"
      ],
      "text/plain": [
       "Episode length: 40000.00 +/- 0.00\n"
      ]
     },
     "metadata": {},
     "output_type": "display_data"
    },
    {
     "data": {
      "text/html": [
       "<pre style=\"white-space:pre;overflow-x:auto;line-height:normal;font-family:Menlo,'DejaVu Sans Mono',consolas,'Courier New',monospace\">Saving model checkpoint to ../logs/Train_PPO_40kReqs_300_v3_001/training/best_model_5039991_steps.zip\n",
       "</pre>\n"
      ],
      "text/plain": [
       "Saving model checkpoint to ../logs/Train_PPO_40kReqs_300_v3_001/training/best_model_5039991_steps.zip\n"
      ]
     },
     "metadata": {},
     "output_type": "display_data"
    },
    {
     "data": {
      "text/html": [
       "<pre style=\"white-space:pre;overflow-x:auto;line-height:normal;font-family:Menlo,'DejaVu Sans Mono',consolas,'Courier New',monospace\">Eval num_timesteps=5040000, episode_reward=39042.40 +/- 100.01\n",
       "</pre>\n"
      ],
      "text/plain": [
       "Eval num_timesteps=5040000, episode_reward=39042.40 +/- 100.01\n"
      ]
     },
     "metadata": {},
     "output_type": "display_data"
    },
    {
     "data": {
      "text/html": [
       "<pre style=\"white-space:pre;overflow-x:auto;line-height:normal;font-family:Menlo,'DejaVu Sans Mono',consolas,'Courier New',monospace\">Episode length: 40000.00 +/- 0.00\n",
       "</pre>\n"
      ],
      "text/plain": [
       "Episode length: 40000.00 +/- 0.00\n"
      ]
     },
     "metadata": {},
     "output_type": "display_data"
    },
    {
     "data": {
      "text/html": [
       "<pre style=\"white-space:pre;overflow-x:auto;line-height:normal;font-family:Menlo,'DejaVu Sans Mono',consolas,'Courier New',monospace\">Saving model checkpoint to ../logs/Train_PPO_40kReqs_300_v3_001/training/best_model_5079991_steps.zip\n",
       "</pre>\n"
      ],
      "text/plain": [
       "Saving model checkpoint to ../logs/Train_PPO_40kReqs_300_v3_001/training/best_model_5079991_steps.zip\n"
      ]
     },
     "metadata": {},
     "output_type": "display_data"
    },
    {
     "data": {
      "text/html": [
       "<pre style=\"white-space:pre;overflow-x:auto;line-height:normal;font-family:Menlo,'DejaVu Sans Mono',consolas,'Courier New',monospace\">Eval num_timesteps=5080000, episode_reward=39075.20 +/- 102.61\n",
       "</pre>\n"
      ],
      "text/plain": [
       "Eval num_timesteps=5080000, episode_reward=39075.20 +/- 102.61\n"
      ]
     },
     "metadata": {},
     "output_type": "display_data"
    },
    {
     "data": {
      "text/html": [
       "<pre style=\"white-space:pre;overflow-x:auto;line-height:normal;font-family:Menlo,'DejaVu Sans Mono',consolas,'Courier New',monospace\">Episode length: 40000.00 +/- 0.00\n",
       "</pre>\n"
      ],
      "text/plain": [
       "Episode length: 40000.00 +/- 0.00\n"
      ]
     },
     "metadata": {},
     "output_type": "display_data"
    },
    {
     "data": {
      "text/html": [
       "<pre style=\"white-space:pre;overflow-x:auto;line-height:normal;font-family:Menlo,'DejaVu Sans Mono',consolas,'Courier New',monospace\">Saving model checkpoint to ../logs/Train_PPO_40kReqs_300_v3_001/training/best_model_5119991_steps.zip\n",
       "</pre>\n"
      ],
      "text/plain": [
       "Saving model checkpoint to ../logs/Train_PPO_40kReqs_300_v3_001/training/best_model_5119991_steps.zip\n"
      ]
     },
     "metadata": {},
     "output_type": "display_data"
    },
    {
     "data": {
      "text/html": [
       "<pre style=\"white-space:pre;overflow-x:auto;line-height:normal;font-family:Menlo,'DejaVu Sans Mono',consolas,'Courier New',monospace\">Eval num_timesteps=5120000, episode_reward=39040.80 +/- 34.07\n",
       "</pre>\n"
      ],
      "text/plain": [
       "Eval num_timesteps=5120000, episode_reward=39040.80 +/- 34.07\n"
      ]
     },
     "metadata": {},
     "output_type": "display_data"
    },
    {
     "data": {
      "text/html": [
       "<pre style=\"white-space:pre;overflow-x:auto;line-height:normal;font-family:Menlo,'DejaVu Sans Mono',consolas,'Courier New',monospace\">Episode length: 40000.00 +/- 0.00\n",
       "</pre>\n"
      ],
      "text/plain": [
       "Episode length: 40000.00 +/- 0.00\n"
      ]
     },
     "metadata": {},
     "output_type": "display_data"
    },
    {
     "data": {
      "text/html": [
       "<pre style=\"white-space:pre;overflow-x:auto;line-height:normal;font-family:Menlo,'DejaVu Sans Mono',consolas,'Courier New',monospace\">Saving model checkpoint to ../logs/Train_PPO_40kReqs_300_v3_001/training/best_model_5159991_steps.zip\n",
       "</pre>\n"
      ],
      "text/plain": [
       "Saving model checkpoint to ../logs/Train_PPO_40kReqs_300_v3_001/training/best_model_5159991_steps.zip\n"
      ]
     },
     "metadata": {},
     "output_type": "display_data"
    },
    {
     "data": {
      "text/html": [
       "<pre style=\"white-space:pre;overflow-x:auto;line-height:normal;font-family:Menlo,'DejaVu Sans Mono',consolas,'Courier New',monospace\">Eval num_timesteps=5160000, episode_reward=38988.40 +/- 120.29\n",
       "</pre>\n"
      ],
      "text/plain": [
       "Eval num_timesteps=5160000, episode_reward=38988.40 +/- 120.29\n"
      ]
     },
     "metadata": {},
     "output_type": "display_data"
    },
    {
     "data": {
      "text/html": [
       "<pre style=\"white-space:pre;overflow-x:auto;line-height:normal;font-family:Menlo,'DejaVu Sans Mono',consolas,'Courier New',monospace\">Episode length: 40000.00 +/- 0.00\n",
       "</pre>\n"
      ],
      "text/plain": [
       "Episode length: 40000.00 +/- 0.00\n"
      ]
     },
     "metadata": {},
     "output_type": "display_data"
    },
    {
     "data": {
      "text/html": [
       "<pre style=\"white-space:pre;overflow-x:auto;line-height:normal;font-family:Menlo,'DejaVu Sans Mono',consolas,'Courier New',monospace\">Saving model checkpoint to ../logs/Train_PPO_40kReqs_300_v3_001/training/best_model_5199991_steps.zip\n",
       "</pre>\n"
      ],
      "text/plain": [
       "Saving model checkpoint to ../logs/Train_PPO_40kReqs_300_v3_001/training/best_model_5199991_steps.zip\n"
      ]
     },
     "metadata": {},
     "output_type": "display_data"
    },
    {
     "data": {
      "text/html": [
       "<pre style=\"white-space:pre;overflow-x:auto;line-height:normal;font-family:Menlo,'DejaVu Sans Mono',consolas,'Courier New',monospace\">Eval num_timesteps=5200000, episode_reward=38960.00 +/- 59.22\n",
       "</pre>\n"
      ],
      "text/plain": [
       "Eval num_timesteps=5200000, episode_reward=38960.00 +/- 59.22\n"
      ]
     },
     "metadata": {},
     "output_type": "display_data"
    },
    {
     "data": {
      "text/html": [
       "<pre style=\"white-space:pre;overflow-x:auto;line-height:normal;font-family:Menlo,'DejaVu Sans Mono',consolas,'Courier New',monospace\">Episode length: 40000.00 +/- 0.00\n",
       "</pre>\n"
      ],
      "text/plain": [
       "Episode length: 40000.00 +/- 0.00\n"
      ]
     },
     "metadata": {},
     "output_type": "display_data"
    },
    {
     "data": {
      "text/html": [
       "<pre style=\"white-space:pre;overflow-x:auto;line-height:normal;font-family:Menlo,'DejaVu Sans Mono',consolas,'Courier New',monospace\">Saving model checkpoint to ../logs/Train_PPO_40kReqs_300_v3_001/training/best_model_5239991_steps.zip\n",
       "</pre>\n"
      ],
      "text/plain": [
       "Saving model checkpoint to ../logs/Train_PPO_40kReqs_300_v3_001/training/best_model_5239991_steps.zip\n"
      ]
     },
     "metadata": {},
     "output_type": "display_data"
    },
    {
     "data": {
      "text/html": [
       "<pre style=\"white-space:pre;overflow-x:auto;line-height:normal;font-family:Menlo,'DejaVu Sans Mono',consolas,'Courier New',monospace\">Eval num_timesteps=5240000, episode_reward=39004.80 +/- 61.86\n",
       "</pre>\n"
      ],
      "text/plain": [
       "Eval num_timesteps=5240000, episode_reward=39004.80 +/- 61.86\n"
      ]
     },
     "metadata": {},
     "output_type": "display_data"
    },
    {
     "data": {
      "text/html": [
       "<pre style=\"white-space:pre;overflow-x:auto;line-height:normal;font-family:Menlo,'DejaVu Sans Mono',consolas,'Courier New',monospace\">Episode length: 40000.00 +/- 0.00\n",
       "</pre>\n"
      ],
      "text/plain": [
       "Episode length: 40000.00 +/- 0.00\n"
      ]
     },
     "metadata": {},
     "output_type": "display_data"
    },
    {
     "data": {
      "text/html": [
       "<pre style=\"white-space:pre;overflow-x:auto;line-height:normal;font-family:Menlo,'DejaVu Sans Mono',consolas,'Courier New',monospace\">Saving model checkpoint to ../logs/Train_PPO_40kReqs_300_v3_001/training/best_model_5279991_steps.zip\n",
       "</pre>\n"
      ],
      "text/plain": [
       "Saving model checkpoint to ../logs/Train_PPO_40kReqs_300_v3_001/training/best_model_5279991_steps.zip\n"
      ]
     },
     "metadata": {},
     "output_type": "display_data"
    },
    {
     "data": {
      "text/html": [
       "<pre style=\"white-space:pre;overflow-x:auto;line-height:normal;font-family:Menlo,'DejaVu Sans Mono',consolas,'Courier New',monospace\">Eval num_timesteps=5280000, episode_reward=39075.60 +/- 170.67\n",
       "</pre>\n"
      ],
      "text/plain": [
       "Eval num_timesteps=5280000, episode_reward=39075.60 +/- 170.67\n"
      ]
     },
     "metadata": {},
     "output_type": "display_data"
    },
    {
     "data": {
      "text/html": [
       "<pre style=\"white-space:pre;overflow-x:auto;line-height:normal;font-family:Menlo,'DejaVu Sans Mono',consolas,'Courier New',monospace\">Episode length: 40000.00 +/- 0.00\n",
       "</pre>\n"
      ],
      "text/plain": [
       "Episode length: 40000.00 +/- 0.00\n"
      ]
     },
     "metadata": {},
     "output_type": "display_data"
    },
    {
     "data": {
      "text/html": [
       "<pre style=\"white-space:pre;overflow-x:auto;line-height:normal;font-family:Menlo,'DejaVu Sans Mono',consolas,'Courier New',monospace\">Saving model checkpoint to ../logs/Train_PPO_40kReqs_300_v3_001/training/best_model_5319991_steps.zip\n",
       "</pre>\n"
      ],
      "text/plain": [
       "Saving model checkpoint to ../logs/Train_PPO_40kReqs_300_v3_001/training/best_model_5319991_steps.zip\n"
      ]
     },
     "metadata": {},
     "output_type": "display_data"
    },
    {
     "data": {
      "text/html": [
       "<pre style=\"white-space:pre;overflow-x:auto;line-height:normal;font-family:Menlo,'DejaVu Sans Mono',consolas,'Courier New',monospace\">Eval num_timesteps=5320000, episode_reward=39098.80 +/- 97.67\n",
       "</pre>\n"
      ],
      "text/plain": [
       "Eval num_timesteps=5320000, episode_reward=39098.80 +/- 97.67\n"
      ]
     },
     "metadata": {},
     "output_type": "display_data"
    },
    {
     "data": {
      "text/html": [
       "<pre style=\"white-space:pre;overflow-x:auto;line-height:normal;font-family:Menlo,'DejaVu Sans Mono',consolas,'Courier New',monospace\">Episode length: 40000.00 +/- 0.00\n",
       "</pre>\n"
      ],
      "text/plain": [
       "Episode length: 40000.00 +/- 0.00\n"
      ]
     },
     "metadata": {},
     "output_type": "display_data"
    },
    {
     "data": {
      "text/html": [
       "<pre style=\"white-space:pre;overflow-x:auto;line-height:normal;font-family:Menlo,'DejaVu Sans Mono',consolas,'Courier New',monospace\">Saving model checkpoint to ../logs/Train_PPO_40kReqs_300_v3_001/training/best_model_5359991_steps.zip\n",
       "</pre>\n"
      ],
      "text/plain": [
       "Saving model checkpoint to ../logs/Train_PPO_40kReqs_300_v3_001/training/best_model_5359991_steps.zip\n"
      ]
     },
     "metadata": {},
     "output_type": "display_data"
    },
    {
     "data": {
      "text/html": [
       "<pre style=\"white-space:pre;overflow-x:auto;line-height:normal;font-family:Menlo,'DejaVu Sans Mono',consolas,'Courier New',monospace\">Eval num_timesteps=5360000, episode_reward=39016.40 +/- 38.58\n",
       "</pre>\n"
      ],
      "text/plain": [
       "Eval num_timesteps=5360000, episode_reward=39016.40 +/- 38.58\n"
      ]
     },
     "metadata": {},
     "output_type": "display_data"
    },
    {
     "data": {
      "text/html": [
       "<pre style=\"white-space:pre;overflow-x:auto;line-height:normal;font-family:Menlo,'DejaVu Sans Mono',consolas,'Courier New',monospace\">Episode length: 40000.00 +/- 0.00\n",
       "</pre>\n"
      ],
      "text/plain": [
       "Episode length: 40000.00 +/- 0.00\n"
      ]
     },
     "metadata": {},
     "output_type": "display_data"
    },
    {
     "data": {
      "text/html": [
       "<pre style=\"white-space:pre;overflow-x:auto;line-height:normal;font-family:Menlo,'DejaVu Sans Mono',consolas,'Courier New',monospace\">Saving model checkpoint to ../logs/Train_PPO_40kReqs_300_v3_001/training/best_model_5399991_steps.zip\n",
       "</pre>\n"
      ],
      "text/plain": [
       "Saving model checkpoint to ../logs/Train_PPO_40kReqs_300_v3_001/training/best_model_5399991_steps.zip\n"
      ]
     },
     "metadata": {},
     "output_type": "display_data"
    },
    {
     "data": {
      "text/html": [
       "<pre style=\"white-space:pre;overflow-x:auto;line-height:normal;font-family:Menlo,'DejaVu Sans Mono',consolas,'Courier New',monospace\">Eval num_timesteps=5400000, episode_reward=38990.80 +/- 59.09\n",
       "</pre>\n"
      ],
      "text/plain": [
       "Eval num_timesteps=5400000, episode_reward=38990.80 +/- 59.09\n"
      ]
     },
     "metadata": {},
     "output_type": "display_data"
    },
    {
     "data": {
      "text/html": [
       "<pre style=\"white-space:pre;overflow-x:auto;line-height:normal;font-family:Menlo,'DejaVu Sans Mono',consolas,'Courier New',monospace\">Episode length: 40000.00 +/- 0.00\n",
       "</pre>\n"
      ],
      "text/plain": [
       "Episode length: 40000.00 +/- 0.00\n"
      ]
     },
     "metadata": {},
     "output_type": "display_data"
    },
    {
     "data": {
      "text/html": [
       "<pre style=\"white-space:pre;overflow-x:auto;line-height:normal;font-family:Menlo,'DejaVu Sans Mono',consolas,'Courier New',monospace\">Saving model checkpoint to ../logs/Train_PPO_40kReqs_300_v3_001/training/best_model_5439991_steps.zip\n",
       "</pre>\n"
      ],
      "text/plain": [
       "Saving model checkpoint to ../logs/Train_PPO_40kReqs_300_v3_001/training/best_model_5439991_steps.zip\n"
      ]
     },
     "metadata": {},
     "output_type": "display_data"
    },
    {
     "data": {
      "text/html": [
       "<pre style=\"white-space:pre;overflow-x:auto;line-height:normal;font-family:Menlo,'DejaVu Sans Mono',consolas,'Courier New',monospace\">Eval num_timesteps=5440000, episode_reward=39021.20 +/- 42.64\n",
       "</pre>\n"
      ],
      "text/plain": [
       "Eval num_timesteps=5440000, episode_reward=39021.20 +/- 42.64\n"
      ]
     },
     "metadata": {},
     "output_type": "display_data"
    },
    {
     "data": {
      "text/html": [
       "<pre style=\"white-space:pre;overflow-x:auto;line-height:normal;font-family:Menlo,'DejaVu Sans Mono',consolas,'Courier New',monospace\">Episode length: 40000.00 +/- 0.00\n",
       "</pre>\n"
      ],
      "text/plain": [
       "Episode length: 40000.00 +/- 0.00\n"
      ]
     },
     "metadata": {},
     "output_type": "display_data"
    },
    {
     "data": {
      "text/html": [
       "<pre style=\"white-space:pre;overflow-x:auto;line-height:normal;font-family:Menlo,'DejaVu Sans Mono',consolas,'Courier New',monospace\">Saving model checkpoint to ../logs/Train_PPO_40kReqs_300_v3_001/training/best_model_5479991_steps.zip\n",
       "</pre>\n"
      ],
      "text/plain": [
       "Saving model checkpoint to ../logs/Train_PPO_40kReqs_300_v3_001/training/best_model_5479991_steps.zip\n"
      ]
     },
     "metadata": {},
     "output_type": "display_data"
    },
    {
     "data": {
      "text/html": [
       "<pre style=\"white-space:pre;overflow-x:auto;line-height:normal;font-family:Menlo,'DejaVu Sans Mono',consolas,'Courier New',monospace\">Eval num_timesteps=5480000, episode_reward=39055.20 +/- 33.53\n",
       "</pre>\n"
      ],
      "text/plain": [
       "Eval num_timesteps=5480000, episode_reward=39055.20 +/- 33.53\n"
      ]
     },
     "metadata": {},
     "output_type": "display_data"
    },
    {
     "data": {
      "text/html": [
       "<pre style=\"white-space:pre;overflow-x:auto;line-height:normal;font-family:Menlo,'DejaVu Sans Mono',consolas,'Courier New',monospace\">Episode length: 40000.00 +/- 0.00\n",
       "</pre>\n"
      ],
      "text/plain": [
       "Episode length: 40000.00 +/- 0.00\n"
      ]
     },
     "metadata": {},
     "output_type": "display_data"
    },
    {
     "data": {
      "text/html": [
       "<pre style=\"white-space:pre;overflow-x:auto;line-height:normal;font-family:Menlo,'DejaVu Sans Mono',consolas,'Courier New',monospace\">Saving model checkpoint to ../logs/Train_PPO_40kReqs_300_v3_001/training/best_model_5519991_steps.zip\n",
       "</pre>\n"
      ],
      "text/plain": [
       "Saving model checkpoint to ../logs/Train_PPO_40kReqs_300_v3_001/training/best_model_5519991_steps.zip\n"
      ]
     },
     "metadata": {},
     "output_type": "display_data"
    },
    {
     "data": {
      "text/html": [
       "<pre style=\"white-space:pre;overflow-x:auto;line-height:normal;font-family:Menlo,'DejaVu Sans Mono',consolas,'Courier New',monospace\">Eval num_timesteps=5520000, episode_reward=39108.00 +/- 80.27\n",
       "</pre>\n"
      ],
      "text/plain": [
       "Eval num_timesteps=5520000, episode_reward=39108.00 +/- 80.27\n"
      ]
     },
     "metadata": {},
     "output_type": "display_data"
    },
    {
     "data": {
      "text/html": [
       "<pre style=\"white-space:pre;overflow-x:auto;line-height:normal;font-family:Menlo,'DejaVu Sans Mono',consolas,'Courier New',monospace\">Episode length: 40000.00 +/- 0.00\n",
       "</pre>\n"
      ],
      "text/plain": [
       "Episode length: 40000.00 +/- 0.00\n"
      ]
     },
     "metadata": {},
     "output_type": "display_data"
    },
    {
     "data": {
      "text/html": [
       "<pre style=\"white-space:pre;overflow-x:auto;line-height:normal;font-family:Menlo,'DejaVu Sans Mono',consolas,'Courier New',monospace\">Saving model checkpoint to ../logs/Train_PPO_40kReqs_300_v3_001/training/best_model_5559991_steps.zip\n",
       "</pre>\n"
      ],
      "text/plain": [
       "Saving model checkpoint to ../logs/Train_PPO_40kReqs_300_v3_001/training/best_model_5559991_steps.zip\n"
      ]
     },
     "metadata": {},
     "output_type": "display_data"
    },
    {
     "data": {
      "text/html": [
       "<pre style=\"white-space:pre;overflow-x:auto;line-height:normal;font-family:Menlo,'DejaVu Sans Mono',consolas,'Courier New',monospace\">Eval num_timesteps=5560000, episode_reward=39001.20 +/- 156.97\n",
       "</pre>\n"
      ],
      "text/plain": [
       "Eval num_timesteps=5560000, episode_reward=39001.20 +/- 156.97\n"
      ]
     },
     "metadata": {},
     "output_type": "display_data"
    },
    {
     "data": {
      "text/html": [
       "<pre style=\"white-space:pre;overflow-x:auto;line-height:normal;font-family:Menlo,'DejaVu Sans Mono',consolas,'Courier New',monospace\">Episode length: 40000.00 +/- 0.00\n",
       "</pre>\n"
      ],
      "text/plain": [
       "Episode length: 40000.00 +/- 0.00\n"
      ]
     },
     "metadata": {},
     "output_type": "display_data"
    },
    {
     "data": {
      "text/html": [
       "<pre style=\"white-space:pre;overflow-x:auto;line-height:normal;font-family:Menlo,'DejaVu Sans Mono',consolas,'Courier New',monospace\">Saving model checkpoint to ../logs/Train_PPO_40kReqs_300_v3_001/training/best_model_5599991_steps.zip\n",
       "</pre>\n"
      ],
      "text/plain": [
       "Saving model checkpoint to ../logs/Train_PPO_40kReqs_300_v3_001/training/best_model_5599991_steps.zip\n"
      ]
     },
     "metadata": {},
     "output_type": "display_data"
    },
    {
     "data": {
      "text/html": [
       "<pre style=\"white-space:pre;overflow-x:auto;line-height:normal;font-family:Menlo,'DejaVu Sans Mono',consolas,'Courier New',monospace\">Eval num_timesteps=5600000, episode_reward=39035.60 +/- 86.56\n",
       "</pre>\n"
      ],
      "text/plain": [
       "Eval num_timesteps=5600000, episode_reward=39035.60 +/- 86.56\n"
      ]
     },
     "metadata": {},
     "output_type": "display_data"
    },
    {
     "data": {
      "text/html": [
       "<pre style=\"white-space:pre;overflow-x:auto;line-height:normal;font-family:Menlo,'DejaVu Sans Mono',consolas,'Courier New',monospace\">Episode length: 40000.00 +/- 0.00\n",
       "</pre>\n"
      ],
      "text/plain": [
       "Episode length: 40000.00 +/- 0.00\n"
      ]
     },
     "metadata": {},
     "output_type": "display_data"
    },
    {
     "data": {
      "text/html": [
       "<pre style=\"white-space:pre;overflow-x:auto;line-height:normal;font-family:Menlo,'DejaVu Sans Mono',consolas,'Courier New',monospace\">Saving model checkpoint to ../logs/Train_PPO_40kReqs_300_v3_001/training/best_model_5639991_steps.zip\n",
       "</pre>\n"
      ],
      "text/plain": [
       "Saving model checkpoint to ../logs/Train_PPO_40kReqs_300_v3_001/training/best_model_5639991_steps.zip\n"
      ]
     },
     "metadata": {},
     "output_type": "display_data"
    },
    {
     "data": {
      "text/html": [
       "<pre style=\"white-space:pre;overflow-x:auto;line-height:normal;font-family:Menlo,'DejaVu Sans Mono',consolas,'Courier New',monospace\">Eval num_timesteps=5640000, episode_reward=38980.80 +/- 80.57\n",
       "</pre>\n"
      ],
      "text/plain": [
       "Eval num_timesteps=5640000, episode_reward=38980.80 +/- 80.57\n"
      ]
     },
     "metadata": {},
     "output_type": "display_data"
    },
    {
     "data": {
      "text/html": [
       "<pre style=\"white-space:pre;overflow-x:auto;line-height:normal;font-family:Menlo,'DejaVu Sans Mono',consolas,'Courier New',monospace\">Episode length: 40000.00 +/- 0.00\n",
       "</pre>\n"
      ],
      "text/plain": [
       "Episode length: 40000.00 +/- 0.00\n"
      ]
     },
     "metadata": {},
     "output_type": "display_data"
    },
    {
     "data": {
      "text/html": [
       "<pre style=\"white-space:pre;overflow-x:auto;line-height:normal;font-family:Menlo,'DejaVu Sans Mono',consolas,'Courier New',monospace\">Saving model checkpoint to ../logs/Train_PPO_40kReqs_300_v3_001/training/best_model_5679991_steps.zip\n",
       "</pre>\n"
      ],
      "text/plain": [
       "Saving model checkpoint to ../logs/Train_PPO_40kReqs_300_v3_001/training/best_model_5679991_steps.zip\n"
      ]
     },
     "metadata": {},
     "output_type": "display_data"
    },
    {
     "data": {
      "text/html": [
       "<pre style=\"white-space:pre;overflow-x:auto;line-height:normal;font-family:Menlo,'DejaVu Sans Mono',consolas,'Courier New',monospace\">Eval num_timesteps=5680000, episode_reward=39123.60 +/- 75.54\n",
       "</pre>\n"
      ],
      "text/plain": [
       "Eval num_timesteps=5680000, episode_reward=39123.60 +/- 75.54\n"
      ]
     },
     "metadata": {},
     "output_type": "display_data"
    },
    {
     "data": {
      "text/html": [
       "<pre style=\"white-space:pre;overflow-x:auto;line-height:normal;font-family:Menlo,'DejaVu Sans Mono',consolas,'Courier New',monospace\">Episode length: 40000.00 +/- 0.00\n",
       "</pre>\n"
      ],
      "text/plain": [
       "Episode length: 40000.00 +/- 0.00\n"
      ]
     },
     "metadata": {},
     "output_type": "display_data"
    },
    {
     "data": {
      "text/html": [
       "<pre style=\"white-space:pre;overflow-x:auto;line-height:normal;font-family:Menlo,'DejaVu Sans Mono',consolas,'Courier New',monospace\">Saving model checkpoint to ../logs/Train_PPO_40kReqs_300_v3_001/training/best_model_5719991_steps.zip\n",
       "</pre>\n"
      ],
      "text/plain": [
       "Saving model checkpoint to ../logs/Train_PPO_40kReqs_300_v3_001/training/best_model_5719991_steps.zip\n"
      ]
     },
     "metadata": {},
     "output_type": "display_data"
    },
    {
     "data": {
      "text/html": [
       "<pre style=\"white-space:pre;overflow-x:auto;line-height:normal;font-family:Menlo,'DejaVu Sans Mono',consolas,'Courier New',monospace\">Eval num_timesteps=5720000, episode_reward=39010.40 +/- 161.40\n",
       "</pre>\n"
      ],
      "text/plain": [
       "Eval num_timesteps=5720000, episode_reward=39010.40 +/- 161.40\n"
      ]
     },
     "metadata": {},
     "output_type": "display_data"
    },
    {
     "data": {
      "text/html": [
       "<pre style=\"white-space:pre;overflow-x:auto;line-height:normal;font-family:Menlo,'DejaVu Sans Mono',consolas,'Courier New',monospace\">Episode length: 40000.00 +/- 0.00\n",
       "</pre>\n"
      ],
      "text/plain": [
       "Episode length: 40000.00 +/- 0.00\n"
      ]
     },
     "metadata": {},
     "output_type": "display_data"
    },
    {
     "data": {
      "text/html": [
       "<pre style=\"white-space:pre;overflow-x:auto;line-height:normal;font-family:Menlo,'DejaVu Sans Mono',consolas,'Courier New',monospace\">Saving model checkpoint to ../logs/Train_PPO_40kReqs_300_v3_001/training/best_model_5759991_steps.zip\n",
       "</pre>\n"
      ],
      "text/plain": [
       "Saving model checkpoint to ../logs/Train_PPO_40kReqs_300_v3_001/training/best_model_5759991_steps.zip\n"
      ]
     },
     "metadata": {},
     "output_type": "display_data"
    },
    {
     "data": {
      "text/html": [
       "<pre style=\"white-space:pre;overflow-x:auto;line-height:normal;font-family:Menlo,'DejaVu Sans Mono',consolas,'Courier New',monospace\">Eval num_timesteps=5760000, episode_reward=39004.00 +/- 136.70\n",
       "</pre>\n"
      ],
      "text/plain": [
       "Eval num_timesteps=5760000, episode_reward=39004.00 +/- 136.70\n"
      ]
     },
     "metadata": {},
     "output_type": "display_data"
    },
    {
     "data": {
      "text/html": [
       "<pre style=\"white-space:pre;overflow-x:auto;line-height:normal;font-family:Menlo,'DejaVu Sans Mono',consolas,'Courier New',monospace\">Saving model checkpoint to ../logs/Train_PPO_40kReqs_300_v3_001/training/best_model_5799991_steps.zip\n",
       "</pre>\n"
      ],
      "text/plain": [
       "Saving model checkpoint to ../logs/Train_PPO_40kReqs_300_v3_001/training/best_model_5799991_steps.zip\n"
      ]
     },
     "metadata": {},
     "output_type": "display_data"
    },
    {
     "data": {
      "text/html": [
       "<pre style=\"white-space:pre;overflow-x:auto;line-height:normal;font-family:Menlo,'DejaVu Sans Mono',consolas,'Courier New',monospace\">Eval num_timesteps=5800000, episode_reward=39043.20 +/- 105.06\n",
       "</pre>\n"
      ],
      "text/plain": [
       "Eval num_timesteps=5800000, episode_reward=39043.20 +/- 105.06\n"
      ]
     },
     "metadata": {},
     "output_type": "display_data"
    },
    {
     "data": {
      "text/html": [
       "<pre style=\"white-space:pre;overflow-x:auto;line-height:normal;font-family:Menlo,'DejaVu Sans Mono',consolas,'Courier New',monospace\">Episode length: 40000.00 +/- 0.00\n",
       "</pre>\n"
      ],
      "text/plain": [
       "Episode length: 40000.00 +/- 0.00\n"
      ]
     },
     "metadata": {},
     "output_type": "display_data"
    },
    {
     "data": {
      "text/html": [
       "<pre style=\"white-space:pre;overflow-x:auto;line-height:normal;font-family:Menlo,'DejaVu Sans Mono',consolas,'Courier New',monospace\">Saving model checkpoint to ../logs/Train_PPO_40kReqs_300_v3_001/training/best_model_5839991_steps.zip\n",
       "</pre>\n"
      ],
      "text/plain": [
       "Saving model checkpoint to ../logs/Train_PPO_40kReqs_300_v3_001/training/best_model_5839991_steps.zip\n"
      ]
     },
     "metadata": {},
     "output_type": "display_data"
    },
    {
     "data": {
      "text/html": [
       "<pre style=\"white-space:pre;overflow-x:auto;line-height:normal;font-family:Menlo,'DejaVu Sans Mono',consolas,'Courier New',monospace\">Eval num_timesteps=5840000, episode_reward=39084.80 +/- 156.57\n",
       "</pre>\n"
      ],
      "text/plain": [
       "Eval num_timesteps=5840000, episode_reward=39084.80 +/- 156.57\n"
      ]
     },
     "metadata": {},
     "output_type": "display_data"
    },
    {
     "data": {
      "text/html": [
       "<pre style=\"white-space:pre;overflow-x:auto;line-height:normal;font-family:Menlo,'DejaVu Sans Mono',consolas,'Courier New',monospace\">Episode length: 40000.00 +/- 0.00\n",
       "</pre>\n"
      ],
      "text/plain": [
       "Episode length: 40000.00 +/- 0.00\n"
      ]
     },
     "metadata": {},
     "output_type": "display_data"
    },
    {
     "data": {
      "text/html": [
       "<pre style=\"white-space:pre;overflow-x:auto;line-height:normal;font-family:Menlo,'DejaVu Sans Mono',consolas,'Courier New',monospace\">Saving model checkpoint to ../logs/Train_PPO_40kReqs_300_v3_001/training/best_model_5879991_steps.zip\n",
       "</pre>\n"
      ],
      "text/plain": [
       "Saving model checkpoint to ../logs/Train_PPO_40kReqs_300_v3_001/training/best_model_5879991_steps.zip\n"
      ]
     },
     "metadata": {},
     "output_type": "display_data"
    },
    {
     "data": {
      "text/html": [
       "<pre style=\"white-space:pre;overflow-x:auto;line-height:normal;font-family:Menlo,'DejaVu Sans Mono',consolas,'Courier New',monospace\">Eval num_timesteps=5880000, episode_reward=39057.20 +/- 87.71\n",
       "</pre>\n"
      ],
      "text/plain": [
       "Eval num_timesteps=5880000, episode_reward=39057.20 +/- 87.71\n"
      ]
     },
     "metadata": {},
     "output_type": "display_data"
    },
    {
     "data": {
      "text/html": [
       "<pre style=\"white-space:pre;overflow-x:auto;line-height:normal;font-family:Menlo,'DejaVu Sans Mono',consolas,'Courier New',monospace\">Episode length: 40000.00 +/- 0.00\n",
       "</pre>\n"
      ],
      "text/plain": [
       "Episode length: 40000.00 +/- 0.00\n"
      ]
     },
     "metadata": {},
     "output_type": "display_data"
    },
    {
     "data": {
      "text/html": [
       "<pre style=\"white-space:pre;overflow-x:auto;line-height:normal;font-family:Menlo,'DejaVu Sans Mono',consolas,'Courier New',monospace\">Saving model checkpoint to ../logs/Train_PPO_40kReqs_300_v3_001/training/best_model_5919991_steps.zip\n",
       "</pre>\n"
      ],
      "text/plain": [
       "Saving model checkpoint to ../logs/Train_PPO_40kReqs_300_v3_001/training/best_model_5919991_steps.zip\n"
      ]
     },
     "metadata": {},
     "output_type": "display_data"
    },
    {
     "data": {
      "text/html": [
       "<pre style=\"white-space:pre;overflow-x:auto;line-height:normal;font-family:Menlo,'DejaVu Sans Mono',consolas,'Courier New',monospace\">Eval num_timesteps=5920000, episode_reward=39026.40 +/- 109.55\n",
       "</pre>\n"
      ],
      "text/plain": [
       "Eval num_timesteps=5920000, episode_reward=39026.40 +/- 109.55\n"
      ]
     },
     "metadata": {},
     "output_type": "display_data"
    },
    {
     "data": {
      "text/html": [
       "<pre style=\"white-space:pre;overflow-x:auto;line-height:normal;font-family:Menlo,'DejaVu Sans Mono',consolas,'Courier New',monospace\">Episode length: 40000.00 +/- 0.00\n",
       "</pre>\n"
      ],
      "text/plain": [
       "Episode length: 40000.00 +/- 0.00\n"
      ]
     },
     "metadata": {},
     "output_type": "display_data"
    },
    {
     "data": {
      "text/html": [
       "<pre style=\"white-space:pre;overflow-x:auto;line-height:normal;font-family:Menlo,'DejaVu Sans Mono',consolas,'Courier New',monospace\">Saving model checkpoint to ../logs/Train_PPO_40kReqs_300_v3_001/training/best_model_5959991_steps.zip\n",
       "</pre>\n"
      ],
      "text/plain": [
       "Saving model checkpoint to ../logs/Train_PPO_40kReqs_300_v3_001/training/best_model_5959991_steps.zip\n"
      ]
     },
     "metadata": {},
     "output_type": "display_data"
    },
    {
     "data": {
      "text/html": [
       "<pre style=\"white-space:pre;overflow-x:auto;line-height:normal;font-family:Menlo,'DejaVu Sans Mono',consolas,'Courier New',monospace\">Eval num_timesteps=5960000, episode_reward=39006.00 +/- 56.84\n",
       "</pre>\n"
      ],
      "text/plain": [
       "Eval num_timesteps=5960000, episode_reward=39006.00 +/- 56.84\n"
      ]
     },
     "metadata": {},
     "output_type": "display_data"
    },
    {
     "data": {
      "text/html": [
       "<pre style=\"white-space:pre;overflow-x:auto;line-height:normal;font-family:Menlo,'DejaVu Sans Mono',consolas,'Courier New',monospace\">Episode length: 40000.00 +/- 0.00\n",
       "</pre>\n"
      ],
      "text/plain": [
       "Episode length: 40000.00 +/- 0.00\n"
      ]
     },
     "metadata": {},
     "output_type": "display_data"
    },
    {
     "data": {
      "text/html": [
       "<pre style=\"white-space:pre;overflow-x:auto;line-height:normal;font-family:Menlo,'DejaVu Sans Mono',consolas,'Courier New',monospace\">Saving model checkpoint to ../logs/Train_PPO_40kReqs_300_v3_001/training/best_model_5999991_steps.zip\n",
       "</pre>\n"
      ],
      "text/plain": [
       "Saving model checkpoint to ../logs/Train_PPO_40kReqs_300_v3_001/training/best_model_5999991_steps.zip\n"
      ]
     },
     "metadata": {},
     "output_type": "display_data"
    },
    {
     "data": {
      "text/html": [
       "<pre style=\"white-space:pre;overflow-x:auto;line-height:normal;font-family:Menlo,'DejaVu Sans Mono',consolas,'Courier New',monospace\">Eval num_timesteps=6000000, episode_reward=39019.20 +/- 52.61\n",
       "</pre>\n"
      ],
      "text/plain": [
       "Eval num_timesteps=6000000, episode_reward=39019.20 +/- 52.61\n"
      ]
     },
     "metadata": {},
     "output_type": "display_data"
    },
    {
     "data": {
      "text/html": [
       "<pre style=\"white-space:pre;overflow-x:auto;line-height:normal;font-family:Menlo,'DejaVu Sans Mono',consolas,'Courier New',monospace\">Episode length: 40000.00 +/- 0.00\n",
       "</pre>\n"
      ],
      "text/plain": [
       "Episode length: 40000.00 +/- 0.00\n"
      ]
     },
     "metadata": {},
     "output_type": "display_data"
    },
    {
     "data": {
      "text/html": [
       "<pre style=\"white-space:pre;overflow-x:auto;line-height:normal;font-family:Menlo,'DejaVu Sans Mono',consolas,'Courier New',monospace\">Saving model checkpoint to ../logs/Train_PPO_40kReqs_300_v3_001/training/best_model_6039991_steps.zip\n",
       "</pre>\n"
      ],
      "text/plain": [
       "Saving model checkpoint to ../logs/Train_PPO_40kReqs_300_v3_001/training/best_model_6039991_steps.zip\n"
      ]
     },
     "metadata": {},
     "output_type": "display_data"
    },
    {
     "data": {
      "text/html": [
       "<pre style=\"white-space:pre;overflow-x:auto;line-height:normal;font-family:Menlo,'DejaVu Sans Mono',consolas,'Courier New',monospace\">Eval num_timesteps=6040000, episode_reward=39003.20 +/- 138.54\n",
       "</pre>\n"
      ],
      "text/plain": [
       "Eval num_timesteps=6040000, episode_reward=39003.20 +/- 138.54\n"
      ]
     },
     "metadata": {},
     "output_type": "display_data"
    },
    {
     "data": {
      "text/html": [
       "<pre style=\"white-space:pre;overflow-x:auto;line-height:normal;font-family:Menlo,'DejaVu Sans Mono',consolas,'Courier New',monospace\">Episode length: 40000.00 +/- 0.00\n",
       "</pre>\n"
      ],
      "text/plain": [
       "Episode length: 40000.00 +/- 0.00\n"
      ]
     },
     "metadata": {},
     "output_type": "display_data"
    },
    {
     "data": {
      "text/html": [
       "<pre style=\"white-space:pre;overflow-x:auto;line-height:normal;font-family:Menlo,'DejaVu Sans Mono',consolas,'Courier New',monospace\">Saving model checkpoint to ../logs/Train_PPO_40kReqs_300_v3_001/training/best_model_6079991_steps.zip\n",
       "</pre>\n"
      ],
      "text/plain": [
       "Saving model checkpoint to ../logs/Train_PPO_40kReqs_300_v3_001/training/best_model_6079991_steps.zip\n"
      ]
     },
     "metadata": {},
     "output_type": "display_data"
    },
    {
     "data": {
      "text/html": [
       "<pre style=\"white-space:pre;overflow-x:auto;line-height:normal;font-family:Menlo,'DejaVu Sans Mono',consolas,'Courier New',monospace\">Eval num_timesteps=6080000, episode_reward=39046.00 +/- 98.11\n",
       "</pre>\n"
      ],
      "text/plain": [
       "Eval num_timesteps=6080000, episode_reward=39046.00 +/- 98.11\n"
      ]
     },
     "metadata": {},
     "output_type": "display_data"
    },
    {
     "data": {
      "text/html": [
       "<pre style=\"white-space:pre;overflow-x:auto;line-height:normal;font-family:Menlo,'DejaVu Sans Mono',consolas,'Courier New',monospace\">Episode length: 40000.00 +/- 0.00\n",
       "</pre>\n"
      ],
      "text/plain": [
       "Episode length: 40000.00 +/- 0.00\n"
      ]
     },
     "metadata": {},
     "output_type": "display_data"
    },
    {
     "data": {
      "text/html": [
       "<pre style=\"white-space:pre;overflow-x:auto;line-height:normal;font-family:Menlo,'DejaVu Sans Mono',consolas,'Courier New',monospace\">Saving model checkpoint to ../logs/Train_PPO_40kReqs_300_v3_001/training/best_model_6119991_steps.zip\n",
       "</pre>\n"
      ],
      "text/plain": [
       "Saving model checkpoint to ../logs/Train_PPO_40kReqs_300_v3_001/training/best_model_6119991_steps.zip\n"
      ]
     },
     "metadata": {},
     "output_type": "display_data"
    },
    {
     "data": {
      "text/html": [
       "<pre style=\"white-space:pre;overflow-x:auto;line-height:normal;font-family:Menlo,'DejaVu Sans Mono',consolas,'Courier New',monospace\">Eval num_timesteps=6120000, episode_reward=39024.80 +/- 100.12\n",
       "</pre>\n"
      ],
      "text/plain": [
       "Eval num_timesteps=6120000, episode_reward=39024.80 +/- 100.12\n"
      ]
     },
     "metadata": {},
     "output_type": "display_data"
    },
    {
     "data": {
      "text/html": [
       "<pre style=\"white-space:pre;overflow-x:auto;line-height:normal;font-family:Menlo,'DejaVu Sans Mono',consolas,'Courier New',monospace\">Episode length: 40000.00 +/- 0.00\n",
       "</pre>\n"
      ],
      "text/plain": [
       "Episode length: 40000.00 +/- 0.00\n"
      ]
     },
     "metadata": {},
     "output_type": "display_data"
    },
    {
     "data": {
      "text/html": [
       "<pre style=\"white-space:pre;overflow-x:auto;line-height:normal;font-family:Menlo,'DejaVu Sans Mono',consolas,'Courier New',monospace\">Saving model checkpoint to ../logs/Train_PPO_40kReqs_300_v3_001/training/best_model_6159991_steps.zip\n",
       "</pre>\n"
      ],
      "text/plain": [
       "Saving model checkpoint to ../logs/Train_PPO_40kReqs_300_v3_001/training/best_model_6159991_steps.zip\n"
      ]
     },
     "metadata": {},
     "output_type": "display_data"
    },
    {
     "data": {
      "text/html": [
       "<pre style=\"white-space:pre;overflow-x:auto;line-height:normal;font-family:Menlo,'DejaVu Sans Mono',consolas,'Courier New',monospace\">Eval num_timesteps=6160000, episode_reward=38994.40 +/- 120.20\n",
       "</pre>\n"
      ],
      "text/plain": [
       "Eval num_timesteps=6160000, episode_reward=38994.40 +/- 120.20\n"
      ]
     },
     "metadata": {},
     "output_type": "display_data"
    },
    {
     "data": {
      "text/html": [
       "<pre style=\"white-space:pre;overflow-x:auto;line-height:normal;font-family:Menlo,'DejaVu Sans Mono',consolas,'Courier New',monospace\">Episode length: 40000.00 +/- 0.00\n",
       "</pre>\n"
      ],
      "text/plain": [
       "Episode length: 40000.00 +/- 0.00\n"
      ]
     },
     "metadata": {},
     "output_type": "display_data"
    },
    {
     "data": {
      "text/html": [
       "<pre style=\"white-space:pre;overflow-x:auto;line-height:normal;font-family:Menlo,'DejaVu Sans Mono',consolas,'Courier New',monospace\">Saving model checkpoint to ../logs/Train_PPO_40kReqs_300_v3_001/training/best_model_6199991_steps.zip\n",
       "</pre>\n"
      ],
      "text/plain": [
       "Saving model checkpoint to ../logs/Train_PPO_40kReqs_300_v3_001/training/best_model_6199991_steps.zip\n"
      ]
     },
     "metadata": {},
     "output_type": "display_data"
    },
    {
     "data": {
      "text/html": [
       "<pre style=\"white-space:pre;overflow-x:auto;line-height:normal;font-family:Menlo,'DejaVu Sans Mono',consolas,'Courier New',monospace\">Eval num_timesteps=6200000, episode_reward=39025.60 +/- 128.68\n",
       "</pre>\n"
      ],
      "text/plain": [
       "Eval num_timesteps=6200000, episode_reward=39025.60 +/- 128.68\n"
      ]
     },
     "metadata": {},
     "output_type": "display_data"
    },
    {
     "data": {
      "text/html": [
       "<pre style=\"white-space:pre;overflow-x:auto;line-height:normal;font-family:Menlo,'DejaVu Sans Mono',consolas,'Courier New',monospace\">Episode length: 40000.00 +/- 0.00\n",
       "</pre>\n"
      ],
      "text/plain": [
       "Episode length: 40000.00 +/- 0.00\n"
      ]
     },
     "metadata": {},
     "output_type": "display_data"
    },
    {
     "data": {
      "text/html": [
       "<pre style=\"white-space:pre;overflow-x:auto;line-height:normal;font-family:Menlo,'DejaVu Sans Mono',consolas,'Courier New',monospace\">Saving model checkpoint to ../logs/Train_PPO_40kReqs_300_v3_001/training/best_model_6239991_steps.zip\n",
       "</pre>\n"
      ],
      "text/plain": [
       "Saving model checkpoint to ../logs/Train_PPO_40kReqs_300_v3_001/training/best_model_6239991_steps.zip\n"
      ]
     },
     "metadata": {},
     "output_type": "display_data"
    },
    {
     "data": {
      "text/html": [
       "<pre style=\"white-space:pre;overflow-x:auto;line-height:normal;font-family:Menlo,'DejaVu Sans Mono',consolas,'Courier New',monospace\">Eval num_timesteps=6240000, episode_reward=39046.40 +/- 61.28\n",
       "</pre>\n"
      ],
      "text/plain": [
       "Eval num_timesteps=6240000, episode_reward=39046.40 +/- 61.28\n"
      ]
     },
     "metadata": {},
     "output_type": "display_data"
    },
    {
     "data": {
      "text/html": [
       "<pre style=\"white-space:pre;overflow-x:auto;line-height:normal;font-family:Menlo,'DejaVu Sans Mono',consolas,'Courier New',monospace\">Episode length: 40000.00 +/- 0.00\n",
       "</pre>\n"
      ],
      "text/plain": [
       "Episode length: 40000.00 +/- 0.00\n"
      ]
     },
     "metadata": {},
     "output_type": "display_data"
    },
    {
     "data": {
      "text/html": [
       "<pre style=\"white-space:pre;overflow-x:auto;line-height:normal;font-family:Menlo,'DejaVu Sans Mono',consolas,'Courier New',monospace\">Saving model checkpoint to ../logs/Train_PPO_40kReqs_300_v3_001/training/best_model_6279991_steps.zip\n",
       "</pre>\n"
      ],
      "text/plain": [
       "Saving model checkpoint to ../logs/Train_PPO_40kReqs_300_v3_001/training/best_model_6279991_steps.zip\n"
      ]
     },
     "metadata": {},
     "output_type": "display_data"
    },
    {
     "data": {
      "text/html": [
       "<pre style=\"white-space:pre;overflow-x:auto;line-height:normal;font-family:Menlo,'DejaVu Sans Mono',consolas,'Courier New',monospace\">Eval num_timesteps=6280000, episode_reward=38956.00 +/- 66.57\n",
       "</pre>\n"
      ],
      "text/plain": [
       "Eval num_timesteps=6280000, episode_reward=38956.00 +/- 66.57\n"
      ]
     },
     "metadata": {},
     "output_type": "display_data"
    },
    {
     "data": {
      "text/html": [
       "<pre style=\"white-space:pre;overflow-x:auto;line-height:normal;font-family:Menlo,'DejaVu Sans Mono',consolas,'Courier New',monospace\">Episode length: 40000.00 +/- 0.00\n",
       "</pre>\n"
      ],
      "text/plain": [
       "Episode length: 40000.00 +/- 0.00\n"
      ]
     },
     "metadata": {},
     "output_type": "display_data"
    },
    {
     "data": {
      "text/html": [
       "<pre style=\"white-space:pre;overflow-x:auto;line-height:normal;font-family:Menlo,'DejaVu Sans Mono',consolas,'Courier New',monospace\">Saving model checkpoint to ../logs/Train_PPO_40kReqs_300_v3_001/training/best_model_6319991_steps.zip\n",
       "</pre>\n"
      ],
      "text/plain": [
       "Saving model checkpoint to ../logs/Train_PPO_40kReqs_300_v3_001/training/best_model_6319991_steps.zip\n"
      ]
     },
     "metadata": {},
     "output_type": "display_data"
    },
    {
     "data": {
      "text/html": [
       "<pre style=\"white-space:pre;overflow-x:auto;line-height:normal;font-family:Menlo,'DejaVu Sans Mono',consolas,'Courier New',monospace\">Eval num_timesteps=6320000, episode_reward=39028.00 +/- 109.81\n",
       "</pre>\n"
      ],
      "text/plain": [
       "Eval num_timesteps=6320000, episode_reward=39028.00 +/- 109.81\n"
      ]
     },
     "metadata": {},
     "output_type": "display_data"
    },
    {
     "data": {
      "text/html": [
       "<pre style=\"white-space:pre;overflow-x:auto;line-height:normal;font-family:Menlo,'DejaVu Sans Mono',consolas,'Courier New',monospace\">Episode length: 40000.00 +/- 0.00\n",
       "</pre>\n"
      ],
      "text/plain": [
       "Episode length: 40000.00 +/- 0.00\n"
      ]
     },
     "metadata": {},
     "output_type": "display_data"
    },
    {
     "data": {
      "text/html": [
       "<pre style=\"white-space:pre;overflow-x:auto;line-height:normal;font-family:Menlo,'DejaVu Sans Mono',consolas,'Courier New',monospace\">Saving model checkpoint to ../logs/Train_PPO_40kReqs_300_v3_001/training/best_model_6359991_steps.zip\n",
       "</pre>\n"
      ],
      "text/plain": [
       "Saving model checkpoint to ../logs/Train_PPO_40kReqs_300_v3_001/training/best_model_6359991_steps.zip\n"
      ]
     },
     "metadata": {},
     "output_type": "display_data"
    },
    {
     "data": {
      "text/html": [
       "<pre style=\"white-space:pre;overflow-x:auto;line-height:normal;font-family:Menlo,'DejaVu Sans Mono',consolas,'Courier New',monospace\">Eval num_timesteps=6360000, episode_reward=39084.00 +/- 44.33\n",
       "</pre>\n"
      ],
      "text/plain": [
       "Eval num_timesteps=6360000, episode_reward=39084.00 +/- 44.33\n"
      ]
     },
     "metadata": {},
     "output_type": "display_data"
    },
    {
     "data": {
      "text/html": [
       "<pre style=\"white-space:pre;overflow-x:auto;line-height:normal;font-family:Menlo,'DejaVu Sans Mono',consolas,'Courier New',monospace\">Episode length: 40000.00 +/- 0.00\n",
       "</pre>\n"
      ],
      "text/plain": [
       "Episode length: 40000.00 +/- 0.00\n"
      ]
     },
     "metadata": {},
     "output_type": "display_data"
    },
    {
     "data": {
      "text/html": [
       "<pre style=\"white-space:pre;overflow-x:auto;line-height:normal;font-family:Menlo,'DejaVu Sans Mono',consolas,'Courier New',monospace\">Saving model checkpoint to ../logs/Train_PPO_40kReqs_300_v3_001/training/best_model_6399991_steps.zip\n",
       "</pre>\n"
      ],
      "text/plain": [
       "Saving model checkpoint to ../logs/Train_PPO_40kReqs_300_v3_001/training/best_model_6399991_steps.zip\n"
      ]
     },
     "metadata": {},
     "output_type": "display_data"
    },
    {
     "data": {
      "text/html": [
       "<pre style=\"white-space:pre;overflow-x:auto;line-height:normal;font-family:Menlo,'DejaVu Sans Mono',consolas,'Courier New',monospace\">Eval num_timesteps=6400000, episode_reward=38996.40 +/- 106.91\n",
       "</pre>\n"
      ],
      "text/plain": [
       "Eval num_timesteps=6400000, episode_reward=38996.40 +/- 106.91\n"
      ]
     },
     "metadata": {},
     "output_type": "display_data"
    },
    {
     "data": {
      "text/html": [
       "<pre style=\"white-space:pre;overflow-x:auto;line-height:normal;font-family:Menlo,'DejaVu Sans Mono',consolas,'Courier New',monospace\">Episode length: 40000.00 +/- 0.00\n",
       "</pre>\n"
      ],
      "text/plain": [
       "Episode length: 40000.00 +/- 0.00\n"
      ]
     },
     "metadata": {},
     "output_type": "display_data"
    },
    {
     "data": {
      "text/html": [
       "<pre style=\"white-space:pre;overflow-x:auto;line-height:normal;font-family:Menlo,'DejaVu Sans Mono',consolas,'Courier New',monospace\">Saving model checkpoint to ../logs/Train_PPO_40kReqs_300_v3_001/training/best_model_6439991_steps.zip\n",
       "</pre>\n"
      ],
      "text/plain": [
       "Saving model checkpoint to ../logs/Train_PPO_40kReqs_300_v3_001/training/best_model_6439991_steps.zip\n"
      ]
     },
     "metadata": {},
     "output_type": "display_data"
    },
    {
     "data": {
      "text/html": [
       "<pre style=\"white-space:pre;overflow-x:auto;line-height:normal;font-family:Menlo,'DejaVu Sans Mono',consolas,'Courier New',monospace\">Eval num_timesteps=6440000, episode_reward=39091.20 +/- 124.19\n",
       "</pre>\n"
      ],
      "text/plain": [
       "Eval num_timesteps=6440000, episode_reward=39091.20 +/- 124.19\n"
      ]
     },
     "metadata": {},
     "output_type": "display_data"
    },
    {
     "data": {
      "text/html": [
       "<pre style=\"white-space:pre;overflow-x:auto;line-height:normal;font-family:Menlo,'DejaVu Sans Mono',consolas,'Courier New',monospace\">Episode length: 40000.00 +/- 0.00\n",
       "</pre>\n"
      ],
      "text/plain": [
       "Episode length: 40000.00 +/- 0.00\n"
      ]
     },
     "metadata": {},
     "output_type": "display_data"
    },
    {
     "data": {
      "text/html": [
       "<pre style=\"white-space:pre;overflow-x:auto;line-height:normal;font-family:Menlo,'DejaVu Sans Mono',consolas,'Courier New',monospace\">Saving model checkpoint to ../logs/Train_PPO_40kReqs_300_v3_001/training/best_model_6479991_steps.zip\n",
       "</pre>\n"
      ],
      "text/plain": [
       "Saving model checkpoint to ../logs/Train_PPO_40kReqs_300_v3_001/training/best_model_6479991_steps.zip\n"
      ]
     },
     "metadata": {},
     "output_type": "display_data"
    },
    {
     "data": {
      "text/html": [
       "<pre style=\"white-space:pre;overflow-x:auto;line-height:normal;font-family:Menlo,'DejaVu Sans Mono',consolas,'Courier New',monospace\">Eval num_timesteps=6480000, episode_reward=39070.80 +/- 95.81\n",
       "</pre>\n"
      ],
      "text/plain": [
       "Eval num_timesteps=6480000, episode_reward=39070.80 +/- 95.81\n"
      ]
     },
     "metadata": {},
     "output_type": "display_data"
    },
    {
     "data": {
      "text/html": [
       "<pre style=\"white-space:pre;overflow-x:auto;line-height:normal;font-family:Menlo,'DejaVu Sans Mono',consolas,'Courier New',monospace\">Episode length: 40000.00 +/- 0.00\n",
       "</pre>\n"
      ],
      "text/plain": [
       "Episode length: 40000.00 +/- 0.00\n"
      ]
     },
     "metadata": {},
     "output_type": "display_data"
    },
    {
     "data": {
      "text/html": [
       "<pre style=\"white-space:pre;overflow-x:auto;line-height:normal;font-family:Menlo,'DejaVu Sans Mono',consolas,'Courier New',monospace\">Saving model checkpoint to ../logs/Train_PPO_40kReqs_300_v3_001/training/best_model_6519991_steps.zip\n",
       "</pre>\n"
      ],
      "text/plain": [
       "Saving model checkpoint to ../logs/Train_PPO_40kReqs_300_v3_001/training/best_model_6519991_steps.zip\n"
      ]
     },
     "metadata": {},
     "output_type": "display_data"
    },
    {
     "data": {
      "text/html": [
       "<pre style=\"white-space:pre;overflow-x:auto;line-height:normal;font-family:Menlo,'DejaVu Sans Mono',consolas,'Courier New',monospace\">Eval num_timesteps=6520000, episode_reward=39071.60 +/- 87.15\n",
       "</pre>\n"
      ],
      "text/plain": [
       "Eval num_timesteps=6520000, episode_reward=39071.60 +/- 87.15\n"
      ]
     },
     "metadata": {},
     "output_type": "display_data"
    },
    {
     "data": {
      "text/html": [
       "<pre style=\"white-space:pre;overflow-x:auto;line-height:normal;font-family:Menlo,'DejaVu Sans Mono',consolas,'Courier New',monospace\">Episode length: 40000.00 +/- 0.00\n",
       "</pre>\n"
      ],
      "text/plain": [
       "Episode length: 40000.00 +/- 0.00\n"
      ]
     },
     "metadata": {},
     "output_type": "display_data"
    },
    {
     "data": {
      "text/html": [
       "<pre style=\"white-space:pre;overflow-x:auto;line-height:normal;font-family:Menlo,'DejaVu Sans Mono',consolas,'Courier New',monospace\">Saving model checkpoint to ../logs/Train_PPO_40kReqs_300_v3_001/training/best_model_6559991_steps.zip\n",
       "</pre>\n"
      ],
      "text/plain": [
       "Saving model checkpoint to ../logs/Train_PPO_40kReqs_300_v3_001/training/best_model_6559991_steps.zip\n"
      ]
     },
     "metadata": {},
     "output_type": "display_data"
    },
    {
     "data": {
      "text/html": [
       "<pre style=\"white-space:pre;overflow-x:auto;line-height:normal;font-family:Menlo,'DejaVu Sans Mono',consolas,'Courier New',monospace\">Eval num_timesteps=6560000, episode_reward=39032.80 +/- 65.95\n",
       "</pre>\n"
      ],
      "text/plain": [
       "Eval num_timesteps=6560000, episode_reward=39032.80 +/- 65.95\n"
      ]
     },
     "metadata": {},
     "output_type": "display_data"
    },
    {
     "data": {
      "text/html": [
       "<pre style=\"white-space:pre;overflow-x:auto;line-height:normal;font-family:Menlo,'DejaVu Sans Mono',consolas,'Courier New',monospace\">Episode length: 40000.00 +/- 0.00\n",
       "</pre>\n"
      ],
      "text/plain": [
       "Episode length: 40000.00 +/- 0.00\n"
      ]
     },
     "metadata": {},
     "output_type": "display_data"
    },
    {
     "data": {
      "text/html": [
       "<pre style=\"white-space:pre;overflow-x:auto;line-height:normal;font-family:Menlo,'DejaVu Sans Mono',consolas,'Courier New',monospace\">Saving model checkpoint to ../logs/Train_PPO_40kReqs_300_v3_001/training/best_model_6599991_steps.zip\n",
       "</pre>\n"
      ],
      "text/plain": [
       "Saving model checkpoint to ../logs/Train_PPO_40kReqs_300_v3_001/training/best_model_6599991_steps.zip\n"
      ]
     },
     "metadata": {},
     "output_type": "display_data"
    },
    {
     "data": {
      "text/html": [
       "<pre style=\"white-space:pre;overflow-x:auto;line-height:normal;font-family:Menlo,'DejaVu Sans Mono',consolas,'Courier New',monospace\">Eval num_timesteps=6600000, episode_reward=39054.00 +/- 126.03\n",
       "</pre>\n"
      ],
      "text/plain": [
       "Eval num_timesteps=6600000, episode_reward=39054.00 +/- 126.03\n"
      ]
     },
     "metadata": {},
     "output_type": "display_data"
    },
    {
     "data": {
      "text/html": [
       "<pre style=\"white-space:pre;overflow-x:auto;line-height:normal;font-family:Menlo,'DejaVu Sans Mono',consolas,'Courier New',monospace\">Episode length: 40000.00 +/- 0.00\n",
       "</pre>\n"
      ],
      "text/plain": [
       "Episode length: 40000.00 +/- 0.00\n"
      ]
     },
     "metadata": {},
     "output_type": "display_data"
    },
    {
     "data": {
      "text/html": [
       "<pre style=\"white-space:pre;overflow-x:auto;line-height:normal;font-family:Menlo,'DejaVu Sans Mono',consolas,'Courier New',monospace\">Saving model checkpoint to ../logs/Train_PPO_40kReqs_300_v3_001/training/best_model_6639991_steps.zip\n",
       "</pre>\n"
      ],
      "text/plain": [
       "Saving model checkpoint to ../logs/Train_PPO_40kReqs_300_v3_001/training/best_model_6639991_steps.zip\n"
      ]
     },
     "metadata": {},
     "output_type": "display_data"
    },
    {
     "data": {
      "text/html": [
       "<pre style=\"white-space:pre;overflow-x:auto;line-height:normal;font-family:Menlo,'DejaVu Sans Mono',consolas,'Courier New',monospace\">Eval num_timesteps=6640000, episode_reward=39135.20 +/- 114.11\n",
       "</pre>\n"
      ],
      "text/plain": [
       "Eval num_timesteps=6640000, episode_reward=39135.20 +/- 114.11\n"
      ]
     },
     "metadata": {},
     "output_type": "display_data"
    },
    {
     "data": {
      "text/html": [
       "<pre style=\"white-space:pre;overflow-x:auto;line-height:normal;font-family:Menlo,'DejaVu Sans Mono',consolas,'Courier New',monospace\">Episode length: 40000.00 +/- 0.00\n",
       "</pre>\n"
      ],
      "text/plain": [
       "Episode length: 40000.00 +/- 0.00\n"
      ]
     },
     "metadata": {},
     "output_type": "display_data"
    },
    {
     "data": {
      "text/html": [
       "<pre style=\"white-space:pre;overflow-x:auto;line-height:normal;font-family:Menlo,'DejaVu Sans Mono',consolas,'Courier New',monospace\">Saving model checkpoint to ../logs/Train_PPO_40kReqs_300_v3_001/training/best_model_6679991_steps.zip\n",
       "</pre>\n"
      ],
      "text/plain": [
       "Saving model checkpoint to ../logs/Train_PPO_40kReqs_300_v3_001/training/best_model_6679991_steps.zip\n"
      ]
     },
     "metadata": {},
     "output_type": "display_data"
    },
    {
     "data": {
      "text/html": [
       "<pre style=\"white-space:pre;overflow-x:auto;line-height:normal;font-family:Menlo,'DejaVu Sans Mono',consolas,'Courier New',monospace\">Eval num_timesteps=6680000, episode_reward=39024.80 +/- 78.47\n",
       "</pre>\n"
      ],
      "text/plain": [
       "Eval num_timesteps=6680000, episode_reward=39024.80 +/- 78.47\n"
      ]
     },
     "metadata": {},
     "output_type": "display_data"
    },
    {
     "data": {
      "text/html": [
       "<pre style=\"white-space:pre;overflow-x:auto;line-height:normal;font-family:Menlo,'DejaVu Sans Mono',consolas,'Courier New',monospace\">Episode length: 40000.00 +/- 0.00\n",
       "</pre>\n"
      ],
      "text/plain": [
       "Episode length: 40000.00 +/- 0.00\n"
      ]
     },
     "metadata": {},
     "output_type": "display_data"
    },
    {
     "data": {
      "text/html": [
       "<pre style=\"white-space:pre;overflow-x:auto;line-height:normal;font-family:Menlo,'DejaVu Sans Mono',consolas,'Courier New',monospace\">Saving model checkpoint to ../logs/Train_PPO_40kReqs_300_v3_001/training/best_model_6719991_steps.zip\n",
       "</pre>\n"
      ],
      "text/plain": [
       "Saving model checkpoint to ../logs/Train_PPO_40kReqs_300_v3_001/training/best_model_6719991_steps.zip\n"
      ]
     },
     "metadata": {},
     "output_type": "display_data"
    },
    {
     "data": {
      "text/html": [
       "<pre style=\"white-space:pre;overflow-x:auto;line-height:normal;font-family:Menlo,'DejaVu Sans Mono',consolas,'Courier New',monospace\">Eval num_timesteps=6720000, episode_reward=39069.20 +/- 85.73\n",
       "</pre>\n"
      ],
      "text/plain": [
       "Eval num_timesteps=6720000, episode_reward=39069.20 +/- 85.73\n"
      ]
     },
     "metadata": {},
     "output_type": "display_data"
    },
    {
     "data": {
      "text/html": [
       "<pre style=\"white-space:pre;overflow-x:auto;line-height:normal;font-family:Menlo,'DejaVu Sans Mono',consolas,'Courier New',monospace\">Episode length: 40000.00 +/- 0.00\n",
       "</pre>\n"
      ],
      "text/plain": [
       "Episode length: 40000.00 +/- 0.00\n"
      ]
     },
     "metadata": {},
     "output_type": "display_data"
    },
    {
     "data": {
      "text/html": [
       "<pre style=\"white-space:pre;overflow-x:auto;line-height:normal;font-family:Menlo,'DejaVu Sans Mono',consolas,'Courier New',monospace\">Saving model checkpoint to ../logs/Train_PPO_40kReqs_300_v3_001/training/best_model_6759991_steps.zip\n",
       "</pre>\n"
      ],
      "text/plain": [
       "Saving model checkpoint to ../logs/Train_PPO_40kReqs_300_v3_001/training/best_model_6759991_steps.zip\n"
      ]
     },
     "metadata": {},
     "output_type": "display_data"
    },
    {
     "data": {
      "text/html": [
       "<pre style=\"white-space:pre;overflow-x:auto;line-height:normal;font-family:Menlo,'DejaVu Sans Mono',consolas,'Courier New',monospace\">Eval num_timesteps=6760000, episode_reward=39003.20 +/- 99.84\n",
       "</pre>\n"
      ],
      "text/plain": [
       "Eval num_timesteps=6760000, episode_reward=39003.20 +/- 99.84\n"
      ]
     },
     "metadata": {},
     "output_type": "display_data"
    },
    {
     "data": {
      "text/html": [
       "<pre style=\"white-space:pre;overflow-x:auto;line-height:normal;font-family:Menlo,'DejaVu Sans Mono',consolas,'Courier New',monospace\">Episode length: 40000.00 +/- 0.00\n",
       "</pre>\n"
      ],
      "text/plain": [
       "Episode length: 40000.00 +/- 0.00\n"
      ]
     },
     "metadata": {},
     "output_type": "display_data"
    },
    {
     "data": {
      "text/html": [
       "<pre style=\"white-space:pre;overflow-x:auto;line-height:normal;font-family:Menlo,'DejaVu Sans Mono',consolas,'Courier New',monospace\">Saving model checkpoint to ../logs/Train_PPO_40kReqs_300_v3_001/training/best_model_6799991_steps.zip\n",
       "</pre>\n"
      ],
      "text/plain": [
       "Saving model checkpoint to ../logs/Train_PPO_40kReqs_300_v3_001/training/best_model_6799991_steps.zip\n"
      ]
     },
     "metadata": {},
     "output_type": "display_data"
    },
    {
     "data": {
      "text/html": [
       "<pre style=\"white-space:pre;overflow-x:auto;line-height:normal;font-family:Menlo,'DejaVu Sans Mono',consolas,'Courier New',monospace\">Eval num_timesteps=6800000, episode_reward=39020.00 +/- 116.21\n",
       "</pre>\n"
      ],
      "text/plain": [
       "Eval num_timesteps=6800000, episode_reward=39020.00 +/- 116.21\n"
      ]
     },
     "metadata": {},
     "output_type": "display_data"
    },
    {
     "data": {
      "text/html": [
       "<pre style=\"white-space:pre;overflow-x:auto;line-height:normal;font-family:Menlo,'DejaVu Sans Mono',consolas,'Courier New',monospace\">Episode length: 40000.00 +/- 0.00\n",
       "</pre>\n"
      ],
      "text/plain": [
       "Episode length: 40000.00 +/- 0.00\n"
      ]
     },
     "metadata": {},
     "output_type": "display_data"
    },
    {
     "data": {
      "text/html": [
       "<pre style=\"white-space:pre;overflow-x:auto;line-height:normal;font-family:Menlo,'DejaVu Sans Mono',consolas,'Courier New',monospace\">Saving model checkpoint to ../logs/Train_PPO_40kReqs_300_v3_001/training/best_model_6839991_steps.zip\n",
       "</pre>\n"
      ],
      "text/plain": [
       "Saving model checkpoint to ../logs/Train_PPO_40kReqs_300_v3_001/training/best_model_6839991_steps.zip\n"
      ]
     },
     "metadata": {},
     "output_type": "display_data"
    },
    {
     "data": {
      "text/html": [
       "<pre style=\"white-space:pre;overflow-x:auto;line-height:normal;font-family:Menlo,'DejaVu Sans Mono',consolas,'Courier New',monospace\">Eval num_timesteps=6840000, episode_reward=39030.40 +/- 51.85\n",
       "</pre>\n"
      ],
      "text/plain": [
       "Eval num_timesteps=6840000, episode_reward=39030.40 +/- 51.85\n"
      ]
     },
     "metadata": {},
     "output_type": "display_data"
    },
    {
     "data": {
      "text/html": [
       "<pre style=\"white-space:pre;overflow-x:auto;line-height:normal;font-family:Menlo,'DejaVu Sans Mono',consolas,'Courier New',monospace\">Episode length: 40000.00 +/- 0.00\n",
       "</pre>\n"
      ],
      "text/plain": [
       "Episode length: 40000.00 +/- 0.00\n"
      ]
     },
     "metadata": {},
     "output_type": "display_data"
    },
    {
     "data": {
      "text/html": [
       "<pre style=\"white-space:pre;overflow-x:auto;line-height:normal;font-family:Menlo,'DejaVu Sans Mono',consolas,'Courier New',monospace\">Saving model checkpoint to ../logs/Train_PPO_40kReqs_300_v3_001/training/best_model_6879991_steps.zip\n",
       "</pre>\n"
      ],
      "text/plain": [
       "Saving model checkpoint to ../logs/Train_PPO_40kReqs_300_v3_001/training/best_model_6879991_steps.zip\n"
      ]
     },
     "metadata": {},
     "output_type": "display_data"
    },
    {
     "data": {
      "text/html": [
       "<pre style=\"white-space:pre;overflow-x:auto;line-height:normal;font-family:Menlo,'DejaVu Sans Mono',consolas,'Courier New',monospace\">Eval num_timesteps=6880000, episode_reward=38990.80 +/- 59.98\n",
       "</pre>\n"
      ],
      "text/plain": [
       "Eval num_timesteps=6880000, episode_reward=38990.80 +/- 59.98\n"
      ]
     },
     "metadata": {},
     "output_type": "display_data"
    },
    {
     "data": {
      "text/html": [
       "<pre style=\"white-space:pre;overflow-x:auto;line-height:normal;font-family:Menlo,'DejaVu Sans Mono',consolas,'Courier New',monospace\">Episode length: 40000.00 +/- 0.00\n",
       "</pre>\n"
      ],
      "text/plain": [
       "Episode length: 40000.00 +/- 0.00\n"
      ]
     },
     "metadata": {},
     "output_type": "display_data"
    },
    {
     "data": {
      "text/html": [
       "<pre style=\"white-space:pre;overflow-x:auto;line-height:normal;font-family:Menlo,'DejaVu Sans Mono',consolas,'Courier New',monospace\">Saving model checkpoint to ../logs/Train_PPO_40kReqs_300_v3_001/training/best_model_6919991_steps.zip\n",
       "</pre>\n"
      ],
      "text/plain": [
       "Saving model checkpoint to ../logs/Train_PPO_40kReqs_300_v3_001/training/best_model_6919991_steps.zip\n"
      ]
     },
     "metadata": {},
     "output_type": "display_data"
    },
    {
     "data": {
      "text/html": [
       "<pre style=\"white-space:pre;overflow-x:auto;line-height:normal;font-family:Menlo,'DejaVu Sans Mono',consolas,'Courier New',monospace\">Eval num_timesteps=6920000, episode_reward=39136.40 +/- 44.08\n",
       "</pre>\n"
      ],
      "text/plain": [
       "Eval num_timesteps=6920000, episode_reward=39136.40 +/- 44.08\n"
      ]
     },
     "metadata": {},
     "output_type": "display_data"
    },
    {
     "data": {
      "text/html": [
       "<pre style=\"white-space:pre;overflow-x:auto;line-height:normal;font-family:Menlo,'DejaVu Sans Mono',consolas,'Courier New',monospace\">Episode length: 40000.00 +/- 0.00\n",
       "</pre>\n"
      ],
      "text/plain": [
       "Episode length: 40000.00 +/- 0.00\n"
      ]
     },
     "metadata": {},
     "output_type": "display_data"
    },
    {
     "data": {
      "text/html": [
       "<pre style=\"white-space:pre;overflow-x:auto;line-height:normal;font-family:Menlo,'DejaVu Sans Mono',consolas,'Courier New',monospace\">Saving model checkpoint to ../logs/Train_PPO_40kReqs_300_v3_001/training/best_model_6959991_steps.zip\n",
       "</pre>\n"
      ],
      "text/plain": [
       "Saving model checkpoint to ../logs/Train_PPO_40kReqs_300_v3_001/training/best_model_6959991_steps.zip\n"
      ]
     },
     "metadata": {},
     "output_type": "display_data"
    },
    {
     "data": {
      "text/html": [
       "<pre style=\"white-space:pre;overflow-x:auto;line-height:normal;font-family:Menlo,'DejaVu Sans Mono',consolas,'Courier New',monospace\">Eval num_timesteps=6960000, episode_reward=39019.60 +/- 117.27\n",
       "</pre>\n"
      ],
      "text/plain": [
       "Eval num_timesteps=6960000, episode_reward=39019.60 +/- 117.27\n"
      ]
     },
     "metadata": {},
     "output_type": "display_data"
    },
    {
     "data": {
      "text/html": [
       "<pre style=\"white-space:pre;overflow-x:auto;line-height:normal;font-family:Menlo,'DejaVu Sans Mono',consolas,'Courier New',monospace\">Episode length: 40000.00 +/- 0.00\n",
       "</pre>\n"
      ],
      "text/plain": [
       "Episode length: 40000.00 +/- 0.00\n"
      ]
     },
     "metadata": {},
     "output_type": "display_data"
    },
    {
     "data": {
      "text/html": [
       "<pre style=\"white-space:pre;overflow-x:auto;line-height:normal;font-family:Menlo,'DejaVu Sans Mono',consolas,'Courier New',monospace\">Saving model checkpoint to ../logs/Train_PPO_40kReqs_300_v3_001/training/best_model_6999991_steps.zip\n",
       "</pre>\n"
      ],
      "text/plain": [
       "Saving model checkpoint to ../logs/Train_PPO_40kReqs_300_v3_001/training/best_model_6999991_steps.zip\n"
      ]
     },
     "metadata": {},
     "output_type": "display_data"
    },
    {
     "data": {
      "text/html": [
       "<pre style=\"white-space:pre;overflow-x:auto;line-height:normal;font-family:Menlo,'DejaVu Sans Mono',consolas,'Courier New',monospace\">Eval num_timesteps=7000000, episode_reward=39085.60 +/- 67.70\n",
       "</pre>\n"
      ],
      "text/plain": [
       "Eval num_timesteps=7000000, episode_reward=39085.60 +/- 67.70\n"
      ]
     },
     "metadata": {},
     "output_type": "display_data"
    },
    {
     "data": {
      "text/html": [
       "<pre style=\"white-space:pre;overflow-x:auto;line-height:normal;font-family:Menlo,'DejaVu Sans Mono',consolas,'Courier New',monospace\">Episode length: 40000.00 +/- 0.00\n",
       "</pre>\n"
      ],
      "text/plain": [
       "Episode length: 40000.00 +/- 0.00\n"
      ]
     },
     "metadata": {},
     "output_type": "display_data"
    },
    {
     "data": {
      "text/html": [
       "<pre style=\"white-space:pre;overflow-x:auto;line-height:normal;font-family:Menlo,'DejaVu Sans Mono',consolas,'Courier New',monospace\">Saving model checkpoint to ../logs/Train_PPO_40kReqs_300_v3_001/training/best_model_7039991_steps.zip\n",
       "</pre>\n"
      ],
      "text/plain": [
       "Saving model checkpoint to ../logs/Train_PPO_40kReqs_300_v3_001/training/best_model_7039991_steps.zip\n"
      ]
     },
     "metadata": {},
     "output_type": "display_data"
    },
    {
     "data": {
      "text/html": [
       "<pre style=\"white-space:pre;overflow-x:auto;line-height:normal;font-family:Menlo,'DejaVu Sans Mono',consolas,'Courier New',monospace\">Eval num_timesteps=7040000, episode_reward=39093.20 +/- 135.35\n",
       "</pre>\n"
      ],
      "text/plain": [
       "Eval num_timesteps=7040000, episode_reward=39093.20 +/- 135.35\n"
      ]
     },
     "metadata": {},
     "output_type": "display_data"
    },
    {
     "data": {
      "text/html": [
       "<pre style=\"white-space:pre;overflow-x:auto;line-height:normal;font-family:Menlo,'DejaVu Sans Mono',consolas,'Courier New',monospace\">Episode length: 40000.00 +/- 0.00\n",
       "</pre>\n"
      ],
      "text/plain": [
       "Episode length: 40000.00 +/- 0.00\n"
      ]
     },
     "metadata": {},
     "output_type": "display_data"
    },
    {
     "data": {
      "text/html": [
       "<pre style=\"white-space:pre;overflow-x:auto;line-height:normal;font-family:Menlo,'DejaVu Sans Mono',consolas,'Courier New',monospace\">Saving model checkpoint to ../logs/Train_PPO_40kReqs_300_v3_001/training/best_model_7079991_steps.zip\n",
       "</pre>\n"
      ],
      "text/plain": [
       "Saving model checkpoint to ../logs/Train_PPO_40kReqs_300_v3_001/training/best_model_7079991_steps.zip\n"
      ]
     },
     "metadata": {},
     "output_type": "display_data"
    },
    {
     "data": {
      "text/html": [
       "<pre style=\"white-space:pre;overflow-x:auto;line-height:normal;font-family:Menlo,'DejaVu Sans Mono',consolas,'Courier New',monospace\">Eval num_timesteps=7080000, episode_reward=39108.80 +/- 103.51\n",
       "</pre>\n"
      ],
      "text/plain": [
       "Eval num_timesteps=7080000, episode_reward=39108.80 +/- 103.51\n"
      ]
     },
     "metadata": {},
     "output_type": "display_data"
    },
    {
     "data": {
      "text/html": [
       "<pre style=\"white-space:pre;overflow-x:auto;line-height:normal;font-family:Menlo,'DejaVu Sans Mono',consolas,'Courier New',monospace\">Episode length: 40000.00 +/- 0.00\n",
       "</pre>\n"
      ],
      "text/plain": [
       "Episode length: 40000.00 +/- 0.00\n"
      ]
     },
     "metadata": {},
     "output_type": "display_data"
    },
    {
     "data": {
      "text/html": [
       "<pre style=\"white-space:pre;overflow-x:auto;line-height:normal;font-family:Menlo,'DejaVu Sans Mono',consolas,'Courier New',monospace\">Saving model checkpoint to ../logs/Train_PPO_40kReqs_300_v3_001/training/best_model_7119991_steps.zip\n",
       "</pre>\n"
      ],
      "text/plain": [
       "Saving model checkpoint to ../logs/Train_PPO_40kReqs_300_v3_001/training/best_model_7119991_steps.zip\n"
      ]
     },
     "metadata": {},
     "output_type": "display_data"
    },
    {
     "data": {
      "text/html": [
       "<pre style=\"white-space:pre;overflow-x:auto;line-height:normal;font-family:Menlo,'DejaVu Sans Mono',consolas,'Courier New',monospace\">Eval num_timesteps=7120000, episode_reward=39125.60 +/- 116.37\n",
       "</pre>\n"
      ],
      "text/plain": [
       "Eval num_timesteps=7120000, episode_reward=39125.60 +/- 116.37\n"
      ]
     },
     "metadata": {},
     "output_type": "display_data"
    },
    {
     "data": {
      "text/html": [
       "<pre style=\"white-space:pre;overflow-x:auto;line-height:normal;font-family:Menlo,'DejaVu Sans Mono',consolas,'Courier New',monospace\">Episode length: 40000.00 +/- 0.00\n",
       "</pre>\n"
      ],
      "text/plain": [
       "Episode length: 40000.00 +/- 0.00\n"
      ]
     },
     "metadata": {},
     "output_type": "display_data"
    },
    {
     "data": {
      "text/html": [
       "<pre style=\"white-space:pre;overflow-x:auto;line-height:normal;font-family:Menlo,'DejaVu Sans Mono',consolas,'Courier New',monospace\">Saving model checkpoint to ../logs/Train_PPO_40kReqs_300_v3_001/training/best_model_7159991_steps.zip\n",
       "</pre>\n"
      ],
      "text/plain": [
       "Saving model checkpoint to ../logs/Train_PPO_40kReqs_300_v3_001/training/best_model_7159991_steps.zip\n"
      ]
     },
     "metadata": {},
     "output_type": "display_data"
    },
    {
     "data": {
      "text/html": [
       "<pre style=\"white-space:pre;overflow-x:auto;line-height:normal;font-family:Menlo,'DejaVu Sans Mono',consolas,'Courier New',monospace\">Eval num_timesteps=7160000, episode_reward=39090.00 +/- 98.30\n",
       "</pre>\n"
      ],
      "text/plain": [
       "Eval num_timesteps=7160000, episode_reward=39090.00 +/- 98.30\n"
      ]
     },
     "metadata": {},
     "output_type": "display_data"
    },
    {
     "data": {
      "text/html": [
       "<pre style=\"white-space:pre;overflow-x:auto;line-height:normal;font-family:Menlo,'DejaVu Sans Mono',consolas,'Courier New',monospace\">Episode length: 40000.00 +/- 0.00\n",
       "</pre>\n"
      ],
      "text/plain": [
       "Episode length: 40000.00 +/- 0.00\n"
      ]
     },
     "metadata": {},
     "output_type": "display_data"
    },
    {
     "data": {
      "text/html": [
       "<pre style=\"white-space:pre;overflow-x:auto;line-height:normal;font-family:Menlo,'DejaVu Sans Mono',consolas,'Courier New',monospace\">Saving model checkpoint to ../logs/Train_PPO_40kReqs_300_v3_001/training/best_model_7199991_steps.zip\n",
       "</pre>\n"
      ],
      "text/plain": [
       "Saving model checkpoint to ../logs/Train_PPO_40kReqs_300_v3_001/training/best_model_7199991_steps.zip\n"
      ]
     },
     "metadata": {},
     "output_type": "display_data"
    },
    {
     "data": {
      "text/html": [
       "<pre style=\"white-space:pre;overflow-x:auto;line-height:normal;font-family:Menlo,'DejaVu Sans Mono',consolas,'Courier New',monospace\">Eval num_timesteps=7200000, episode_reward=38953.60 +/- 120.57\n",
       "</pre>\n"
      ],
      "text/plain": [
       "Eval num_timesteps=7200000, episode_reward=38953.60 +/- 120.57\n"
      ]
     },
     "metadata": {},
     "output_type": "display_data"
    },
    {
     "data": {
      "text/html": [
       "<pre style=\"white-space:pre;overflow-x:auto;line-height:normal;font-family:Menlo,'DejaVu Sans Mono',consolas,'Courier New',monospace\">Episode length: 40000.00 +/- 0.00\n",
       "</pre>\n"
      ],
      "text/plain": [
       "Episode length: 40000.00 +/- 0.00\n"
      ]
     },
     "metadata": {},
     "output_type": "display_data"
    },
    {
     "data": {
      "text/html": [
       "<pre style=\"white-space:pre;overflow-x:auto;line-height:normal;font-family:Menlo,'DejaVu Sans Mono',consolas,'Courier New',monospace\">Saving model checkpoint to ../logs/Train_PPO_40kReqs_300_v3_001/training/best_model_7239991_steps.zip\n",
       "</pre>\n"
      ],
      "text/plain": [
       "Saving model checkpoint to ../logs/Train_PPO_40kReqs_300_v3_001/training/best_model_7239991_steps.zip\n"
      ]
     },
     "metadata": {},
     "output_type": "display_data"
    },
    {
     "data": {
      "text/html": [
       "<pre style=\"white-space:pre;overflow-x:auto;line-height:normal;font-family:Menlo,'DejaVu Sans Mono',consolas,'Courier New',monospace\">Eval num_timesteps=7240000, episode_reward=39010.00 +/- 53.75\n",
       "</pre>\n"
      ],
      "text/plain": [
       "Eval num_timesteps=7240000, episode_reward=39010.00 +/- 53.75\n"
      ]
     },
     "metadata": {},
     "output_type": "display_data"
    },
    {
     "data": {
      "text/html": [
       "<pre style=\"white-space:pre;overflow-x:auto;line-height:normal;font-family:Menlo,'DejaVu Sans Mono',consolas,'Courier New',monospace\">Episode length: 40000.00 +/- 0.00\n",
       "</pre>\n"
      ],
      "text/plain": [
       "Episode length: 40000.00 +/- 0.00\n"
      ]
     },
     "metadata": {},
     "output_type": "display_data"
    },
    {
     "data": {
      "text/html": [
       "<pre style=\"white-space:pre;overflow-x:auto;line-height:normal;font-family:Menlo,'DejaVu Sans Mono',consolas,'Courier New',monospace\">Saving model checkpoint to ../logs/Train_PPO_40kReqs_300_v3_001/training/best_model_7279991_steps.zip\n",
       "</pre>\n"
      ],
      "text/plain": [
       "Saving model checkpoint to ../logs/Train_PPO_40kReqs_300_v3_001/training/best_model_7279991_steps.zip\n"
      ]
     },
     "metadata": {},
     "output_type": "display_data"
    },
    {
     "data": {
      "text/html": [
       "<pre style=\"white-space:pre;overflow-x:auto;line-height:normal;font-family:Menlo,'DejaVu Sans Mono',consolas,'Courier New',monospace\">Eval num_timesteps=7280000, episode_reward=39012.00 +/- 78.80\n",
       "</pre>\n"
      ],
      "text/plain": [
       "Eval num_timesteps=7280000, episode_reward=39012.00 +/- 78.80\n"
      ]
     },
     "metadata": {},
     "output_type": "display_data"
    },
    {
     "data": {
      "text/html": [
       "<pre style=\"white-space:pre;overflow-x:auto;line-height:normal;font-family:Menlo,'DejaVu Sans Mono',consolas,'Courier New',monospace\">Episode length: 40000.00 +/- 0.00\n",
       "</pre>\n"
      ],
      "text/plain": [
       "Episode length: 40000.00 +/- 0.00\n"
      ]
     },
     "metadata": {},
     "output_type": "display_data"
    },
    {
     "data": {
      "text/html": [
       "<pre style=\"white-space:pre;overflow-x:auto;line-height:normal;font-family:Menlo,'DejaVu Sans Mono',consolas,'Courier New',monospace\">Saving model checkpoint to ../logs/Train_PPO_40kReqs_300_v3_001/training/best_model_7319991_steps.zip\n",
       "</pre>\n"
      ],
      "text/plain": [
       "Saving model checkpoint to ../logs/Train_PPO_40kReqs_300_v3_001/training/best_model_7319991_steps.zip\n"
      ]
     },
     "metadata": {},
     "output_type": "display_data"
    },
    {
     "data": {
      "text/html": [
       "<pre style=\"white-space:pre;overflow-x:auto;line-height:normal;font-family:Menlo,'DejaVu Sans Mono',consolas,'Courier New',monospace\">Eval num_timesteps=7320000, episode_reward=39053.60 +/- 106.71\n",
       "</pre>\n"
      ],
      "text/plain": [
       "Eval num_timesteps=7320000, episode_reward=39053.60 +/- 106.71\n"
      ]
     },
     "metadata": {},
     "output_type": "display_data"
    },
    {
     "data": {
      "text/html": [
       "<pre style=\"white-space:pre;overflow-x:auto;line-height:normal;font-family:Menlo,'DejaVu Sans Mono',consolas,'Courier New',monospace\">Episode length: 40000.00 +/- 0.00\n",
       "</pre>\n"
      ],
      "text/plain": [
       "Episode length: 40000.00 +/- 0.00\n"
      ]
     },
     "metadata": {},
     "output_type": "display_data"
    },
    {
     "data": {
      "text/html": [
       "<pre style=\"white-space:pre;overflow-x:auto;line-height:normal;font-family:Menlo,'DejaVu Sans Mono',consolas,'Courier New',monospace\">Saving model checkpoint to ../logs/Train_PPO_40kReqs_300_v3_001/training/best_model_7359991_steps.zip\n",
       "</pre>\n"
      ],
      "text/plain": [
       "Saving model checkpoint to ../logs/Train_PPO_40kReqs_300_v3_001/training/best_model_7359991_steps.zip\n"
      ]
     },
     "metadata": {},
     "output_type": "display_data"
    },
    {
     "data": {
      "text/html": [
       "<pre style=\"white-space:pre;overflow-x:auto;line-height:normal;font-family:Menlo,'DejaVu Sans Mono',consolas,'Courier New',monospace\">Eval num_timesteps=7360000, episode_reward=39042.40 +/- 99.61\n",
       "</pre>\n"
      ],
      "text/plain": [
       "Eval num_timesteps=7360000, episode_reward=39042.40 +/- 99.61\n"
      ]
     },
     "metadata": {},
     "output_type": "display_data"
    },
    {
     "data": {
      "text/html": [
       "<pre style=\"white-space:pre;overflow-x:auto;line-height:normal;font-family:Menlo,'DejaVu Sans Mono',consolas,'Courier New',monospace\">Episode length: 40000.00 +/- 0.00\n",
       "</pre>\n"
      ],
      "text/plain": [
       "Episode length: 40000.00 +/- 0.00\n"
      ]
     },
     "metadata": {},
     "output_type": "display_data"
    },
    {
     "data": {
      "text/html": [
       "<pre style=\"white-space:pre;overflow-x:auto;line-height:normal;font-family:Menlo,'DejaVu Sans Mono',consolas,'Courier New',monospace\">Saving model checkpoint to ../logs/Train_PPO_40kReqs_300_v3_001/training/best_model_7399991_steps.zip\n",
       "</pre>\n"
      ],
      "text/plain": [
       "Saving model checkpoint to ../logs/Train_PPO_40kReqs_300_v3_001/training/best_model_7399991_steps.zip\n"
      ]
     },
     "metadata": {},
     "output_type": "display_data"
    },
    {
     "data": {
      "text/html": [
       "<pre style=\"white-space:pre;overflow-x:auto;line-height:normal;font-family:Menlo,'DejaVu Sans Mono',consolas,'Courier New',monospace\">Eval num_timesteps=7400000, episode_reward=39078.80 +/- 76.39\n",
       "</pre>\n"
      ],
      "text/plain": [
       "Eval num_timesteps=7400000, episode_reward=39078.80 +/- 76.39\n"
      ]
     },
     "metadata": {},
     "output_type": "display_data"
    },
    {
     "data": {
      "text/html": [
       "<pre style=\"white-space:pre;overflow-x:auto;line-height:normal;font-family:Menlo,'DejaVu Sans Mono',consolas,'Courier New',monospace\">Episode length: 40000.00 +/- 0.00\n",
       "</pre>\n"
      ],
      "text/plain": [
       "Episode length: 40000.00 +/- 0.00\n"
      ]
     },
     "metadata": {},
     "output_type": "display_data"
    },
    {
     "data": {
      "text/html": [
       "<pre style=\"white-space:pre;overflow-x:auto;line-height:normal;font-family:Menlo,'DejaVu Sans Mono',consolas,'Courier New',monospace\">Saving model checkpoint to ../logs/Train_PPO_40kReqs_300_v3_001/training/best_model_7439991_steps.zip\n",
       "</pre>\n"
      ],
      "text/plain": [
       "Saving model checkpoint to ../logs/Train_PPO_40kReqs_300_v3_001/training/best_model_7439991_steps.zip\n"
      ]
     },
     "metadata": {},
     "output_type": "display_data"
    },
    {
     "data": {
      "text/html": [
       "<pre style=\"white-space:pre;overflow-x:auto;line-height:normal;font-family:Menlo,'DejaVu Sans Mono',consolas,'Courier New',monospace\">Eval num_timesteps=7440000, episode_reward=39023.60 +/- 71.37\n",
       "</pre>\n"
      ],
      "text/plain": [
       "Eval num_timesteps=7440000, episode_reward=39023.60 +/- 71.37\n"
      ]
     },
     "metadata": {},
     "output_type": "display_data"
    },
    {
     "data": {
      "text/html": [
       "<pre style=\"white-space:pre;overflow-x:auto;line-height:normal;font-family:Menlo,'DejaVu Sans Mono',consolas,'Courier New',monospace\">Episode length: 40000.00 +/- 0.00\n",
       "</pre>\n"
      ],
      "text/plain": [
       "Episode length: 40000.00 +/- 0.00\n"
      ]
     },
     "metadata": {},
     "output_type": "display_data"
    },
    {
     "data": {
      "text/html": [
       "<pre style=\"white-space:pre;overflow-x:auto;line-height:normal;font-family:Menlo,'DejaVu Sans Mono',consolas,'Courier New',monospace\">Saving model checkpoint to ../logs/Train_PPO_40kReqs_300_v3_001/training/best_model_7479991_steps.zip\n",
       "</pre>\n"
      ],
      "text/plain": [
       "Saving model checkpoint to ../logs/Train_PPO_40kReqs_300_v3_001/training/best_model_7479991_steps.zip\n"
      ]
     },
     "metadata": {},
     "output_type": "display_data"
    },
    {
     "data": {
      "text/html": [
       "<pre style=\"white-space:pre;overflow-x:auto;line-height:normal;font-family:Menlo,'DejaVu Sans Mono',consolas,'Courier New',monospace\">Eval num_timesteps=7480000, episode_reward=39114.40 +/- 52.36\n",
       "</pre>\n"
      ],
      "text/plain": [
       "Eval num_timesteps=7480000, episode_reward=39114.40 +/- 52.36\n"
      ]
     },
     "metadata": {},
     "output_type": "display_data"
    },
    {
     "data": {
      "text/html": [
       "<pre style=\"white-space:pre;overflow-x:auto;line-height:normal;font-family:Menlo,'DejaVu Sans Mono',consolas,'Courier New',monospace\">Episode length: 40000.00 +/- 0.00\n",
       "</pre>\n"
      ],
      "text/plain": [
       "Episode length: 40000.00 +/- 0.00\n"
      ]
     },
     "metadata": {},
     "output_type": "display_data"
    },
    {
     "data": {
      "text/html": [
       "<pre style=\"white-space:pre;overflow-x:auto;line-height:normal;font-family:Menlo,'DejaVu Sans Mono',consolas,'Courier New',monospace\">Saving model checkpoint to ../logs/Train_PPO_40kReqs_300_v3_001/training/best_model_7519991_steps.zip\n",
       "</pre>\n"
      ],
      "text/plain": [
       "Saving model checkpoint to ../logs/Train_PPO_40kReqs_300_v3_001/training/best_model_7519991_steps.zip\n"
      ]
     },
     "metadata": {},
     "output_type": "display_data"
    },
    {
     "data": {
      "text/html": [
       "<pre style=\"white-space:pre;overflow-x:auto;line-height:normal;font-family:Menlo,'DejaVu Sans Mono',consolas,'Courier New',monospace\">Eval num_timesteps=7520000, episode_reward=39061.20 +/- 88.37\n",
       "</pre>\n"
      ],
      "text/plain": [
       "Eval num_timesteps=7520000, episode_reward=39061.20 +/- 88.37\n"
      ]
     },
     "metadata": {},
     "output_type": "display_data"
    },
    {
     "data": {
      "text/html": [
       "<pre style=\"white-space:pre;overflow-x:auto;line-height:normal;font-family:Menlo,'DejaVu Sans Mono',consolas,'Courier New',monospace\">Episode length: 40000.00 +/- 0.00\n",
       "</pre>\n"
      ],
      "text/plain": [
       "Episode length: 40000.00 +/- 0.00\n"
      ]
     },
     "metadata": {},
     "output_type": "display_data"
    },
    {
     "data": {
      "text/html": [
       "<pre style=\"white-space:pre;overflow-x:auto;line-height:normal;font-family:Menlo,'DejaVu Sans Mono',consolas,'Courier New',monospace\">Saving model checkpoint to ../logs/Train_PPO_40kReqs_300_v3_001/training/best_model_7559991_steps.zip\n",
       "</pre>\n"
      ],
      "text/plain": [
       "Saving model checkpoint to ../logs/Train_PPO_40kReqs_300_v3_001/training/best_model_7559991_steps.zip\n"
      ]
     },
     "metadata": {},
     "output_type": "display_data"
    },
    {
     "data": {
      "text/html": [
       "<pre style=\"white-space:pre;overflow-x:auto;line-height:normal;font-family:Menlo,'DejaVu Sans Mono',consolas,'Courier New',monospace\">Eval num_timesteps=7560000, episode_reward=38982.80 +/- 157.79\n",
       "</pre>\n"
      ],
      "text/plain": [
       "Eval num_timesteps=7560000, episode_reward=38982.80 +/- 157.79\n"
      ]
     },
     "metadata": {},
     "output_type": "display_data"
    },
    {
     "data": {
      "text/html": [
       "<pre style=\"white-space:pre;overflow-x:auto;line-height:normal;font-family:Menlo,'DejaVu Sans Mono',consolas,'Courier New',monospace\">Episode length: 40000.00 +/- 0.00\n",
       "</pre>\n"
      ],
      "text/plain": [
       "Episode length: 40000.00 +/- 0.00\n"
      ]
     },
     "metadata": {},
     "output_type": "display_data"
    },
    {
     "data": {
      "text/html": [
       "<pre style=\"white-space:pre;overflow-x:auto;line-height:normal;font-family:Menlo,'DejaVu Sans Mono',consolas,'Courier New',monospace\">Saving model checkpoint to ../logs/Train_PPO_40kReqs_300_v3_001/training/best_model_7599991_steps.zip\n",
       "</pre>\n"
      ],
      "text/plain": [
       "Saving model checkpoint to ../logs/Train_PPO_40kReqs_300_v3_001/training/best_model_7599991_steps.zip\n"
      ]
     },
     "metadata": {},
     "output_type": "display_data"
    },
    {
     "data": {
      "text/html": [
       "<pre style=\"white-space:pre;overflow-x:auto;line-height:normal;font-family:Menlo,'DejaVu Sans Mono',consolas,'Courier New',monospace\">Eval num_timesteps=7600000, episode_reward=39132.80 +/- 123.42\n",
       "</pre>\n"
      ],
      "text/plain": [
       "Eval num_timesteps=7600000, episode_reward=39132.80 +/- 123.42\n"
      ]
     },
     "metadata": {},
     "output_type": "display_data"
    },
    {
     "data": {
      "text/html": [
       "<pre style=\"white-space:pre;overflow-x:auto;line-height:normal;font-family:Menlo,'DejaVu Sans Mono',consolas,'Courier New',monospace\">Episode length: 40000.00 +/- 0.00\n",
       "</pre>\n"
      ],
      "text/plain": [
       "Episode length: 40000.00 +/- 0.00\n"
      ]
     },
     "metadata": {},
     "output_type": "display_data"
    },
    {
     "data": {
      "text/html": [
       "<pre style=\"white-space:pre;overflow-x:auto;line-height:normal;font-family:Menlo,'DejaVu Sans Mono',consolas,'Courier New',monospace\">Saving model checkpoint to ../logs/Train_PPO_40kReqs_300_v3_001/training/best_model_7639991_steps.zip\n",
       "</pre>\n"
      ],
      "text/plain": [
       "Saving model checkpoint to ../logs/Train_PPO_40kReqs_300_v3_001/training/best_model_7639991_steps.zip\n"
      ]
     },
     "metadata": {},
     "output_type": "display_data"
    },
    {
     "data": {
      "text/html": [
       "<pre style=\"white-space:pre;overflow-x:auto;line-height:normal;font-family:Menlo,'DejaVu Sans Mono',consolas,'Courier New',monospace\">Eval num_timesteps=7640000, episode_reward=39066.80 +/- 59.23\n",
       "</pre>\n"
      ],
      "text/plain": [
       "Eval num_timesteps=7640000, episode_reward=39066.80 +/- 59.23\n"
      ]
     },
     "metadata": {},
     "output_type": "display_data"
    },
    {
     "data": {
      "text/html": [
       "<pre style=\"white-space:pre;overflow-x:auto;line-height:normal;font-family:Menlo,'DejaVu Sans Mono',consolas,'Courier New',monospace\">Episode length: 40000.00 +/- 0.00\n",
       "</pre>\n"
      ],
      "text/plain": [
       "Episode length: 40000.00 +/- 0.00\n"
      ]
     },
     "metadata": {},
     "output_type": "display_data"
    },
    {
     "data": {
      "text/html": [
       "<pre style=\"white-space:pre;overflow-x:auto;line-height:normal;font-family:Menlo,'DejaVu Sans Mono',consolas,'Courier New',monospace\">Saving model checkpoint to ../logs/Train_PPO_40kReqs_300_v3_001/training/best_model_7679991_steps.zip\n",
       "</pre>\n"
      ],
      "text/plain": [
       "Saving model checkpoint to ../logs/Train_PPO_40kReqs_300_v3_001/training/best_model_7679991_steps.zip\n"
      ]
     },
     "metadata": {},
     "output_type": "display_data"
    },
    {
     "data": {
      "text/html": [
       "<pre style=\"white-space:pre;overflow-x:auto;line-height:normal;font-family:Menlo,'DejaVu Sans Mono',consolas,'Courier New',monospace\">Eval num_timesteps=7680000, episode_reward=39077.60 +/- 103.80\n",
       "</pre>\n"
      ],
      "text/plain": [
       "Eval num_timesteps=7680000, episode_reward=39077.60 +/- 103.80\n"
      ]
     },
     "metadata": {},
     "output_type": "display_data"
    },
    {
     "data": {
      "text/html": [
       "<pre style=\"white-space:pre;overflow-x:auto;line-height:normal;font-family:Menlo,'DejaVu Sans Mono',consolas,'Courier New',monospace\">Episode length: 40000.00 +/- 0.00\n",
       "</pre>\n"
      ],
      "text/plain": [
       "Episode length: 40000.00 +/- 0.00\n"
      ]
     },
     "metadata": {},
     "output_type": "display_data"
    },
    {
     "data": {
      "text/html": [
       "<pre style=\"white-space:pre;overflow-x:auto;line-height:normal;font-family:Menlo,'DejaVu Sans Mono',consolas,'Courier New',monospace\">Saving model checkpoint to ../logs/Train_PPO_40kReqs_300_v3_001/training/best_model_7719991_steps.zip\n",
       "</pre>\n"
      ],
      "text/plain": [
       "Saving model checkpoint to ../logs/Train_PPO_40kReqs_300_v3_001/training/best_model_7719991_steps.zip\n"
      ]
     },
     "metadata": {},
     "output_type": "display_data"
    },
    {
     "data": {
      "text/html": [
       "<pre style=\"white-space:pre;overflow-x:auto;line-height:normal;font-family:Menlo,'DejaVu Sans Mono',consolas,'Courier New',monospace\">Eval num_timesteps=7720000, episode_reward=39077.20 +/- 96.22\n",
       "</pre>\n"
      ],
      "text/plain": [
       "Eval num_timesteps=7720000, episode_reward=39077.20 +/- 96.22\n"
      ]
     },
     "metadata": {},
     "output_type": "display_data"
    },
    {
     "data": {
      "text/html": [
       "<pre style=\"white-space:pre;overflow-x:auto;line-height:normal;font-family:Menlo,'DejaVu Sans Mono',consolas,'Courier New',monospace\">Episode length: 40000.00 +/- 0.00\n",
       "</pre>\n"
      ],
      "text/plain": [
       "Episode length: 40000.00 +/- 0.00\n"
      ]
     },
     "metadata": {},
     "output_type": "display_data"
    },
    {
     "data": {
      "text/html": [
       "<pre style=\"white-space:pre;overflow-x:auto;line-height:normal;font-family:Menlo,'DejaVu Sans Mono',consolas,'Courier New',monospace\">Saving model checkpoint to ../logs/Train_PPO_40kReqs_300_v3_001/training/best_model_7759991_steps.zip\n",
       "</pre>\n"
      ],
      "text/plain": [
       "Saving model checkpoint to ../logs/Train_PPO_40kReqs_300_v3_001/training/best_model_7759991_steps.zip\n"
      ]
     },
     "metadata": {},
     "output_type": "display_data"
    },
    {
     "data": {
      "text/html": [
       "<pre style=\"white-space:pre;overflow-x:auto;line-height:normal;font-family:Menlo,'DejaVu Sans Mono',consolas,'Courier New',monospace\">Eval num_timesteps=7760000, episode_reward=39023.20 +/- 107.19\n",
       "</pre>\n"
      ],
      "text/plain": [
       "Eval num_timesteps=7760000, episode_reward=39023.20 +/- 107.19\n"
      ]
     },
     "metadata": {},
     "output_type": "display_data"
    },
    {
     "data": {
      "text/html": [
       "<pre style=\"white-space:pre;overflow-x:auto;line-height:normal;font-family:Menlo,'DejaVu Sans Mono',consolas,'Courier New',monospace\">Episode length: 40000.00 +/- 0.00\n",
       "</pre>\n"
      ],
      "text/plain": [
       "Episode length: 40000.00 +/- 0.00\n"
      ]
     },
     "metadata": {},
     "output_type": "display_data"
    },
    {
     "data": {
      "text/html": [
       "<pre style=\"white-space:pre;overflow-x:auto;line-height:normal;font-family:Menlo,'DejaVu Sans Mono',consolas,'Courier New',monospace\">Saving model checkpoint to ../logs/Train_PPO_40kReqs_300_v3_001/training/best_model_7799991_steps.zip\n",
       "</pre>\n"
      ],
      "text/plain": [
       "Saving model checkpoint to ../logs/Train_PPO_40kReqs_300_v3_001/training/best_model_7799991_steps.zip\n"
      ]
     },
     "metadata": {},
     "output_type": "display_data"
    },
    {
     "data": {
      "text/html": [
       "<pre style=\"white-space:pre;overflow-x:auto;line-height:normal;font-family:Menlo,'DejaVu Sans Mono',consolas,'Courier New',monospace\">Eval num_timesteps=7800000, episode_reward=38953.20 +/- 174.62\n",
       "</pre>\n"
      ],
      "text/plain": [
       "Eval num_timesteps=7800000, episode_reward=38953.20 +/- 174.62\n"
      ]
     },
     "metadata": {},
     "output_type": "display_data"
    },
    {
     "data": {
      "text/html": [
       "<pre style=\"white-space:pre;overflow-x:auto;line-height:normal;font-family:Menlo,'DejaVu Sans Mono',consolas,'Courier New',monospace\">Episode length: 40000.00 +/- 0.00\n",
       "</pre>\n"
      ],
      "text/plain": [
       "Episode length: 40000.00 +/- 0.00\n"
      ]
     },
     "metadata": {},
     "output_type": "display_data"
    },
    {
     "data": {
      "text/html": [
       "<pre style=\"white-space:pre;overflow-x:auto;line-height:normal;font-family:Menlo,'DejaVu Sans Mono',consolas,'Courier New',monospace\">Saving model checkpoint to ../logs/Train_PPO_40kReqs_300_v3_001/training/best_model_7839991_steps.zip\n",
       "</pre>\n"
      ],
      "text/plain": [
       "Saving model checkpoint to ../logs/Train_PPO_40kReqs_300_v3_001/training/best_model_7839991_steps.zip\n"
      ]
     },
     "metadata": {},
     "output_type": "display_data"
    },
    {
     "data": {
      "text/html": [
       "<pre style=\"white-space:pre;overflow-x:auto;line-height:normal;font-family:Menlo,'DejaVu Sans Mono',consolas,'Courier New',monospace\">Eval num_timesteps=7840000, episode_reward=39019.20 +/- 98.25\n",
       "</pre>\n"
      ],
      "text/plain": [
       "Eval num_timesteps=7840000, episode_reward=39019.20 +/- 98.25\n"
      ]
     },
     "metadata": {},
     "output_type": "display_data"
    },
    {
     "data": {
      "text/html": [
       "<pre style=\"white-space:pre;overflow-x:auto;line-height:normal;font-family:Menlo,'DejaVu Sans Mono',consolas,'Courier New',monospace\">Episode length: 40000.00 +/- 0.00\n",
       "</pre>\n"
      ],
      "text/plain": [
       "Episode length: 40000.00 +/- 0.00\n"
      ]
     },
     "metadata": {},
     "output_type": "display_data"
    },
    {
     "data": {
      "text/html": [
       "<pre style=\"white-space:pre;overflow-x:auto;line-height:normal;font-family:Menlo,'DejaVu Sans Mono',consolas,'Courier New',monospace\">Saving model checkpoint to ../logs/Train_PPO_40kReqs_300_v3_001/training/best_model_7879991_steps.zip\n",
       "</pre>\n"
      ],
      "text/plain": [
       "Saving model checkpoint to ../logs/Train_PPO_40kReqs_300_v3_001/training/best_model_7879991_steps.zip\n"
      ]
     },
     "metadata": {},
     "output_type": "display_data"
    },
    {
     "data": {
      "text/html": [
       "<pre style=\"white-space:pre;overflow-x:auto;line-height:normal;font-family:Menlo,'DejaVu Sans Mono',consolas,'Courier New',monospace\">Eval num_timesteps=7880000, episode_reward=39133.60 +/- 66.87\n",
       "</pre>\n"
      ],
      "text/plain": [
       "Eval num_timesteps=7880000, episode_reward=39133.60 +/- 66.87\n"
      ]
     },
     "metadata": {},
     "output_type": "display_data"
    },
    {
     "data": {
      "text/html": [
       "<pre style=\"white-space:pre;overflow-x:auto;line-height:normal;font-family:Menlo,'DejaVu Sans Mono',consolas,'Courier New',monospace\">Episode length: 40000.00 +/- 0.00\n",
       "</pre>\n"
      ],
      "text/plain": [
       "Episode length: 40000.00 +/- 0.00\n"
      ]
     },
     "metadata": {},
     "output_type": "display_data"
    },
    {
     "data": {
      "text/html": [
       "<pre style=\"white-space:pre;overflow-x:auto;line-height:normal;font-family:Menlo,'DejaVu Sans Mono',consolas,'Courier New',monospace\">Saving model checkpoint to ../logs/Train_PPO_40kReqs_300_v3_001/training/best_model_7919991_steps.zip\n",
       "</pre>\n"
      ],
      "text/plain": [
       "Saving model checkpoint to ../logs/Train_PPO_40kReqs_300_v3_001/training/best_model_7919991_steps.zip\n"
      ]
     },
     "metadata": {},
     "output_type": "display_data"
    },
    {
     "data": {
      "text/html": [
       "<pre style=\"white-space:pre;overflow-x:auto;line-height:normal;font-family:Menlo,'DejaVu Sans Mono',consolas,'Courier New',monospace\">Eval num_timesteps=7920000, episode_reward=39088.40 +/- 59.09\n",
       "</pre>\n"
      ],
      "text/plain": [
       "Eval num_timesteps=7920000, episode_reward=39088.40 +/- 59.09\n"
      ]
     },
     "metadata": {},
     "output_type": "display_data"
    },
    {
     "data": {
      "text/html": [
       "<pre style=\"white-space:pre;overflow-x:auto;line-height:normal;font-family:Menlo,'DejaVu Sans Mono',consolas,'Courier New',monospace\">Episode length: 40000.00 +/- 0.00\n",
       "</pre>\n"
      ],
      "text/plain": [
       "Episode length: 40000.00 +/- 0.00\n"
      ]
     },
     "metadata": {},
     "output_type": "display_data"
    },
    {
     "data": {
      "text/html": [
       "<pre style=\"white-space:pre;overflow-x:auto;line-height:normal;font-family:Menlo,'DejaVu Sans Mono',consolas,'Courier New',monospace\">Saving model checkpoint to ../logs/Train_PPO_40kReqs_300_v3_001/training/best_model_7959991_steps.zip\n",
       "</pre>\n"
      ],
      "text/plain": [
       "Saving model checkpoint to ../logs/Train_PPO_40kReqs_300_v3_001/training/best_model_7959991_steps.zip\n"
      ]
     },
     "metadata": {},
     "output_type": "display_data"
    },
    {
     "data": {
      "text/html": [
       "<pre style=\"white-space:pre;overflow-x:auto;line-height:normal;font-family:Menlo,'DejaVu Sans Mono',consolas,'Courier New',monospace\">Eval num_timesteps=7960000, episode_reward=39159.60 +/- 117.82\n",
       "</pre>\n"
      ],
      "text/plain": [
       "Eval num_timesteps=7960000, episode_reward=39159.60 +/- 117.82\n"
      ]
     },
     "metadata": {},
     "output_type": "display_data"
    },
    {
     "data": {
      "text/html": [
       "<pre style=\"white-space:pre;overflow-x:auto;line-height:normal;font-family:Menlo,'DejaVu Sans Mono',consolas,'Courier New',monospace\">Episode length: 40000.00 +/- 0.00\n",
       "</pre>\n"
      ],
      "text/plain": [
       "Episode length: 40000.00 +/- 0.00\n"
      ]
     },
     "metadata": {},
     "output_type": "display_data"
    },
    {
     "data": {
      "text/html": [
       "<pre style=\"white-space:pre;overflow-x:auto;line-height:normal;font-family:Menlo,'DejaVu Sans Mono',consolas,'Courier New',monospace\">Saving model checkpoint to ../logs/Train_PPO_40kReqs_300_v3_001/training/best_model_7999991_steps.zip\n",
       "</pre>\n"
      ],
      "text/plain": [
       "Saving model checkpoint to ../logs/Train_PPO_40kReqs_300_v3_001/training/best_model_7999991_steps.zip\n"
      ]
     },
     "metadata": {},
     "output_type": "display_data"
    },
    {
     "data": {
      "text/html": [
       "<pre style=\"white-space:pre;overflow-x:auto;line-height:normal;font-family:Menlo,'DejaVu Sans Mono',consolas,'Courier New',monospace\">Eval num_timesteps=8000000, episode_reward=38992.00 +/- 82.59\n",
       "</pre>\n"
      ],
      "text/plain": [
       "Eval num_timesteps=8000000, episode_reward=38992.00 +/- 82.59\n"
      ]
     },
     "metadata": {},
     "output_type": "display_data"
    },
    {
     "data": {
      "text/html": [
       "<pre style=\"white-space:pre;overflow-x:auto;line-height:normal;font-family:Menlo,'DejaVu Sans Mono',consolas,'Courier New',monospace\">Episode length: 40000.00 +/- 0.00\n",
       "</pre>\n"
      ],
      "text/plain": [
       "Episode length: 40000.00 +/- 0.00\n"
      ]
     },
     "metadata": {},
     "output_type": "display_data"
    },
    {
     "data": {
      "text/html": [
       "<pre style=\"white-space:pre;overflow-x:auto;line-height:normal;font-family:Menlo,'DejaVu Sans Mono',consolas,'Courier New',monospace\"></pre>\n"
      ],
      "text/plain": []
     },
     "metadata": {},
     "output_type": "display_data"
    },
    {
     "data": {
      "text/html": [
       "<pre style=\"white-space:pre;overflow-x:auto;line-height:normal;font-family:Menlo,'DejaVu Sans Mono',consolas,'Courier New',monospace\">\n",
       "</pre>\n"
      ],
      "text/plain": [
       "\n"
      ]
     },
     "metadata": {},
     "output_type": "display_data"
    }
   ],
   "source": [
    "# Configura como deve ser o ambiente\n",
    "enviroment_type = {\n",
    "    \"Observation\": \"availability-vector\",\n",
    "    \"Action\": \"RSA-SAR\",\n",
    "    \"Reward\": \"RL-defaut\",\n",
    "    \"StopCond\": \"40kReqs\",\n",
    "    \"StartCond\": \"Empty\"\n",
    "}\n",
    "\n",
    "# Cria o ambiente de simulação\n",
    "env = Enviroment(\n",
    "    network_load=300,\n",
    "    k_routes=K_ROUTES,\n",
    "    number_of_slots=NUMBER_OF_SLOTS,\n",
    "    enviroment_type=enviroment_type,\n",
    "    data_folder=\"Train_PPO_40kReqs_300_v3\",\n",
    ")\n",
    "\n",
    "# Cria o log path\n",
    "LOG_PATH = env.folder_name\n",
    "\n",
    "print(f\"Using the enviroment {enviroment_type}\")\n",
    "\n",
    "print(f\"Using the log path {LOG_PATH}\")\n",
    "\n",
    "# Criando o diretório para o monitoramento\n",
    "monitor_dir = LOG_PATH + \"\\\\monitor_logs\"\n",
    "os.makedirs(monitor_dir, exist_ok=True)\n",
    "\n",
    "# Criando o monitor para monitorar o ambiente\n",
    "env = Monitor(env, monitor_dir)\n",
    "\n",
    "policy_kwargs = dict(\n",
    "    activation_fn=th.nn.LeakyReLU,\n",
    "    net_arch=[dict(pi=[512, 512], vf=[512, 512])]\n",
    ")\n",
    "\n",
    "model = PPO(\n",
    "    \"MlpPolicy\", \n",
    "    env, \n",
    "    policy_kwargs=policy_kwargs, \n",
    "    verbose=0, \n",
    "    tensorboard_log=LOG_PATH + '\\\\tensorboard\\\\', \n",
    "    seed=42,\n",
    "    learning_rate=0.0002, \n",
    "    n_steps=20_000, \n",
    "    batch_size=4096, \n",
    "    n_epochs=4,\n",
    "    gamma=1.0, \n",
    "    gae_lambda=0.95, \n",
    "    clip_range=0.2, \n",
    "    ent_coef=0.01\n",
    ")\n",
    "\n",
    "# Callback para salvar o melhor modelo\n",
    "best_model_callback = CheckpointCallback(\n",
    "    save_freq=40_000, \n",
    "    save_path=LOG_PATH + '/training/', \n",
    "    name_prefix='best_model',\n",
    "    verbose=2\n",
    ")\n",
    "\n",
    "# Callback de avaliação\n",
    "eval_callback = EvalCallback(\n",
    "    env, \n",
    "    best_model_callback, \n",
    "    eval_freq=40_000, \n",
    "    deterministic=True, \n",
    "    best_model_save_path=LOG_PATH + '\\\\training\\\\best_model',\n",
    "    log_path=LOG_PATH + '\\\\training\\\\logs',\n",
    "    render=False, \n",
    "    verbose=2\n",
    ")\n",
    "\n",
    "model.learn(\n",
    "    total_timesteps=8_000_000, \n",
    "    callback=[TensorboardCallback(), best_model_callback, eval_callback],\n",
    "    progress_bar=True, \n",
    "    tb_log_name=\"DEBUG_v2\"\n",
    ")\n",
    "\n",
    "# Salva o modelo treinado\n",
    "model.save(LOG_PATH + '\\\\training\\\\final_model')\n"
   ]
  }
 ],
 "metadata": {
  "kernelspec": {
   "display_name": "venv",
   "language": "python",
   "name": "python3"
  },
  "language_info": {
   "codemirror_mode": {
    "name": "ipython",
    "version": 3
   },
   "file_extension": ".py",
   "mimetype": "text/x-python",
   "name": "python",
   "nbconvert_exporter": "python",
   "pygments_lexer": "ipython3",
   "version": "3.11.7"
  }
 },
 "nbformat": 4,
 "nbformat_minor": 2
}
