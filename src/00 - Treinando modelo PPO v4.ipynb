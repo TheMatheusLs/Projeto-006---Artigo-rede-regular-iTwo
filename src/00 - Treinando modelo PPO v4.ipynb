{
 "cells": [
  {
   "cell_type": "markdown",
   "metadata": {},
   "source": [
    "# Treinando o modelo na Versão 04"
   ]
  },
  {
   "cell_type": "code",
   "execution_count": 1,
   "metadata": {},
   "outputs": [
    {
     "name": "stdout",
     "output_type": "stream",
     "text": [
      "Using gymnasium version 0.29.1\n"
     ]
    }
   ],
   "source": [
    "import gymnasium as gym\n",
    "print(f\"Using gymnasium version {gym.__version__}\")\n"
   ]
  },
  {
   "cell_type": "code",
   "execution_count": 2,
   "metadata": {},
   "outputs": [
    {
     "name": "stdout",
     "output_type": "stream",
     "text": [
      "Using stable-baselines3 version 2.2.1\n"
     ]
    }
   ],
   "source": [
    "import stable_baselines3\n",
    "from stable_baselines3 import PPO\n",
    "from stable_baselines3.common.env_util import make_vec_env\n",
    "from stable_baselines3.common.evaluation import evaluate_policy\n",
    "from stable_baselines3.common.callbacks import BaseCallback, CheckpointCallback, EvalCallback\n",
    "from stable_baselines3.common.monitor import Monitor\n",
    "import numpy as np\n",
    "import os\n",
    "\n",
    "print(f\"Using stable-baselines3 version {stable_baselines3.__version__}\")"
   ]
  },
  {
   "cell_type": "code",
   "execution_count": 3,
   "metadata": {},
   "outputs": [],
   "source": [
    "from Enviroment.Settings import *\n",
    "from Enviroment.Manager import Enviroment"
   ]
  },
  {
   "cell_type": "code",
   "execution_count": 4,
   "metadata": {},
   "outputs": [
    {
     "name": "stdout",
     "output_type": "stream",
     "text": [
      "Using torch version 2.1.2+cpu\n"
     ]
    }
   ],
   "source": [
    "import torch as th\n",
    "\n",
    "print(f\"Using torch version {th.__version__}\")"
   ]
  },
  {
   "cell_type": "code",
   "execution_count": 5,
   "metadata": {},
   "outputs": [],
   "source": [
    "class TensorboardCallback(BaseCallback):\n",
    "    \"\"\"\n",
    "    Custom callback for plotting additional values in tensorboard.\n",
    "    \"\"\"\n",
    "\n",
    "    def __init__(self, verbose=0):\n",
    "        super().__init__(verbose)\n",
    "        self.pb_history = []\n",
    "\n",
    "    def _on_step(self) -> bool:\n",
    "\n",
    "        # Acessa o ambiente\n",
    "        env = self.training_env.envs[0].env\n",
    "\n",
    "        info = env.get_custom_info()\n",
    "\n",
    "        if info[\"total_requests\"] > 39998:\n",
    "            self.logger.record(\"custom_on_episode/total_requests\", info[\"total_requests\"])\n",
    "            self.logger.record(\"custom_on_episode/blocking_probability\", info[\"blocking_probability\"])\n",
    "            self.pb_history.append(info[\"blocking_probability\"])\n",
    "            self.logger.record(\"custom_on_episode/blocking_probability_total_mean\", np.mean(self.pb_history))\n",
    "\n",
    "            # Salva a média da probabilidade de bloqueio dos últimos 10 episódios\n",
    "            self.logger.record(\"custom_on_episode/blocking_probability_mean_10\", np.mean(self.pb_history[-10:]))\n",
    "\n",
    "\n",
    "            self.logger.record(\"custom_on_episode/reward_episode\", info[\"reward_episode\"])\n",
    "            self.logger.record(\"custom_on_episode/total_number_of_blocks\", info[\"total_number_of_blocks\"])\n",
    "            self.logger.record(\"custom_on_episode/calls_SAR\", env.SAR_calls)\n",
    "\n",
    "        # Verifica se o episódio terminou\t\n",
    "        return True"
   ]
  },
  {
   "cell_type": "code",
   "execution_count": 6,
   "metadata": {},
   "outputs": [
    {
     "name": "stdout",
     "output_type": "stream",
     "text": [
      "Using the enviroment {'Observation': 'availability-vector', 'Action': 'RSA-SAR', 'Reward': 'RL-defaut', 'StopCond': '40kReqs', 'StartCond': 'Empty'}\n",
      "Using the log path ../logs/Train_PPO_40kReqs_300_v4_001\n"
     ]
    },
    {
     "data": {
      "application/vnd.jupyter.widget-view+json": {
       "model_id": "ec0d47d13b8c4aa2abd8572f269ee5fe",
       "version_major": 2,
       "version_minor": 0
      },
      "text/plain": [
       "Output()"
      ]
     },
     "metadata": {},
     "output_type": "display_data"
    },
    {
     "data": {
      "text/html": [
       "<pre style=\"white-space:pre;overflow-x:auto;line-height:normal;font-family:Menlo,'DejaVu Sans Mono',consolas,'Courier New',monospace\">Saving model checkpoint to ../logs/Train_PPO_40kReqs_300_v4_001/training/best_model_40000_steps.zip\n",
       "</pre>\n"
      ],
      "text/plain": [
       "Saving model checkpoint to ../logs/Train_PPO_40kReqs_300_v4_001/training/best_model_40000_steps.zip\n"
      ]
     },
     "metadata": {},
     "output_type": "display_data"
    },
    {
     "data": {
      "text/html": [
       "<pre style=\"white-space:pre;overflow-x:auto;line-height:normal;font-family:Menlo,'DejaVu Sans Mono',consolas,'Courier New',monospace\">Eval num_timesteps=40000, episode_reward=39044.40 +/- 132.75\n",
       "</pre>\n"
      ],
      "text/plain": [
       "Eval num_timesteps=40000, episode_reward=39044.40 +/- 132.75\n"
      ]
     },
     "metadata": {},
     "output_type": "display_data"
    },
    {
     "data": {
      "text/html": [
       "<pre style=\"white-space:pre;overflow-x:auto;line-height:normal;font-family:Menlo,'DejaVu Sans Mono',consolas,'Courier New',monospace\">Episode length: 40000.00 +/- 0.00\n",
       "</pre>\n"
      ],
      "text/plain": [
       "Episode length: 40000.00 +/- 0.00\n"
      ]
     },
     "metadata": {},
     "output_type": "display_data"
    },
    {
     "data": {
      "text/html": [
       "<pre style=\"white-space:pre;overflow-x:auto;line-height:normal;font-family:Menlo,'DejaVu Sans Mono',consolas,'Courier New',monospace\">New best mean reward!\n",
       "</pre>\n"
      ],
      "text/plain": [
       "New best mean reward!\n"
      ]
     },
     "metadata": {},
     "output_type": "display_data"
    },
    {
     "data": {
      "text/html": [
       "<pre style=\"white-space:pre;overflow-x:auto;line-height:normal;font-family:Menlo,'DejaVu Sans Mono',consolas,'Courier New',monospace\">Saving model checkpoint to ../logs/Train_PPO_40kReqs_300_v4_001/training/best_model_79999_steps.zip\n",
       "</pre>\n"
      ],
      "text/plain": [
       "Saving model checkpoint to ../logs/Train_PPO_40kReqs_300_v4_001/training/best_model_79999_steps.zip\n"
      ]
     },
     "metadata": {},
     "output_type": "display_data"
    },
    {
     "data": {
      "text/html": [
       "<pre style=\"white-space:pre;overflow-x:auto;line-height:normal;font-family:Menlo,'DejaVu Sans Mono',consolas,'Courier New',monospace\">Eval num_timesteps=80000, episode_reward=38931.20 +/- 90.81\n",
       "</pre>\n"
      ],
      "text/plain": [
       "Eval num_timesteps=80000, episode_reward=38931.20 +/- 90.81\n"
      ]
     },
     "metadata": {},
     "output_type": "display_data"
    },
    {
     "data": {
      "text/html": [
       "<pre style=\"white-space:pre;overflow-x:auto;line-height:normal;font-family:Menlo,'DejaVu Sans Mono',consolas,'Courier New',monospace\">Episode length: 40000.00 +/- 0.00\n",
       "</pre>\n"
      ],
      "text/plain": [
       "Episode length: 40000.00 +/- 0.00\n"
      ]
     },
     "metadata": {},
     "output_type": "display_data"
    },
    {
     "data": {
      "text/html": [
       "<pre style=\"white-space:pre;overflow-x:auto;line-height:normal;font-family:Menlo,'DejaVu Sans Mono',consolas,'Courier New',monospace\">Saving model checkpoint to ../logs/Train_PPO_40kReqs_300_v4_001/training/best_model_119999_steps.zip\n",
       "</pre>\n"
      ],
      "text/plain": [
       "Saving model checkpoint to ../logs/Train_PPO_40kReqs_300_v4_001/training/best_model_119999_steps.zip\n"
      ]
     },
     "metadata": {},
     "output_type": "display_data"
    },
    {
     "data": {
      "text/html": [
       "<pre style=\"white-space:pre;overflow-x:auto;line-height:normal;font-family:Menlo,'DejaVu Sans Mono',consolas,'Courier New',monospace\">Eval num_timesteps=120000, episode_reward=38906.00 +/- 198.02\n",
       "</pre>\n"
      ],
      "text/plain": [
       "Eval num_timesteps=120000, episode_reward=38906.00 +/- 198.02\n"
      ]
     },
     "metadata": {},
     "output_type": "display_data"
    },
    {
     "data": {
      "text/html": [
       "<pre style=\"white-space:pre;overflow-x:auto;line-height:normal;font-family:Menlo,'DejaVu Sans Mono',consolas,'Courier New',monospace\">Episode length: 40000.00 +/- 0.00\n",
       "</pre>\n"
      ],
      "text/plain": [
       "Episode length: 40000.00 +/- 0.00\n"
      ]
     },
     "metadata": {},
     "output_type": "display_data"
    },
    {
     "data": {
      "text/html": [
       "<pre style=\"white-space:pre;overflow-x:auto;line-height:normal;font-family:Menlo,'DejaVu Sans Mono',consolas,'Courier New',monospace\">Saving model checkpoint to ../logs/Train_PPO_40kReqs_300_v4_001/training/best_model_159999_steps.zip\n",
       "</pre>\n"
      ],
      "text/plain": [
       "Saving model checkpoint to ../logs/Train_PPO_40kReqs_300_v4_001/training/best_model_159999_steps.zip\n"
      ]
     },
     "metadata": {},
     "output_type": "display_data"
    },
    {
     "data": {
      "text/html": [
       "<pre style=\"white-space:pre;overflow-x:auto;line-height:normal;font-family:Menlo,'DejaVu Sans Mono',consolas,'Courier New',monospace\">Eval num_timesteps=160000, episode_reward=38895.20 +/- 142.04\n",
       "</pre>\n"
      ],
      "text/plain": [
       "Eval num_timesteps=160000, episode_reward=38895.20 +/- 142.04\n"
      ]
     },
     "metadata": {},
     "output_type": "display_data"
    },
    {
     "data": {
      "text/html": [
       "<pre style=\"white-space:pre;overflow-x:auto;line-height:normal;font-family:Menlo,'DejaVu Sans Mono',consolas,'Courier New',monospace\">Episode length: 40000.00 +/- 0.00\n",
       "</pre>\n"
      ],
      "text/plain": [
       "Episode length: 40000.00 +/- 0.00\n"
      ]
     },
     "metadata": {},
     "output_type": "display_data"
    },
    {
     "data": {
      "text/html": [
       "<pre style=\"white-space:pre;overflow-x:auto;line-height:normal;font-family:Menlo,'DejaVu Sans Mono',consolas,'Courier New',monospace\">Saving model checkpoint to ../logs/Train_PPO_40kReqs_300_v4_001/training/best_model_199999_steps.zip\n",
       "</pre>\n"
      ],
      "text/plain": [
       "Saving model checkpoint to ../logs/Train_PPO_40kReqs_300_v4_001/training/best_model_199999_steps.zip\n"
      ]
     },
     "metadata": {},
     "output_type": "display_data"
    },
    {
     "data": {
      "text/html": [
       "<pre style=\"white-space:pre;overflow-x:auto;line-height:normal;font-family:Menlo,'DejaVu Sans Mono',consolas,'Courier New',monospace\">Eval num_timesteps=200000, episode_reward=38988.00 +/- 128.85\n",
       "</pre>\n"
      ],
      "text/plain": [
       "Eval num_timesteps=200000, episode_reward=38988.00 +/- 128.85\n"
      ]
     },
     "metadata": {},
     "output_type": "display_data"
    },
    {
     "data": {
      "text/html": [
       "<pre style=\"white-space:pre;overflow-x:auto;line-height:normal;font-family:Menlo,'DejaVu Sans Mono',consolas,'Courier New',monospace\">Episode length: 40000.00 +/- 0.00\n",
       "</pre>\n"
      ],
      "text/plain": [
       "Episode length: 40000.00 +/- 0.00\n"
      ]
     },
     "metadata": {},
     "output_type": "display_data"
    },
    {
     "data": {
      "text/html": [
       "<pre style=\"white-space:pre;overflow-x:auto;line-height:normal;font-family:Menlo,'DejaVu Sans Mono',consolas,'Courier New',monospace\">Saving model checkpoint to ../logs/Train_PPO_40kReqs_300_v4_001/training/best_model_239999_steps.zip\n",
       "</pre>\n"
      ],
      "text/plain": [
       "Saving model checkpoint to ../logs/Train_PPO_40kReqs_300_v4_001/training/best_model_239999_steps.zip\n"
      ]
     },
     "metadata": {},
     "output_type": "display_data"
    },
    {
     "data": {
      "text/html": [
       "<pre style=\"white-space:pre;overflow-x:auto;line-height:normal;font-family:Menlo,'DejaVu Sans Mono',consolas,'Courier New',monospace\">Eval num_timesteps=240000, episode_reward=38865.20 +/- 82.09\n",
       "</pre>\n"
      ],
      "text/plain": [
       "Eval num_timesteps=240000, episode_reward=38865.20 +/- 82.09\n"
      ]
     },
     "metadata": {},
     "output_type": "display_data"
    },
    {
     "data": {
      "text/html": [
       "<pre style=\"white-space:pre;overflow-x:auto;line-height:normal;font-family:Menlo,'DejaVu Sans Mono',consolas,'Courier New',monospace\">Episode length: 40000.00 +/- 0.00\n",
       "</pre>\n"
      ],
      "text/plain": [
       "Episode length: 40000.00 +/- 0.00\n"
      ]
     },
     "metadata": {},
     "output_type": "display_data"
    },
    {
     "data": {
      "text/html": [
       "<pre style=\"white-space:pre;overflow-x:auto;line-height:normal;font-family:Menlo,'DejaVu Sans Mono',consolas,'Courier New',monospace\">Saving model checkpoint to ../logs/Train_PPO_40kReqs_300_v4_001/training/best_model_279999_steps.zip\n",
       "</pre>\n"
      ],
      "text/plain": [
       "Saving model checkpoint to ../logs/Train_PPO_40kReqs_300_v4_001/training/best_model_279999_steps.zip\n"
      ]
     },
     "metadata": {},
     "output_type": "display_data"
    },
    {
     "data": {
      "text/html": [
       "<pre style=\"white-space:pre;overflow-x:auto;line-height:normal;font-family:Menlo,'DejaVu Sans Mono',consolas,'Courier New',monospace\">Eval num_timesteps=280000, episode_reward=38987.60 +/- 78.36\n",
       "</pre>\n"
      ],
      "text/plain": [
       "Eval num_timesteps=280000, episode_reward=38987.60 +/- 78.36\n"
      ]
     },
     "metadata": {},
     "output_type": "display_data"
    },
    {
     "data": {
      "text/html": [
       "<pre style=\"white-space:pre;overflow-x:auto;line-height:normal;font-family:Menlo,'DejaVu Sans Mono',consolas,'Courier New',monospace\">Episode length: 40000.00 +/- 0.00\n",
       "</pre>\n"
      ],
      "text/plain": [
       "Episode length: 40000.00 +/- 0.00\n"
      ]
     },
     "metadata": {},
     "output_type": "display_data"
    },
    {
     "data": {
      "text/html": [
       "<pre style=\"white-space:pre;overflow-x:auto;line-height:normal;font-family:Menlo,'DejaVu Sans Mono',consolas,'Courier New',monospace\">Saving model checkpoint to ../logs/Train_PPO_40kReqs_300_v4_001/training/best_model_319999_steps.zip\n",
       "</pre>\n"
      ],
      "text/plain": [
       "Saving model checkpoint to ../logs/Train_PPO_40kReqs_300_v4_001/training/best_model_319999_steps.zip\n"
      ]
     },
     "metadata": {},
     "output_type": "display_data"
    },
    {
     "data": {
      "text/html": [
       "<pre style=\"white-space:pre;overflow-x:auto;line-height:normal;font-family:Menlo,'DejaVu Sans Mono',consolas,'Courier New',monospace\">Eval num_timesteps=320000, episode_reward=39088.00 +/- 101.60\n",
       "</pre>\n"
      ],
      "text/plain": [
       "Eval num_timesteps=320000, episode_reward=39088.00 +/- 101.60\n"
      ]
     },
     "metadata": {},
     "output_type": "display_data"
    },
    {
     "data": {
      "text/html": [
       "<pre style=\"white-space:pre;overflow-x:auto;line-height:normal;font-family:Menlo,'DejaVu Sans Mono',consolas,'Courier New',monospace\">Episode length: 40000.00 +/- 0.00\n",
       "</pre>\n"
      ],
      "text/plain": [
       "Episode length: 40000.00 +/- 0.00\n"
      ]
     },
     "metadata": {},
     "output_type": "display_data"
    },
    {
     "data": {
      "text/html": [
       "<pre style=\"white-space:pre;overflow-x:auto;line-height:normal;font-family:Menlo,'DejaVu Sans Mono',consolas,'Courier New',monospace\">New best mean reward!\n",
       "</pre>\n"
      ],
      "text/plain": [
       "New best mean reward!\n"
      ]
     },
     "metadata": {},
     "output_type": "display_data"
    },
    {
     "data": {
      "text/html": [
       "<pre style=\"white-space:pre;overflow-x:auto;line-height:normal;font-family:Menlo,'DejaVu Sans Mono',consolas,'Courier New',monospace\">Saving model checkpoint to ../logs/Train_PPO_40kReqs_300_v4_001/training/best_model_359998_steps.zip\n",
       "</pre>\n"
      ],
      "text/plain": [
       "Saving model checkpoint to ../logs/Train_PPO_40kReqs_300_v4_001/training/best_model_359998_steps.zip\n"
      ]
     },
     "metadata": {},
     "output_type": "display_data"
    },
    {
     "data": {
      "text/html": [
       "<pre style=\"white-space:pre;overflow-x:auto;line-height:normal;font-family:Menlo,'DejaVu Sans Mono',consolas,'Courier New',monospace\">Eval num_timesteps=360000, episode_reward=39082.00 +/- 100.91\n",
       "</pre>\n"
      ],
      "text/plain": [
       "Eval num_timesteps=360000, episode_reward=39082.00 +/- 100.91\n"
      ]
     },
     "metadata": {},
     "output_type": "display_data"
    },
    {
     "data": {
      "text/html": [
       "<pre style=\"white-space:pre;overflow-x:auto;line-height:normal;font-family:Menlo,'DejaVu Sans Mono',consolas,'Courier New',monospace\">Episode length: 40000.00 +/- 0.00\n",
       "</pre>\n"
      ],
      "text/plain": [
       "Episode length: 40000.00 +/- 0.00\n"
      ]
     },
     "metadata": {},
     "output_type": "display_data"
    },
    {
     "data": {
      "text/html": [
       "<pre style=\"white-space:pre;overflow-x:auto;line-height:normal;font-family:Menlo,'DejaVu Sans Mono',consolas,'Courier New',monospace\">Saving model checkpoint to ../logs/Train_PPO_40kReqs_300_v4_001/training/best_model_399998_steps.zip\n",
       "</pre>\n"
      ],
      "text/plain": [
       "Saving model checkpoint to ../logs/Train_PPO_40kReqs_300_v4_001/training/best_model_399998_steps.zip\n"
      ]
     },
     "metadata": {},
     "output_type": "display_data"
    },
    {
     "data": {
      "text/html": [
       "<pre style=\"white-space:pre;overflow-x:auto;line-height:normal;font-family:Menlo,'DejaVu Sans Mono',consolas,'Courier New',monospace\">Eval num_timesteps=400000, episode_reward=39106.40 +/- 110.20\n",
       "</pre>\n"
      ],
      "text/plain": [
       "Eval num_timesteps=400000, episode_reward=39106.40 +/- 110.20\n"
      ]
     },
     "metadata": {},
     "output_type": "display_data"
    },
    {
     "data": {
      "text/html": [
       "<pre style=\"white-space:pre;overflow-x:auto;line-height:normal;font-family:Menlo,'DejaVu Sans Mono',consolas,'Courier New',monospace\">Episode length: 40000.00 +/- 0.00\n",
       "</pre>\n"
      ],
      "text/plain": [
       "Episode length: 40000.00 +/- 0.00\n"
      ]
     },
     "metadata": {},
     "output_type": "display_data"
    },
    {
     "data": {
      "text/html": [
       "<pre style=\"white-space:pre;overflow-x:auto;line-height:normal;font-family:Menlo,'DejaVu Sans Mono',consolas,'Courier New',monospace\">New best mean reward!\n",
       "</pre>\n"
      ],
      "text/plain": [
       "New best mean reward!\n"
      ]
     },
     "metadata": {},
     "output_type": "display_data"
    },
    {
     "data": {
      "text/html": [
       "<pre style=\"white-space:pre;overflow-x:auto;line-height:normal;font-family:Menlo,'DejaVu Sans Mono',consolas,'Courier New',monospace\">Saving model checkpoint to ../logs/Train_PPO_40kReqs_300_v4_001/training/best_model_439997_steps.zip\n",
       "</pre>\n"
      ],
      "text/plain": [
       "Saving model checkpoint to ../logs/Train_PPO_40kReqs_300_v4_001/training/best_model_439997_steps.zip\n"
      ]
     },
     "metadata": {},
     "output_type": "display_data"
    },
    {
     "data": {
      "text/html": [
       "<pre style=\"white-space:pre;overflow-x:auto;line-height:normal;font-family:Menlo,'DejaVu Sans Mono',consolas,'Courier New',monospace\">Eval num_timesteps=440000, episode_reward=39028.40 +/- 95.59\n",
       "</pre>\n"
      ],
      "text/plain": [
       "Eval num_timesteps=440000, episode_reward=39028.40 +/- 95.59\n"
      ]
     },
     "metadata": {},
     "output_type": "display_data"
    },
    {
     "data": {
      "text/html": [
       "<pre style=\"white-space:pre;overflow-x:auto;line-height:normal;font-family:Menlo,'DejaVu Sans Mono',consolas,'Courier New',monospace\">Episode length: 40000.00 +/- 0.00\n",
       "</pre>\n"
      ],
      "text/plain": [
       "Episode length: 40000.00 +/- 0.00\n"
      ]
     },
     "metadata": {},
     "output_type": "display_data"
    },
    {
     "data": {
      "text/html": [
       "<pre style=\"white-space:pre;overflow-x:auto;line-height:normal;font-family:Menlo,'DejaVu Sans Mono',consolas,'Courier New',monospace\">Saving model checkpoint to ../logs/Train_PPO_40kReqs_300_v4_001/training/best_model_479997_steps.zip\n",
       "</pre>\n"
      ],
      "text/plain": [
       "Saving model checkpoint to ../logs/Train_PPO_40kReqs_300_v4_001/training/best_model_479997_steps.zip\n"
      ]
     },
     "metadata": {},
     "output_type": "display_data"
    },
    {
     "data": {
      "text/html": [
       "<pre style=\"white-space:pre;overflow-x:auto;line-height:normal;font-family:Menlo,'DejaVu Sans Mono',consolas,'Courier New',monospace\">Eval num_timesteps=480000, episode_reward=39033.20 +/- 103.45\n",
       "</pre>\n"
      ],
      "text/plain": [
       "Eval num_timesteps=480000, episode_reward=39033.20 +/- 103.45\n"
      ]
     },
     "metadata": {},
     "output_type": "display_data"
    },
    {
     "data": {
      "text/html": [
       "<pre style=\"white-space:pre;overflow-x:auto;line-height:normal;font-family:Menlo,'DejaVu Sans Mono',consolas,'Courier New',monospace\">Episode length: 40000.00 +/- 0.00\n",
       "</pre>\n"
      ],
      "text/plain": [
       "Episode length: 40000.00 +/- 0.00\n"
      ]
     },
     "metadata": {},
     "output_type": "display_data"
    },
    {
     "data": {
      "text/html": [
       "<pre style=\"white-space:pre;overflow-x:auto;line-height:normal;font-family:Menlo,'DejaVu Sans Mono',consolas,'Courier New',monospace\">Saving model checkpoint to ../logs/Train_PPO_40kReqs_300_v4_001/training/best_model_519997_steps.zip\n",
       "</pre>\n"
      ],
      "text/plain": [
       "Saving model checkpoint to ../logs/Train_PPO_40kReqs_300_v4_001/training/best_model_519997_steps.zip\n"
      ]
     },
     "metadata": {},
     "output_type": "display_data"
    },
    {
     "data": {
      "text/html": [
       "<pre style=\"white-space:pre;overflow-x:auto;line-height:normal;font-family:Menlo,'DejaVu Sans Mono',consolas,'Courier New',monospace\">Eval num_timesteps=520000, episode_reward=38807.60 +/- 62.64\n",
       "</pre>\n"
      ],
      "text/plain": [
       "Eval num_timesteps=520000, episode_reward=38807.60 +/- 62.64\n"
      ]
     },
     "metadata": {},
     "output_type": "display_data"
    },
    {
     "data": {
      "text/html": [
       "<pre style=\"white-space:pre;overflow-x:auto;line-height:normal;font-family:Menlo,'DejaVu Sans Mono',consolas,'Courier New',monospace\">Episode length: 40000.00 +/- 0.00\n",
       "</pre>\n"
      ],
      "text/plain": [
       "Episode length: 40000.00 +/- 0.00\n"
      ]
     },
     "metadata": {},
     "output_type": "display_data"
    },
    {
     "data": {
      "text/html": [
       "<pre style=\"white-space:pre;overflow-x:auto;line-height:normal;font-family:Menlo,'DejaVu Sans Mono',consolas,'Courier New',monospace\">Saving model checkpoint to ../logs/Train_PPO_40kReqs_300_v4_001/training/best_model_559997_steps.zip\n",
       "</pre>\n"
      ],
      "text/plain": [
       "Saving model checkpoint to ../logs/Train_PPO_40kReqs_300_v4_001/training/best_model_559997_steps.zip\n"
      ]
     },
     "metadata": {},
     "output_type": "display_data"
    },
    {
     "data": {
      "text/html": [
       "<pre style=\"white-space:pre;overflow-x:auto;line-height:normal;font-family:Menlo,'DejaVu Sans Mono',consolas,'Courier New',monospace\">Eval num_timesteps=560000, episode_reward=38797.20 +/- 127.07\n",
       "</pre>\n"
      ],
      "text/plain": [
       "Eval num_timesteps=560000, episode_reward=38797.20 +/- 127.07\n"
      ]
     },
     "metadata": {},
     "output_type": "display_data"
    },
    {
     "data": {
      "text/html": [
       "<pre style=\"white-space:pre;overflow-x:auto;line-height:normal;font-family:Menlo,'DejaVu Sans Mono',consolas,'Courier New',monospace\">Episode length: 40000.00 +/- 0.00\n",
       "</pre>\n"
      ],
      "text/plain": [
       "Episode length: 40000.00 +/- 0.00\n"
      ]
     },
     "metadata": {},
     "output_type": "display_data"
    },
    {
     "data": {
      "text/html": [
       "<pre style=\"white-space:pre;overflow-x:auto;line-height:normal;font-family:Menlo,'DejaVu Sans Mono',consolas,'Courier New',monospace\">Saving model checkpoint to ../logs/Train_PPO_40kReqs_300_v4_001/training/best_model_599997_steps.zip\n",
       "</pre>\n"
      ],
      "text/plain": [
       "Saving model checkpoint to ../logs/Train_PPO_40kReqs_300_v4_001/training/best_model_599997_steps.zip\n"
      ]
     },
     "metadata": {},
     "output_type": "display_data"
    },
    {
     "data": {
      "text/html": [
       "<pre style=\"white-space:pre;overflow-x:auto;line-height:normal;font-family:Menlo,'DejaVu Sans Mono',consolas,'Courier New',monospace\">Eval num_timesteps=600000, episode_reward=38952.00 +/- 72.94\n",
       "</pre>\n"
      ],
      "text/plain": [
       "Eval num_timesteps=600000, episode_reward=38952.00 +/- 72.94\n"
      ]
     },
     "metadata": {},
     "output_type": "display_data"
    },
    {
     "data": {
      "text/html": [
       "<pre style=\"white-space:pre;overflow-x:auto;line-height:normal;font-family:Menlo,'DejaVu Sans Mono',consolas,'Courier New',monospace\">Episode length: 40000.00 +/- 0.00\n",
       "</pre>\n"
      ],
      "text/plain": [
       "Episode length: 40000.00 +/- 0.00\n"
      ]
     },
     "metadata": {},
     "output_type": "display_data"
    },
    {
     "data": {
      "text/html": [
       "<pre style=\"white-space:pre;overflow-x:auto;line-height:normal;font-family:Menlo,'DejaVu Sans Mono',consolas,'Courier New',monospace\">Saving model checkpoint to ../logs/Train_PPO_40kReqs_300_v4_001/training/best_model_639997_steps.zip\n",
       "</pre>\n"
      ],
      "text/plain": [
       "Saving model checkpoint to ../logs/Train_PPO_40kReqs_300_v4_001/training/best_model_639997_steps.zip\n"
      ]
     },
     "metadata": {},
     "output_type": "display_data"
    },
    {
     "data": {
      "text/html": [
       "<pre style=\"white-space:pre;overflow-x:auto;line-height:normal;font-family:Menlo,'DejaVu Sans Mono',consolas,'Courier New',monospace\">Eval num_timesteps=640000, episode_reward=38788.00 +/- 41.93\n",
       "</pre>\n"
      ],
      "text/plain": [
       "Eval num_timesteps=640000, episode_reward=38788.00 +/- 41.93\n"
      ]
     },
     "metadata": {},
     "output_type": "display_data"
    },
    {
     "data": {
      "text/html": [
       "<pre style=\"white-space:pre;overflow-x:auto;line-height:normal;font-family:Menlo,'DejaVu Sans Mono',consolas,'Courier New',monospace\">Episode length: 40000.00 +/- 0.00\n",
       "</pre>\n"
      ],
      "text/plain": [
       "Episode length: 40000.00 +/- 0.00\n"
      ]
     },
     "metadata": {},
     "output_type": "display_data"
    },
    {
     "data": {
      "text/html": [
       "<pre style=\"white-space:pre;overflow-x:auto;line-height:normal;font-family:Menlo,'DejaVu Sans Mono',consolas,'Courier New',monospace\">Saving model checkpoint to ../logs/Train_PPO_40kReqs_300_v4_001/training/best_model_679997_steps.zip\n",
       "</pre>\n"
      ],
      "text/plain": [
       "Saving model checkpoint to ../logs/Train_PPO_40kReqs_300_v4_001/training/best_model_679997_steps.zip\n"
      ]
     },
     "metadata": {},
     "output_type": "display_data"
    },
    {
     "data": {
      "text/html": [
       "<pre style=\"white-space:pre;overflow-x:auto;line-height:normal;font-family:Menlo,'DejaVu Sans Mono',consolas,'Courier New',monospace\">Eval num_timesteps=680000, episode_reward=38693.60 +/- 61.18\n",
       "</pre>\n"
      ],
      "text/plain": [
       "Eval num_timesteps=680000, episode_reward=38693.60 +/- 61.18\n"
      ]
     },
     "metadata": {},
     "output_type": "display_data"
    },
    {
     "data": {
      "text/html": [
       "<pre style=\"white-space:pre;overflow-x:auto;line-height:normal;font-family:Menlo,'DejaVu Sans Mono',consolas,'Courier New',monospace\">Episode length: 40000.00 +/- 0.00\n",
       "</pre>\n"
      ],
      "text/plain": [
       "Episode length: 40000.00 +/- 0.00\n"
      ]
     },
     "metadata": {},
     "output_type": "display_data"
    },
    {
     "data": {
      "text/html": [
       "<pre style=\"white-space:pre;overflow-x:auto;line-height:normal;font-family:Menlo,'DejaVu Sans Mono',consolas,'Courier New',monospace\">Saving model checkpoint to ../logs/Train_PPO_40kReqs_300_v4_001/training/best_model_719997_steps.zip\n",
       "</pre>\n"
      ],
      "text/plain": [
       "Saving model checkpoint to ../logs/Train_PPO_40kReqs_300_v4_001/training/best_model_719997_steps.zip\n"
      ]
     },
     "metadata": {},
     "output_type": "display_data"
    },
    {
     "data": {
      "text/html": [
       "<pre style=\"white-space:pre;overflow-x:auto;line-height:normal;font-family:Menlo,'DejaVu Sans Mono',consolas,'Courier New',monospace\">Eval num_timesteps=720000, episode_reward=38877.60 +/- 60.20\n",
       "</pre>\n"
      ],
      "text/plain": [
       "Eval num_timesteps=720000, episode_reward=38877.60 +/- 60.20\n"
      ]
     },
     "metadata": {},
     "output_type": "display_data"
    },
    {
     "data": {
      "text/html": [
       "<pre style=\"white-space:pre;overflow-x:auto;line-height:normal;font-family:Menlo,'DejaVu Sans Mono',consolas,'Courier New',monospace\">Episode length: 40000.00 +/- 0.00\n",
       "</pre>\n"
      ],
      "text/plain": [
       "Episode length: 40000.00 +/- 0.00\n"
      ]
     },
     "metadata": {},
     "output_type": "display_data"
    },
    {
     "data": {
      "text/html": [
       "<pre style=\"white-space:pre;overflow-x:auto;line-height:normal;font-family:Menlo,'DejaVu Sans Mono',consolas,'Courier New',monospace\">Saving model checkpoint to ../logs/Train_PPO_40kReqs_300_v4_001/training/best_model_759997_steps.zip\n",
       "</pre>\n"
      ],
      "text/plain": [
       "Saving model checkpoint to ../logs/Train_PPO_40kReqs_300_v4_001/training/best_model_759997_steps.zip\n"
      ]
     },
     "metadata": {},
     "output_type": "display_data"
    },
    {
     "data": {
      "text/html": [
       "<pre style=\"white-space:pre;overflow-x:auto;line-height:normal;font-family:Menlo,'DejaVu Sans Mono',consolas,'Courier New',monospace\">Eval num_timesteps=760000, episode_reward=38946.00 +/- 73.81\n",
       "</pre>\n"
      ],
      "text/plain": [
       "Eval num_timesteps=760000, episode_reward=38946.00 +/- 73.81\n"
      ]
     },
     "metadata": {},
     "output_type": "display_data"
    },
    {
     "data": {
      "text/html": [
       "<pre style=\"white-space:pre;overflow-x:auto;line-height:normal;font-family:Menlo,'DejaVu Sans Mono',consolas,'Courier New',monospace\">Episode length: 40000.00 +/- 0.00\n",
       "</pre>\n"
      ],
      "text/plain": [
       "Episode length: 40000.00 +/- 0.00\n"
      ]
     },
     "metadata": {},
     "output_type": "display_data"
    },
    {
     "data": {
      "text/html": [
       "<pre style=\"white-space:pre;overflow-x:auto;line-height:normal;font-family:Menlo,'DejaVu Sans Mono',consolas,'Courier New',monospace\">Saving model checkpoint to ../logs/Train_PPO_40kReqs_300_v4_001/training/best_model_799997_steps.zip\n",
       "</pre>\n"
      ],
      "text/plain": [
       "Saving model checkpoint to ../logs/Train_PPO_40kReqs_300_v4_001/training/best_model_799997_steps.zip\n"
      ]
     },
     "metadata": {},
     "output_type": "display_data"
    },
    {
     "data": {
      "text/html": [
       "<pre style=\"white-space:pre;overflow-x:auto;line-height:normal;font-family:Menlo,'DejaVu Sans Mono',consolas,'Courier New',monospace\">Eval num_timesteps=800000, episode_reward=38850.80 +/- 63.51\n",
       "</pre>\n"
      ],
      "text/plain": [
       "Eval num_timesteps=800000, episode_reward=38850.80 +/- 63.51\n"
      ]
     },
     "metadata": {},
     "output_type": "display_data"
    },
    {
     "data": {
      "text/html": [
       "<pre style=\"white-space:pre;overflow-x:auto;line-height:normal;font-family:Menlo,'DejaVu Sans Mono',consolas,'Courier New',monospace\">Episode length: 40000.00 +/- 0.00\n",
       "</pre>\n"
      ],
      "text/plain": [
       "Episode length: 40000.00 +/- 0.00\n"
      ]
     },
     "metadata": {},
     "output_type": "display_data"
    },
    {
     "data": {
      "text/html": [
       "<pre style=\"white-space:pre;overflow-x:auto;line-height:normal;font-family:Menlo,'DejaVu Sans Mono',consolas,'Courier New',monospace\">Saving model checkpoint to ../logs/Train_PPO_40kReqs_300_v4_001/training/best_model_839997_steps.zip\n",
       "</pre>\n"
      ],
      "text/plain": [
       "Saving model checkpoint to ../logs/Train_PPO_40kReqs_300_v4_001/training/best_model_839997_steps.zip\n"
      ]
     },
     "metadata": {},
     "output_type": "display_data"
    },
    {
     "data": {
      "text/html": [
       "<pre style=\"white-space:pre;overflow-x:auto;line-height:normal;font-family:Menlo,'DejaVu Sans Mono',consolas,'Courier New',monospace\">Eval num_timesteps=840000, episode_reward=38966.80 +/- 99.05\n",
       "</pre>\n"
      ],
      "text/plain": [
       "Eval num_timesteps=840000, episode_reward=38966.80 +/- 99.05\n"
      ]
     },
     "metadata": {},
     "output_type": "display_data"
    },
    {
     "data": {
      "text/html": [
       "<pre style=\"white-space:pre;overflow-x:auto;line-height:normal;font-family:Menlo,'DejaVu Sans Mono',consolas,'Courier New',monospace\">Episode length: 40000.00 +/- 0.00\n",
       "</pre>\n"
      ],
      "text/plain": [
       "Episode length: 40000.00 +/- 0.00\n"
      ]
     },
     "metadata": {},
     "output_type": "display_data"
    },
    {
     "data": {
      "text/html": [
       "<pre style=\"white-space:pre;overflow-x:auto;line-height:normal;font-family:Menlo,'DejaVu Sans Mono',consolas,'Courier New',monospace\">Saving model checkpoint to ../logs/Train_PPO_40kReqs_300_v4_001/training/best_model_879997_steps.zip\n",
       "</pre>\n"
      ],
      "text/plain": [
       "Saving model checkpoint to ../logs/Train_PPO_40kReqs_300_v4_001/training/best_model_879997_steps.zip\n"
      ]
     },
     "metadata": {},
     "output_type": "display_data"
    },
    {
     "data": {
      "text/html": [
       "<pre style=\"white-space:pre;overflow-x:auto;line-height:normal;font-family:Menlo,'DejaVu Sans Mono',consolas,'Courier New',monospace\">Eval num_timesteps=880000, episode_reward=38972.40 +/- 67.98\n",
       "</pre>\n"
      ],
      "text/plain": [
       "Eval num_timesteps=880000, episode_reward=38972.40 +/- 67.98\n"
      ]
     },
     "metadata": {},
     "output_type": "display_data"
    },
    {
     "data": {
      "text/html": [
       "<pre style=\"white-space:pre;overflow-x:auto;line-height:normal;font-family:Menlo,'DejaVu Sans Mono',consolas,'Courier New',monospace\">Episode length: 40000.00 +/- 0.00\n",
       "</pre>\n"
      ],
      "text/plain": [
       "Episode length: 40000.00 +/- 0.00\n"
      ]
     },
     "metadata": {},
     "output_type": "display_data"
    },
    {
     "data": {
      "text/html": [
       "<pre style=\"white-space:pre;overflow-x:auto;line-height:normal;font-family:Menlo,'DejaVu Sans Mono',consolas,'Courier New',monospace\">Saving model checkpoint to ../logs/Train_PPO_40kReqs_300_v4_001/training/best_model_919997_steps.zip\n",
       "</pre>\n"
      ],
      "text/plain": [
       "Saving model checkpoint to ../logs/Train_PPO_40kReqs_300_v4_001/training/best_model_919997_steps.zip\n"
      ]
     },
     "metadata": {},
     "output_type": "display_data"
    },
    {
     "data": {
      "text/html": [
       "<pre style=\"white-space:pre;overflow-x:auto;line-height:normal;font-family:Menlo,'DejaVu Sans Mono',consolas,'Courier New',monospace\">Eval num_timesteps=920000, episode_reward=39018.40 +/- 110.82\n",
       "</pre>\n"
      ],
      "text/plain": [
       "Eval num_timesteps=920000, episode_reward=39018.40 +/- 110.82\n"
      ]
     },
     "metadata": {},
     "output_type": "display_data"
    },
    {
     "data": {
      "text/html": [
       "<pre style=\"white-space:pre;overflow-x:auto;line-height:normal;font-family:Menlo,'DejaVu Sans Mono',consolas,'Courier New',monospace\">Episode length: 40000.00 +/- 0.00\n",
       "</pre>\n"
      ],
      "text/plain": [
       "Episode length: 40000.00 +/- 0.00\n"
      ]
     },
     "metadata": {},
     "output_type": "display_data"
    },
    {
     "data": {
      "text/html": [
       "<pre style=\"white-space:pre;overflow-x:auto;line-height:normal;font-family:Menlo,'DejaVu Sans Mono',consolas,'Courier New',monospace\">Saving model checkpoint to ../logs/Train_PPO_40kReqs_300_v4_001/training/best_model_959997_steps.zip\n",
       "</pre>\n"
      ],
      "text/plain": [
       "Saving model checkpoint to ../logs/Train_PPO_40kReqs_300_v4_001/training/best_model_959997_steps.zip\n"
      ]
     },
     "metadata": {},
     "output_type": "display_data"
    },
    {
     "data": {
      "text/html": [
       "<pre style=\"white-space:pre;overflow-x:auto;line-height:normal;font-family:Menlo,'DejaVu Sans Mono',consolas,'Courier New',monospace\">Eval num_timesteps=960000, episode_reward=39016.00 +/- 37.67\n",
       "</pre>\n"
      ],
      "text/plain": [
       "Eval num_timesteps=960000, episode_reward=39016.00 +/- 37.67\n"
      ]
     },
     "metadata": {},
     "output_type": "display_data"
    },
    {
     "data": {
      "text/html": [
       "<pre style=\"white-space:pre;overflow-x:auto;line-height:normal;font-family:Menlo,'DejaVu Sans Mono',consolas,'Courier New',monospace\">Episode length: 40000.00 +/- 0.00\n",
       "</pre>\n"
      ],
      "text/plain": [
       "Episode length: 40000.00 +/- 0.00\n"
      ]
     },
     "metadata": {},
     "output_type": "display_data"
    },
    {
     "data": {
      "text/html": [
       "<pre style=\"white-space:pre;overflow-x:auto;line-height:normal;font-family:Menlo,'DejaVu Sans Mono',consolas,'Courier New',monospace\">Saving model checkpoint to ../logs/Train_PPO_40kReqs_300_v4_001/training/best_model_999997_steps.zip\n",
       "</pre>\n"
      ],
      "text/plain": [
       "Saving model checkpoint to ../logs/Train_PPO_40kReqs_300_v4_001/training/best_model_999997_steps.zip\n"
      ]
     },
     "metadata": {},
     "output_type": "display_data"
    },
    {
     "data": {
      "text/html": [
       "<pre style=\"white-space:pre;overflow-x:auto;line-height:normal;font-family:Menlo,'DejaVu Sans Mono',consolas,'Courier New',monospace\">Eval num_timesteps=1000000, episode_reward=39036.80 +/- 109.33\n",
       "</pre>\n"
      ],
      "text/plain": [
       "Eval num_timesteps=1000000, episode_reward=39036.80 +/- 109.33\n"
      ]
     },
     "metadata": {},
     "output_type": "display_data"
    },
    {
     "data": {
      "text/html": [
       "<pre style=\"white-space:pre;overflow-x:auto;line-height:normal;font-family:Menlo,'DejaVu Sans Mono',consolas,'Courier New',monospace\">Episode length: 40000.00 +/- 0.00\n",
       "</pre>\n"
      ],
      "text/plain": [
       "Episode length: 40000.00 +/- 0.00\n"
      ]
     },
     "metadata": {},
     "output_type": "display_data"
    },
    {
     "data": {
      "text/html": [
       "<pre style=\"white-space:pre;overflow-x:auto;line-height:normal;font-family:Menlo,'DejaVu Sans Mono',consolas,'Courier New',monospace\">Saving model checkpoint to ../logs/Train_PPO_40kReqs_300_v4_001/training/best_model_1039997_steps.zip\n",
       "</pre>\n"
      ],
      "text/plain": [
       "Saving model checkpoint to ../logs/Train_PPO_40kReqs_300_v4_001/training/best_model_1039997_steps.zip\n"
      ]
     },
     "metadata": {},
     "output_type": "display_data"
    },
    {
     "data": {
      "text/html": [
       "<pre style=\"white-space:pre;overflow-x:auto;line-height:normal;font-family:Menlo,'DejaVu Sans Mono',consolas,'Courier New',monospace\">Eval num_timesteps=1040000, episode_reward=39100.00 +/- 141.68\n",
       "</pre>\n"
      ],
      "text/plain": [
       "Eval num_timesteps=1040000, episode_reward=39100.00 +/- 141.68\n"
      ]
     },
     "metadata": {},
     "output_type": "display_data"
    },
    {
     "data": {
      "text/html": [
       "<pre style=\"white-space:pre;overflow-x:auto;line-height:normal;font-family:Menlo,'DejaVu Sans Mono',consolas,'Courier New',monospace\">Episode length: 40000.00 +/- 0.00\n",
       "</pre>\n"
      ],
      "text/plain": [
       "Episode length: 40000.00 +/- 0.00\n"
      ]
     },
     "metadata": {},
     "output_type": "display_data"
    },
    {
     "data": {
      "text/html": [
       "<pre style=\"white-space:pre;overflow-x:auto;line-height:normal;font-family:Menlo,'DejaVu Sans Mono',consolas,'Courier New',monospace\">Saving model checkpoint to ../logs/Train_PPO_40kReqs_300_v4_001/training/best_model_1079997_steps.zip\n",
       "</pre>\n"
      ],
      "text/plain": [
       "Saving model checkpoint to ../logs/Train_PPO_40kReqs_300_v4_001/training/best_model_1079997_steps.zip\n"
      ]
     },
     "metadata": {},
     "output_type": "display_data"
    },
    {
     "data": {
      "text/html": [
       "<pre style=\"white-space:pre;overflow-x:auto;line-height:normal;font-family:Menlo,'DejaVu Sans Mono',consolas,'Courier New',monospace\">Eval num_timesteps=1080000, episode_reward=39054.00 +/- 70.03\n",
       "</pre>\n"
      ],
      "text/plain": [
       "Eval num_timesteps=1080000, episode_reward=39054.00 +/- 70.03\n"
      ]
     },
     "metadata": {},
     "output_type": "display_data"
    },
    {
     "data": {
      "text/html": [
       "<pre style=\"white-space:pre;overflow-x:auto;line-height:normal;font-family:Menlo,'DejaVu Sans Mono',consolas,'Courier New',monospace\">Episode length: 40000.00 +/- 0.00\n",
       "</pre>\n"
      ],
      "text/plain": [
       "Episode length: 40000.00 +/- 0.00\n"
      ]
     },
     "metadata": {},
     "output_type": "display_data"
    },
    {
     "data": {
      "text/html": [
       "<pre style=\"white-space:pre;overflow-x:auto;line-height:normal;font-family:Menlo,'DejaVu Sans Mono',consolas,'Courier New',monospace\">Saving model checkpoint to ../logs/Train_PPO_40kReqs_300_v4_001/training/best_model_1119997_steps.zip\n",
       "</pre>\n"
      ],
      "text/plain": [
       "Saving model checkpoint to ../logs/Train_PPO_40kReqs_300_v4_001/training/best_model_1119997_steps.zip\n"
      ]
     },
     "metadata": {},
     "output_type": "display_data"
    },
    {
     "data": {
      "text/html": [
       "<pre style=\"white-space:pre;overflow-x:auto;line-height:normal;font-family:Menlo,'DejaVu Sans Mono',consolas,'Courier New',monospace\">Eval num_timesteps=1120000, episode_reward=38976.40 +/- 67.06\n",
       "</pre>\n"
      ],
      "text/plain": [
       "Eval num_timesteps=1120000, episode_reward=38976.40 +/- 67.06\n"
      ]
     },
     "metadata": {},
     "output_type": "display_data"
    },
    {
     "data": {
      "text/html": [
       "<pre style=\"white-space:pre;overflow-x:auto;line-height:normal;font-family:Menlo,'DejaVu Sans Mono',consolas,'Courier New',monospace\">Episode length: 40000.00 +/- 0.00\n",
       "</pre>\n"
      ],
      "text/plain": [
       "Episode length: 40000.00 +/- 0.00\n"
      ]
     },
     "metadata": {},
     "output_type": "display_data"
    },
    {
     "data": {
      "text/html": [
       "<pre style=\"white-space:pre;overflow-x:auto;line-height:normal;font-family:Menlo,'DejaVu Sans Mono',consolas,'Courier New',monospace\">Saving model checkpoint to ../logs/Train_PPO_40kReqs_300_v4_001/training/best_model_1159997_steps.zip\n",
       "</pre>\n"
      ],
      "text/plain": [
       "Saving model checkpoint to ../logs/Train_PPO_40kReqs_300_v4_001/training/best_model_1159997_steps.zip\n"
      ]
     },
     "metadata": {},
     "output_type": "display_data"
    },
    {
     "data": {
      "text/html": [
       "<pre style=\"white-space:pre;overflow-x:auto;line-height:normal;font-family:Menlo,'DejaVu Sans Mono',consolas,'Courier New',monospace\">Eval num_timesteps=1160000, episode_reward=39136.80 +/- 75.38\n",
       "</pre>\n"
      ],
      "text/plain": [
       "Eval num_timesteps=1160000, episode_reward=39136.80 +/- 75.38\n"
      ]
     },
     "metadata": {},
     "output_type": "display_data"
    },
    {
     "data": {
      "text/html": [
       "<pre style=\"white-space:pre;overflow-x:auto;line-height:normal;font-family:Menlo,'DejaVu Sans Mono',consolas,'Courier New',monospace\">Episode length: 40000.00 +/- 0.00\n",
       "</pre>\n"
      ],
      "text/plain": [
       "Episode length: 40000.00 +/- 0.00\n"
      ]
     },
     "metadata": {},
     "output_type": "display_data"
    },
    {
     "data": {
      "text/html": [
       "<pre style=\"white-space:pre;overflow-x:auto;line-height:normal;font-family:Menlo,'DejaVu Sans Mono',consolas,'Courier New',monospace\">New best mean reward!\n",
       "</pre>\n"
      ],
      "text/plain": [
       "New best mean reward!\n"
      ]
     },
     "metadata": {},
     "output_type": "display_data"
    },
    {
     "data": {
      "text/html": [
       "<pre style=\"white-space:pre;overflow-x:auto;line-height:normal;font-family:Menlo,'DejaVu Sans Mono',consolas,'Courier New',monospace\">Saving model checkpoint to ../logs/Train_PPO_40kReqs_300_v4_001/training/best_model_1199996_steps.zip\n",
       "</pre>\n"
      ],
      "text/plain": [
       "Saving model checkpoint to ../logs/Train_PPO_40kReqs_300_v4_001/training/best_model_1199996_steps.zip\n"
      ]
     },
     "metadata": {},
     "output_type": "display_data"
    },
    {
     "data": {
      "text/html": [
       "<pre style=\"white-space:pre;overflow-x:auto;line-height:normal;font-family:Menlo,'DejaVu Sans Mono',consolas,'Courier New',monospace\">Eval num_timesteps=1200000, episode_reward=39038.00 +/- 108.98\n",
       "</pre>\n"
      ],
      "text/plain": [
       "Eval num_timesteps=1200000, episode_reward=39038.00 +/- 108.98\n"
      ]
     },
     "metadata": {},
     "output_type": "display_data"
    },
    {
     "data": {
      "text/html": [
       "<pre style=\"white-space:pre;overflow-x:auto;line-height:normal;font-family:Menlo,'DejaVu Sans Mono',consolas,'Courier New',monospace\">Episode length: 40000.00 +/- 0.00\n",
       "</pre>\n"
      ],
      "text/plain": [
       "Episode length: 40000.00 +/- 0.00\n"
      ]
     },
     "metadata": {},
     "output_type": "display_data"
    },
    {
     "data": {
      "text/html": [
       "<pre style=\"white-space:pre;overflow-x:auto;line-height:normal;font-family:Menlo,'DejaVu Sans Mono',consolas,'Courier New',monospace\">Saving model checkpoint to ../logs/Train_PPO_40kReqs_300_v4_001/training/best_model_1239996_steps.zip\n",
       "</pre>\n"
      ],
      "text/plain": [
       "Saving model checkpoint to ../logs/Train_PPO_40kReqs_300_v4_001/training/best_model_1239996_steps.zip\n"
      ]
     },
     "metadata": {},
     "output_type": "display_data"
    },
    {
     "data": {
      "text/html": [
       "<pre style=\"white-space:pre;overflow-x:auto;line-height:normal;font-family:Menlo,'DejaVu Sans Mono',consolas,'Courier New',monospace\">Eval num_timesteps=1240000, episode_reward=39070.80 +/- 72.00\n",
       "</pre>\n"
      ],
      "text/plain": [
       "Eval num_timesteps=1240000, episode_reward=39070.80 +/- 72.00\n"
      ]
     },
     "metadata": {},
     "output_type": "display_data"
    },
    {
     "data": {
      "text/html": [
       "<pre style=\"white-space:pre;overflow-x:auto;line-height:normal;font-family:Menlo,'DejaVu Sans Mono',consolas,'Courier New',monospace\">Episode length: 40000.00 +/- 0.00\n",
       "</pre>\n"
      ],
      "text/plain": [
       "Episode length: 40000.00 +/- 0.00\n"
      ]
     },
     "metadata": {},
     "output_type": "display_data"
    },
    {
     "data": {
      "text/html": [
       "<pre style=\"white-space:pre;overflow-x:auto;line-height:normal;font-family:Menlo,'DejaVu Sans Mono',consolas,'Courier New',monospace\">Saving model checkpoint to ../logs/Train_PPO_40kReqs_300_v4_001/training/best_model_1279996_steps.zip\n",
       "</pre>\n"
      ],
      "text/plain": [
       "Saving model checkpoint to ../logs/Train_PPO_40kReqs_300_v4_001/training/best_model_1279996_steps.zip\n"
      ]
     },
     "metadata": {},
     "output_type": "display_data"
    },
    {
     "data": {
      "text/html": [
       "<pre style=\"white-space:pre;overflow-x:auto;line-height:normal;font-family:Menlo,'DejaVu Sans Mono',consolas,'Courier New',monospace\">Eval num_timesteps=1280000, episode_reward=39091.60 +/- 96.89\n",
       "</pre>\n"
      ],
      "text/plain": [
       "Eval num_timesteps=1280000, episode_reward=39091.60 +/- 96.89\n"
      ]
     },
     "metadata": {},
     "output_type": "display_data"
    },
    {
     "data": {
      "text/html": [
       "<pre style=\"white-space:pre;overflow-x:auto;line-height:normal;font-family:Menlo,'DejaVu Sans Mono',consolas,'Courier New',monospace\">Episode length: 40000.00 +/- 0.00\n",
       "</pre>\n"
      ],
      "text/plain": [
       "Episode length: 40000.00 +/- 0.00\n"
      ]
     },
     "metadata": {},
     "output_type": "display_data"
    },
    {
     "data": {
      "text/html": [
       "<pre style=\"white-space:pre;overflow-x:auto;line-height:normal;font-family:Menlo,'DejaVu Sans Mono',consolas,'Courier New',monospace\">Saving model checkpoint to ../logs/Train_PPO_40kReqs_300_v4_001/training/best_model_1319996_steps.zip\n",
       "</pre>\n"
      ],
      "text/plain": [
       "Saving model checkpoint to ../logs/Train_PPO_40kReqs_300_v4_001/training/best_model_1319996_steps.zip\n"
      ]
     },
     "metadata": {},
     "output_type": "display_data"
    },
    {
     "data": {
      "text/html": [
       "<pre style=\"white-space:pre;overflow-x:auto;line-height:normal;font-family:Menlo,'DejaVu Sans Mono',consolas,'Courier New',monospace\">Eval num_timesteps=1320000, episode_reward=39156.00 +/- 81.19\n",
       "</pre>\n"
      ],
      "text/plain": [
       "Eval num_timesteps=1320000, episode_reward=39156.00 +/- 81.19\n"
      ]
     },
     "metadata": {},
     "output_type": "display_data"
    },
    {
     "data": {
      "text/html": [
       "<pre style=\"white-space:pre;overflow-x:auto;line-height:normal;font-family:Menlo,'DejaVu Sans Mono',consolas,'Courier New',monospace\">Episode length: 40000.00 +/- 0.00\n",
       "</pre>\n"
      ],
      "text/plain": [
       "Episode length: 40000.00 +/- 0.00\n"
      ]
     },
     "metadata": {},
     "output_type": "display_data"
    },
    {
     "data": {
      "text/html": [
       "<pre style=\"white-space:pre;overflow-x:auto;line-height:normal;font-family:Menlo,'DejaVu Sans Mono',consolas,'Courier New',monospace\">New best mean reward!\n",
       "</pre>\n"
      ],
      "text/plain": [
       "New best mean reward!\n"
      ]
     },
     "metadata": {},
     "output_type": "display_data"
    },
    {
     "data": {
      "text/html": [
       "<pre style=\"white-space:pre;overflow-x:auto;line-height:normal;font-family:Menlo,'DejaVu Sans Mono',consolas,'Courier New',monospace\">Saving model checkpoint to ../logs/Train_PPO_40kReqs_300_v4_001/training/best_model_1359995_steps.zip\n",
       "</pre>\n"
      ],
      "text/plain": [
       "Saving model checkpoint to ../logs/Train_PPO_40kReqs_300_v4_001/training/best_model_1359995_steps.zip\n"
      ]
     },
     "metadata": {},
     "output_type": "display_data"
    },
    {
     "data": {
      "text/html": [
       "<pre style=\"white-space:pre;overflow-x:auto;line-height:normal;font-family:Menlo,'DejaVu Sans Mono',consolas,'Courier New',monospace\">Eval num_timesteps=1360000, episode_reward=39152.00 +/- 87.04\n",
       "</pre>\n"
      ],
      "text/plain": [
       "Eval num_timesteps=1360000, episode_reward=39152.00 +/- 87.04\n"
      ]
     },
     "metadata": {},
     "output_type": "display_data"
    },
    {
     "data": {
      "text/html": [
       "<pre style=\"white-space:pre;overflow-x:auto;line-height:normal;font-family:Menlo,'DejaVu Sans Mono',consolas,'Courier New',monospace\">Episode length: 40000.00 +/- 0.00\n",
       "</pre>\n"
      ],
      "text/plain": [
       "Episode length: 40000.00 +/- 0.00\n"
      ]
     },
     "metadata": {},
     "output_type": "display_data"
    },
    {
     "data": {
      "text/html": [
       "<pre style=\"white-space:pre;overflow-x:auto;line-height:normal;font-family:Menlo,'DejaVu Sans Mono',consolas,'Courier New',monospace\">Saving model checkpoint to ../logs/Train_PPO_40kReqs_300_v4_001/training/best_model_1399995_steps.zip\n",
       "</pre>\n"
      ],
      "text/plain": [
       "Saving model checkpoint to ../logs/Train_PPO_40kReqs_300_v4_001/training/best_model_1399995_steps.zip\n"
      ]
     },
     "metadata": {},
     "output_type": "display_data"
    },
    {
     "data": {
      "text/html": [
       "<pre style=\"white-space:pre;overflow-x:auto;line-height:normal;font-family:Menlo,'DejaVu Sans Mono',consolas,'Courier New',monospace\">Eval num_timesteps=1400000, episode_reward=39065.60 +/- 107.61\n",
       "</pre>\n"
      ],
      "text/plain": [
       "Eval num_timesteps=1400000, episode_reward=39065.60 +/- 107.61\n"
      ]
     },
     "metadata": {},
     "output_type": "display_data"
    },
    {
     "data": {
      "text/html": [
       "<pre style=\"white-space:pre;overflow-x:auto;line-height:normal;font-family:Menlo,'DejaVu Sans Mono',consolas,'Courier New',monospace\">Episode length: 40000.00 +/- 0.00\n",
       "</pre>\n"
      ],
      "text/plain": [
       "Episode length: 40000.00 +/- 0.00\n"
      ]
     },
     "metadata": {},
     "output_type": "display_data"
    },
    {
     "data": {
      "text/html": [
       "<pre style=\"white-space:pre;overflow-x:auto;line-height:normal;font-family:Menlo,'DejaVu Sans Mono',consolas,'Courier New',monospace\">Saving model checkpoint to ../logs/Train_PPO_40kReqs_300_v4_001/training/best_model_1439995_steps.zip\n",
       "</pre>\n"
      ],
      "text/plain": [
       "Saving model checkpoint to ../logs/Train_PPO_40kReqs_300_v4_001/training/best_model_1439995_steps.zip\n"
      ]
     },
     "metadata": {},
     "output_type": "display_data"
    },
    {
     "data": {
      "text/html": [
       "<pre style=\"white-space:pre;overflow-x:auto;line-height:normal;font-family:Menlo,'DejaVu Sans Mono',consolas,'Courier New',monospace\">Eval num_timesteps=1440000, episode_reward=39084.00 +/- 160.45\n",
       "</pre>\n"
      ],
      "text/plain": [
       "Eval num_timesteps=1440000, episode_reward=39084.00 +/- 160.45\n"
      ]
     },
     "metadata": {},
     "output_type": "display_data"
    },
    {
     "data": {
      "text/html": [
       "<pre style=\"white-space:pre;overflow-x:auto;line-height:normal;font-family:Menlo,'DejaVu Sans Mono',consolas,'Courier New',monospace\">Episode length: 40000.00 +/- 0.00\n",
       "</pre>\n"
      ],
      "text/plain": [
       "Episode length: 40000.00 +/- 0.00\n"
      ]
     },
     "metadata": {},
     "output_type": "display_data"
    },
    {
     "data": {
      "text/html": [
       "<pre style=\"white-space:pre;overflow-x:auto;line-height:normal;font-family:Menlo,'DejaVu Sans Mono',consolas,'Courier New',monospace\">Saving model checkpoint to ../logs/Train_PPO_40kReqs_300_v4_001/training/best_model_1479995_steps.zip\n",
       "</pre>\n"
      ],
      "text/plain": [
       "Saving model checkpoint to ../logs/Train_PPO_40kReqs_300_v4_001/training/best_model_1479995_steps.zip\n"
      ]
     },
     "metadata": {},
     "output_type": "display_data"
    },
    {
     "data": {
      "text/html": [
       "<pre style=\"white-space:pre;overflow-x:auto;line-height:normal;font-family:Menlo,'DejaVu Sans Mono',consolas,'Courier New',monospace\">Eval num_timesteps=1480000, episode_reward=39101.60 +/- 31.15\n",
       "</pre>\n"
      ],
      "text/plain": [
       "Eval num_timesteps=1480000, episode_reward=39101.60 +/- 31.15\n"
      ]
     },
     "metadata": {},
     "output_type": "display_data"
    },
    {
     "data": {
      "text/html": [
       "<pre style=\"white-space:pre;overflow-x:auto;line-height:normal;font-family:Menlo,'DejaVu Sans Mono',consolas,'Courier New',monospace\">Episode length: 40000.00 +/- 0.00\n",
       "</pre>\n"
      ],
      "text/plain": [
       "Episode length: 40000.00 +/- 0.00\n"
      ]
     },
     "metadata": {},
     "output_type": "display_data"
    },
    {
     "data": {
      "text/html": [
       "<pre style=\"white-space:pre;overflow-x:auto;line-height:normal;font-family:Menlo,'DejaVu Sans Mono',consolas,'Courier New',monospace\">Saving model checkpoint to ../logs/Train_PPO_40kReqs_300_v4_001/training/best_model_1519995_steps.zip\n",
       "</pre>\n"
      ],
      "text/plain": [
       "Saving model checkpoint to ../logs/Train_PPO_40kReqs_300_v4_001/training/best_model_1519995_steps.zip\n"
      ]
     },
     "metadata": {},
     "output_type": "display_data"
    },
    {
     "data": {
      "text/html": [
       "<pre style=\"white-space:pre;overflow-x:auto;line-height:normal;font-family:Menlo,'DejaVu Sans Mono',consolas,'Courier New',monospace\">Eval num_timesteps=1520000, episode_reward=39060.00 +/- 145.37\n",
       "</pre>\n"
      ],
      "text/plain": [
       "Eval num_timesteps=1520000, episode_reward=39060.00 +/- 145.37\n"
      ]
     },
     "metadata": {},
     "output_type": "display_data"
    },
    {
     "data": {
      "text/html": [
       "<pre style=\"white-space:pre;overflow-x:auto;line-height:normal;font-family:Menlo,'DejaVu Sans Mono',consolas,'Courier New',monospace\">Episode length: 40000.00 +/- 0.00\n",
       "</pre>\n"
      ],
      "text/plain": [
       "Episode length: 40000.00 +/- 0.00\n"
      ]
     },
     "metadata": {},
     "output_type": "display_data"
    },
    {
     "data": {
      "text/html": [
       "<pre style=\"white-space:pre;overflow-x:auto;line-height:normal;font-family:Menlo,'DejaVu Sans Mono',consolas,'Courier New',monospace\">Saving model checkpoint to ../logs/Train_PPO_40kReqs_300_v4_001/training/best_model_1559995_steps.zip\n",
       "</pre>\n"
      ],
      "text/plain": [
       "Saving model checkpoint to ../logs/Train_PPO_40kReqs_300_v4_001/training/best_model_1559995_steps.zip\n"
      ]
     },
     "metadata": {},
     "output_type": "display_data"
    },
    {
     "data": {
      "text/html": [
       "<pre style=\"white-space:pre;overflow-x:auto;line-height:normal;font-family:Menlo,'DejaVu Sans Mono',consolas,'Courier New',monospace\">Eval num_timesteps=1560000, episode_reward=39088.40 +/- 119.54\n",
       "</pre>\n"
      ],
      "text/plain": [
       "Eval num_timesteps=1560000, episode_reward=39088.40 +/- 119.54\n"
      ]
     },
     "metadata": {},
     "output_type": "display_data"
    },
    {
     "data": {
      "text/html": [
       "<pre style=\"white-space:pre;overflow-x:auto;line-height:normal;font-family:Menlo,'DejaVu Sans Mono',consolas,'Courier New',monospace\">Episode length: 40000.00 +/- 0.00\n",
       "</pre>\n"
      ],
      "text/plain": [
       "Episode length: 40000.00 +/- 0.00\n"
      ]
     },
     "metadata": {},
     "output_type": "display_data"
    },
    {
     "data": {
      "text/html": [
       "<pre style=\"white-space:pre;overflow-x:auto;line-height:normal;font-family:Menlo,'DejaVu Sans Mono',consolas,'Courier New',monospace\">Saving model checkpoint to ../logs/Train_PPO_40kReqs_300_v4_001/training/best_model_1599995_steps.zip\n",
       "</pre>\n"
      ],
      "text/plain": [
       "Saving model checkpoint to ../logs/Train_PPO_40kReqs_300_v4_001/training/best_model_1599995_steps.zip\n"
      ]
     },
     "metadata": {},
     "output_type": "display_data"
    },
    {
     "data": {
      "text/html": [
       "<pre style=\"white-space:pre;overflow-x:auto;line-height:normal;font-family:Menlo,'DejaVu Sans Mono',consolas,'Courier New',monospace\">Eval num_timesteps=1600000, episode_reward=39076.40 +/- 74.87\n",
       "</pre>\n"
      ],
      "text/plain": [
       "Eval num_timesteps=1600000, episode_reward=39076.40 +/- 74.87\n"
      ]
     },
     "metadata": {},
     "output_type": "display_data"
    },
    {
     "data": {
      "text/html": [
       "<pre style=\"white-space:pre;overflow-x:auto;line-height:normal;font-family:Menlo,'DejaVu Sans Mono',consolas,'Courier New',monospace\">Episode length: 40000.00 +/- 0.00\n",
       "</pre>\n"
      ],
      "text/plain": [
       "Episode length: 40000.00 +/- 0.00\n"
      ]
     },
     "metadata": {},
     "output_type": "display_data"
    },
    {
     "data": {
      "text/html": [
       "<pre style=\"white-space:pre;overflow-x:auto;line-height:normal;font-family:Menlo,'DejaVu Sans Mono',consolas,'Courier New',monospace\">Saving model checkpoint to ../logs/Train_PPO_40kReqs_300_v4_001/training/best_model_1639995_steps.zip\n",
       "</pre>\n"
      ],
      "text/plain": [
       "Saving model checkpoint to ../logs/Train_PPO_40kReqs_300_v4_001/training/best_model_1639995_steps.zip\n"
      ]
     },
     "metadata": {},
     "output_type": "display_data"
    },
    {
     "data": {
      "text/html": [
       "<pre style=\"white-space:pre;overflow-x:auto;line-height:normal;font-family:Menlo,'DejaVu Sans Mono',consolas,'Courier New',monospace\">Eval num_timesteps=1640000, episode_reward=39014.80 +/- 78.82\n",
       "</pre>\n"
      ],
      "text/plain": [
       "Eval num_timesteps=1640000, episode_reward=39014.80 +/- 78.82\n"
      ]
     },
     "metadata": {},
     "output_type": "display_data"
    },
    {
     "data": {
      "text/html": [
       "<pre style=\"white-space:pre;overflow-x:auto;line-height:normal;font-family:Menlo,'DejaVu Sans Mono',consolas,'Courier New',monospace\">Episode length: 40000.00 +/- 0.00\n",
       "</pre>\n"
      ],
      "text/plain": [
       "Episode length: 40000.00 +/- 0.00\n"
      ]
     },
     "metadata": {},
     "output_type": "display_data"
    },
    {
     "data": {
      "text/html": [
       "<pre style=\"white-space:pre;overflow-x:auto;line-height:normal;font-family:Menlo,'DejaVu Sans Mono',consolas,'Courier New',monospace\">Saving model checkpoint to ../logs/Train_PPO_40kReqs_300_v4_001/training/best_model_1679995_steps.zip\n",
       "</pre>\n"
      ],
      "text/plain": [
       "Saving model checkpoint to ../logs/Train_PPO_40kReqs_300_v4_001/training/best_model_1679995_steps.zip\n"
      ]
     },
     "metadata": {},
     "output_type": "display_data"
    },
    {
     "data": {
      "text/html": [
       "<pre style=\"white-space:pre;overflow-x:auto;line-height:normal;font-family:Menlo,'DejaVu Sans Mono',consolas,'Courier New',monospace\">Eval num_timesteps=1680000, episode_reward=39082.00 +/- 62.88\n",
       "</pre>\n"
      ],
      "text/plain": [
       "Eval num_timesteps=1680000, episode_reward=39082.00 +/- 62.88\n"
      ]
     },
     "metadata": {},
     "output_type": "display_data"
    },
    {
     "data": {
      "text/html": [
       "<pre style=\"white-space:pre;overflow-x:auto;line-height:normal;font-family:Menlo,'DejaVu Sans Mono',consolas,'Courier New',monospace\">Episode length: 40000.00 +/- 0.00\n",
       "</pre>\n"
      ],
      "text/plain": [
       "Episode length: 40000.00 +/- 0.00\n"
      ]
     },
     "metadata": {},
     "output_type": "display_data"
    },
    {
     "data": {
      "text/html": [
       "<pre style=\"white-space:pre;overflow-x:auto;line-height:normal;font-family:Menlo,'DejaVu Sans Mono',consolas,'Courier New',monospace\">Saving model checkpoint to ../logs/Train_PPO_40kReqs_300_v4_001/training/best_model_1719995_steps.zip\n",
       "</pre>\n"
      ],
      "text/plain": [
       "Saving model checkpoint to ../logs/Train_PPO_40kReqs_300_v4_001/training/best_model_1719995_steps.zip\n"
      ]
     },
     "metadata": {},
     "output_type": "display_data"
    },
    {
     "data": {
      "text/html": [
       "<pre style=\"white-space:pre;overflow-x:auto;line-height:normal;font-family:Menlo,'DejaVu Sans Mono',consolas,'Courier New',monospace\">Eval num_timesteps=1720000, episode_reward=39030.80 +/- 169.90\n",
       "</pre>\n"
      ],
      "text/plain": [
       "Eval num_timesteps=1720000, episode_reward=39030.80 +/- 169.90\n"
      ]
     },
     "metadata": {},
     "output_type": "display_data"
    },
    {
     "data": {
      "text/html": [
       "<pre style=\"white-space:pre;overflow-x:auto;line-height:normal;font-family:Menlo,'DejaVu Sans Mono',consolas,'Courier New',monospace\">Episode length: 40000.00 +/- 0.00\n",
       "</pre>\n"
      ],
      "text/plain": [
       "Episode length: 40000.00 +/- 0.00\n"
      ]
     },
     "metadata": {},
     "output_type": "display_data"
    },
    {
     "data": {
      "text/html": [
       "<pre style=\"white-space:pre;overflow-x:auto;line-height:normal;font-family:Menlo,'DejaVu Sans Mono',consolas,'Courier New',monospace\">Saving model checkpoint to ../logs/Train_PPO_40kReqs_300_v4_001/training/best_model_1759995_steps.zip\n",
       "</pre>\n"
      ],
      "text/plain": [
       "Saving model checkpoint to ../logs/Train_PPO_40kReqs_300_v4_001/training/best_model_1759995_steps.zip\n"
      ]
     },
     "metadata": {},
     "output_type": "display_data"
    },
    {
     "data": {
      "text/html": [
       "<pre style=\"white-space:pre;overflow-x:auto;line-height:normal;font-family:Menlo,'DejaVu Sans Mono',consolas,'Courier New',monospace\">Eval num_timesteps=1760000, episode_reward=39179.20 +/- 79.77\n",
       "</pre>\n"
      ],
      "text/plain": [
       "Eval num_timesteps=1760000, episode_reward=39179.20 +/- 79.77\n"
      ]
     },
     "metadata": {},
     "output_type": "display_data"
    },
    {
     "data": {
      "text/html": [
       "<pre style=\"white-space:pre;overflow-x:auto;line-height:normal;font-family:Menlo,'DejaVu Sans Mono',consolas,'Courier New',monospace\">Episode length: 40000.00 +/- 0.00\n",
       "</pre>\n"
      ],
      "text/plain": [
       "Episode length: 40000.00 +/- 0.00\n"
      ]
     },
     "metadata": {},
     "output_type": "display_data"
    },
    {
     "data": {
      "text/html": [
       "<pre style=\"white-space:pre;overflow-x:auto;line-height:normal;font-family:Menlo,'DejaVu Sans Mono',consolas,'Courier New',monospace\">New best mean reward!\n",
       "</pre>\n"
      ],
      "text/plain": [
       "New best mean reward!\n"
      ]
     },
     "metadata": {},
     "output_type": "display_data"
    },
    {
     "data": {
      "text/html": [
       "<pre style=\"white-space:pre;overflow-x:auto;line-height:normal;font-family:Menlo,'DejaVu Sans Mono',consolas,'Courier New',monospace\">Saving model checkpoint to ../logs/Train_PPO_40kReqs_300_v4_001/training/best_model_1799994_steps.zip\n",
       "</pre>\n"
      ],
      "text/plain": [
       "Saving model checkpoint to ../logs/Train_PPO_40kReqs_300_v4_001/training/best_model_1799994_steps.zip\n"
      ]
     },
     "metadata": {},
     "output_type": "display_data"
    },
    {
     "data": {
      "text/html": [
       "<pre style=\"white-space:pre;overflow-x:auto;line-height:normal;font-family:Menlo,'DejaVu Sans Mono',consolas,'Courier New',monospace\">Eval num_timesteps=1800000, episode_reward=39089.60 +/- 40.60\n",
       "</pre>\n"
      ],
      "text/plain": [
       "Eval num_timesteps=1800000, episode_reward=39089.60 +/- 40.60\n"
      ]
     },
     "metadata": {},
     "output_type": "display_data"
    },
    {
     "data": {
      "text/html": [
       "<pre style=\"white-space:pre;overflow-x:auto;line-height:normal;font-family:Menlo,'DejaVu Sans Mono',consolas,'Courier New',monospace\">Episode length: 40000.00 +/- 0.00\n",
       "</pre>\n"
      ],
      "text/plain": [
       "Episode length: 40000.00 +/- 0.00\n"
      ]
     },
     "metadata": {},
     "output_type": "display_data"
    },
    {
     "data": {
      "text/html": [
       "<pre style=\"white-space:pre;overflow-x:auto;line-height:normal;font-family:Menlo,'DejaVu Sans Mono',consolas,'Courier New',monospace\">Saving model checkpoint to ../logs/Train_PPO_40kReqs_300_v4_001/training/best_model_1839994_steps.zip\n",
       "</pre>\n"
      ],
      "text/plain": [
       "Saving model checkpoint to ../logs/Train_PPO_40kReqs_300_v4_001/training/best_model_1839994_steps.zip\n"
      ]
     },
     "metadata": {},
     "output_type": "display_data"
    },
    {
     "data": {
      "text/html": [
       "<pre style=\"white-space:pre;overflow-x:auto;line-height:normal;font-family:Menlo,'DejaVu Sans Mono',consolas,'Courier New',monospace\">Eval num_timesteps=1840000, episode_reward=39036.00 +/- 175.49\n",
       "</pre>\n"
      ],
      "text/plain": [
       "Eval num_timesteps=1840000, episode_reward=39036.00 +/- 175.49\n"
      ]
     },
     "metadata": {},
     "output_type": "display_data"
    },
    {
     "data": {
      "text/html": [
       "<pre style=\"white-space:pre;overflow-x:auto;line-height:normal;font-family:Menlo,'DejaVu Sans Mono',consolas,'Courier New',monospace\">Episode length: 40000.00 +/- 0.00\n",
       "</pre>\n"
      ],
      "text/plain": [
       "Episode length: 40000.00 +/- 0.00\n"
      ]
     },
     "metadata": {},
     "output_type": "display_data"
    },
    {
     "data": {
      "text/html": [
       "<pre style=\"white-space:pre;overflow-x:auto;line-height:normal;font-family:Menlo,'DejaVu Sans Mono',consolas,'Courier New',monospace\">Saving model checkpoint to ../logs/Train_PPO_40kReqs_300_v4_001/training/best_model_1879994_steps.zip\n",
       "</pre>\n"
      ],
      "text/plain": [
       "Saving model checkpoint to ../logs/Train_PPO_40kReqs_300_v4_001/training/best_model_1879994_steps.zip\n"
      ]
     },
     "metadata": {},
     "output_type": "display_data"
    },
    {
     "data": {
      "text/html": [
       "<pre style=\"white-space:pre;overflow-x:auto;line-height:normal;font-family:Menlo,'DejaVu Sans Mono',consolas,'Courier New',monospace\">Eval num_timesteps=1880000, episode_reward=39104.80 +/- 162.30\n",
       "</pre>\n"
      ],
      "text/plain": [
       "Eval num_timesteps=1880000, episode_reward=39104.80 +/- 162.30\n"
      ]
     },
     "metadata": {},
     "output_type": "display_data"
    },
    {
     "data": {
      "text/html": [
       "<pre style=\"white-space:pre;overflow-x:auto;line-height:normal;font-family:Menlo,'DejaVu Sans Mono',consolas,'Courier New',monospace\">Episode length: 40000.00 +/- 0.00\n",
       "</pre>\n"
      ],
      "text/plain": [
       "Episode length: 40000.00 +/- 0.00\n"
      ]
     },
     "metadata": {},
     "output_type": "display_data"
    },
    {
     "data": {
      "text/html": [
       "<pre style=\"white-space:pre;overflow-x:auto;line-height:normal;font-family:Menlo,'DejaVu Sans Mono',consolas,'Courier New',monospace\">Saving model checkpoint to ../logs/Train_PPO_40kReqs_300_v4_001/training/best_model_1919994_steps.zip\n",
       "</pre>\n"
      ],
      "text/plain": [
       "Saving model checkpoint to ../logs/Train_PPO_40kReqs_300_v4_001/training/best_model_1919994_steps.zip\n"
      ]
     },
     "metadata": {},
     "output_type": "display_data"
    },
    {
     "data": {
      "text/html": [
       "<pre style=\"white-space:pre;overflow-x:auto;line-height:normal;font-family:Menlo,'DejaVu Sans Mono',consolas,'Courier New',monospace\">Eval num_timesteps=1920000, episode_reward=39012.00 +/- 104.51\n",
       "</pre>\n"
      ],
      "text/plain": [
       "Eval num_timesteps=1920000, episode_reward=39012.00 +/- 104.51\n"
      ]
     },
     "metadata": {},
     "output_type": "display_data"
    },
    {
     "data": {
      "text/html": [
       "<pre style=\"white-space:pre;overflow-x:auto;line-height:normal;font-family:Menlo,'DejaVu Sans Mono',consolas,'Courier New',monospace\">Episode length: 40000.00 +/- 0.00\n",
       "</pre>\n"
      ],
      "text/plain": [
       "Episode length: 40000.00 +/- 0.00\n"
      ]
     },
     "metadata": {},
     "output_type": "display_data"
    },
    {
     "data": {
      "text/html": [
       "<pre style=\"white-space:pre;overflow-x:auto;line-height:normal;font-family:Menlo,'DejaVu Sans Mono',consolas,'Courier New',monospace\">Saving model checkpoint to ../logs/Train_PPO_40kReqs_300_v4_001/training/best_model_1959994_steps.zip\n",
       "</pre>\n"
      ],
      "text/plain": [
       "Saving model checkpoint to ../logs/Train_PPO_40kReqs_300_v4_001/training/best_model_1959994_steps.zip\n"
      ]
     },
     "metadata": {},
     "output_type": "display_data"
    },
    {
     "data": {
      "text/html": [
       "<pre style=\"white-space:pre;overflow-x:auto;line-height:normal;font-family:Menlo,'DejaVu Sans Mono',consolas,'Courier New',monospace\">Eval num_timesteps=1960000, episode_reward=39137.60 +/- 93.27\n",
       "</pre>\n"
      ],
      "text/plain": [
       "Eval num_timesteps=1960000, episode_reward=39137.60 +/- 93.27\n"
      ]
     },
     "metadata": {},
     "output_type": "display_data"
    },
    {
     "data": {
      "text/html": [
       "<pre style=\"white-space:pre;overflow-x:auto;line-height:normal;font-family:Menlo,'DejaVu Sans Mono',consolas,'Courier New',monospace\">Episode length: 40000.00 +/- 0.00\n",
       "</pre>\n"
      ],
      "text/plain": [
       "Episode length: 40000.00 +/- 0.00\n"
      ]
     },
     "metadata": {},
     "output_type": "display_data"
    },
    {
     "data": {
      "text/html": [
       "<pre style=\"white-space:pre;overflow-x:auto;line-height:normal;font-family:Menlo,'DejaVu Sans Mono',consolas,'Courier New',monospace\">Saving model checkpoint to ../logs/Train_PPO_40kReqs_300_v4_001/training/best_model_1999994_steps.zip\n",
       "</pre>\n"
      ],
      "text/plain": [
       "Saving model checkpoint to ../logs/Train_PPO_40kReqs_300_v4_001/training/best_model_1999994_steps.zip\n"
      ]
     },
     "metadata": {},
     "output_type": "display_data"
    },
    {
     "data": {
      "text/html": [
       "<pre style=\"white-space:pre;overflow-x:auto;line-height:normal;font-family:Menlo,'DejaVu Sans Mono',consolas,'Courier New',monospace\">Eval num_timesteps=2000000, episode_reward=39200.40 +/- 89.40\n",
       "</pre>\n"
      ],
      "text/plain": [
       "Eval num_timesteps=2000000, episode_reward=39200.40 +/- 89.40\n"
      ]
     },
     "metadata": {},
     "output_type": "display_data"
    },
    {
     "data": {
      "text/html": [
       "<pre style=\"white-space:pre;overflow-x:auto;line-height:normal;font-family:Menlo,'DejaVu Sans Mono',consolas,'Courier New',monospace\">Episode length: 40000.00 +/- 0.00\n",
       "</pre>\n"
      ],
      "text/plain": [
       "Episode length: 40000.00 +/- 0.00\n"
      ]
     },
     "metadata": {},
     "output_type": "display_data"
    },
    {
     "data": {
      "text/html": [
       "<pre style=\"white-space:pre;overflow-x:auto;line-height:normal;font-family:Menlo,'DejaVu Sans Mono',consolas,'Courier New',monospace\">New best mean reward!\n",
       "</pre>\n"
      ],
      "text/plain": [
       "New best mean reward!\n"
      ]
     },
     "metadata": {},
     "output_type": "display_data"
    },
    {
     "data": {
      "text/html": [
       "<pre style=\"white-space:pre;overflow-x:auto;line-height:normal;font-family:Menlo,'DejaVu Sans Mono',consolas,'Courier New',monospace\">Saving model checkpoint to ../logs/Train_PPO_40kReqs_300_v4_001/training/best_model_2039993_steps.zip\n",
       "</pre>\n"
      ],
      "text/plain": [
       "Saving model checkpoint to ../logs/Train_PPO_40kReqs_300_v4_001/training/best_model_2039993_steps.zip\n"
      ]
     },
     "metadata": {},
     "output_type": "display_data"
    },
    {
     "data": {
      "text/html": [
       "<pre style=\"white-space:pre;overflow-x:auto;line-height:normal;font-family:Menlo,'DejaVu Sans Mono',consolas,'Courier New',monospace\">Eval num_timesteps=2040000, episode_reward=39156.40 +/- 132.86\n",
       "</pre>\n"
      ],
      "text/plain": [
       "Eval num_timesteps=2040000, episode_reward=39156.40 +/- 132.86\n"
      ]
     },
     "metadata": {},
     "output_type": "display_data"
    },
    {
     "data": {
      "text/html": [
       "<pre style=\"white-space:pre;overflow-x:auto;line-height:normal;font-family:Menlo,'DejaVu Sans Mono',consolas,'Courier New',monospace\">Episode length: 40000.00 +/- 0.00\n",
       "</pre>\n"
      ],
      "text/plain": [
       "Episode length: 40000.00 +/- 0.00\n"
      ]
     },
     "metadata": {},
     "output_type": "display_data"
    },
    {
     "data": {
      "text/html": [
       "<pre style=\"white-space:pre;overflow-x:auto;line-height:normal;font-family:Menlo,'DejaVu Sans Mono',consolas,'Courier New',monospace\">Saving model checkpoint to ../logs/Train_PPO_40kReqs_300_v4_001/training/best_model_2079993_steps.zip\n",
       "</pre>\n"
      ],
      "text/plain": [
       "Saving model checkpoint to ../logs/Train_PPO_40kReqs_300_v4_001/training/best_model_2079993_steps.zip\n"
      ]
     },
     "metadata": {},
     "output_type": "display_data"
    },
    {
     "data": {
      "text/html": [
       "<pre style=\"white-space:pre;overflow-x:auto;line-height:normal;font-family:Menlo,'DejaVu Sans Mono',consolas,'Courier New',monospace\">Eval num_timesteps=2080000, episode_reward=39100.40 +/- 121.41\n",
       "</pre>\n"
      ],
      "text/plain": [
       "Eval num_timesteps=2080000, episode_reward=39100.40 +/- 121.41\n"
      ]
     },
     "metadata": {},
     "output_type": "display_data"
    },
    {
     "data": {
      "text/html": [
       "<pre style=\"white-space:pre;overflow-x:auto;line-height:normal;font-family:Menlo,'DejaVu Sans Mono',consolas,'Courier New',monospace\">Episode length: 40000.00 +/- 0.00\n",
       "</pre>\n"
      ],
      "text/plain": [
       "Episode length: 40000.00 +/- 0.00\n"
      ]
     },
     "metadata": {},
     "output_type": "display_data"
    },
    {
     "data": {
      "text/html": [
       "<pre style=\"white-space:pre;overflow-x:auto;line-height:normal;font-family:Menlo,'DejaVu Sans Mono',consolas,'Courier New',monospace\">Saving model checkpoint to ../logs/Train_PPO_40kReqs_300_v4_001/training/best_model_2119993_steps.zip\n",
       "</pre>\n"
      ],
      "text/plain": [
       "Saving model checkpoint to ../logs/Train_PPO_40kReqs_300_v4_001/training/best_model_2119993_steps.zip\n"
      ]
     },
     "metadata": {},
     "output_type": "display_data"
    },
    {
     "data": {
      "text/html": [
       "<pre style=\"white-space:pre;overflow-x:auto;line-height:normal;font-family:Menlo,'DejaVu Sans Mono',consolas,'Courier New',monospace\">Eval num_timesteps=2120000, episode_reward=39149.60 +/- 62.46\n",
       "</pre>\n"
      ],
      "text/plain": [
       "Eval num_timesteps=2120000, episode_reward=39149.60 +/- 62.46\n"
      ]
     },
     "metadata": {},
     "output_type": "display_data"
    },
    {
     "data": {
      "text/html": [
       "<pre style=\"white-space:pre;overflow-x:auto;line-height:normal;font-family:Menlo,'DejaVu Sans Mono',consolas,'Courier New',monospace\">Episode length: 40000.00 +/- 0.00\n",
       "</pre>\n"
      ],
      "text/plain": [
       "Episode length: 40000.00 +/- 0.00\n"
      ]
     },
     "metadata": {},
     "output_type": "display_data"
    },
    {
     "data": {
      "text/html": [
       "<pre style=\"white-space:pre;overflow-x:auto;line-height:normal;font-family:Menlo,'DejaVu Sans Mono',consolas,'Courier New',monospace\">Saving model checkpoint to ../logs/Train_PPO_40kReqs_300_v4_001/training/best_model_2159993_steps.zip\n",
       "</pre>\n"
      ],
      "text/plain": [
       "Saving model checkpoint to ../logs/Train_PPO_40kReqs_300_v4_001/training/best_model_2159993_steps.zip\n"
      ]
     },
     "metadata": {},
     "output_type": "display_data"
    },
    {
     "data": {
      "text/html": [
       "<pre style=\"white-space:pre;overflow-x:auto;line-height:normal;font-family:Menlo,'DejaVu Sans Mono',consolas,'Courier New',monospace\">Eval num_timesteps=2160000, episode_reward=39030.40 +/- 142.13\n",
       "</pre>\n"
      ],
      "text/plain": [
       "Eval num_timesteps=2160000, episode_reward=39030.40 +/- 142.13\n"
      ]
     },
     "metadata": {},
     "output_type": "display_data"
    },
    {
     "data": {
      "text/html": [
       "<pre style=\"white-space:pre;overflow-x:auto;line-height:normal;font-family:Menlo,'DejaVu Sans Mono',consolas,'Courier New',monospace\">Episode length: 40000.00 +/- 0.00\n",
       "</pre>\n"
      ],
      "text/plain": [
       "Episode length: 40000.00 +/- 0.00\n"
      ]
     },
     "metadata": {},
     "output_type": "display_data"
    },
    {
     "data": {
      "text/html": [
       "<pre style=\"white-space:pre;overflow-x:auto;line-height:normal;font-family:Menlo,'DejaVu Sans Mono',consolas,'Courier New',monospace\">Saving model checkpoint to ../logs/Train_PPO_40kReqs_300_v4_001/training/best_model_2199993_steps.zip\n",
       "</pre>\n"
      ],
      "text/plain": [
       "Saving model checkpoint to ../logs/Train_PPO_40kReqs_300_v4_001/training/best_model_2199993_steps.zip\n"
      ]
     },
     "metadata": {},
     "output_type": "display_data"
    },
    {
     "data": {
      "text/html": [
       "<pre style=\"white-space:pre;overflow-x:auto;line-height:normal;font-family:Menlo,'DejaVu Sans Mono',consolas,'Courier New',monospace\">Eval num_timesteps=2200000, episode_reward=39054.80 +/- 112.36\n",
       "</pre>\n"
      ],
      "text/plain": [
       "Eval num_timesteps=2200000, episode_reward=39054.80 +/- 112.36\n"
      ]
     },
     "metadata": {},
     "output_type": "display_data"
    },
    {
     "data": {
      "text/html": [
       "<pre style=\"white-space:pre;overflow-x:auto;line-height:normal;font-family:Menlo,'DejaVu Sans Mono',consolas,'Courier New',monospace\">Episode length: 40000.00 +/- 0.00\n",
       "</pre>\n"
      ],
      "text/plain": [
       "Episode length: 40000.00 +/- 0.00\n"
      ]
     },
     "metadata": {},
     "output_type": "display_data"
    },
    {
     "data": {
      "text/html": [
       "<pre style=\"white-space:pre;overflow-x:auto;line-height:normal;font-family:Menlo,'DejaVu Sans Mono',consolas,'Courier New',monospace\">Saving model checkpoint to ../logs/Train_PPO_40kReqs_300_v4_001/training/best_model_2239993_steps.zip\n",
       "</pre>\n"
      ],
      "text/plain": [
       "Saving model checkpoint to ../logs/Train_PPO_40kReqs_300_v4_001/training/best_model_2239993_steps.zip\n"
      ]
     },
     "metadata": {},
     "output_type": "display_data"
    },
    {
     "data": {
      "text/html": [
       "<pre style=\"white-space:pre;overflow-x:auto;line-height:normal;font-family:Menlo,'DejaVu Sans Mono',consolas,'Courier New',monospace\">Eval num_timesteps=2240000, episode_reward=39153.20 +/- 99.83\n",
       "</pre>\n"
      ],
      "text/plain": [
       "Eval num_timesteps=2240000, episode_reward=39153.20 +/- 99.83\n"
      ]
     },
     "metadata": {},
     "output_type": "display_data"
    },
    {
     "data": {
      "text/html": [
       "<pre style=\"white-space:pre;overflow-x:auto;line-height:normal;font-family:Menlo,'DejaVu Sans Mono',consolas,'Courier New',monospace\">Episode length: 40000.00 +/- 0.00\n",
       "</pre>\n"
      ],
      "text/plain": [
       "Episode length: 40000.00 +/- 0.00\n"
      ]
     },
     "metadata": {},
     "output_type": "display_data"
    },
    {
     "data": {
      "text/html": [
       "<pre style=\"white-space:pre;overflow-x:auto;line-height:normal;font-family:Menlo,'DejaVu Sans Mono',consolas,'Courier New',monospace\">Saving model checkpoint to ../logs/Train_PPO_40kReqs_300_v4_001/training/best_model_2279993_steps.zip\n",
       "</pre>\n"
      ],
      "text/plain": [
       "Saving model checkpoint to ../logs/Train_PPO_40kReqs_300_v4_001/training/best_model_2279993_steps.zip\n"
      ]
     },
     "metadata": {},
     "output_type": "display_data"
    },
    {
     "data": {
      "text/html": [
       "<pre style=\"white-space:pre;overflow-x:auto;line-height:normal;font-family:Menlo,'DejaVu Sans Mono',consolas,'Courier New',monospace\">Eval num_timesteps=2280000, episode_reward=38988.80 +/- 93.69\n",
       "</pre>\n"
      ],
      "text/plain": [
       "Eval num_timesteps=2280000, episode_reward=38988.80 +/- 93.69\n"
      ]
     },
     "metadata": {},
     "output_type": "display_data"
    },
    {
     "data": {
      "text/html": [
       "<pre style=\"white-space:pre;overflow-x:auto;line-height:normal;font-family:Menlo,'DejaVu Sans Mono',consolas,'Courier New',monospace\">Episode length: 40000.00 +/- 0.00\n",
       "</pre>\n"
      ],
      "text/plain": [
       "Episode length: 40000.00 +/- 0.00\n"
      ]
     },
     "metadata": {},
     "output_type": "display_data"
    },
    {
     "data": {
      "text/html": [
       "<pre style=\"white-space:pre;overflow-x:auto;line-height:normal;font-family:Menlo,'DejaVu Sans Mono',consolas,'Courier New',monospace\">Saving model checkpoint to ../logs/Train_PPO_40kReqs_300_v4_001/training/best_model_2319993_steps.zip\n",
       "</pre>\n"
      ],
      "text/plain": [
       "Saving model checkpoint to ../logs/Train_PPO_40kReqs_300_v4_001/training/best_model_2319993_steps.zip\n"
      ]
     },
     "metadata": {},
     "output_type": "display_data"
    },
    {
     "data": {
      "text/html": [
       "<pre style=\"white-space:pre;overflow-x:auto;line-height:normal;font-family:Menlo,'DejaVu Sans Mono',consolas,'Courier New',monospace\">Eval num_timesteps=2320000, episode_reward=38888.40 +/- 46.77\n",
       "</pre>\n"
      ],
      "text/plain": [
       "Eval num_timesteps=2320000, episode_reward=38888.40 +/- 46.77\n"
      ]
     },
     "metadata": {},
     "output_type": "display_data"
    },
    {
     "data": {
      "text/html": [
       "<pre style=\"white-space:pre;overflow-x:auto;line-height:normal;font-family:Menlo,'DejaVu Sans Mono',consolas,'Courier New',monospace\">Episode length: 40000.00 +/- 0.00\n",
       "</pre>\n"
      ],
      "text/plain": [
       "Episode length: 40000.00 +/- 0.00\n"
      ]
     },
     "metadata": {},
     "output_type": "display_data"
    },
    {
     "data": {
      "text/html": [
       "<pre style=\"white-space:pre;overflow-x:auto;line-height:normal;font-family:Menlo,'DejaVu Sans Mono',consolas,'Courier New',monospace\">Saving model checkpoint to ../logs/Train_PPO_40kReqs_300_v4_001/training/best_model_2359993_steps.zip\n",
       "</pre>\n"
      ],
      "text/plain": [
       "Saving model checkpoint to ../logs/Train_PPO_40kReqs_300_v4_001/training/best_model_2359993_steps.zip\n"
      ]
     },
     "metadata": {},
     "output_type": "display_data"
    },
    {
     "data": {
      "text/html": [
       "<pre style=\"white-space:pre;overflow-x:auto;line-height:normal;font-family:Menlo,'DejaVu Sans Mono',consolas,'Courier New',monospace\">Eval num_timesteps=2360000, episode_reward=38882.00 +/- 103.00\n",
       "</pre>\n"
      ],
      "text/plain": [
       "Eval num_timesteps=2360000, episode_reward=38882.00 +/- 103.00\n"
      ]
     },
     "metadata": {},
     "output_type": "display_data"
    },
    {
     "data": {
      "text/html": [
       "<pre style=\"white-space:pre;overflow-x:auto;line-height:normal;font-family:Menlo,'DejaVu Sans Mono',consolas,'Courier New',monospace\">Episode length: 40000.00 +/- 0.00\n",
       "</pre>\n"
      ],
      "text/plain": [
       "Episode length: 40000.00 +/- 0.00\n"
      ]
     },
     "metadata": {},
     "output_type": "display_data"
    },
    {
     "data": {
      "text/html": [
       "<pre style=\"white-space:pre;overflow-x:auto;line-height:normal;font-family:Menlo,'DejaVu Sans Mono',consolas,'Courier New',monospace\">Saving model checkpoint to ../logs/Train_PPO_40kReqs_300_v4_001/training/best_model_2399993_steps.zip\n",
       "</pre>\n"
      ],
      "text/plain": [
       "Saving model checkpoint to ../logs/Train_PPO_40kReqs_300_v4_001/training/best_model_2399993_steps.zip\n"
      ]
     },
     "metadata": {},
     "output_type": "display_data"
    },
    {
     "data": {
      "text/html": [
       "<pre style=\"white-space:pre;overflow-x:auto;line-height:normal;font-family:Menlo,'DejaVu Sans Mono',consolas,'Courier New',monospace\">Eval num_timesteps=2400000, episode_reward=38891.60 +/- 105.12\n",
       "</pre>\n"
      ],
      "text/plain": [
       "Eval num_timesteps=2400000, episode_reward=38891.60 +/- 105.12\n"
      ]
     },
     "metadata": {},
     "output_type": "display_data"
    },
    {
     "data": {
      "text/html": [
       "<pre style=\"white-space:pre;overflow-x:auto;line-height:normal;font-family:Menlo,'DejaVu Sans Mono',consolas,'Courier New',monospace\">Episode length: 40000.00 +/- 0.00\n",
       "</pre>\n"
      ],
      "text/plain": [
       "Episode length: 40000.00 +/- 0.00\n"
      ]
     },
     "metadata": {},
     "output_type": "display_data"
    },
    {
     "data": {
      "text/html": [
       "<pre style=\"white-space:pre;overflow-x:auto;line-height:normal;font-family:Menlo,'DejaVu Sans Mono',consolas,'Courier New',monospace\">Saving model checkpoint to ../logs/Train_PPO_40kReqs_300_v4_001/training/best_model_2439993_steps.zip\n",
       "</pre>\n"
      ],
      "text/plain": [
       "Saving model checkpoint to ../logs/Train_PPO_40kReqs_300_v4_001/training/best_model_2439993_steps.zip\n"
      ]
     },
     "metadata": {},
     "output_type": "display_data"
    },
    {
     "data": {
      "text/html": [
       "<pre style=\"white-space:pre;overflow-x:auto;line-height:normal;font-family:Menlo,'DejaVu Sans Mono',consolas,'Courier New',monospace\">Eval num_timesteps=2440000, episode_reward=38978.80 +/- 58.22\n",
       "</pre>\n"
      ],
      "text/plain": [
       "Eval num_timesteps=2440000, episode_reward=38978.80 +/- 58.22\n"
      ]
     },
     "metadata": {},
     "output_type": "display_data"
    },
    {
     "data": {
      "text/html": [
       "<pre style=\"white-space:pre;overflow-x:auto;line-height:normal;font-family:Menlo,'DejaVu Sans Mono',consolas,'Courier New',monospace\">Episode length: 40000.00 +/- 0.00\n",
       "</pre>\n"
      ],
      "text/plain": [
       "Episode length: 40000.00 +/- 0.00\n"
      ]
     },
     "metadata": {},
     "output_type": "display_data"
    },
    {
     "data": {
      "text/html": [
       "<pre style=\"white-space:pre;overflow-x:auto;line-height:normal;font-family:Menlo,'DejaVu Sans Mono',consolas,'Courier New',monospace\">Saving model checkpoint to ../logs/Train_PPO_40kReqs_300_v4_001/training/best_model_2479993_steps.zip\n",
       "</pre>\n"
      ],
      "text/plain": [
       "Saving model checkpoint to ../logs/Train_PPO_40kReqs_300_v4_001/training/best_model_2479993_steps.zip\n"
      ]
     },
     "metadata": {},
     "output_type": "display_data"
    },
    {
     "data": {
      "text/html": [
       "<pre style=\"white-space:pre;overflow-x:auto;line-height:normal;font-family:Menlo,'DejaVu Sans Mono',consolas,'Courier New',monospace\">Eval num_timesteps=2480000, episode_reward=39144.00 +/- 106.86\n",
       "</pre>\n"
      ],
      "text/plain": [
       "Eval num_timesteps=2480000, episode_reward=39144.00 +/- 106.86\n"
      ]
     },
     "metadata": {},
     "output_type": "display_data"
    },
    {
     "data": {
      "text/html": [
       "<pre style=\"white-space:pre;overflow-x:auto;line-height:normal;font-family:Menlo,'DejaVu Sans Mono',consolas,'Courier New',monospace\">Episode length: 40000.00 +/- 0.00\n",
       "</pre>\n"
      ],
      "text/plain": [
       "Episode length: 40000.00 +/- 0.00\n"
      ]
     },
     "metadata": {},
     "output_type": "display_data"
    },
    {
     "data": {
      "text/html": [
       "<pre style=\"white-space:pre;overflow-x:auto;line-height:normal;font-family:Menlo,'DejaVu Sans Mono',consolas,'Courier New',monospace\">Saving model checkpoint to ../logs/Train_PPO_40kReqs_300_v4_001/training/best_model_2519993_steps.zip\n",
       "</pre>\n"
      ],
      "text/plain": [
       "Saving model checkpoint to ../logs/Train_PPO_40kReqs_300_v4_001/training/best_model_2519993_steps.zip\n"
      ]
     },
     "metadata": {},
     "output_type": "display_data"
    },
    {
     "data": {
      "text/html": [
       "<pre style=\"white-space:pre;overflow-x:auto;line-height:normal;font-family:Menlo,'DejaVu Sans Mono',consolas,'Courier New',monospace\">Eval num_timesteps=2520000, episode_reward=39082.40 +/- 65.38\n",
       "</pre>\n"
      ],
      "text/plain": [
       "Eval num_timesteps=2520000, episode_reward=39082.40 +/- 65.38\n"
      ]
     },
     "metadata": {},
     "output_type": "display_data"
    },
    {
     "data": {
      "text/html": [
       "<pre style=\"white-space:pre;overflow-x:auto;line-height:normal;font-family:Menlo,'DejaVu Sans Mono',consolas,'Courier New',monospace\">Episode length: 40000.00 +/- 0.00\n",
       "</pre>\n"
      ],
      "text/plain": [
       "Episode length: 40000.00 +/- 0.00\n"
      ]
     },
     "metadata": {},
     "output_type": "display_data"
    },
    {
     "data": {
      "text/html": [
       "<pre style=\"white-space:pre;overflow-x:auto;line-height:normal;font-family:Menlo,'DejaVu Sans Mono',consolas,'Courier New',monospace\">Saving model checkpoint to ../logs/Train_PPO_40kReqs_300_v4_001/training/best_model_2559993_steps.zip\n",
       "</pre>\n"
      ],
      "text/plain": [
       "Saving model checkpoint to ../logs/Train_PPO_40kReqs_300_v4_001/training/best_model_2559993_steps.zip\n"
      ]
     },
     "metadata": {},
     "output_type": "display_data"
    },
    {
     "data": {
      "text/html": [
       "<pre style=\"white-space:pre;overflow-x:auto;line-height:normal;font-family:Menlo,'DejaVu Sans Mono',consolas,'Courier New',monospace\">Eval num_timesteps=2560000, episode_reward=38955.60 +/- 103.39\n",
       "</pre>\n"
      ],
      "text/plain": [
       "Eval num_timesteps=2560000, episode_reward=38955.60 +/- 103.39\n"
      ]
     },
     "metadata": {},
     "output_type": "display_data"
    },
    {
     "data": {
      "text/html": [
       "<pre style=\"white-space:pre;overflow-x:auto;line-height:normal;font-family:Menlo,'DejaVu Sans Mono',consolas,'Courier New',monospace\">Episode length: 40000.00 +/- 0.00\n",
       "</pre>\n"
      ],
      "text/plain": [
       "Episode length: 40000.00 +/- 0.00\n"
      ]
     },
     "metadata": {},
     "output_type": "display_data"
    },
    {
     "data": {
      "text/html": [
       "<pre style=\"white-space:pre;overflow-x:auto;line-height:normal;font-family:Menlo,'DejaVu Sans Mono',consolas,'Courier New',monospace\">Saving model checkpoint to ../logs/Train_PPO_40kReqs_300_v4_001/training/best_model_2599993_steps.zip\n",
       "</pre>\n"
      ],
      "text/plain": [
       "Saving model checkpoint to ../logs/Train_PPO_40kReqs_300_v4_001/training/best_model_2599993_steps.zip\n"
      ]
     },
     "metadata": {},
     "output_type": "display_data"
    },
    {
     "data": {
      "text/html": [
       "<pre style=\"white-space:pre;overflow-x:auto;line-height:normal;font-family:Menlo,'DejaVu Sans Mono',consolas,'Courier New',monospace\">Eval num_timesteps=2600000, episode_reward=38961.60 +/- 74.37\n",
       "</pre>\n"
      ],
      "text/plain": [
       "Eval num_timesteps=2600000, episode_reward=38961.60 +/- 74.37\n"
      ]
     },
     "metadata": {},
     "output_type": "display_data"
    },
    {
     "data": {
      "text/html": [
       "<pre style=\"white-space:pre;overflow-x:auto;line-height:normal;font-family:Menlo,'DejaVu Sans Mono',consolas,'Courier New',monospace\">Episode length: 40000.00 +/- 0.00\n",
       "</pre>\n"
      ],
      "text/plain": [
       "Episode length: 40000.00 +/- 0.00\n"
      ]
     },
     "metadata": {},
     "output_type": "display_data"
    },
    {
     "data": {
      "text/html": [
       "<pre style=\"white-space:pre;overflow-x:auto;line-height:normal;font-family:Menlo,'DejaVu Sans Mono',consolas,'Courier New',monospace\">Saving model checkpoint to ../logs/Train_PPO_40kReqs_300_v4_001/training/best_model_2639993_steps.zip\n",
       "</pre>\n"
      ],
      "text/plain": [
       "Saving model checkpoint to ../logs/Train_PPO_40kReqs_300_v4_001/training/best_model_2639993_steps.zip\n"
      ]
     },
     "metadata": {},
     "output_type": "display_data"
    },
    {
     "data": {
      "text/html": [
       "<pre style=\"white-space:pre;overflow-x:auto;line-height:normal;font-family:Menlo,'DejaVu Sans Mono',consolas,'Courier New',monospace\">Eval num_timesteps=2640000, episode_reward=39030.00 +/- 96.34\n",
       "</pre>\n"
      ],
      "text/plain": [
       "Eval num_timesteps=2640000, episode_reward=39030.00 +/- 96.34\n"
      ]
     },
     "metadata": {},
     "output_type": "display_data"
    },
    {
     "data": {
      "text/html": [
       "<pre style=\"white-space:pre;overflow-x:auto;line-height:normal;font-family:Menlo,'DejaVu Sans Mono',consolas,'Courier New',monospace\">Episode length: 40000.00 +/- 0.00\n",
       "</pre>\n"
      ],
      "text/plain": [
       "Episode length: 40000.00 +/- 0.00\n"
      ]
     },
     "metadata": {},
     "output_type": "display_data"
    },
    {
     "data": {
      "text/html": [
       "<pre style=\"white-space:pre;overflow-x:auto;line-height:normal;font-family:Menlo,'DejaVu Sans Mono',consolas,'Courier New',monospace\">Saving model checkpoint to ../logs/Train_PPO_40kReqs_300_v4_001/training/best_model_2679993_steps.zip\n",
       "</pre>\n"
      ],
      "text/plain": [
       "Saving model checkpoint to ../logs/Train_PPO_40kReqs_300_v4_001/training/best_model_2679993_steps.zip\n"
      ]
     },
     "metadata": {},
     "output_type": "display_data"
    },
    {
     "data": {
      "text/html": [
       "<pre style=\"white-space:pre;overflow-x:auto;line-height:normal;font-family:Menlo,'DejaVu Sans Mono',consolas,'Courier New',monospace\">Eval num_timesteps=2680000, episode_reward=39053.20 +/- 138.96\n",
       "</pre>\n"
      ],
      "text/plain": [
       "Eval num_timesteps=2680000, episode_reward=39053.20 +/- 138.96\n"
      ]
     },
     "metadata": {},
     "output_type": "display_data"
    },
    {
     "data": {
      "text/html": [
       "<pre style=\"white-space:pre;overflow-x:auto;line-height:normal;font-family:Menlo,'DejaVu Sans Mono',consolas,'Courier New',monospace\">Episode length: 40000.00 +/- 0.00\n",
       "</pre>\n"
      ],
      "text/plain": [
       "Episode length: 40000.00 +/- 0.00\n"
      ]
     },
     "metadata": {},
     "output_type": "display_data"
    },
    {
     "data": {
      "text/html": [
       "<pre style=\"white-space:pre;overflow-x:auto;line-height:normal;font-family:Menlo,'DejaVu Sans Mono',consolas,'Courier New',monospace\">Saving model checkpoint to ../logs/Train_PPO_40kReqs_300_v4_001/training/best_model_2719993_steps.zip\n",
       "</pre>\n"
      ],
      "text/plain": [
       "Saving model checkpoint to ../logs/Train_PPO_40kReqs_300_v4_001/training/best_model_2719993_steps.zip\n"
      ]
     },
     "metadata": {},
     "output_type": "display_data"
    },
    {
     "data": {
      "text/html": [
       "<pre style=\"white-space:pre;overflow-x:auto;line-height:normal;font-family:Menlo,'DejaVu Sans Mono',consolas,'Courier New',monospace\">Eval num_timesteps=2720000, episode_reward=39012.40 +/- 128.73\n",
       "</pre>\n"
      ],
      "text/plain": [
       "Eval num_timesteps=2720000, episode_reward=39012.40 +/- 128.73\n"
      ]
     },
     "metadata": {},
     "output_type": "display_data"
    },
    {
     "data": {
      "text/html": [
       "<pre style=\"white-space:pre;overflow-x:auto;line-height:normal;font-family:Menlo,'DejaVu Sans Mono',consolas,'Courier New',monospace\">Episode length: 40000.00 +/- 0.00\n",
       "</pre>\n"
      ],
      "text/plain": [
       "Episode length: 40000.00 +/- 0.00\n"
      ]
     },
     "metadata": {},
     "output_type": "display_data"
    },
    {
     "data": {
      "text/html": [
       "<pre style=\"white-space:pre;overflow-x:auto;line-height:normal;font-family:Menlo,'DejaVu Sans Mono',consolas,'Courier New',monospace\">Saving model checkpoint to ../logs/Train_PPO_40kReqs_300_v4_001/training/best_model_2759993_steps.zip\n",
       "</pre>\n"
      ],
      "text/plain": [
       "Saving model checkpoint to ../logs/Train_PPO_40kReqs_300_v4_001/training/best_model_2759993_steps.zip\n"
      ]
     },
     "metadata": {},
     "output_type": "display_data"
    },
    {
     "data": {
      "text/html": [
       "<pre style=\"white-space:pre;overflow-x:auto;line-height:normal;font-family:Menlo,'DejaVu Sans Mono',consolas,'Courier New',monospace\">Eval num_timesteps=2760000, episode_reward=39026.40 +/- 69.51\n",
       "</pre>\n"
      ],
      "text/plain": [
       "Eval num_timesteps=2760000, episode_reward=39026.40 +/- 69.51\n"
      ]
     },
     "metadata": {},
     "output_type": "display_data"
    },
    {
     "data": {
      "text/html": [
       "<pre style=\"white-space:pre;overflow-x:auto;line-height:normal;font-family:Menlo,'DejaVu Sans Mono',consolas,'Courier New',monospace\">Episode length: 40000.00 +/- 0.00\n",
       "</pre>\n"
      ],
      "text/plain": [
       "Episode length: 40000.00 +/- 0.00\n"
      ]
     },
     "metadata": {},
     "output_type": "display_data"
    },
    {
     "data": {
      "text/html": [
       "<pre style=\"white-space:pre;overflow-x:auto;line-height:normal;font-family:Menlo,'DejaVu Sans Mono',consolas,'Courier New',monospace\">Saving model checkpoint to ../logs/Train_PPO_40kReqs_300_v4_001/training/best_model_2799993_steps.zip\n",
       "</pre>\n"
      ],
      "text/plain": [
       "Saving model checkpoint to ../logs/Train_PPO_40kReqs_300_v4_001/training/best_model_2799993_steps.zip\n"
      ]
     },
     "metadata": {},
     "output_type": "display_data"
    },
    {
     "data": {
      "text/html": [
       "<pre style=\"white-space:pre;overflow-x:auto;line-height:normal;font-family:Menlo,'DejaVu Sans Mono',consolas,'Courier New',monospace\">Eval num_timesteps=2800000, episode_reward=39028.00 +/- 75.38\n",
       "</pre>\n"
      ],
      "text/plain": [
       "Eval num_timesteps=2800000, episode_reward=39028.00 +/- 75.38\n"
      ]
     },
     "metadata": {},
     "output_type": "display_data"
    },
    {
     "data": {
      "text/html": [
       "<pre style=\"white-space:pre;overflow-x:auto;line-height:normal;font-family:Menlo,'DejaVu Sans Mono',consolas,'Courier New',monospace\">Episode length: 40000.00 +/- 0.00\n",
       "</pre>\n"
      ],
      "text/plain": [
       "Episode length: 40000.00 +/- 0.00\n"
      ]
     },
     "metadata": {},
     "output_type": "display_data"
    },
    {
     "data": {
      "text/html": [
       "<pre style=\"white-space:pre;overflow-x:auto;line-height:normal;font-family:Menlo,'DejaVu Sans Mono',consolas,'Courier New',monospace\">Saving model checkpoint to ../logs/Train_PPO_40kReqs_300_v4_001/training/best_model_2839993_steps.zip\n",
       "</pre>\n"
      ],
      "text/plain": [
       "Saving model checkpoint to ../logs/Train_PPO_40kReqs_300_v4_001/training/best_model_2839993_steps.zip\n"
      ]
     },
     "metadata": {},
     "output_type": "display_data"
    },
    {
     "data": {
      "text/html": [
       "<pre style=\"white-space:pre;overflow-x:auto;line-height:normal;font-family:Menlo,'DejaVu Sans Mono',consolas,'Courier New',monospace\">Eval num_timesteps=2840000, episode_reward=39012.80 +/- 88.60\n",
       "</pre>\n"
      ],
      "text/plain": [
       "Eval num_timesteps=2840000, episode_reward=39012.80 +/- 88.60\n"
      ]
     },
     "metadata": {},
     "output_type": "display_data"
    },
    {
     "data": {
      "text/html": [
       "<pre style=\"white-space:pre;overflow-x:auto;line-height:normal;font-family:Menlo,'DejaVu Sans Mono',consolas,'Courier New',monospace\">Episode length: 40000.00 +/- 0.00\n",
       "</pre>\n"
      ],
      "text/plain": [
       "Episode length: 40000.00 +/- 0.00\n"
      ]
     },
     "metadata": {},
     "output_type": "display_data"
    },
    {
     "data": {
      "text/html": [
       "<pre style=\"white-space:pre;overflow-x:auto;line-height:normal;font-family:Menlo,'DejaVu Sans Mono',consolas,'Courier New',monospace\">Saving model checkpoint to ../logs/Train_PPO_40kReqs_300_v4_001/training/best_model_2879993_steps.zip\n",
       "</pre>\n"
      ],
      "text/plain": [
       "Saving model checkpoint to ../logs/Train_PPO_40kReqs_300_v4_001/training/best_model_2879993_steps.zip\n"
      ]
     },
     "metadata": {},
     "output_type": "display_data"
    },
    {
     "data": {
      "text/html": [
       "<pre style=\"white-space:pre;overflow-x:auto;line-height:normal;font-family:Menlo,'DejaVu Sans Mono',consolas,'Courier New',monospace\">Eval num_timesteps=2880000, episode_reward=38935.60 +/- 61.10\n",
       "</pre>\n"
      ],
      "text/plain": [
       "Eval num_timesteps=2880000, episode_reward=38935.60 +/- 61.10\n"
      ]
     },
     "metadata": {},
     "output_type": "display_data"
    },
    {
     "data": {
      "text/html": [
       "<pre style=\"white-space:pre;overflow-x:auto;line-height:normal;font-family:Menlo,'DejaVu Sans Mono',consolas,'Courier New',monospace\">Episode length: 40000.00 +/- 0.00\n",
       "</pre>\n"
      ],
      "text/plain": [
       "Episode length: 40000.00 +/- 0.00\n"
      ]
     },
     "metadata": {},
     "output_type": "display_data"
    },
    {
     "data": {
      "text/html": [
       "<pre style=\"white-space:pre;overflow-x:auto;line-height:normal;font-family:Menlo,'DejaVu Sans Mono',consolas,'Courier New',monospace\">Saving model checkpoint to ../logs/Train_PPO_40kReqs_300_v4_001/training/best_model_2919993_steps.zip\n",
       "</pre>\n"
      ],
      "text/plain": [
       "Saving model checkpoint to ../logs/Train_PPO_40kReqs_300_v4_001/training/best_model_2919993_steps.zip\n"
      ]
     },
     "metadata": {},
     "output_type": "display_data"
    },
    {
     "data": {
      "text/html": [
       "<pre style=\"white-space:pre;overflow-x:auto;line-height:normal;font-family:Menlo,'DejaVu Sans Mono',consolas,'Courier New',monospace\">Eval num_timesteps=2920000, episode_reward=38994.80 +/- 60.51\n",
       "</pre>\n"
      ],
      "text/plain": [
       "Eval num_timesteps=2920000, episode_reward=38994.80 +/- 60.51\n"
      ]
     },
     "metadata": {},
     "output_type": "display_data"
    },
    {
     "data": {
      "text/html": [
       "<pre style=\"white-space:pre;overflow-x:auto;line-height:normal;font-family:Menlo,'DejaVu Sans Mono',consolas,'Courier New',monospace\">Episode length: 40000.00 +/- 0.00\n",
       "</pre>\n"
      ],
      "text/plain": [
       "Episode length: 40000.00 +/- 0.00\n"
      ]
     },
     "metadata": {},
     "output_type": "display_data"
    },
    {
     "data": {
      "text/html": [
       "<pre style=\"white-space:pre;overflow-x:auto;line-height:normal;font-family:Menlo,'DejaVu Sans Mono',consolas,'Courier New',monospace\">Saving model checkpoint to ../logs/Train_PPO_40kReqs_300_v4_001/training/best_model_2959993_steps.zip\n",
       "</pre>\n"
      ],
      "text/plain": [
       "Saving model checkpoint to ../logs/Train_PPO_40kReqs_300_v4_001/training/best_model_2959993_steps.zip\n"
      ]
     },
     "metadata": {},
     "output_type": "display_data"
    },
    {
     "data": {
      "text/html": [
       "<pre style=\"white-space:pre;overflow-x:auto;line-height:normal;font-family:Menlo,'DejaVu Sans Mono',consolas,'Courier New',monospace\">Eval num_timesteps=2960000, episode_reward=38953.60 +/- 97.67\n",
       "</pre>\n"
      ],
      "text/plain": [
       "Eval num_timesteps=2960000, episode_reward=38953.60 +/- 97.67\n"
      ]
     },
     "metadata": {},
     "output_type": "display_data"
    },
    {
     "data": {
      "text/html": [
       "<pre style=\"white-space:pre;overflow-x:auto;line-height:normal;font-family:Menlo,'DejaVu Sans Mono',consolas,'Courier New',monospace\">Episode length: 40000.00 +/- 0.00\n",
       "</pre>\n"
      ],
      "text/plain": [
       "Episode length: 40000.00 +/- 0.00\n"
      ]
     },
     "metadata": {},
     "output_type": "display_data"
    },
    {
     "data": {
      "text/html": [
       "<pre style=\"white-space:pre;overflow-x:auto;line-height:normal;font-family:Menlo,'DejaVu Sans Mono',consolas,'Courier New',monospace\">Saving model checkpoint to ../logs/Train_PPO_40kReqs_300_v4_001/training/best_model_2999993_steps.zip\n",
       "</pre>\n"
      ],
      "text/plain": [
       "Saving model checkpoint to ../logs/Train_PPO_40kReqs_300_v4_001/training/best_model_2999993_steps.zip\n"
      ]
     },
     "metadata": {},
     "output_type": "display_data"
    },
    {
     "data": {
      "text/html": [
       "<pre style=\"white-space:pre;overflow-x:auto;line-height:normal;font-family:Menlo,'DejaVu Sans Mono',consolas,'Courier New',monospace\">Eval num_timesteps=3000000, episode_reward=39047.60 +/- 96.94\n",
       "</pre>\n"
      ],
      "text/plain": [
       "Eval num_timesteps=3000000, episode_reward=39047.60 +/- 96.94\n"
      ]
     },
     "metadata": {},
     "output_type": "display_data"
    },
    {
     "data": {
      "text/html": [
       "<pre style=\"white-space:pre;overflow-x:auto;line-height:normal;font-family:Menlo,'DejaVu Sans Mono',consolas,'Courier New',monospace\">Episode length: 40000.00 +/- 0.00\n",
       "</pre>\n"
      ],
      "text/plain": [
       "Episode length: 40000.00 +/- 0.00\n"
      ]
     },
     "metadata": {},
     "output_type": "display_data"
    },
    {
     "data": {
      "text/html": [
       "<pre style=\"white-space:pre;overflow-x:auto;line-height:normal;font-family:Menlo,'DejaVu Sans Mono',consolas,'Courier New',monospace\">Saving model checkpoint to ../logs/Train_PPO_40kReqs_300_v4_001/training/best_model_3039993_steps.zip\n",
       "</pre>\n"
      ],
      "text/plain": [
       "Saving model checkpoint to ../logs/Train_PPO_40kReqs_300_v4_001/training/best_model_3039993_steps.zip\n"
      ]
     },
     "metadata": {},
     "output_type": "display_data"
    },
    {
     "data": {
      "text/html": [
       "<pre style=\"white-space:pre;overflow-x:auto;line-height:normal;font-family:Menlo,'DejaVu Sans Mono',consolas,'Courier New',monospace\">Eval num_timesteps=3040000, episode_reward=38972.40 +/- 84.05\n",
       "</pre>\n"
      ],
      "text/plain": [
       "Eval num_timesteps=3040000, episode_reward=38972.40 +/- 84.05\n"
      ]
     },
     "metadata": {},
     "output_type": "display_data"
    },
    {
     "data": {
      "text/html": [
       "<pre style=\"white-space:pre;overflow-x:auto;line-height:normal;font-family:Menlo,'DejaVu Sans Mono',consolas,'Courier New',monospace\">Episode length: 40000.00 +/- 0.00\n",
       "</pre>\n"
      ],
      "text/plain": [
       "Episode length: 40000.00 +/- 0.00\n"
      ]
     },
     "metadata": {},
     "output_type": "display_data"
    },
    {
     "data": {
      "text/html": [
       "<pre style=\"white-space:pre;overflow-x:auto;line-height:normal;font-family:Menlo,'DejaVu Sans Mono',consolas,'Courier New',monospace\">Saving model checkpoint to ../logs/Train_PPO_40kReqs_300_v4_001/training/best_model_3079993_steps.zip\n",
       "</pre>\n"
      ],
      "text/plain": [
       "Saving model checkpoint to ../logs/Train_PPO_40kReqs_300_v4_001/training/best_model_3079993_steps.zip\n"
      ]
     },
     "metadata": {},
     "output_type": "display_data"
    },
    {
     "data": {
      "text/html": [
       "<pre style=\"white-space:pre;overflow-x:auto;line-height:normal;font-family:Menlo,'DejaVu Sans Mono',consolas,'Courier New',monospace\">Eval num_timesteps=3080000, episode_reward=38982.80 +/- 91.99\n",
       "</pre>\n"
      ],
      "text/plain": [
       "Eval num_timesteps=3080000, episode_reward=38982.80 +/- 91.99\n"
      ]
     },
     "metadata": {},
     "output_type": "display_data"
    },
    {
     "data": {
      "text/html": [
       "<pre style=\"white-space:pre;overflow-x:auto;line-height:normal;font-family:Menlo,'DejaVu Sans Mono',consolas,'Courier New',monospace\">Episode length: 40000.00 +/- 0.00\n",
       "</pre>\n"
      ],
      "text/plain": [
       "Episode length: 40000.00 +/- 0.00\n"
      ]
     },
     "metadata": {},
     "output_type": "display_data"
    },
    {
     "data": {
      "text/html": [
       "<pre style=\"white-space:pre;overflow-x:auto;line-height:normal;font-family:Menlo,'DejaVu Sans Mono',consolas,'Courier New',monospace\">Saving model checkpoint to ../logs/Train_PPO_40kReqs_300_v4_001/training/best_model_3119993_steps.zip\n",
       "</pre>\n"
      ],
      "text/plain": [
       "Saving model checkpoint to ../logs/Train_PPO_40kReqs_300_v4_001/training/best_model_3119993_steps.zip\n"
      ]
     },
     "metadata": {},
     "output_type": "display_data"
    },
    {
     "data": {
      "text/html": [
       "<pre style=\"white-space:pre;overflow-x:auto;line-height:normal;font-family:Menlo,'DejaVu Sans Mono',consolas,'Courier New',monospace\">Eval num_timesteps=3120000, episode_reward=39095.20 +/- 133.36\n",
       "</pre>\n"
      ],
      "text/plain": [
       "Eval num_timesteps=3120000, episode_reward=39095.20 +/- 133.36\n"
      ]
     },
     "metadata": {},
     "output_type": "display_data"
    },
    {
     "data": {
      "text/html": [
       "<pre style=\"white-space:pre;overflow-x:auto;line-height:normal;font-family:Menlo,'DejaVu Sans Mono',consolas,'Courier New',monospace\">Episode length: 40000.00 +/- 0.00\n",
       "</pre>\n"
      ],
      "text/plain": [
       "Episode length: 40000.00 +/- 0.00\n"
      ]
     },
     "metadata": {},
     "output_type": "display_data"
    },
    {
     "data": {
      "text/html": [
       "<pre style=\"white-space:pre;overflow-x:auto;line-height:normal;font-family:Menlo,'DejaVu Sans Mono',consolas,'Courier New',monospace\">Saving model checkpoint to ../logs/Train_PPO_40kReqs_300_v4_001/training/best_model_3159993_steps.zip\n",
       "</pre>\n"
      ],
      "text/plain": [
       "Saving model checkpoint to ../logs/Train_PPO_40kReqs_300_v4_001/training/best_model_3159993_steps.zip\n"
      ]
     },
     "metadata": {},
     "output_type": "display_data"
    },
    {
     "data": {
      "text/html": [
       "<pre style=\"white-space:pre;overflow-x:auto;line-height:normal;font-family:Menlo,'DejaVu Sans Mono',consolas,'Courier New',monospace\">Eval num_timesteps=3160000, episode_reward=39091.20 +/- 96.69\n",
       "</pre>\n"
      ],
      "text/plain": [
       "Eval num_timesteps=3160000, episode_reward=39091.20 +/- 96.69\n"
      ]
     },
     "metadata": {},
     "output_type": "display_data"
    },
    {
     "data": {
      "text/html": [
       "<pre style=\"white-space:pre;overflow-x:auto;line-height:normal;font-family:Menlo,'DejaVu Sans Mono',consolas,'Courier New',monospace\">Episode length: 40000.00 +/- 0.00\n",
       "</pre>\n"
      ],
      "text/plain": [
       "Episode length: 40000.00 +/- 0.00\n"
      ]
     },
     "metadata": {},
     "output_type": "display_data"
    },
    {
     "data": {
      "text/html": [
       "<pre style=\"white-space:pre;overflow-x:auto;line-height:normal;font-family:Menlo,'DejaVu Sans Mono',consolas,'Courier New',monospace\">Saving model checkpoint to ../logs/Train_PPO_40kReqs_300_v4_001/training/best_model_3199993_steps.zip\n",
       "</pre>\n"
      ],
      "text/plain": [
       "Saving model checkpoint to ../logs/Train_PPO_40kReqs_300_v4_001/training/best_model_3199993_steps.zip\n"
      ]
     },
     "metadata": {},
     "output_type": "display_data"
    },
    {
     "data": {
      "text/html": [
       "<pre style=\"white-space:pre;overflow-x:auto;line-height:normal;font-family:Menlo,'DejaVu Sans Mono',consolas,'Courier New',monospace\">Eval num_timesteps=3200000, episode_reward=39088.80 +/- 70.56\n",
       "</pre>\n"
      ],
      "text/plain": [
       "Eval num_timesteps=3200000, episode_reward=39088.80 +/- 70.56\n"
      ]
     },
     "metadata": {},
     "output_type": "display_data"
    },
    {
     "data": {
      "text/html": [
       "<pre style=\"white-space:pre;overflow-x:auto;line-height:normal;font-family:Menlo,'DejaVu Sans Mono',consolas,'Courier New',monospace\">Episode length: 40000.00 +/- 0.00\n",
       "</pre>\n"
      ],
      "text/plain": [
       "Episode length: 40000.00 +/- 0.00\n"
      ]
     },
     "metadata": {},
     "output_type": "display_data"
    },
    {
     "data": {
      "text/html": [
       "<pre style=\"white-space:pre;overflow-x:auto;line-height:normal;font-family:Menlo,'DejaVu Sans Mono',consolas,'Courier New',monospace\">Saving model checkpoint to ../logs/Train_PPO_40kReqs_300_v4_001/training/best_model_3239993_steps.zip\n",
       "</pre>\n"
      ],
      "text/plain": [
       "Saving model checkpoint to ../logs/Train_PPO_40kReqs_300_v4_001/training/best_model_3239993_steps.zip\n"
      ]
     },
     "metadata": {},
     "output_type": "display_data"
    },
    {
     "data": {
      "text/html": [
       "<pre style=\"white-space:pre;overflow-x:auto;line-height:normal;font-family:Menlo,'DejaVu Sans Mono',consolas,'Courier New',monospace\">Eval num_timesteps=3240000, episode_reward=39118.40 +/- 122.71\n",
       "</pre>\n"
      ],
      "text/plain": [
       "Eval num_timesteps=3240000, episode_reward=39118.40 +/- 122.71\n"
      ]
     },
     "metadata": {},
     "output_type": "display_data"
    },
    {
     "data": {
      "text/html": [
       "<pre style=\"white-space:pre;overflow-x:auto;line-height:normal;font-family:Menlo,'DejaVu Sans Mono',consolas,'Courier New',monospace\">Episode length: 40000.00 +/- 0.00\n",
       "</pre>\n"
      ],
      "text/plain": [
       "Episode length: 40000.00 +/- 0.00\n"
      ]
     },
     "metadata": {},
     "output_type": "display_data"
    },
    {
     "data": {
      "text/html": [
       "<pre style=\"white-space:pre;overflow-x:auto;line-height:normal;font-family:Menlo,'DejaVu Sans Mono',consolas,'Courier New',monospace\">Saving model checkpoint to ../logs/Train_PPO_40kReqs_300_v4_001/training/best_model_3279993_steps.zip\n",
       "</pre>\n"
      ],
      "text/plain": [
       "Saving model checkpoint to ../logs/Train_PPO_40kReqs_300_v4_001/training/best_model_3279993_steps.zip\n"
      ]
     },
     "metadata": {},
     "output_type": "display_data"
    },
    {
     "data": {
      "text/html": [
       "<pre style=\"white-space:pre;overflow-x:auto;line-height:normal;font-family:Menlo,'DejaVu Sans Mono',consolas,'Courier New',monospace\">Eval num_timesteps=3280000, episode_reward=39178.00 +/- 134.71\n",
       "</pre>\n"
      ],
      "text/plain": [
       "Eval num_timesteps=3280000, episode_reward=39178.00 +/- 134.71\n"
      ]
     },
     "metadata": {},
     "output_type": "display_data"
    },
    {
     "data": {
      "text/html": [
       "<pre style=\"white-space:pre;overflow-x:auto;line-height:normal;font-family:Menlo,'DejaVu Sans Mono',consolas,'Courier New',monospace\">Episode length: 40000.00 +/- 0.00\n",
       "</pre>\n"
      ],
      "text/plain": [
       "Episode length: 40000.00 +/- 0.00\n"
      ]
     },
     "metadata": {},
     "output_type": "display_data"
    },
    {
     "data": {
      "text/html": [
       "<pre style=\"white-space:pre;overflow-x:auto;line-height:normal;font-family:Menlo,'DejaVu Sans Mono',consolas,'Courier New',monospace\">Saving model checkpoint to ../logs/Train_PPO_40kReqs_300_v4_001/training/best_model_3319993_steps.zip\n",
       "</pre>\n"
      ],
      "text/plain": [
       "Saving model checkpoint to ../logs/Train_PPO_40kReqs_300_v4_001/training/best_model_3319993_steps.zip\n"
      ]
     },
     "metadata": {},
     "output_type": "display_data"
    },
    {
     "data": {
      "text/html": [
       "<pre style=\"white-space:pre;overflow-x:auto;line-height:normal;font-family:Menlo,'DejaVu Sans Mono',consolas,'Courier New',monospace\">Eval num_timesteps=3320000, episode_reward=39037.60 +/- 86.75\n",
       "</pre>\n"
      ],
      "text/plain": [
       "Eval num_timesteps=3320000, episode_reward=39037.60 +/- 86.75\n"
      ]
     },
     "metadata": {},
     "output_type": "display_data"
    },
    {
     "data": {
      "text/html": [
       "<pre style=\"white-space:pre;overflow-x:auto;line-height:normal;font-family:Menlo,'DejaVu Sans Mono',consolas,'Courier New',monospace\">Episode length: 40000.00 +/- 0.00\n",
       "</pre>\n"
      ],
      "text/plain": [
       "Episode length: 40000.00 +/- 0.00\n"
      ]
     },
     "metadata": {},
     "output_type": "display_data"
    },
    {
     "data": {
      "text/html": [
       "<pre style=\"white-space:pre;overflow-x:auto;line-height:normal;font-family:Menlo,'DejaVu Sans Mono',consolas,'Courier New',monospace\">Saving model checkpoint to ../logs/Train_PPO_40kReqs_300_v4_001/training/best_model_3359993_steps.zip\n",
       "</pre>\n"
      ],
      "text/plain": [
       "Saving model checkpoint to ../logs/Train_PPO_40kReqs_300_v4_001/training/best_model_3359993_steps.zip\n"
      ]
     },
     "metadata": {},
     "output_type": "display_data"
    },
    {
     "data": {
      "text/html": [
       "<pre style=\"white-space:pre;overflow-x:auto;line-height:normal;font-family:Menlo,'DejaVu Sans Mono',consolas,'Courier New',monospace\">Eval num_timesteps=3360000, episode_reward=38836.00 +/- 93.99\n",
       "</pre>\n"
      ],
      "text/plain": [
       "Eval num_timesteps=3360000, episode_reward=38836.00 +/- 93.99\n"
      ]
     },
     "metadata": {},
     "output_type": "display_data"
    },
    {
     "data": {
      "text/html": [
       "<pre style=\"white-space:pre;overflow-x:auto;line-height:normal;font-family:Menlo,'DejaVu Sans Mono',consolas,'Courier New',monospace\">Episode length: 40000.00 +/- 0.00\n",
       "</pre>\n"
      ],
      "text/plain": [
       "Episode length: 40000.00 +/- 0.00\n"
      ]
     },
     "metadata": {},
     "output_type": "display_data"
    },
    {
     "data": {
      "text/html": [
       "<pre style=\"white-space:pre;overflow-x:auto;line-height:normal;font-family:Menlo,'DejaVu Sans Mono',consolas,'Courier New',monospace\">Saving model checkpoint to ../logs/Train_PPO_40kReqs_300_v4_001/training/best_model_3399993_steps.zip\n",
       "</pre>\n"
      ],
      "text/plain": [
       "Saving model checkpoint to ../logs/Train_PPO_40kReqs_300_v4_001/training/best_model_3399993_steps.zip\n"
      ]
     },
     "metadata": {},
     "output_type": "display_data"
    },
    {
     "data": {
      "text/html": [
       "<pre style=\"white-space:pre;overflow-x:auto;line-height:normal;font-family:Menlo,'DejaVu Sans Mono',consolas,'Courier New',monospace\">Eval num_timesteps=3400000, episode_reward=38865.60 +/- 102.85\n",
       "</pre>\n"
      ],
      "text/plain": [
       "Eval num_timesteps=3400000, episode_reward=38865.60 +/- 102.85\n"
      ]
     },
     "metadata": {},
     "output_type": "display_data"
    },
    {
     "data": {
      "text/html": [
       "<pre style=\"white-space:pre;overflow-x:auto;line-height:normal;font-family:Menlo,'DejaVu Sans Mono',consolas,'Courier New',monospace\">Episode length: 40000.00 +/- 0.00\n",
       "</pre>\n"
      ],
      "text/plain": [
       "Episode length: 40000.00 +/- 0.00\n"
      ]
     },
     "metadata": {},
     "output_type": "display_data"
    },
    {
     "data": {
      "text/html": [
       "<pre style=\"white-space:pre;overflow-x:auto;line-height:normal;font-family:Menlo,'DejaVu Sans Mono',consolas,'Courier New',monospace\">Saving model checkpoint to ../logs/Train_PPO_40kReqs_300_v4_001/training/best_model_3439993_steps.zip\n",
       "</pre>\n"
      ],
      "text/plain": [
       "Saving model checkpoint to ../logs/Train_PPO_40kReqs_300_v4_001/training/best_model_3439993_steps.zip\n"
      ]
     },
     "metadata": {},
     "output_type": "display_data"
    },
    {
     "data": {
      "text/html": [
       "<pre style=\"white-space:pre;overflow-x:auto;line-height:normal;font-family:Menlo,'DejaVu Sans Mono',consolas,'Courier New',monospace\">Eval num_timesteps=3440000, episode_reward=38830.00 +/- 140.09\n",
       "</pre>\n"
      ],
      "text/plain": [
       "Eval num_timesteps=3440000, episode_reward=38830.00 +/- 140.09\n"
      ]
     },
     "metadata": {},
     "output_type": "display_data"
    },
    {
     "data": {
      "text/html": [
       "<pre style=\"white-space:pre;overflow-x:auto;line-height:normal;font-family:Menlo,'DejaVu Sans Mono',consolas,'Courier New',monospace\">Saving model checkpoint to ../logs/Train_PPO_40kReqs_300_v4_001/training/best_model_3479993_steps.zip\n",
       "</pre>\n"
      ],
      "text/plain": [
       "Saving model checkpoint to ../logs/Train_PPO_40kReqs_300_v4_001/training/best_model_3479993_steps.zip\n"
      ]
     },
     "metadata": {},
     "output_type": "display_data"
    },
    {
     "data": {
      "text/html": [
       "<pre style=\"white-space:pre;overflow-x:auto;line-height:normal;font-family:Menlo,'DejaVu Sans Mono',consolas,'Courier New',monospace\">Eval num_timesteps=3480000, episode_reward=38895.60 +/- 114.22\n",
       "</pre>\n"
      ],
      "text/plain": [
       "Eval num_timesteps=3480000, episode_reward=38895.60 +/- 114.22\n"
      ]
     },
     "metadata": {},
     "output_type": "display_data"
    },
    {
     "data": {
      "text/html": [
       "<pre style=\"white-space:pre;overflow-x:auto;line-height:normal;font-family:Menlo,'DejaVu Sans Mono',consolas,'Courier New',monospace\">Episode length: 40000.00 +/- 0.00\n",
       "</pre>\n"
      ],
      "text/plain": [
       "Episode length: 40000.00 +/- 0.00\n"
      ]
     },
     "metadata": {},
     "output_type": "display_data"
    },
    {
     "data": {
      "text/html": [
       "<pre style=\"white-space:pre;overflow-x:auto;line-height:normal;font-family:Menlo,'DejaVu Sans Mono',consolas,'Courier New',monospace\">Saving model checkpoint to ../logs/Train_PPO_40kReqs_300_v4_001/training/best_model_3519993_steps.zip\n",
       "</pre>\n"
      ],
      "text/plain": [
       "Saving model checkpoint to ../logs/Train_PPO_40kReqs_300_v4_001/training/best_model_3519993_steps.zip\n"
      ]
     },
     "metadata": {},
     "output_type": "display_data"
    },
    {
     "data": {
      "text/html": [
       "<pre style=\"white-space:pre;overflow-x:auto;line-height:normal;font-family:Menlo,'DejaVu Sans Mono',consolas,'Courier New',monospace\">Eval num_timesteps=3520000, episode_reward=38914.00 +/- 119.13\n",
       "</pre>\n"
      ],
      "text/plain": [
       "Eval num_timesteps=3520000, episode_reward=38914.00 +/- 119.13\n"
      ]
     },
     "metadata": {},
     "output_type": "display_data"
    },
    {
     "data": {
      "text/html": [
       "<pre style=\"white-space:pre;overflow-x:auto;line-height:normal;font-family:Menlo,'DejaVu Sans Mono',consolas,'Courier New',monospace\">Episode length: 40000.00 +/- 0.00\n",
       "</pre>\n"
      ],
      "text/plain": [
       "Episode length: 40000.00 +/- 0.00\n"
      ]
     },
     "metadata": {},
     "output_type": "display_data"
    },
    {
     "data": {
      "text/html": [
       "<pre style=\"white-space:pre;overflow-x:auto;line-height:normal;font-family:Menlo,'DejaVu Sans Mono',consolas,'Courier New',monospace\">Saving model checkpoint to ../logs/Train_PPO_40kReqs_300_v4_001/training/best_model_3559993_steps.zip\n",
       "</pre>\n"
      ],
      "text/plain": [
       "Saving model checkpoint to ../logs/Train_PPO_40kReqs_300_v4_001/training/best_model_3559993_steps.zip\n"
      ]
     },
     "metadata": {},
     "output_type": "display_data"
    },
    {
     "data": {
      "text/html": [
       "<pre style=\"white-space:pre;overflow-x:auto;line-height:normal;font-family:Menlo,'DejaVu Sans Mono',consolas,'Courier New',monospace\">Eval num_timesteps=3560000, episode_reward=38851.20 +/- 56.15\n",
       "</pre>\n"
      ],
      "text/plain": [
       "Eval num_timesteps=3560000, episode_reward=38851.20 +/- 56.15\n"
      ]
     },
     "metadata": {},
     "output_type": "display_data"
    },
    {
     "data": {
      "text/html": [
       "<pre style=\"white-space:pre;overflow-x:auto;line-height:normal;font-family:Menlo,'DejaVu Sans Mono',consolas,'Courier New',monospace\">Episode length: 40000.00 +/- 0.00\n",
       "</pre>\n"
      ],
      "text/plain": [
       "Episode length: 40000.00 +/- 0.00\n"
      ]
     },
     "metadata": {},
     "output_type": "display_data"
    },
    {
     "data": {
      "text/html": [
       "<pre style=\"white-space:pre;overflow-x:auto;line-height:normal;font-family:Menlo,'DejaVu Sans Mono',consolas,'Courier New',monospace\">Saving model checkpoint to ../logs/Train_PPO_40kReqs_300_v4_001/training/best_model_3599993_steps.zip\n",
       "</pre>\n"
      ],
      "text/plain": [
       "Saving model checkpoint to ../logs/Train_PPO_40kReqs_300_v4_001/training/best_model_3599993_steps.zip\n"
      ]
     },
     "metadata": {},
     "output_type": "display_data"
    },
    {
     "data": {
      "text/html": [
       "<pre style=\"white-space:pre;overflow-x:auto;line-height:normal;font-family:Menlo,'DejaVu Sans Mono',consolas,'Courier New',monospace\">Eval num_timesteps=3600000, episode_reward=38969.60 +/- 111.26\n",
       "</pre>\n"
      ],
      "text/plain": [
       "Eval num_timesteps=3600000, episode_reward=38969.60 +/- 111.26\n"
      ]
     },
     "metadata": {},
     "output_type": "display_data"
    },
    {
     "data": {
      "text/html": [
       "<pre style=\"white-space:pre;overflow-x:auto;line-height:normal;font-family:Menlo,'DejaVu Sans Mono',consolas,'Courier New',monospace\">Episode length: 40000.00 +/- 0.00\n",
       "</pre>\n"
      ],
      "text/plain": [
       "Episode length: 40000.00 +/- 0.00\n"
      ]
     },
     "metadata": {},
     "output_type": "display_data"
    },
    {
     "data": {
      "text/html": [
       "<pre style=\"white-space:pre;overflow-x:auto;line-height:normal;font-family:Menlo,'DejaVu Sans Mono',consolas,'Courier New',monospace\">Saving model checkpoint to ../logs/Train_PPO_40kReqs_300_v4_001/training/best_model_3639993_steps.zip\n",
       "</pre>\n"
      ],
      "text/plain": [
       "Saving model checkpoint to ../logs/Train_PPO_40kReqs_300_v4_001/training/best_model_3639993_steps.zip\n"
      ]
     },
     "metadata": {},
     "output_type": "display_data"
    },
    {
     "data": {
      "text/html": [
       "<pre style=\"white-space:pre;overflow-x:auto;line-height:normal;font-family:Menlo,'DejaVu Sans Mono',consolas,'Courier New',monospace\">Eval num_timesteps=3640000, episode_reward=39092.40 +/- 58.01\n",
       "</pre>\n"
      ],
      "text/plain": [
       "Eval num_timesteps=3640000, episode_reward=39092.40 +/- 58.01\n"
      ]
     },
     "metadata": {},
     "output_type": "display_data"
    },
    {
     "data": {
      "text/html": [
       "<pre style=\"white-space:pre;overflow-x:auto;line-height:normal;font-family:Menlo,'DejaVu Sans Mono',consolas,'Courier New',monospace\">Episode length: 40000.00 +/- 0.00\n",
       "</pre>\n"
      ],
      "text/plain": [
       "Episode length: 40000.00 +/- 0.00\n"
      ]
     },
     "metadata": {},
     "output_type": "display_data"
    },
    {
     "data": {
      "text/html": [
       "<pre style=\"white-space:pre;overflow-x:auto;line-height:normal;font-family:Menlo,'DejaVu Sans Mono',consolas,'Courier New',monospace\">Saving model checkpoint to ../logs/Train_PPO_40kReqs_300_v4_001/training/best_model_3679993_steps.zip\n",
       "</pre>\n"
      ],
      "text/plain": [
       "Saving model checkpoint to ../logs/Train_PPO_40kReqs_300_v4_001/training/best_model_3679993_steps.zip\n"
      ]
     },
     "metadata": {},
     "output_type": "display_data"
    },
    {
     "data": {
      "text/html": [
       "<pre style=\"white-space:pre;overflow-x:auto;line-height:normal;font-family:Menlo,'DejaVu Sans Mono',consolas,'Courier New',monospace\">Eval num_timesteps=3680000, episode_reward=39149.60 +/- 161.23\n",
       "</pre>\n"
      ],
      "text/plain": [
       "Eval num_timesteps=3680000, episode_reward=39149.60 +/- 161.23\n"
      ]
     },
     "metadata": {},
     "output_type": "display_data"
    },
    {
     "data": {
      "text/html": [
       "<pre style=\"white-space:pre;overflow-x:auto;line-height:normal;font-family:Menlo,'DejaVu Sans Mono',consolas,'Courier New',monospace\">Episode length: 40000.00 +/- 0.00\n",
       "</pre>\n"
      ],
      "text/plain": [
       "Episode length: 40000.00 +/- 0.00\n"
      ]
     },
     "metadata": {},
     "output_type": "display_data"
    },
    {
     "data": {
      "text/html": [
       "<pre style=\"white-space:pre;overflow-x:auto;line-height:normal;font-family:Menlo,'DejaVu Sans Mono',consolas,'Courier New',monospace\">Saving model checkpoint to ../logs/Train_PPO_40kReqs_300_v4_001/training/best_model_3719993_steps.zip\n",
       "</pre>\n"
      ],
      "text/plain": [
       "Saving model checkpoint to ../logs/Train_PPO_40kReqs_300_v4_001/training/best_model_3719993_steps.zip\n"
      ]
     },
     "metadata": {},
     "output_type": "display_data"
    },
    {
     "data": {
      "text/html": [
       "<pre style=\"white-space:pre;overflow-x:auto;line-height:normal;font-family:Menlo,'DejaVu Sans Mono',consolas,'Courier New',monospace\">Eval num_timesteps=3720000, episode_reward=39052.80 +/- 115.59\n",
       "</pre>\n"
      ],
      "text/plain": [
       "Eval num_timesteps=3720000, episode_reward=39052.80 +/- 115.59\n"
      ]
     },
     "metadata": {},
     "output_type": "display_data"
    },
    {
     "data": {
      "text/html": [
       "<pre style=\"white-space:pre;overflow-x:auto;line-height:normal;font-family:Menlo,'DejaVu Sans Mono',consolas,'Courier New',monospace\">Episode length: 40000.00 +/- 0.00\n",
       "</pre>\n"
      ],
      "text/plain": [
       "Episode length: 40000.00 +/- 0.00\n"
      ]
     },
     "metadata": {},
     "output_type": "display_data"
    },
    {
     "data": {
      "text/html": [
       "<pre style=\"white-space:pre;overflow-x:auto;line-height:normal;font-family:Menlo,'DejaVu Sans Mono',consolas,'Courier New',monospace\">Saving model checkpoint to ../logs/Train_PPO_40kReqs_300_v4_001/training/best_model_3759993_steps.zip\n",
       "</pre>\n"
      ],
      "text/plain": [
       "Saving model checkpoint to ../logs/Train_PPO_40kReqs_300_v4_001/training/best_model_3759993_steps.zip\n"
      ]
     },
     "metadata": {},
     "output_type": "display_data"
    },
    {
     "data": {
      "text/html": [
       "<pre style=\"white-space:pre;overflow-x:auto;line-height:normal;font-family:Menlo,'DejaVu Sans Mono',consolas,'Courier New',monospace\">Eval num_timesteps=3760000, episode_reward=39200.80 +/- 81.60\n",
       "</pre>\n"
      ],
      "text/plain": [
       "Eval num_timesteps=3760000, episode_reward=39200.80 +/- 81.60\n"
      ]
     },
     "metadata": {},
     "output_type": "display_data"
    },
    {
     "data": {
      "text/html": [
       "<pre style=\"white-space:pre;overflow-x:auto;line-height:normal;font-family:Menlo,'DejaVu Sans Mono',consolas,'Courier New',monospace\">Episode length: 40000.00 +/- 0.00\n",
       "</pre>\n"
      ],
      "text/plain": [
       "Episode length: 40000.00 +/- 0.00\n"
      ]
     },
     "metadata": {},
     "output_type": "display_data"
    },
    {
     "data": {
      "text/html": [
       "<pre style=\"white-space:pre;overflow-x:auto;line-height:normal;font-family:Menlo,'DejaVu Sans Mono',consolas,'Courier New',monospace\">New best mean reward!\n",
       "</pre>\n"
      ],
      "text/plain": [
       "New best mean reward!\n"
      ]
     },
     "metadata": {},
     "output_type": "display_data"
    },
    {
     "data": {
      "text/html": [
       "<pre style=\"white-space:pre;overflow-x:auto;line-height:normal;font-family:Menlo,'DejaVu Sans Mono',consolas,'Courier New',monospace\">Saving model checkpoint to ../logs/Train_PPO_40kReqs_300_v4_001/training/best_model_3799992_steps.zip\n",
       "</pre>\n"
      ],
      "text/plain": [
       "Saving model checkpoint to ../logs/Train_PPO_40kReqs_300_v4_001/training/best_model_3799992_steps.zip\n"
      ]
     },
     "metadata": {},
     "output_type": "display_data"
    },
    {
     "data": {
      "text/html": [
       "<pre style=\"white-space:pre;overflow-x:auto;line-height:normal;font-family:Menlo,'DejaVu Sans Mono',consolas,'Courier New',monospace\">Eval num_timesteps=3800000, episode_reward=39070.00 +/- 85.69\n",
       "</pre>\n"
      ],
      "text/plain": [
       "Eval num_timesteps=3800000, episode_reward=39070.00 +/- 85.69\n"
      ]
     },
     "metadata": {},
     "output_type": "display_data"
    },
    {
     "data": {
      "text/html": [
       "<pre style=\"white-space:pre;overflow-x:auto;line-height:normal;font-family:Menlo,'DejaVu Sans Mono',consolas,'Courier New',monospace\">Episode length: 40000.00 +/- 0.00\n",
       "</pre>\n"
      ],
      "text/plain": [
       "Episode length: 40000.00 +/- 0.00\n"
      ]
     },
     "metadata": {},
     "output_type": "display_data"
    },
    {
     "data": {
      "text/html": [
       "<pre style=\"white-space:pre;overflow-x:auto;line-height:normal;font-family:Menlo,'DejaVu Sans Mono',consolas,'Courier New',monospace\">Saving model checkpoint to ../logs/Train_PPO_40kReqs_300_v4_001/training/best_model_3839992_steps.zip\n",
       "</pre>\n"
      ],
      "text/plain": [
       "Saving model checkpoint to ../logs/Train_PPO_40kReqs_300_v4_001/training/best_model_3839992_steps.zip\n"
      ]
     },
     "metadata": {},
     "output_type": "display_data"
    },
    {
     "data": {
      "text/html": [
       "<pre style=\"white-space:pre;overflow-x:auto;line-height:normal;font-family:Menlo,'DejaVu Sans Mono',consolas,'Courier New',monospace\">Eval num_timesteps=3840000, episode_reward=39140.00 +/- 117.92\n",
       "</pre>\n"
      ],
      "text/plain": [
       "Eval num_timesteps=3840000, episode_reward=39140.00 +/- 117.92\n"
      ]
     },
     "metadata": {},
     "output_type": "display_data"
    },
    {
     "data": {
      "text/html": [
       "<pre style=\"white-space:pre;overflow-x:auto;line-height:normal;font-family:Menlo,'DejaVu Sans Mono',consolas,'Courier New',monospace\">Episode length: 40000.00 +/- 0.00\n",
       "</pre>\n"
      ],
      "text/plain": [
       "Episode length: 40000.00 +/- 0.00\n"
      ]
     },
     "metadata": {},
     "output_type": "display_data"
    },
    {
     "data": {
      "text/html": [
       "<pre style=\"white-space:pre;overflow-x:auto;line-height:normal;font-family:Menlo,'DejaVu Sans Mono',consolas,'Courier New',monospace\">Saving model checkpoint to ../logs/Train_PPO_40kReqs_300_v4_001/training/best_model_3879992_steps.zip\n",
       "</pre>\n"
      ],
      "text/plain": [
       "Saving model checkpoint to ../logs/Train_PPO_40kReqs_300_v4_001/training/best_model_3879992_steps.zip\n"
      ]
     },
     "metadata": {},
     "output_type": "display_data"
    },
    {
     "data": {
      "text/html": [
       "<pre style=\"white-space:pre;overflow-x:auto;line-height:normal;font-family:Menlo,'DejaVu Sans Mono',consolas,'Courier New',monospace\">Eval num_timesteps=3880000, episode_reward=39051.60 +/- 132.49\n",
       "</pre>\n"
      ],
      "text/plain": [
       "Eval num_timesteps=3880000, episode_reward=39051.60 +/- 132.49\n"
      ]
     },
     "metadata": {},
     "output_type": "display_data"
    },
    {
     "data": {
      "text/html": [
       "<pre style=\"white-space:pre;overflow-x:auto;line-height:normal;font-family:Menlo,'DejaVu Sans Mono',consolas,'Courier New',monospace\">Episode length: 40000.00 +/- 0.00\n",
       "</pre>\n"
      ],
      "text/plain": [
       "Episode length: 40000.00 +/- 0.00\n"
      ]
     },
     "metadata": {},
     "output_type": "display_data"
    },
    {
     "data": {
      "text/html": [
       "<pre style=\"white-space:pre;overflow-x:auto;line-height:normal;font-family:Menlo,'DejaVu Sans Mono',consolas,'Courier New',monospace\">Saving model checkpoint to ../logs/Train_PPO_40kReqs_300_v4_001/training/best_model_3919992_steps.zip\n",
       "</pre>\n"
      ],
      "text/plain": [
       "Saving model checkpoint to ../logs/Train_PPO_40kReqs_300_v4_001/training/best_model_3919992_steps.zip\n"
      ]
     },
     "metadata": {},
     "output_type": "display_data"
    },
    {
     "data": {
      "text/html": [
       "<pre style=\"white-space:pre;overflow-x:auto;line-height:normal;font-family:Menlo,'DejaVu Sans Mono',consolas,'Courier New',monospace\">Eval num_timesteps=3920000, episode_reward=38987.60 +/- 34.56\n",
       "</pre>\n"
      ],
      "text/plain": [
       "Eval num_timesteps=3920000, episode_reward=38987.60 +/- 34.56\n"
      ]
     },
     "metadata": {},
     "output_type": "display_data"
    },
    {
     "data": {
      "text/html": [
       "<pre style=\"white-space:pre;overflow-x:auto;line-height:normal;font-family:Menlo,'DejaVu Sans Mono',consolas,'Courier New',monospace\">Episode length: 40000.00 +/- 0.00\n",
       "</pre>\n"
      ],
      "text/plain": [
       "Episode length: 40000.00 +/- 0.00\n"
      ]
     },
     "metadata": {},
     "output_type": "display_data"
    },
    {
     "data": {
      "text/html": [
       "<pre style=\"white-space:pre;overflow-x:auto;line-height:normal;font-family:Menlo,'DejaVu Sans Mono',consolas,'Courier New',monospace\">Saving model checkpoint to ../logs/Train_PPO_40kReqs_300_v4_001/training/best_model_3959992_steps.zip\n",
       "</pre>\n"
      ],
      "text/plain": [
       "Saving model checkpoint to ../logs/Train_PPO_40kReqs_300_v4_001/training/best_model_3959992_steps.zip\n"
      ]
     },
     "metadata": {},
     "output_type": "display_data"
    },
    {
     "data": {
      "text/html": [
       "<pre style=\"white-space:pre;overflow-x:auto;line-height:normal;font-family:Menlo,'DejaVu Sans Mono',consolas,'Courier New',monospace\">Eval num_timesteps=3960000, episode_reward=39019.20 +/- 145.62\n",
       "</pre>\n"
      ],
      "text/plain": [
       "Eval num_timesteps=3960000, episode_reward=39019.20 +/- 145.62\n"
      ]
     },
     "metadata": {},
     "output_type": "display_data"
    },
    {
     "data": {
      "text/html": [
       "<pre style=\"white-space:pre;overflow-x:auto;line-height:normal;font-family:Menlo,'DejaVu Sans Mono',consolas,'Courier New',monospace\">Episode length: 40000.00 +/- 0.00\n",
       "</pre>\n"
      ],
      "text/plain": [
       "Episode length: 40000.00 +/- 0.00\n"
      ]
     },
     "metadata": {},
     "output_type": "display_data"
    },
    {
     "data": {
      "text/html": [
       "<pre style=\"white-space:pre;overflow-x:auto;line-height:normal;font-family:Menlo,'DejaVu Sans Mono',consolas,'Courier New',monospace\">Saving model checkpoint to ../logs/Train_PPO_40kReqs_300_v4_001/training/best_model_3999992_steps.zip\n",
       "</pre>\n"
      ],
      "text/plain": [
       "Saving model checkpoint to ../logs/Train_PPO_40kReqs_300_v4_001/training/best_model_3999992_steps.zip\n"
      ]
     },
     "metadata": {},
     "output_type": "display_data"
    },
    {
     "data": {
      "text/html": [
       "<pre style=\"white-space:pre;overflow-x:auto;line-height:normal;font-family:Menlo,'DejaVu Sans Mono',consolas,'Courier New',monospace\">Eval num_timesteps=4000000, episode_reward=39119.60 +/- 121.17\n",
       "</pre>\n"
      ],
      "text/plain": [
       "Eval num_timesteps=4000000, episode_reward=39119.60 +/- 121.17\n"
      ]
     },
     "metadata": {},
     "output_type": "display_data"
    },
    {
     "data": {
      "text/html": [
       "<pre style=\"white-space:pre;overflow-x:auto;line-height:normal;font-family:Menlo,'DejaVu Sans Mono',consolas,'Courier New',monospace\">Episode length: 40000.00 +/- 0.00\n",
       "</pre>\n"
      ],
      "text/plain": [
       "Episode length: 40000.00 +/- 0.00\n"
      ]
     },
     "metadata": {},
     "output_type": "display_data"
    },
    {
     "data": {
      "text/html": [
       "<pre style=\"white-space:pre;overflow-x:auto;line-height:normal;font-family:Menlo,'DejaVu Sans Mono',consolas,'Courier New',monospace\">Saving model checkpoint to ../logs/Train_PPO_40kReqs_300_v4_001/training/best_model_4039992_steps.zip\n",
       "</pre>\n"
      ],
      "text/plain": [
       "Saving model checkpoint to ../logs/Train_PPO_40kReqs_300_v4_001/training/best_model_4039992_steps.zip\n"
      ]
     },
     "metadata": {},
     "output_type": "display_data"
    },
    {
     "data": {
      "text/html": [
       "<pre style=\"white-space:pre;overflow-x:auto;line-height:normal;font-family:Menlo,'DejaVu Sans Mono',consolas,'Courier New',monospace\">Eval num_timesteps=4040000, episode_reward=38996.80 +/- 95.25\n",
       "</pre>\n"
      ],
      "text/plain": [
       "Eval num_timesteps=4040000, episode_reward=38996.80 +/- 95.25\n"
      ]
     },
     "metadata": {},
     "output_type": "display_data"
    },
    {
     "data": {
      "text/html": [
       "<pre style=\"white-space:pre;overflow-x:auto;line-height:normal;font-family:Menlo,'DejaVu Sans Mono',consolas,'Courier New',monospace\">Episode length: 40000.00 +/- 0.00\n",
       "</pre>\n"
      ],
      "text/plain": [
       "Episode length: 40000.00 +/- 0.00\n"
      ]
     },
     "metadata": {},
     "output_type": "display_data"
    },
    {
     "data": {
      "text/html": [
       "<pre style=\"white-space:pre;overflow-x:auto;line-height:normal;font-family:Menlo,'DejaVu Sans Mono',consolas,'Courier New',monospace\">Saving model checkpoint to ../logs/Train_PPO_40kReqs_300_v4_001/training/best_model_4079992_steps.zip\n",
       "</pre>\n"
      ],
      "text/plain": [
       "Saving model checkpoint to ../logs/Train_PPO_40kReqs_300_v4_001/training/best_model_4079992_steps.zip\n"
      ]
     },
     "metadata": {},
     "output_type": "display_data"
    },
    {
     "data": {
      "text/html": [
       "<pre style=\"white-space:pre;overflow-x:auto;line-height:normal;font-family:Menlo,'DejaVu Sans Mono',consolas,'Courier New',monospace\">Eval num_timesteps=4080000, episode_reward=38928.80 +/- 80.42\n",
       "</pre>\n"
      ],
      "text/plain": [
       "Eval num_timesteps=4080000, episode_reward=38928.80 +/- 80.42\n"
      ]
     },
     "metadata": {},
     "output_type": "display_data"
    },
    {
     "data": {
      "text/html": [
       "<pre style=\"white-space:pre;overflow-x:auto;line-height:normal;font-family:Menlo,'DejaVu Sans Mono',consolas,'Courier New',monospace\">Episode length: 40000.00 +/- 0.00\n",
       "</pre>\n"
      ],
      "text/plain": [
       "Episode length: 40000.00 +/- 0.00\n"
      ]
     },
     "metadata": {},
     "output_type": "display_data"
    },
    {
     "data": {
      "text/html": [
       "<pre style=\"white-space:pre;overflow-x:auto;line-height:normal;font-family:Menlo,'DejaVu Sans Mono',consolas,'Courier New',monospace\">Saving model checkpoint to ../logs/Train_PPO_40kReqs_300_v4_001/training/best_model_4119992_steps.zip\n",
       "</pre>\n"
      ],
      "text/plain": [
       "Saving model checkpoint to ../logs/Train_PPO_40kReqs_300_v4_001/training/best_model_4119992_steps.zip\n"
      ]
     },
     "metadata": {},
     "output_type": "display_data"
    },
    {
     "data": {
      "text/html": [
       "<pre style=\"white-space:pre;overflow-x:auto;line-height:normal;font-family:Menlo,'DejaVu Sans Mono',consolas,'Courier New',monospace\">Eval num_timesteps=4120000, episode_reward=38985.20 +/- 86.17\n",
       "</pre>\n"
      ],
      "text/plain": [
       "Eval num_timesteps=4120000, episode_reward=38985.20 +/- 86.17\n"
      ]
     },
     "metadata": {},
     "output_type": "display_data"
    },
    {
     "data": {
      "text/html": [
       "<pre style=\"white-space:pre;overflow-x:auto;line-height:normal;font-family:Menlo,'DejaVu Sans Mono',consolas,'Courier New',monospace\">Episode length: 40000.00 +/- 0.00\n",
       "</pre>\n"
      ],
      "text/plain": [
       "Episode length: 40000.00 +/- 0.00\n"
      ]
     },
     "metadata": {},
     "output_type": "display_data"
    },
    {
     "data": {
      "text/html": [
       "<pre style=\"white-space:pre;overflow-x:auto;line-height:normal;font-family:Menlo,'DejaVu Sans Mono',consolas,'Courier New',monospace\">Saving model checkpoint to ../logs/Train_PPO_40kReqs_300_v4_001/training/best_model_4159992_steps.zip\n",
       "</pre>\n"
      ],
      "text/plain": [
       "Saving model checkpoint to ../logs/Train_PPO_40kReqs_300_v4_001/training/best_model_4159992_steps.zip\n"
      ]
     },
     "metadata": {},
     "output_type": "display_data"
    },
    {
     "data": {
      "text/html": [
       "<pre style=\"white-space:pre;overflow-x:auto;line-height:normal;font-family:Menlo,'DejaVu Sans Mono',consolas,'Courier New',monospace\">Eval num_timesteps=4160000, episode_reward=38980.40 +/- 121.02\n",
       "</pre>\n"
      ],
      "text/plain": [
       "Eval num_timesteps=4160000, episode_reward=38980.40 +/- 121.02\n"
      ]
     },
     "metadata": {},
     "output_type": "display_data"
    },
    {
     "data": {
      "text/html": [
       "<pre style=\"white-space:pre;overflow-x:auto;line-height:normal;font-family:Menlo,'DejaVu Sans Mono',consolas,'Courier New',monospace\">Episode length: 40000.00 +/- 0.00\n",
       "</pre>\n"
      ],
      "text/plain": [
       "Episode length: 40000.00 +/- 0.00\n"
      ]
     },
     "metadata": {},
     "output_type": "display_data"
    },
    {
     "data": {
      "text/html": [
       "<pre style=\"white-space:pre;overflow-x:auto;line-height:normal;font-family:Menlo,'DejaVu Sans Mono',consolas,'Courier New',monospace\">Saving model checkpoint to ../logs/Train_PPO_40kReqs_300_v4_001/training/best_model_4199992_steps.zip\n",
       "</pre>\n"
      ],
      "text/plain": [
       "Saving model checkpoint to ../logs/Train_PPO_40kReqs_300_v4_001/training/best_model_4199992_steps.zip\n"
      ]
     },
     "metadata": {},
     "output_type": "display_data"
    },
    {
     "data": {
      "text/html": [
       "<pre style=\"white-space:pre;overflow-x:auto;line-height:normal;font-family:Menlo,'DejaVu Sans Mono',consolas,'Courier New',monospace\">Eval num_timesteps=4200000, episode_reward=38887.20 +/- 92.24\n",
       "</pre>\n"
      ],
      "text/plain": [
       "Eval num_timesteps=4200000, episode_reward=38887.20 +/- 92.24\n"
      ]
     },
     "metadata": {},
     "output_type": "display_data"
    },
    {
     "data": {
      "text/html": [
       "<pre style=\"white-space:pre;overflow-x:auto;line-height:normal;font-family:Menlo,'DejaVu Sans Mono',consolas,'Courier New',monospace\">Episode length: 40000.00 +/- 0.00\n",
       "</pre>\n"
      ],
      "text/plain": [
       "Episode length: 40000.00 +/- 0.00\n"
      ]
     },
     "metadata": {},
     "output_type": "display_data"
    },
    {
     "data": {
      "text/html": [
       "<pre style=\"white-space:pre;overflow-x:auto;line-height:normal;font-family:Menlo,'DejaVu Sans Mono',consolas,'Courier New',monospace\">Saving model checkpoint to ../logs/Train_PPO_40kReqs_300_v4_001/training/best_model_4239992_steps.zip\n",
       "</pre>\n"
      ],
      "text/plain": [
       "Saving model checkpoint to ../logs/Train_PPO_40kReqs_300_v4_001/training/best_model_4239992_steps.zip\n"
      ]
     },
     "metadata": {},
     "output_type": "display_data"
    },
    {
     "data": {
      "text/html": [
       "<pre style=\"white-space:pre;overflow-x:auto;line-height:normal;font-family:Menlo,'DejaVu Sans Mono',consolas,'Courier New',monospace\">Eval num_timesteps=4240000, episode_reward=39007.60 +/- 116.53\n",
       "</pre>\n"
      ],
      "text/plain": [
       "Eval num_timesteps=4240000, episode_reward=39007.60 +/- 116.53\n"
      ]
     },
     "metadata": {},
     "output_type": "display_data"
    },
    {
     "data": {
      "text/html": [
       "<pre style=\"white-space:pre;overflow-x:auto;line-height:normal;font-family:Menlo,'DejaVu Sans Mono',consolas,'Courier New',monospace\">Episode length: 40000.00 +/- 0.00\n",
       "</pre>\n"
      ],
      "text/plain": [
       "Episode length: 40000.00 +/- 0.00\n"
      ]
     },
     "metadata": {},
     "output_type": "display_data"
    },
    {
     "data": {
      "text/html": [
       "<pre style=\"white-space:pre;overflow-x:auto;line-height:normal;font-family:Menlo,'DejaVu Sans Mono',consolas,'Courier New',monospace\">Saving model checkpoint to ../logs/Train_PPO_40kReqs_300_v4_001/training/best_model_4279992_steps.zip\n",
       "</pre>\n"
      ],
      "text/plain": [
       "Saving model checkpoint to ../logs/Train_PPO_40kReqs_300_v4_001/training/best_model_4279992_steps.zip\n"
      ]
     },
     "metadata": {},
     "output_type": "display_data"
    },
    {
     "data": {
      "text/html": [
       "<pre style=\"white-space:pre;overflow-x:auto;line-height:normal;font-family:Menlo,'DejaVu Sans Mono',consolas,'Courier New',monospace\">Eval num_timesteps=4280000, episode_reward=38847.60 +/- 75.99\n",
       "</pre>\n"
      ],
      "text/plain": [
       "Eval num_timesteps=4280000, episode_reward=38847.60 +/- 75.99\n"
      ]
     },
     "metadata": {},
     "output_type": "display_data"
    },
    {
     "data": {
      "text/html": [
       "<pre style=\"white-space:pre;overflow-x:auto;line-height:normal;font-family:Menlo,'DejaVu Sans Mono',consolas,'Courier New',monospace\">Episode length: 40000.00 +/- 0.00\n",
       "</pre>\n"
      ],
      "text/plain": [
       "Episode length: 40000.00 +/- 0.00\n"
      ]
     },
     "metadata": {},
     "output_type": "display_data"
    },
    {
     "data": {
      "text/html": [
       "<pre style=\"white-space:pre;overflow-x:auto;line-height:normal;font-family:Menlo,'DejaVu Sans Mono',consolas,'Courier New',monospace\">Saving model checkpoint to ../logs/Train_PPO_40kReqs_300_v4_001/training/best_model_4319992_steps.zip\n",
       "</pre>\n"
      ],
      "text/plain": [
       "Saving model checkpoint to ../logs/Train_PPO_40kReqs_300_v4_001/training/best_model_4319992_steps.zip\n"
      ]
     },
     "metadata": {},
     "output_type": "display_data"
    },
    {
     "data": {
      "text/html": [
       "<pre style=\"white-space:pre;overflow-x:auto;line-height:normal;font-family:Menlo,'DejaVu Sans Mono',consolas,'Courier New',monospace\">Eval num_timesteps=4320000, episode_reward=38940.00 +/- 45.76\n",
       "</pre>\n"
      ],
      "text/plain": [
       "Eval num_timesteps=4320000, episode_reward=38940.00 +/- 45.76\n"
      ]
     },
     "metadata": {},
     "output_type": "display_data"
    },
    {
     "data": {
      "text/html": [
       "<pre style=\"white-space:pre;overflow-x:auto;line-height:normal;font-family:Menlo,'DejaVu Sans Mono',consolas,'Courier New',monospace\">Episode length: 40000.00 +/- 0.00\n",
       "</pre>\n"
      ],
      "text/plain": [
       "Episode length: 40000.00 +/- 0.00\n"
      ]
     },
     "metadata": {},
     "output_type": "display_data"
    },
    {
     "data": {
      "text/html": [
       "<pre style=\"white-space:pre;overflow-x:auto;line-height:normal;font-family:Menlo,'DejaVu Sans Mono',consolas,'Courier New',monospace\">Saving model checkpoint to ../logs/Train_PPO_40kReqs_300_v4_001/training/best_model_4359992_steps.zip\n",
       "</pre>\n"
      ],
      "text/plain": [
       "Saving model checkpoint to ../logs/Train_PPO_40kReqs_300_v4_001/training/best_model_4359992_steps.zip\n"
      ]
     },
     "metadata": {},
     "output_type": "display_data"
    },
    {
     "data": {
      "text/html": [
       "<pre style=\"white-space:pre;overflow-x:auto;line-height:normal;font-family:Menlo,'DejaVu Sans Mono',consolas,'Courier New',monospace\">Eval num_timesteps=4360000, episode_reward=39036.80 +/- 80.20\n",
       "</pre>\n"
      ],
      "text/plain": [
       "Eval num_timesteps=4360000, episode_reward=39036.80 +/- 80.20\n"
      ]
     },
     "metadata": {},
     "output_type": "display_data"
    },
    {
     "data": {
      "text/html": [
       "<pre style=\"white-space:pre;overflow-x:auto;line-height:normal;font-family:Menlo,'DejaVu Sans Mono',consolas,'Courier New',monospace\">Episode length: 40000.00 +/- 0.00\n",
       "</pre>\n"
      ],
      "text/plain": [
       "Episode length: 40000.00 +/- 0.00\n"
      ]
     },
     "metadata": {},
     "output_type": "display_data"
    },
    {
     "data": {
      "text/html": [
       "<pre style=\"white-space:pre;overflow-x:auto;line-height:normal;font-family:Menlo,'DejaVu Sans Mono',consolas,'Courier New',monospace\">Saving model checkpoint to ../logs/Train_PPO_40kReqs_300_v4_001/training/best_model_4399992_steps.zip\n",
       "</pre>\n"
      ],
      "text/plain": [
       "Saving model checkpoint to ../logs/Train_PPO_40kReqs_300_v4_001/training/best_model_4399992_steps.zip\n"
      ]
     },
     "metadata": {},
     "output_type": "display_data"
    },
    {
     "data": {
      "text/html": [
       "<pre style=\"white-space:pre;overflow-x:auto;line-height:normal;font-family:Menlo,'DejaVu Sans Mono',consolas,'Courier New',monospace\">Eval num_timesteps=4400000, episode_reward=38891.60 +/- 102.02\n",
       "</pre>\n"
      ],
      "text/plain": [
       "Eval num_timesteps=4400000, episode_reward=38891.60 +/- 102.02\n"
      ]
     },
     "metadata": {},
     "output_type": "display_data"
    },
    {
     "data": {
      "text/html": [
       "<pre style=\"white-space:pre;overflow-x:auto;line-height:normal;font-family:Menlo,'DejaVu Sans Mono',consolas,'Courier New',monospace\">Episode length: 40000.00 +/- 0.00\n",
       "</pre>\n"
      ],
      "text/plain": [
       "Episode length: 40000.00 +/- 0.00\n"
      ]
     },
     "metadata": {},
     "output_type": "display_data"
    },
    {
     "data": {
      "text/html": [
       "<pre style=\"white-space:pre;overflow-x:auto;line-height:normal;font-family:Menlo,'DejaVu Sans Mono',consolas,'Courier New',monospace\">Saving model checkpoint to ../logs/Train_PPO_40kReqs_300_v4_001/training/best_model_4439992_steps.zip\n",
       "</pre>\n"
      ],
      "text/plain": [
       "Saving model checkpoint to ../logs/Train_PPO_40kReqs_300_v4_001/training/best_model_4439992_steps.zip\n"
      ]
     },
     "metadata": {},
     "output_type": "display_data"
    },
    {
     "data": {
      "text/html": [
       "<pre style=\"white-space:pre;overflow-x:auto;line-height:normal;font-family:Menlo,'DejaVu Sans Mono',consolas,'Courier New',monospace\">Eval num_timesteps=4440000, episode_reward=39027.60 +/- 160.65\n",
       "</pre>\n"
      ],
      "text/plain": [
       "Eval num_timesteps=4440000, episode_reward=39027.60 +/- 160.65\n"
      ]
     },
     "metadata": {},
     "output_type": "display_data"
    },
    {
     "data": {
      "text/html": [
       "<pre style=\"white-space:pre;overflow-x:auto;line-height:normal;font-family:Menlo,'DejaVu Sans Mono',consolas,'Courier New',monospace\">Episode length: 40000.00 +/- 0.00\n",
       "</pre>\n"
      ],
      "text/plain": [
       "Episode length: 40000.00 +/- 0.00\n"
      ]
     },
     "metadata": {},
     "output_type": "display_data"
    },
    {
     "data": {
      "text/html": [
       "<pre style=\"white-space:pre;overflow-x:auto;line-height:normal;font-family:Menlo,'DejaVu Sans Mono',consolas,'Courier New',monospace\">Saving model checkpoint to ../logs/Train_PPO_40kReqs_300_v4_001/training/best_model_4479992_steps.zip\n",
       "</pre>\n"
      ],
      "text/plain": [
       "Saving model checkpoint to ../logs/Train_PPO_40kReqs_300_v4_001/training/best_model_4479992_steps.zip\n"
      ]
     },
     "metadata": {},
     "output_type": "display_data"
    },
    {
     "data": {
      "text/html": [
       "<pre style=\"white-space:pre;overflow-x:auto;line-height:normal;font-family:Menlo,'DejaVu Sans Mono',consolas,'Courier New',monospace\">Eval num_timesteps=4480000, episode_reward=38890.80 +/- 134.85\n",
       "</pre>\n"
      ],
      "text/plain": [
       "Eval num_timesteps=4480000, episode_reward=38890.80 +/- 134.85\n"
      ]
     },
     "metadata": {},
     "output_type": "display_data"
    },
    {
     "data": {
      "text/html": [
       "<pre style=\"white-space:pre;overflow-x:auto;line-height:normal;font-family:Menlo,'DejaVu Sans Mono',consolas,'Courier New',monospace\">Episode length: 40000.00 +/- 0.00\n",
       "</pre>\n"
      ],
      "text/plain": [
       "Episode length: 40000.00 +/- 0.00\n"
      ]
     },
     "metadata": {},
     "output_type": "display_data"
    },
    {
     "data": {
      "text/html": [
       "<pre style=\"white-space:pre;overflow-x:auto;line-height:normal;font-family:Menlo,'DejaVu Sans Mono',consolas,'Courier New',monospace\">Saving model checkpoint to ../logs/Train_PPO_40kReqs_300_v4_001/training/best_model_4519992_steps.zip\n",
       "</pre>\n"
      ],
      "text/plain": [
       "Saving model checkpoint to ../logs/Train_PPO_40kReqs_300_v4_001/training/best_model_4519992_steps.zip\n"
      ]
     },
     "metadata": {},
     "output_type": "display_data"
    },
    {
     "data": {
      "text/html": [
       "<pre style=\"white-space:pre;overflow-x:auto;line-height:normal;font-family:Menlo,'DejaVu Sans Mono',consolas,'Courier New',monospace\">Eval num_timesteps=4520000, episode_reward=38821.60 +/- 46.84\n",
       "</pre>\n"
      ],
      "text/plain": [
       "Eval num_timesteps=4520000, episode_reward=38821.60 +/- 46.84\n"
      ]
     },
     "metadata": {},
     "output_type": "display_data"
    },
    {
     "data": {
      "text/html": [
       "<pre style=\"white-space:pre;overflow-x:auto;line-height:normal;font-family:Menlo,'DejaVu Sans Mono',consolas,'Courier New',monospace\">Episode length: 40000.00 +/- 0.00\n",
       "</pre>\n"
      ],
      "text/plain": [
       "Episode length: 40000.00 +/- 0.00\n"
      ]
     },
     "metadata": {},
     "output_type": "display_data"
    },
    {
     "data": {
      "text/html": [
       "<pre style=\"white-space:pre;overflow-x:auto;line-height:normal;font-family:Menlo,'DejaVu Sans Mono',consolas,'Courier New',monospace\">Saving model checkpoint to ../logs/Train_PPO_40kReqs_300_v4_001/training/best_model_4559992_steps.zip\n",
       "</pre>\n"
      ],
      "text/plain": [
       "Saving model checkpoint to ../logs/Train_PPO_40kReqs_300_v4_001/training/best_model_4559992_steps.zip\n"
      ]
     },
     "metadata": {},
     "output_type": "display_data"
    },
    {
     "data": {
      "text/html": [
       "<pre style=\"white-space:pre;overflow-x:auto;line-height:normal;font-family:Menlo,'DejaVu Sans Mono',consolas,'Courier New',monospace\">Eval num_timesteps=4560000, episode_reward=38897.60 +/- 40.56\n",
       "</pre>\n"
      ],
      "text/plain": [
       "Eval num_timesteps=4560000, episode_reward=38897.60 +/- 40.56\n"
      ]
     },
     "metadata": {},
     "output_type": "display_data"
    },
    {
     "data": {
      "text/html": [
       "<pre style=\"white-space:pre;overflow-x:auto;line-height:normal;font-family:Menlo,'DejaVu Sans Mono',consolas,'Courier New',monospace\">Episode length: 40000.00 +/- 0.00\n",
       "</pre>\n"
      ],
      "text/plain": [
       "Episode length: 40000.00 +/- 0.00\n"
      ]
     },
     "metadata": {},
     "output_type": "display_data"
    },
    {
     "data": {
      "text/html": [
       "<pre style=\"white-space:pre;overflow-x:auto;line-height:normal;font-family:Menlo,'DejaVu Sans Mono',consolas,'Courier New',monospace\">Saving model checkpoint to ../logs/Train_PPO_40kReqs_300_v4_001/training/best_model_4599992_steps.zip\n",
       "</pre>\n"
      ],
      "text/plain": [
       "Saving model checkpoint to ../logs/Train_PPO_40kReqs_300_v4_001/training/best_model_4599992_steps.zip\n"
      ]
     },
     "metadata": {},
     "output_type": "display_data"
    },
    {
     "data": {
      "text/html": [
       "<pre style=\"white-space:pre;overflow-x:auto;line-height:normal;font-family:Menlo,'DejaVu Sans Mono',consolas,'Courier New',monospace\">Eval num_timesteps=4600000, episode_reward=38990.00 +/- 79.69\n",
       "</pre>\n"
      ],
      "text/plain": [
       "Eval num_timesteps=4600000, episode_reward=38990.00 +/- 79.69\n"
      ]
     },
     "metadata": {},
     "output_type": "display_data"
    },
    {
     "data": {
      "text/html": [
       "<pre style=\"white-space:pre;overflow-x:auto;line-height:normal;font-family:Menlo,'DejaVu Sans Mono',consolas,'Courier New',monospace\">Episode length: 40000.00 +/- 0.00\n",
       "</pre>\n"
      ],
      "text/plain": [
       "Episode length: 40000.00 +/- 0.00\n"
      ]
     },
     "metadata": {},
     "output_type": "display_data"
    },
    {
     "data": {
      "text/html": [
       "<pre style=\"white-space:pre;overflow-x:auto;line-height:normal;font-family:Menlo,'DejaVu Sans Mono',consolas,'Courier New',monospace\">Saving model checkpoint to ../logs/Train_PPO_40kReqs_300_v4_001/training/best_model_4639992_steps.zip\n",
       "</pre>\n"
      ],
      "text/plain": [
       "Saving model checkpoint to ../logs/Train_PPO_40kReqs_300_v4_001/training/best_model_4639992_steps.zip\n"
      ]
     },
     "metadata": {},
     "output_type": "display_data"
    },
    {
     "data": {
      "text/html": [
       "<pre style=\"white-space:pre;overflow-x:auto;line-height:normal;font-family:Menlo,'DejaVu Sans Mono',consolas,'Courier New',monospace\">Eval num_timesteps=4640000, episode_reward=38914.00 +/- 118.38\n",
       "</pre>\n"
      ],
      "text/plain": [
       "Eval num_timesteps=4640000, episode_reward=38914.00 +/- 118.38\n"
      ]
     },
     "metadata": {},
     "output_type": "display_data"
    },
    {
     "data": {
      "text/html": [
       "<pre style=\"white-space:pre;overflow-x:auto;line-height:normal;font-family:Menlo,'DejaVu Sans Mono',consolas,'Courier New',monospace\">Episode length: 40000.00 +/- 0.00\n",
       "</pre>\n"
      ],
      "text/plain": [
       "Episode length: 40000.00 +/- 0.00\n"
      ]
     },
     "metadata": {},
     "output_type": "display_data"
    },
    {
     "data": {
      "text/html": [
       "<pre style=\"white-space:pre;overflow-x:auto;line-height:normal;font-family:Menlo,'DejaVu Sans Mono',consolas,'Courier New',monospace\">Saving model checkpoint to ../logs/Train_PPO_40kReqs_300_v4_001/training/best_model_4679992_steps.zip\n",
       "</pre>\n"
      ],
      "text/plain": [
       "Saving model checkpoint to ../logs/Train_PPO_40kReqs_300_v4_001/training/best_model_4679992_steps.zip\n"
      ]
     },
     "metadata": {},
     "output_type": "display_data"
    },
    {
     "data": {
      "text/html": [
       "<pre style=\"white-space:pre;overflow-x:auto;line-height:normal;font-family:Menlo,'DejaVu Sans Mono',consolas,'Courier New',monospace\">Eval num_timesteps=4680000, episode_reward=38968.80 +/- 65.75\n",
       "</pre>\n"
      ],
      "text/plain": [
       "Eval num_timesteps=4680000, episode_reward=38968.80 +/- 65.75\n"
      ]
     },
     "metadata": {},
     "output_type": "display_data"
    },
    {
     "data": {
      "text/html": [
       "<pre style=\"white-space:pre;overflow-x:auto;line-height:normal;font-family:Menlo,'DejaVu Sans Mono',consolas,'Courier New',monospace\">Episode length: 40000.00 +/- 0.00\n",
       "</pre>\n"
      ],
      "text/plain": [
       "Episode length: 40000.00 +/- 0.00\n"
      ]
     },
     "metadata": {},
     "output_type": "display_data"
    },
    {
     "data": {
      "text/html": [
       "<pre style=\"white-space:pre;overflow-x:auto;line-height:normal;font-family:Menlo,'DejaVu Sans Mono',consolas,'Courier New',monospace\">Saving model checkpoint to ../logs/Train_PPO_40kReqs_300_v4_001/training/best_model_4719992_steps.zip\n",
       "</pre>\n"
      ],
      "text/plain": [
       "Saving model checkpoint to ../logs/Train_PPO_40kReqs_300_v4_001/training/best_model_4719992_steps.zip\n"
      ]
     },
     "metadata": {},
     "output_type": "display_data"
    },
    {
     "data": {
      "text/html": [
       "<pre style=\"white-space:pre;overflow-x:auto;line-height:normal;font-family:Menlo,'DejaVu Sans Mono',consolas,'Courier New',monospace\">Eval num_timesteps=4720000, episode_reward=39000.40 +/- 98.95\n",
       "</pre>\n"
      ],
      "text/plain": [
       "Eval num_timesteps=4720000, episode_reward=39000.40 +/- 98.95\n"
      ]
     },
     "metadata": {},
     "output_type": "display_data"
    },
    {
     "data": {
      "text/html": [
       "<pre style=\"white-space:pre;overflow-x:auto;line-height:normal;font-family:Menlo,'DejaVu Sans Mono',consolas,'Courier New',monospace\">Episode length: 40000.00 +/- 0.00\n",
       "</pre>\n"
      ],
      "text/plain": [
       "Episode length: 40000.00 +/- 0.00\n"
      ]
     },
     "metadata": {},
     "output_type": "display_data"
    },
    {
     "data": {
      "text/html": [
       "<pre style=\"white-space:pre;overflow-x:auto;line-height:normal;font-family:Menlo,'DejaVu Sans Mono',consolas,'Courier New',monospace\">Saving model checkpoint to ../logs/Train_PPO_40kReqs_300_v4_001/training/best_model_4759992_steps.zip\n",
       "</pre>\n"
      ],
      "text/plain": [
       "Saving model checkpoint to ../logs/Train_PPO_40kReqs_300_v4_001/training/best_model_4759992_steps.zip\n"
      ]
     },
     "metadata": {},
     "output_type": "display_data"
    },
    {
     "data": {
      "text/html": [
       "<pre style=\"white-space:pre;overflow-x:auto;line-height:normal;font-family:Menlo,'DejaVu Sans Mono',consolas,'Courier New',monospace\">Eval num_timesteps=4760000, episode_reward=39070.40 +/- 80.77\n",
       "</pre>\n"
      ],
      "text/plain": [
       "Eval num_timesteps=4760000, episode_reward=39070.40 +/- 80.77\n"
      ]
     },
     "metadata": {},
     "output_type": "display_data"
    },
    {
     "data": {
      "text/html": [
       "<pre style=\"white-space:pre;overflow-x:auto;line-height:normal;font-family:Menlo,'DejaVu Sans Mono',consolas,'Courier New',monospace\">Episode length: 40000.00 +/- 0.00\n",
       "</pre>\n"
      ],
      "text/plain": [
       "Episode length: 40000.00 +/- 0.00\n"
      ]
     },
     "metadata": {},
     "output_type": "display_data"
    },
    {
     "data": {
      "text/html": [
       "<pre style=\"white-space:pre;overflow-x:auto;line-height:normal;font-family:Menlo,'DejaVu Sans Mono',consolas,'Courier New',monospace\">Saving model checkpoint to ../logs/Train_PPO_40kReqs_300_v4_001/training/best_model_4799992_steps.zip\n",
       "</pre>\n"
      ],
      "text/plain": [
       "Saving model checkpoint to ../logs/Train_PPO_40kReqs_300_v4_001/training/best_model_4799992_steps.zip\n"
      ]
     },
     "metadata": {},
     "output_type": "display_data"
    },
    {
     "data": {
      "text/html": [
       "<pre style=\"white-space:pre;overflow-x:auto;line-height:normal;font-family:Menlo,'DejaVu Sans Mono',consolas,'Courier New',monospace\">Eval num_timesteps=4800000, episode_reward=38952.80 +/- 49.42\n",
       "</pre>\n"
      ],
      "text/plain": [
       "Eval num_timesteps=4800000, episode_reward=38952.80 +/- 49.42\n"
      ]
     },
     "metadata": {},
     "output_type": "display_data"
    },
    {
     "data": {
      "text/html": [
       "<pre style=\"white-space:pre;overflow-x:auto;line-height:normal;font-family:Menlo,'DejaVu Sans Mono',consolas,'Courier New',monospace\">Episode length: 40000.00 +/- 0.00\n",
       "</pre>\n"
      ],
      "text/plain": [
       "Episode length: 40000.00 +/- 0.00\n"
      ]
     },
     "metadata": {},
     "output_type": "display_data"
    },
    {
     "data": {
      "text/html": [
       "<pre style=\"white-space:pre;overflow-x:auto;line-height:normal;font-family:Menlo,'DejaVu Sans Mono',consolas,'Courier New',monospace\">Saving model checkpoint to ../logs/Train_PPO_40kReqs_300_v4_001/training/best_model_4839992_steps.zip\n",
       "</pre>\n"
      ],
      "text/plain": [
       "Saving model checkpoint to ../logs/Train_PPO_40kReqs_300_v4_001/training/best_model_4839992_steps.zip\n"
      ]
     },
     "metadata": {},
     "output_type": "display_data"
    },
    {
     "data": {
      "text/html": [
       "<pre style=\"white-space:pre;overflow-x:auto;line-height:normal;font-family:Menlo,'DejaVu Sans Mono',consolas,'Courier New',monospace\">Eval num_timesteps=4840000, episode_reward=39025.60 +/- 48.27\n",
       "</pre>\n"
      ],
      "text/plain": [
       "Eval num_timesteps=4840000, episode_reward=39025.60 +/- 48.27\n"
      ]
     },
     "metadata": {},
     "output_type": "display_data"
    },
    {
     "data": {
      "text/html": [
       "<pre style=\"white-space:pre;overflow-x:auto;line-height:normal;font-family:Menlo,'DejaVu Sans Mono',consolas,'Courier New',monospace\">Episode length: 40000.00 +/- 0.00\n",
       "</pre>\n"
      ],
      "text/plain": [
       "Episode length: 40000.00 +/- 0.00\n"
      ]
     },
     "metadata": {},
     "output_type": "display_data"
    },
    {
     "data": {
      "text/html": [
       "<pre style=\"white-space:pre;overflow-x:auto;line-height:normal;font-family:Menlo,'DejaVu Sans Mono',consolas,'Courier New',monospace\">Saving model checkpoint to ../logs/Train_PPO_40kReqs_300_v4_001/training/best_model_4879992_steps.zip\n",
       "</pre>\n"
      ],
      "text/plain": [
       "Saving model checkpoint to ../logs/Train_PPO_40kReqs_300_v4_001/training/best_model_4879992_steps.zip\n"
      ]
     },
     "metadata": {},
     "output_type": "display_data"
    },
    {
     "data": {
      "text/html": [
       "<pre style=\"white-space:pre;overflow-x:auto;line-height:normal;font-family:Menlo,'DejaVu Sans Mono',consolas,'Courier New',monospace\">Eval num_timesteps=4880000, episode_reward=38761.60 +/- 66.89\n",
       "</pre>\n"
      ],
      "text/plain": [
       "Eval num_timesteps=4880000, episode_reward=38761.60 +/- 66.89\n"
      ]
     },
     "metadata": {},
     "output_type": "display_data"
    },
    {
     "data": {
      "text/html": [
       "<pre style=\"white-space:pre;overflow-x:auto;line-height:normal;font-family:Menlo,'DejaVu Sans Mono',consolas,'Courier New',monospace\">Episode length: 40000.00 +/- 0.00\n",
       "</pre>\n"
      ],
      "text/plain": [
       "Episode length: 40000.00 +/- 0.00\n"
      ]
     },
     "metadata": {},
     "output_type": "display_data"
    },
    {
     "data": {
      "text/html": [
       "<pre style=\"white-space:pre;overflow-x:auto;line-height:normal;font-family:Menlo,'DejaVu Sans Mono',consolas,'Courier New',monospace\">Saving model checkpoint to ../logs/Train_PPO_40kReqs_300_v4_001/training/best_model_4919992_steps.zip\n",
       "</pre>\n"
      ],
      "text/plain": [
       "Saving model checkpoint to ../logs/Train_PPO_40kReqs_300_v4_001/training/best_model_4919992_steps.zip\n"
      ]
     },
     "metadata": {},
     "output_type": "display_data"
    },
    {
     "data": {
      "text/html": [
       "<pre style=\"white-space:pre;overflow-x:auto;line-height:normal;font-family:Menlo,'DejaVu Sans Mono',consolas,'Courier New',monospace\">Eval num_timesteps=4920000, episode_reward=38902.00 +/- 118.85\n",
       "</pre>\n"
      ],
      "text/plain": [
       "Eval num_timesteps=4920000, episode_reward=38902.00 +/- 118.85\n"
      ]
     },
     "metadata": {},
     "output_type": "display_data"
    },
    {
     "data": {
      "text/html": [
       "<pre style=\"white-space:pre;overflow-x:auto;line-height:normal;font-family:Menlo,'DejaVu Sans Mono',consolas,'Courier New',monospace\">Episode length: 40000.00 +/- 0.00\n",
       "</pre>\n"
      ],
      "text/plain": [
       "Episode length: 40000.00 +/- 0.00\n"
      ]
     },
     "metadata": {},
     "output_type": "display_data"
    },
    {
     "data": {
      "text/html": [
       "<pre style=\"white-space:pre;overflow-x:auto;line-height:normal;font-family:Menlo,'DejaVu Sans Mono',consolas,'Courier New',monospace\">Saving model checkpoint to ../logs/Train_PPO_40kReqs_300_v4_001/training/best_model_4959992_steps.zip\n",
       "</pre>\n"
      ],
      "text/plain": [
       "Saving model checkpoint to ../logs/Train_PPO_40kReqs_300_v4_001/training/best_model_4959992_steps.zip\n"
      ]
     },
     "metadata": {},
     "output_type": "display_data"
    },
    {
     "data": {
      "text/html": [
       "<pre style=\"white-space:pre;overflow-x:auto;line-height:normal;font-family:Menlo,'DejaVu Sans Mono',consolas,'Courier New',monospace\">Eval num_timesteps=4960000, episode_reward=38802.40 +/- 118.66\n",
       "</pre>\n"
      ],
      "text/plain": [
       "Eval num_timesteps=4960000, episode_reward=38802.40 +/- 118.66\n"
      ]
     },
     "metadata": {},
     "output_type": "display_data"
    },
    {
     "data": {
      "text/html": [
       "<pre style=\"white-space:pre;overflow-x:auto;line-height:normal;font-family:Menlo,'DejaVu Sans Mono',consolas,'Courier New',monospace\">Episode length: 40000.00 +/- 0.00\n",
       "</pre>\n"
      ],
      "text/plain": [
       "Episode length: 40000.00 +/- 0.00\n"
      ]
     },
     "metadata": {},
     "output_type": "display_data"
    },
    {
     "data": {
      "text/html": [
       "<pre style=\"white-space:pre;overflow-x:auto;line-height:normal;font-family:Menlo,'DejaVu Sans Mono',consolas,'Courier New',monospace\">Saving model checkpoint to ../logs/Train_PPO_40kReqs_300_v4_001/training/best_model_4999992_steps.zip\n",
       "</pre>\n"
      ],
      "text/plain": [
       "Saving model checkpoint to ../logs/Train_PPO_40kReqs_300_v4_001/training/best_model_4999992_steps.zip\n"
      ]
     },
     "metadata": {},
     "output_type": "display_data"
    },
    {
     "data": {
      "text/html": [
       "<pre style=\"white-space:pre;overflow-x:auto;line-height:normal;font-family:Menlo,'DejaVu Sans Mono',consolas,'Courier New',monospace\">Eval num_timesteps=5000000, episode_reward=38995.60 +/- 67.03\n",
       "</pre>\n"
      ],
      "text/plain": [
       "Eval num_timesteps=5000000, episode_reward=38995.60 +/- 67.03\n"
      ]
     },
     "metadata": {},
     "output_type": "display_data"
    },
    {
     "data": {
      "text/html": [
       "<pre style=\"white-space:pre;overflow-x:auto;line-height:normal;font-family:Menlo,'DejaVu Sans Mono',consolas,'Courier New',monospace\">Episode length: 40000.00 +/- 0.00\n",
       "</pre>\n"
      ],
      "text/plain": [
       "Episode length: 40000.00 +/- 0.00\n"
      ]
     },
     "metadata": {},
     "output_type": "display_data"
    },
    {
     "data": {
      "text/html": [
       "<pre style=\"white-space:pre;overflow-x:auto;line-height:normal;font-family:Menlo,'DejaVu Sans Mono',consolas,'Courier New',monospace\">Saving model checkpoint to ../logs/Train_PPO_40kReqs_300_v4_001/training/best_model_5039992_steps.zip\n",
       "</pre>\n"
      ],
      "text/plain": [
       "Saving model checkpoint to ../logs/Train_PPO_40kReqs_300_v4_001/training/best_model_5039992_steps.zip\n"
      ]
     },
     "metadata": {},
     "output_type": "display_data"
    },
    {
     "data": {
      "text/html": [
       "<pre style=\"white-space:pre;overflow-x:auto;line-height:normal;font-family:Menlo,'DejaVu Sans Mono',consolas,'Courier New',monospace\">Eval num_timesteps=5040000, episode_reward=38950.00 +/- 159.45\n",
       "</pre>\n"
      ],
      "text/plain": [
       "Eval num_timesteps=5040000, episode_reward=38950.00 +/- 159.45\n"
      ]
     },
     "metadata": {},
     "output_type": "display_data"
    },
    {
     "data": {
      "text/html": [
       "<pre style=\"white-space:pre;overflow-x:auto;line-height:normal;font-family:Menlo,'DejaVu Sans Mono',consolas,'Courier New',monospace\">Episode length: 40000.00 +/- 0.00\n",
       "</pre>\n"
      ],
      "text/plain": [
       "Episode length: 40000.00 +/- 0.00\n"
      ]
     },
     "metadata": {},
     "output_type": "display_data"
    },
    {
     "data": {
      "text/html": [
       "<pre style=\"white-space:pre;overflow-x:auto;line-height:normal;font-family:Menlo,'DejaVu Sans Mono',consolas,'Courier New',monospace\">Saving model checkpoint to ../logs/Train_PPO_40kReqs_300_v4_001/training/best_model_5079992_steps.zip\n",
       "</pre>\n"
      ],
      "text/plain": [
       "Saving model checkpoint to ../logs/Train_PPO_40kReqs_300_v4_001/training/best_model_5079992_steps.zip\n"
      ]
     },
     "metadata": {},
     "output_type": "display_data"
    },
    {
     "data": {
      "text/html": [
       "<pre style=\"white-space:pre;overflow-x:auto;line-height:normal;font-family:Menlo,'DejaVu Sans Mono',consolas,'Courier New',monospace\">Eval num_timesteps=5080000, episode_reward=39016.40 +/- 104.32\n",
       "</pre>\n"
      ],
      "text/plain": [
       "Eval num_timesteps=5080000, episode_reward=39016.40 +/- 104.32\n"
      ]
     },
     "metadata": {},
     "output_type": "display_data"
    },
    {
     "data": {
      "text/html": [
       "<pre style=\"white-space:pre;overflow-x:auto;line-height:normal;font-family:Menlo,'DejaVu Sans Mono',consolas,'Courier New',monospace\">Episode length: 40000.00 +/- 0.00\n",
       "</pre>\n"
      ],
      "text/plain": [
       "Episode length: 40000.00 +/- 0.00\n"
      ]
     },
     "metadata": {},
     "output_type": "display_data"
    },
    {
     "data": {
      "text/html": [
       "<pre style=\"white-space:pre;overflow-x:auto;line-height:normal;font-family:Menlo,'DejaVu Sans Mono',consolas,'Courier New',monospace\">Saving model checkpoint to ../logs/Train_PPO_40kReqs_300_v4_001/training/best_model_5119992_steps.zip\n",
       "</pre>\n"
      ],
      "text/plain": [
       "Saving model checkpoint to ../logs/Train_PPO_40kReqs_300_v4_001/training/best_model_5119992_steps.zip\n"
      ]
     },
     "metadata": {},
     "output_type": "display_data"
    },
    {
     "data": {
      "text/html": [
       "<pre style=\"white-space:pre;overflow-x:auto;line-height:normal;font-family:Menlo,'DejaVu Sans Mono',consolas,'Courier New',monospace\">Eval num_timesteps=5120000, episode_reward=39000.80 +/- 66.03\n",
       "</pre>\n"
      ],
      "text/plain": [
       "Eval num_timesteps=5120000, episode_reward=39000.80 +/- 66.03\n"
      ]
     },
     "metadata": {},
     "output_type": "display_data"
    },
    {
     "data": {
      "text/html": [
       "<pre style=\"white-space:pre;overflow-x:auto;line-height:normal;font-family:Menlo,'DejaVu Sans Mono',consolas,'Courier New',monospace\">Episode length: 40000.00 +/- 0.00\n",
       "</pre>\n"
      ],
      "text/plain": [
       "Episode length: 40000.00 +/- 0.00\n"
      ]
     },
     "metadata": {},
     "output_type": "display_data"
    },
    {
     "data": {
      "text/html": [
       "<pre style=\"white-space:pre;overflow-x:auto;line-height:normal;font-family:Menlo,'DejaVu Sans Mono',consolas,'Courier New',monospace\">Saving model checkpoint to ../logs/Train_PPO_40kReqs_300_v4_001/training/best_model_5159992_steps.zip\n",
       "</pre>\n"
      ],
      "text/plain": [
       "Saving model checkpoint to ../logs/Train_PPO_40kReqs_300_v4_001/training/best_model_5159992_steps.zip\n"
      ]
     },
     "metadata": {},
     "output_type": "display_data"
    },
    {
     "data": {
      "text/html": [
       "<pre style=\"white-space:pre;overflow-x:auto;line-height:normal;font-family:Menlo,'DejaVu Sans Mono',consolas,'Courier New',monospace\">Eval num_timesteps=5160000, episode_reward=38940.80 +/- 77.79\n",
       "</pre>\n"
      ],
      "text/plain": [
       "Eval num_timesteps=5160000, episode_reward=38940.80 +/- 77.79\n"
      ]
     },
     "metadata": {},
     "output_type": "display_data"
    },
    {
     "data": {
      "text/html": [
       "<pre style=\"white-space:pre;overflow-x:auto;line-height:normal;font-family:Menlo,'DejaVu Sans Mono',consolas,'Courier New',monospace\">Episode length: 40000.00 +/- 0.00\n",
       "</pre>\n"
      ],
      "text/plain": [
       "Episode length: 40000.00 +/- 0.00\n"
      ]
     },
     "metadata": {},
     "output_type": "display_data"
    },
    {
     "data": {
      "text/html": [
       "<pre style=\"white-space:pre;overflow-x:auto;line-height:normal;font-family:Menlo,'DejaVu Sans Mono',consolas,'Courier New',monospace\">Saving model checkpoint to ../logs/Train_PPO_40kReqs_300_v4_001/training/best_model_5199992_steps.zip\n",
       "</pre>\n"
      ],
      "text/plain": [
       "Saving model checkpoint to ../logs/Train_PPO_40kReqs_300_v4_001/training/best_model_5199992_steps.zip\n"
      ]
     },
     "metadata": {},
     "output_type": "display_data"
    },
    {
     "data": {
      "text/html": [
       "<pre style=\"white-space:pre;overflow-x:auto;line-height:normal;font-family:Menlo,'DejaVu Sans Mono',consolas,'Courier New',monospace\">Eval num_timesteps=5200000, episode_reward=38879.20 +/- 101.26\n",
       "</pre>\n"
      ],
      "text/plain": [
       "Eval num_timesteps=5200000, episode_reward=38879.20 +/- 101.26\n"
      ]
     },
     "metadata": {},
     "output_type": "display_data"
    },
    {
     "data": {
      "text/html": [
       "<pre style=\"white-space:pre;overflow-x:auto;line-height:normal;font-family:Menlo,'DejaVu Sans Mono',consolas,'Courier New',monospace\">Episode length: 40000.00 +/- 0.00\n",
       "</pre>\n"
      ],
      "text/plain": [
       "Episode length: 40000.00 +/- 0.00\n"
      ]
     },
     "metadata": {},
     "output_type": "display_data"
    },
    {
     "data": {
      "text/html": [
       "<pre style=\"white-space:pre;overflow-x:auto;line-height:normal;font-family:Menlo,'DejaVu Sans Mono',consolas,'Courier New',monospace\">Saving model checkpoint to ../logs/Train_PPO_40kReqs_300_v4_001/training/best_model_5239992_steps.zip\n",
       "</pre>\n"
      ],
      "text/plain": [
       "Saving model checkpoint to ../logs/Train_PPO_40kReqs_300_v4_001/training/best_model_5239992_steps.zip\n"
      ]
     },
     "metadata": {},
     "output_type": "display_data"
    },
    {
     "data": {
      "text/html": [
       "<pre style=\"white-space:pre;overflow-x:auto;line-height:normal;font-family:Menlo,'DejaVu Sans Mono',consolas,'Courier New',monospace\">Eval num_timesteps=5240000, episode_reward=38973.20 +/- 113.35\n",
       "</pre>\n"
      ],
      "text/plain": [
       "Eval num_timesteps=5240000, episode_reward=38973.20 +/- 113.35\n"
      ]
     },
     "metadata": {},
     "output_type": "display_data"
    },
    {
     "data": {
      "text/html": [
       "<pre style=\"white-space:pre;overflow-x:auto;line-height:normal;font-family:Menlo,'DejaVu Sans Mono',consolas,'Courier New',monospace\">Episode length: 40000.00 +/- 0.00\n",
       "</pre>\n"
      ],
      "text/plain": [
       "Episode length: 40000.00 +/- 0.00\n"
      ]
     },
     "metadata": {},
     "output_type": "display_data"
    },
    {
     "data": {
      "text/html": [
       "<pre style=\"white-space:pre;overflow-x:auto;line-height:normal;font-family:Menlo,'DejaVu Sans Mono',consolas,'Courier New',monospace\">Saving model checkpoint to ../logs/Train_PPO_40kReqs_300_v4_001/training/best_model_5279992_steps.zip\n",
       "</pre>\n"
      ],
      "text/plain": [
       "Saving model checkpoint to ../logs/Train_PPO_40kReqs_300_v4_001/training/best_model_5279992_steps.zip\n"
      ]
     },
     "metadata": {},
     "output_type": "display_data"
    },
    {
     "data": {
      "text/html": [
       "<pre style=\"white-space:pre;overflow-x:auto;line-height:normal;font-family:Menlo,'DejaVu Sans Mono',consolas,'Courier New',monospace\">Eval num_timesteps=5280000, episode_reward=39019.20 +/- 77.78\n",
       "</pre>\n"
      ],
      "text/plain": [
       "Eval num_timesteps=5280000, episode_reward=39019.20 +/- 77.78\n"
      ]
     },
     "metadata": {},
     "output_type": "display_data"
    },
    {
     "data": {
      "text/html": [
       "<pre style=\"white-space:pre;overflow-x:auto;line-height:normal;font-family:Menlo,'DejaVu Sans Mono',consolas,'Courier New',monospace\">Episode length: 40000.00 +/- 0.00\n",
       "</pre>\n"
      ],
      "text/plain": [
       "Episode length: 40000.00 +/- 0.00\n"
      ]
     },
     "metadata": {},
     "output_type": "display_data"
    },
    {
     "data": {
      "text/html": [
       "<pre style=\"white-space:pre;overflow-x:auto;line-height:normal;font-family:Menlo,'DejaVu Sans Mono',consolas,'Courier New',monospace\">Saving model checkpoint to ../logs/Train_PPO_40kReqs_300_v4_001/training/best_model_5319992_steps.zip\n",
       "</pre>\n"
      ],
      "text/plain": [
       "Saving model checkpoint to ../logs/Train_PPO_40kReqs_300_v4_001/training/best_model_5319992_steps.zip\n"
      ]
     },
     "metadata": {},
     "output_type": "display_data"
    },
    {
     "data": {
      "text/html": [
       "<pre style=\"white-space:pre;overflow-x:auto;line-height:normal;font-family:Menlo,'DejaVu Sans Mono',consolas,'Courier New',monospace\">Eval num_timesteps=5320000, episode_reward=39091.60 +/- 103.38\n",
       "</pre>\n"
      ],
      "text/plain": [
       "Eval num_timesteps=5320000, episode_reward=39091.60 +/- 103.38\n"
      ]
     },
     "metadata": {},
     "output_type": "display_data"
    },
    {
     "data": {
      "text/html": [
       "<pre style=\"white-space:pre;overflow-x:auto;line-height:normal;font-family:Menlo,'DejaVu Sans Mono',consolas,'Courier New',monospace\">Episode length: 40000.00 +/- 0.00\n",
       "</pre>\n"
      ],
      "text/plain": [
       "Episode length: 40000.00 +/- 0.00\n"
      ]
     },
     "metadata": {},
     "output_type": "display_data"
    },
    {
     "data": {
      "text/html": [
       "<pre style=\"white-space:pre;overflow-x:auto;line-height:normal;font-family:Menlo,'DejaVu Sans Mono',consolas,'Courier New',monospace\">Saving model checkpoint to ../logs/Train_PPO_40kReqs_300_v4_001/training/best_model_5359992_steps.zip\n",
       "</pre>\n"
      ],
      "text/plain": [
       "Saving model checkpoint to ../logs/Train_PPO_40kReqs_300_v4_001/training/best_model_5359992_steps.zip\n"
      ]
     },
     "metadata": {},
     "output_type": "display_data"
    },
    {
     "data": {
      "text/html": [
       "<pre style=\"white-space:pre;overflow-x:auto;line-height:normal;font-family:Menlo,'DejaVu Sans Mono',consolas,'Courier New',monospace\">Eval num_timesteps=5360000, episode_reward=39008.80 +/- 87.04\n",
       "</pre>\n"
      ],
      "text/plain": [
       "Eval num_timesteps=5360000, episode_reward=39008.80 +/- 87.04\n"
      ]
     },
     "metadata": {},
     "output_type": "display_data"
    },
    {
     "data": {
      "text/html": [
       "<pre style=\"white-space:pre;overflow-x:auto;line-height:normal;font-family:Menlo,'DejaVu Sans Mono',consolas,'Courier New',monospace\">Episode length: 40000.00 +/- 0.00\n",
       "</pre>\n"
      ],
      "text/plain": [
       "Episode length: 40000.00 +/- 0.00\n"
      ]
     },
     "metadata": {},
     "output_type": "display_data"
    },
    {
     "data": {
      "text/html": [
       "<pre style=\"white-space:pre;overflow-x:auto;line-height:normal;font-family:Menlo,'DejaVu Sans Mono',consolas,'Courier New',monospace\">Saving model checkpoint to ../logs/Train_PPO_40kReqs_300_v4_001/training/best_model_5399992_steps.zip\n",
       "</pre>\n"
      ],
      "text/plain": [
       "Saving model checkpoint to ../logs/Train_PPO_40kReqs_300_v4_001/training/best_model_5399992_steps.zip\n"
      ]
     },
     "metadata": {},
     "output_type": "display_data"
    },
    {
     "data": {
      "text/html": [
       "<pre style=\"white-space:pre;overflow-x:auto;line-height:normal;font-family:Menlo,'DejaVu Sans Mono',consolas,'Courier New',monospace\">Eval num_timesteps=5400000, episode_reward=39078.40 +/- 114.66\n",
       "</pre>\n"
      ],
      "text/plain": [
       "Eval num_timesteps=5400000, episode_reward=39078.40 +/- 114.66\n"
      ]
     },
     "metadata": {},
     "output_type": "display_data"
    },
    {
     "data": {
      "text/html": [
       "<pre style=\"white-space:pre;overflow-x:auto;line-height:normal;font-family:Menlo,'DejaVu Sans Mono',consolas,'Courier New',monospace\">Episode length: 40000.00 +/- 0.00\n",
       "</pre>\n"
      ],
      "text/plain": [
       "Episode length: 40000.00 +/- 0.00\n"
      ]
     },
     "metadata": {},
     "output_type": "display_data"
    },
    {
     "data": {
      "text/html": [
       "<pre style=\"white-space:pre;overflow-x:auto;line-height:normal;font-family:Menlo,'DejaVu Sans Mono',consolas,'Courier New',monospace\">Saving model checkpoint to ../logs/Train_PPO_40kReqs_300_v4_001/training/best_model_5439992_steps.zip\n",
       "</pre>\n"
      ],
      "text/plain": [
       "Saving model checkpoint to ../logs/Train_PPO_40kReqs_300_v4_001/training/best_model_5439992_steps.zip\n"
      ]
     },
     "metadata": {},
     "output_type": "display_data"
    },
    {
     "data": {
      "text/html": [
       "<pre style=\"white-space:pre;overflow-x:auto;line-height:normal;font-family:Menlo,'DejaVu Sans Mono',consolas,'Courier New',monospace\">Eval num_timesteps=5440000, episode_reward=39057.60 +/- 118.16\n",
       "</pre>\n"
      ],
      "text/plain": [
       "Eval num_timesteps=5440000, episode_reward=39057.60 +/- 118.16\n"
      ]
     },
     "metadata": {},
     "output_type": "display_data"
    },
    {
     "data": {
      "text/html": [
       "<pre style=\"white-space:pre;overflow-x:auto;line-height:normal;font-family:Menlo,'DejaVu Sans Mono',consolas,'Courier New',monospace\">Episode length: 40000.00 +/- 0.00\n",
       "</pre>\n"
      ],
      "text/plain": [
       "Episode length: 40000.00 +/- 0.00\n"
      ]
     },
     "metadata": {},
     "output_type": "display_data"
    },
    {
     "data": {
      "text/html": [
       "<pre style=\"white-space:pre;overflow-x:auto;line-height:normal;font-family:Menlo,'DejaVu Sans Mono',consolas,'Courier New',monospace\">Saving model checkpoint to ../logs/Train_PPO_40kReqs_300_v4_001/training/best_model_5479992_steps.zip\n",
       "</pre>\n"
      ],
      "text/plain": [
       "Saving model checkpoint to ../logs/Train_PPO_40kReqs_300_v4_001/training/best_model_5479992_steps.zip\n"
      ]
     },
     "metadata": {},
     "output_type": "display_data"
    },
    {
     "data": {
      "text/html": [
       "<pre style=\"white-space:pre;overflow-x:auto;line-height:normal;font-family:Menlo,'DejaVu Sans Mono',consolas,'Courier New',monospace\">Eval num_timesteps=5480000, episode_reward=38910.40 +/- 102.84\n",
       "</pre>\n"
      ],
      "text/plain": [
       "Eval num_timesteps=5480000, episode_reward=38910.40 +/- 102.84\n"
      ]
     },
     "metadata": {},
     "output_type": "display_data"
    },
    {
     "data": {
      "text/html": [
       "<pre style=\"white-space:pre;overflow-x:auto;line-height:normal;font-family:Menlo,'DejaVu Sans Mono',consolas,'Courier New',monospace\">Episode length: 40000.00 +/- 0.00\n",
       "</pre>\n"
      ],
      "text/plain": [
       "Episode length: 40000.00 +/- 0.00\n"
      ]
     },
     "metadata": {},
     "output_type": "display_data"
    },
    {
     "data": {
      "text/html": [
       "<pre style=\"white-space:pre;overflow-x:auto;line-height:normal;font-family:Menlo,'DejaVu Sans Mono',consolas,'Courier New',monospace\">Saving model checkpoint to ../logs/Train_PPO_40kReqs_300_v4_001/training/best_model_5519992_steps.zip\n",
       "</pre>\n"
      ],
      "text/plain": [
       "Saving model checkpoint to ../logs/Train_PPO_40kReqs_300_v4_001/training/best_model_5519992_steps.zip\n"
      ]
     },
     "metadata": {},
     "output_type": "display_data"
    },
    {
     "data": {
      "text/html": [
       "<pre style=\"white-space:pre;overflow-x:auto;line-height:normal;font-family:Menlo,'DejaVu Sans Mono',consolas,'Courier New',monospace\">Eval num_timesteps=5520000, episode_reward=39044.40 +/- 91.90\n",
       "</pre>\n"
      ],
      "text/plain": [
       "Eval num_timesteps=5520000, episode_reward=39044.40 +/- 91.90\n"
      ]
     },
     "metadata": {},
     "output_type": "display_data"
    },
    {
     "data": {
      "text/html": [
       "<pre style=\"white-space:pre;overflow-x:auto;line-height:normal;font-family:Menlo,'DejaVu Sans Mono',consolas,'Courier New',monospace\">Episode length: 40000.00 +/- 0.00\n",
       "</pre>\n"
      ],
      "text/plain": [
       "Episode length: 40000.00 +/- 0.00\n"
      ]
     },
     "metadata": {},
     "output_type": "display_data"
    },
    {
     "data": {
      "text/html": [
       "<pre style=\"white-space:pre;overflow-x:auto;line-height:normal;font-family:Menlo,'DejaVu Sans Mono',consolas,'Courier New',monospace\">Saving model checkpoint to ../logs/Train_PPO_40kReqs_300_v4_001/training/best_model_5559992_steps.zip\n",
       "</pre>\n"
      ],
      "text/plain": [
       "Saving model checkpoint to ../logs/Train_PPO_40kReqs_300_v4_001/training/best_model_5559992_steps.zip\n"
      ]
     },
     "metadata": {},
     "output_type": "display_data"
    },
    {
     "data": {
      "text/html": [
       "<pre style=\"white-space:pre;overflow-x:auto;line-height:normal;font-family:Menlo,'DejaVu Sans Mono',consolas,'Courier New',monospace\">Eval num_timesteps=5560000, episode_reward=39037.60 +/- 59.48\n",
       "</pre>\n"
      ],
      "text/plain": [
       "Eval num_timesteps=5560000, episode_reward=39037.60 +/- 59.48\n"
      ]
     },
     "metadata": {},
     "output_type": "display_data"
    },
    {
     "data": {
      "text/html": [
       "<pre style=\"white-space:pre;overflow-x:auto;line-height:normal;font-family:Menlo,'DejaVu Sans Mono',consolas,'Courier New',monospace\">Episode length: 40000.00 +/- 0.00\n",
       "</pre>\n"
      ],
      "text/plain": [
       "Episode length: 40000.00 +/- 0.00\n"
      ]
     },
     "metadata": {},
     "output_type": "display_data"
    },
    {
     "data": {
      "text/html": [
       "<pre style=\"white-space:pre;overflow-x:auto;line-height:normal;font-family:Menlo,'DejaVu Sans Mono',consolas,'Courier New',monospace\">Saving model checkpoint to ../logs/Train_PPO_40kReqs_300_v4_001/training/best_model_5599992_steps.zip\n",
       "</pre>\n"
      ],
      "text/plain": [
       "Saving model checkpoint to ../logs/Train_PPO_40kReqs_300_v4_001/training/best_model_5599992_steps.zip\n"
      ]
     },
     "metadata": {},
     "output_type": "display_data"
    },
    {
     "data": {
      "text/html": [
       "<pre style=\"white-space:pre;overflow-x:auto;line-height:normal;font-family:Menlo,'DejaVu Sans Mono',consolas,'Courier New',monospace\">Eval num_timesteps=5600000, episode_reward=38926.00 +/- 108.66\n",
       "</pre>\n"
      ],
      "text/plain": [
       "Eval num_timesteps=5600000, episode_reward=38926.00 +/- 108.66\n"
      ]
     },
     "metadata": {},
     "output_type": "display_data"
    },
    {
     "data": {
      "text/html": [
       "<pre style=\"white-space:pre;overflow-x:auto;line-height:normal;font-family:Menlo,'DejaVu Sans Mono',consolas,'Courier New',monospace\">Episode length: 40000.00 +/- 0.00\n",
       "</pre>\n"
      ],
      "text/plain": [
       "Episode length: 40000.00 +/- 0.00\n"
      ]
     },
     "metadata": {},
     "output_type": "display_data"
    },
    {
     "data": {
      "text/html": [
       "<pre style=\"white-space:pre;overflow-x:auto;line-height:normal;font-family:Menlo,'DejaVu Sans Mono',consolas,'Courier New',monospace\">Saving model checkpoint to ../logs/Train_PPO_40kReqs_300_v4_001/training/best_model_5639992_steps.zip\n",
       "</pre>\n"
      ],
      "text/plain": [
       "Saving model checkpoint to ../logs/Train_PPO_40kReqs_300_v4_001/training/best_model_5639992_steps.zip\n"
      ]
     },
     "metadata": {},
     "output_type": "display_data"
    },
    {
     "data": {
      "text/html": [
       "<pre style=\"white-space:pre;overflow-x:auto;line-height:normal;font-family:Menlo,'DejaVu Sans Mono',consolas,'Courier New',monospace\">Eval num_timesteps=5640000, episode_reward=38907.20 +/- 136.85\n",
       "</pre>\n"
      ],
      "text/plain": [
       "Eval num_timesteps=5640000, episode_reward=38907.20 +/- 136.85\n"
      ]
     },
     "metadata": {},
     "output_type": "display_data"
    },
    {
     "data": {
      "text/html": [
       "<pre style=\"white-space:pre;overflow-x:auto;line-height:normal;font-family:Menlo,'DejaVu Sans Mono',consolas,'Courier New',monospace\">Episode length: 40000.00 +/- 0.00\n",
       "</pre>\n"
      ],
      "text/plain": [
       "Episode length: 40000.00 +/- 0.00\n"
      ]
     },
     "metadata": {},
     "output_type": "display_data"
    },
    {
     "data": {
      "text/html": [
       "<pre style=\"white-space:pre;overflow-x:auto;line-height:normal;font-family:Menlo,'DejaVu Sans Mono',consolas,'Courier New',monospace\">Saving model checkpoint to ../logs/Train_PPO_40kReqs_300_v4_001/training/best_model_5679992_steps.zip\n",
       "</pre>\n"
      ],
      "text/plain": [
       "Saving model checkpoint to ../logs/Train_PPO_40kReqs_300_v4_001/training/best_model_5679992_steps.zip\n"
      ]
     },
     "metadata": {},
     "output_type": "display_data"
    },
    {
     "data": {
      "text/html": [
       "<pre style=\"white-space:pre;overflow-x:auto;line-height:normal;font-family:Menlo,'DejaVu Sans Mono',consolas,'Courier New',monospace\">Eval num_timesteps=5680000, episode_reward=38814.80 +/- 79.02\n",
       "</pre>\n"
      ],
      "text/plain": [
       "Eval num_timesteps=5680000, episode_reward=38814.80 +/- 79.02\n"
      ]
     },
     "metadata": {},
     "output_type": "display_data"
    },
    {
     "data": {
      "text/html": [
       "<pre style=\"white-space:pre;overflow-x:auto;line-height:normal;font-family:Menlo,'DejaVu Sans Mono',consolas,'Courier New',monospace\">Episode length: 40000.00 +/- 0.00\n",
       "</pre>\n"
      ],
      "text/plain": [
       "Episode length: 40000.00 +/- 0.00\n"
      ]
     },
     "metadata": {},
     "output_type": "display_data"
    },
    {
     "data": {
      "text/html": [
       "<pre style=\"white-space:pre;overflow-x:auto;line-height:normal;font-family:Menlo,'DejaVu Sans Mono',consolas,'Courier New',monospace\">Saving model checkpoint to ../logs/Train_PPO_40kReqs_300_v4_001/training/best_model_5719992_steps.zip\n",
       "</pre>\n"
      ],
      "text/plain": [
       "Saving model checkpoint to ../logs/Train_PPO_40kReqs_300_v4_001/training/best_model_5719992_steps.zip\n"
      ]
     },
     "metadata": {},
     "output_type": "display_data"
    },
    {
     "data": {
      "text/html": [
       "<pre style=\"white-space:pre;overflow-x:auto;line-height:normal;font-family:Menlo,'DejaVu Sans Mono',consolas,'Courier New',monospace\">Eval num_timesteps=5720000, episode_reward=38913.20 +/- 150.44\n",
       "</pre>\n"
      ],
      "text/plain": [
       "Eval num_timesteps=5720000, episode_reward=38913.20 +/- 150.44\n"
      ]
     },
     "metadata": {},
     "output_type": "display_data"
    },
    {
     "data": {
      "text/html": [
       "<pre style=\"white-space:pre;overflow-x:auto;line-height:normal;font-family:Menlo,'DejaVu Sans Mono',consolas,'Courier New',monospace\">Episode length: 40000.00 +/- 0.00\n",
       "</pre>\n"
      ],
      "text/plain": [
       "Episode length: 40000.00 +/- 0.00\n"
      ]
     },
     "metadata": {},
     "output_type": "display_data"
    },
    {
     "data": {
      "text/html": [
       "<pre style=\"white-space:pre;overflow-x:auto;line-height:normal;font-family:Menlo,'DejaVu Sans Mono',consolas,'Courier New',monospace\">Saving model checkpoint to ../logs/Train_PPO_40kReqs_300_v4_001/training/best_model_5759992_steps.zip\n",
       "</pre>\n"
      ],
      "text/plain": [
       "Saving model checkpoint to ../logs/Train_PPO_40kReqs_300_v4_001/training/best_model_5759992_steps.zip\n"
      ]
     },
     "metadata": {},
     "output_type": "display_data"
    },
    {
     "data": {
      "text/html": [
       "<pre style=\"white-space:pre;overflow-x:auto;line-height:normal;font-family:Menlo,'DejaVu Sans Mono',consolas,'Courier New',monospace\">Eval num_timesteps=5760000, episode_reward=38875.20 +/- 86.36\n",
       "</pre>\n"
      ],
      "text/plain": [
       "Eval num_timesteps=5760000, episode_reward=38875.20 +/- 86.36\n"
      ]
     },
     "metadata": {},
     "output_type": "display_data"
    },
    {
     "data": {
      "text/html": [
       "<pre style=\"white-space:pre;overflow-x:auto;line-height:normal;font-family:Menlo,'DejaVu Sans Mono',consolas,'Courier New',monospace\">Episode length: 40000.00 +/- 0.00\n",
       "</pre>\n"
      ],
      "text/plain": [
       "Episode length: 40000.00 +/- 0.00\n"
      ]
     },
     "metadata": {},
     "output_type": "display_data"
    },
    {
     "data": {
      "text/html": [
       "<pre style=\"white-space:pre;overflow-x:auto;line-height:normal;font-family:Menlo,'DejaVu Sans Mono',consolas,'Courier New',monospace\">Saving model checkpoint to ../logs/Train_PPO_40kReqs_300_v4_001/training/best_model_5799992_steps.zip\n",
       "</pre>\n"
      ],
      "text/plain": [
       "Saving model checkpoint to ../logs/Train_PPO_40kReqs_300_v4_001/training/best_model_5799992_steps.zip\n"
      ]
     },
     "metadata": {},
     "output_type": "display_data"
    },
    {
     "data": {
      "text/html": [
       "<pre style=\"white-space:pre;overflow-x:auto;line-height:normal;font-family:Menlo,'DejaVu Sans Mono',consolas,'Courier New',monospace\">Eval num_timesteps=5800000, episode_reward=38815.20 +/- 197.31\n",
       "</pre>\n"
      ],
      "text/plain": [
       "Eval num_timesteps=5800000, episode_reward=38815.20 +/- 197.31\n"
      ]
     },
     "metadata": {},
     "output_type": "display_data"
    },
    {
     "data": {
      "text/html": [
       "<pre style=\"white-space:pre;overflow-x:auto;line-height:normal;font-family:Menlo,'DejaVu Sans Mono',consolas,'Courier New',monospace\">Episode length: 40000.00 +/- 0.00\n",
       "</pre>\n"
      ],
      "text/plain": [
       "Episode length: 40000.00 +/- 0.00\n"
      ]
     },
     "metadata": {},
     "output_type": "display_data"
    },
    {
     "data": {
      "text/html": [
       "<pre style=\"white-space:pre;overflow-x:auto;line-height:normal;font-family:Menlo,'DejaVu Sans Mono',consolas,'Courier New',monospace\">Saving model checkpoint to ../logs/Train_PPO_40kReqs_300_v4_001/training/best_model_5839992_steps.zip\n",
       "</pre>\n"
      ],
      "text/plain": [
       "Saving model checkpoint to ../logs/Train_PPO_40kReqs_300_v4_001/training/best_model_5839992_steps.zip\n"
      ]
     },
     "metadata": {},
     "output_type": "display_data"
    },
    {
     "data": {
      "text/html": [
       "<pre style=\"white-space:pre;overflow-x:auto;line-height:normal;font-family:Menlo,'DejaVu Sans Mono',consolas,'Courier New',monospace\">Eval num_timesteps=5840000, episode_reward=38914.00 +/- 52.99\n",
       "</pre>\n"
      ],
      "text/plain": [
       "Eval num_timesteps=5840000, episode_reward=38914.00 +/- 52.99\n"
      ]
     },
     "metadata": {},
     "output_type": "display_data"
    },
    {
     "data": {
      "text/html": [
       "<pre style=\"white-space:pre;overflow-x:auto;line-height:normal;font-family:Menlo,'DejaVu Sans Mono',consolas,'Courier New',monospace\">Episode length: 40000.00 +/- 0.00\n",
       "</pre>\n"
      ],
      "text/plain": [
       "Episode length: 40000.00 +/- 0.00\n"
      ]
     },
     "metadata": {},
     "output_type": "display_data"
    },
    {
     "data": {
      "text/html": [
       "<pre style=\"white-space:pre;overflow-x:auto;line-height:normal;font-family:Menlo,'DejaVu Sans Mono',consolas,'Courier New',monospace\">Saving model checkpoint to ../logs/Train_PPO_40kReqs_300_v4_001/training/best_model_5879992_steps.zip\n",
       "</pre>\n"
      ],
      "text/plain": [
       "Saving model checkpoint to ../logs/Train_PPO_40kReqs_300_v4_001/training/best_model_5879992_steps.zip\n"
      ]
     },
     "metadata": {},
     "output_type": "display_data"
    },
    {
     "data": {
      "text/html": [
       "<pre style=\"white-space:pre;overflow-x:auto;line-height:normal;font-family:Menlo,'DejaVu Sans Mono',consolas,'Courier New',monospace\">Eval num_timesteps=5880000, episode_reward=38947.60 +/- 48.17\n",
       "</pre>\n"
      ],
      "text/plain": [
       "Eval num_timesteps=5880000, episode_reward=38947.60 +/- 48.17\n"
      ]
     },
     "metadata": {},
     "output_type": "display_data"
    },
    {
     "data": {
      "text/html": [
       "<pre style=\"white-space:pre;overflow-x:auto;line-height:normal;font-family:Menlo,'DejaVu Sans Mono',consolas,'Courier New',monospace\">Episode length: 40000.00 +/- 0.00\n",
       "</pre>\n"
      ],
      "text/plain": [
       "Episode length: 40000.00 +/- 0.00\n"
      ]
     },
     "metadata": {},
     "output_type": "display_data"
    },
    {
     "data": {
      "text/html": [
       "<pre style=\"white-space:pre;overflow-x:auto;line-height:normal;font-family:Menlo,'DejaVu Sans Mono',consolas,'Courier New',monospace\">Saving model checkpoint to ../logs/Train_PPO_40kReqs_300_v4_001/training/best_model_5919992_steps.zip\n",
       "</pre>\n"
      ],
      "text/plain": [
       "Saving model checkpoint to ../logs/Train_PPO_40kReqs_300_v4_001/training/best_model_5919992_steps.zip\n"
      ]
     },
     "metadata": {},
     "output_type": "display_data"
    },
    {
     "data": {
      "text/html": [
       "<pre style=\"white-space:pre;overflow-x:auto;line-height:normal;font-family:Menlo,'DejaVu Sans Mono',consolas,'Courier New',monospace\">Eval num_timesteps=5920000, episode_reward=38981.60 +/- 139.69\n",
       "</pre>\n"
      ],
      "text/plain": [
       "Eval num_timesteps=5920000, episode_reward=38981.60 +/- 139.69\n"
      ]
     },
     "metadata": {},
     "output_type": "display_data"
    },
    {
     "data": {
      "text/html": [
       "<pre style=\"white-space:pre;overflow-x:auto;line-height:normal;font-family:Menlo,'DejaVu Sans Mono',consolas,'Courier New',monospace\">Episode length: 40000.00 +/- 0.00\n",
       "</pre>\n"
      ],
      "text/plain": [
       "Episode length: 40000.00 +/- 0.00\n"
      ]
     },
     "metadata": {},
     "output_type": "display_data"
    },
    {
     "data": {
      "text/html": [
       "<pre style=\"white-space:pre;overflow-x:auto;line-height:normal;font-family:Menlo,'DejaVu Sans Mono',consolas,'Courier New',monospace\">Saving model checkpoint to ../logs/Train_PPO_40kReqs_300_v4_001/training/best_model_5959992_steps.zip\n",
       "</pre>\n"
      ],
      "text/plain": [
       "Saving model checkpoint to ../logs/Train_PPO_40kReqs_300_v4_001/training/best_model_5959992_steps.zip\n"
      ]
     },
     "metadata": {},
     "output_type": "display_data"
    },
    {
     "data": {
      "text/html": [
       "<pre style=\"white-space:pre;overflow-x:auto;line-height:normal;font-family:Menlo,'DejaVu Sans Mono',consolas,'Courier New',monospace\">Eval num_timesteps=5960000, episode_reward=38920.80 +/- 64.04\n",
       "</pre>\n"
      ],
      "text/plain": [
       "Eval num_timesteps=5960000, episode_reward=38920.80 +/- 64.04\n"
      ]
     },
     "metadata": {},
     "output_type": "display_data"
    },
    {
     "data": {
      "text/html": [
       "<pre style=\"white-space:pre;overflow-x:auto;line-height:normal;font-family:Menlo,'DejaVu Sans Mono',consolas,'Courier New',monospace\">Episode length: 40000.00 +/- 0.00\n",
       "</pre>\n"
      ],
      "text/plain": [
       "Episode length: 40000.00 +/- 0.00\n"
      ]
     },
     "metadata": {},
     "output_type": "display_data"
    },
    {
     "data": {
      "text/html": [
       "<pre style=\"white-space:pre;overflow-x:auto;line-height:normal;font-family:Menlo,'DejaVu Sans Mono',consolas,'Courier New',monospace\">Saving model checkpoint to ../logs/Train_PPO_40kReqs_300_v4_001/training/best_model_5999992_steps.zip\n",
       "</pre>\n"
      ],
      "text/plain": [
       "Saving model checkpoint to ../logs/Train_PPO_40kReqs_300_v4_001/training/best_model_5999992_steps.zip\n"
      ]
     },
     "metadata": {},
     "output_type": "display_data"
    },
    {
     "data": {
      "text/html": [
       "<pre style=\"white-space:pre;overflow-x:auto;line-height:normal;font-family:Menlo,'DejaVu Sans Mono',consolas,'Courier New',monospace\">Eval num_timesteps=6000000, episode_reward=38977.20 +/- 96.54\n",
       "</pre>\n"
      ],
      "text/plain": [
       "Eval num_timesteps=6000000, episode_reward=38977.20 +/- 96.54\n"
      ]
     },
     "metadata": {},
     "output_type": "display_data"
    },
    {
     "data": {
      "text/html": [
       "<pre style=\"white-space:pre;overflow-x:auto;line-height:normal;font-family:Menlo,'DejaVu Sans Mono',consolas,'Courier New',monospace\">Episode length: 40000.00 +/- 0.00\n",
       "</pre>\n"
      ],
      "text/plain": [
       "Episode length: 40000.00 +/- 0.00\n"
      ]
     },
     "metadata": {},
     "output_type": "display_data"
    },
    {
     "data": {
      "text/html": [
       "<pre style=\"white-space:pre;overflow-x:auto;line-height:normal;font-family:Menlo,'DejaVu Sans Mono',consolas,'Courier New',monospace\">Saving model checkpoint to ../logs/Train_PPO_40kReqs_300_v4_001/training/best_model_6039992_steps.zip\n",
       "</pre>\n"
      ],
      "text/plain": [
       "Saving model checkpoint to ../logs/Train_PPO_40kReqs_300_v4_001/training/best_model_6039992_steps.zip\n"
      ]
     },
     "metadata": {},
     "output_type": "display_data"
    },
    {
     "data": {
      "text/html": [
       "<pre style=\"white-space:pre;overflow-x:auto;line-height:normal;font-family:Menlo,'DejaVu Sans Mono',consolas,'Courier New',monospace\">Eval num_timesteps=6040000, episode_reward=39069.20 +/- 115.42\n",
       "</pre>\n"
      ],
      "text/plain": [
       "Eval num_timesteps=6040000, episode_reward=39069.20 +/- 115.42\n"
      ]
     },
     "metadata": {},
     "output_type": "display_data"
    },
    {
     "data": {
      "text/html": [
       "<pre style=\"white-space:pre;overflow-x:auto;line-height:normal;font-family:Menlo,'DejaVu Sans Mono',consolas,'Courier New',monospace\">Episode length: 40000.00 +/- 0.00\n",
       "</pre>\n"
      ],
      "text/plain": [
       "Episode length: 40000.00 +/- 0.00\n"
      ]
     },
     "metadata": {},
     "output_type": "display_data"
    },
    {
     "data": {
      "text/html": [
       "<pre style=\"white-space:pre;overflow-x:auto;line-height:normal;font-family:Menlo,'DejaVu Sans Mono',consolas,'Courier New',monospace\">Saving model checkpoint to ../logs/Train_PPO_40kReqs_300_v4_001/training/best_model_6079992_steps.zip\n",
       "</pre>\n"
      ],
      "text/plain": [
       "Saving model checkpoint to ../logs/Train_PPO_40kReqs_300_v4_001/training/best_model_6079992_steps.zip\n"
      ]
     },
     "metadata": {},
     "output_type": "display_data"
    },
    {
     "data": {
      "text/html": [
       "<pre style=\"white-space:pre;overflow-x:auto;line-height:normal;font-family:Menlo,'DejaVu Sans Mono',consolas,'Courier New',monospace\">Eval num_timesteps=6080000, episode_reward=38919.20 +/- 94.12\n",
       "</pre>\n"
      ],
      "text/plain": [
       "Eval num_timesteps=6080000, episode_reward=38919.20 +/- 94.12\n"
      ]
     },
     "metadata": {},
     "output_type": "display_data"
    },
    {
     "data": {
      "text/html": [
       "<pre style=\"white-space:pre;overflow-x:auto;line-height:normal;font-family:Menlo,'DejaVu Sans Mono',consolas,'Courier New',monospace\">Episode length: 40000.00 +/- 0.00\n",
       "</pre>\n"
      ],
      "text/plain": [
       "Episode length: 40000.00 +/- 0.00\n"
      ]
     },
     "metadata": {},
     "output_type": "display_data"
    },
    {
     "data": {
      "text/html": [
       "<pre style=\"white-space:pre;overflow-x:auto;line-height:normal;font-family:Menlo,'DejaVu Sans Mono',consolas,'Courier New',monospace\">Saving model checkpoint to ../logs/Train_PPO_40kReqs_300_v4_001/training/best_model_6119992_steps.zip\n",
       "</pre>\n"
      ],
      "text/plain": [
       "Saving model checkpoint to ../logs/Train_PPO_40kReqs_300_v4_001/training/best_model_6119992_steps.zip\n"
      ]
     },
     "metadata": {},
     "output_type": "display_data"
    },
    {
     "data": {
      "text/html": [
       "<pre style=\"white-space:pre;overflow-x:auto;line-height:normal;font-family:Menlo,'DejaVu Sans Mono',consolas,'Courier New',monospace\">Eval num_timesteps=6120000, episode_reward=39043.60 +/- 86.15\n",
       "</pre>\n"
      ],
      "text/plain": [
       "Eval num_timesteps=6120000, episode_reward=39043.60 +/- 86.15\n"
      ]
     },
     "metadata": {},
     "output_type": "display_data"
    },
    {
     "data": {
      "text/html": [
       "<pre style=\"white-space:pre;overflow-x:auto;line-height:normal;font-family:Menlo,'DejaVu Sans Mono',consolas,'Courier New',monospace\">Episode length: 40000.00 +/- 0.00\n",
       "</pre>\n"
      ],
      "text/plain": [
       "Episode length: 40000.00 +/- 0.00\n"
      ]
     },
     "metadata": {},
     "output_type": "display_data"
    },
    {
     "data": {
      "text/html": [
       "<pre style=\"white-space:pre;overflow-x:auto;line-height:normal;font-family:Menlo,'DejaVu Sans Mono',consolas,'Courier New',monospace\">Saving model checkpoint to ../logs/Train_PPO_40kReqs_300_v4_001/training/best_model_6159992_steps.zip\n",
       "</pre>\n"
      ],
      "text/plain": [
       "Saving model checkpoint to ../logs/Train_PPO_40kReqs_300_v4_001/training/best_model_6159992_steps.zip\n"
      ]
     },
     "metadata": {},
     "output_type": "display_data"
    },
    {
     "data": {
      "text/html": [
       "<pre style=\"white-space:pre;overflow-x:auto;line-height:normal;font-family:Menlo,'DejaVu Sans Mono',consolas,'Courier New',monospace\">Eval num_timesteps=6160000, episode_reward=39048.40 +/- 120.43\n",
       "</pre>\n"
      ],
      "text/plain": [
       "Eval num_timesteps=6160000, episode_reward=39048.40 +/- 120.43\n"
      ]
     },
     "metadata": {},
     "output_type": "display_data"
    },
    {
     "data": {
      "text/html": [
       "<pre style=\"white-space:pre;overflow-x:auto;line-height:normal;font-family:Menlo,'DejaVu Sans Mono',consolas,'Courier New',monospace\">Episode length: 40000.00 +/- 0.00\n",
       "</pre>\n"
      ],
      "text/plain": [
       "Episode length: 40000.00 +/- 0.00\n"
      ]
     },
     "metadata": {},
     "output_type": "display_data"
    },
    {
     "data": {
      "text/html": [
       "<pre style=\"white-space:pre;overflow-x:auto;line-height:normal;font-family:Menlo,'DejaVu Sans Mono',consolas,'Courier New',monospace\">Saving model checkpoint to ../logs/Train_PPO_40kReqs_300_v4_001/training/best_model_6199992_steps.zip\n",
       "</pre>\n"
      ],
      "text/plain": [
       "Saving model checkpoint to ../logs/Train_PPO_40kReqs_300_v4_001/training/best_model_6199992_steps.zip\n"
      ]
     },
     "metadata": {},
     "output_type": "display_data"
    },
    {
     "data": {
      "text/html": [
       "<pre style=\"white-space:pre;overflow-x:auto;line-height:normal;font-family:Menlo,'DejaVu Sans Mono',consolas,'Courier New',monospace\">Eval num_timesteps=6200000, episode_reward=39037.20 +/- 156.38\n",
       "</pre>\n"
      ],
      "text/plain": [
       "Eval num_timesteps=6200000, episode_reward=39037.20 +/- 156.38\n"
      ]
     },
     "metadata": {},
     "output_type": "display_data"
    },
    {
     "data": {
      "text/html": [
       "<pre style=\"white-space:pre;overflow-x:auto;line-height:normal;font-family:Menlo,'DejaVu Sans Mono',consolas,'Courier New',monospace\">Episode length: 40000.00 +/- 0.00\n",
       "</pre>\n"
      ],
      "text/plain": [
       "Episode length: 40000.00 +/- 0.00\n"
      ]
     },
     "metadata": {},
     "output_type": "display_data"
    },
    {
     "data": {
      "text/html": [
       "<pre style=\"white-space:pre;overflow-x:auto;line-height:normal;font-family:Menlo,'DejaVu Sans Mono',consolas,'Courier New',monospace\">Saving model checkpoint to ../logs/Train_PPO_40kReqs_300_v4_001/training/best_model_6239992_steps.zip\n",
       "</pre>\n"
      ],
      "text/plain": [
       "Saving model checkpoint to ../logs/Train_PPO_40kReqs_300_v4_001/training/best_model_6239992_steps.zip\n"
      ]
     },
     "metadata": {},
     "output_type": "display_data"
    },
    {
     "data": {
      "text/html": [
       "<pre style=\"white-space:pre;overflow-x:auto;line-height:normal;font-family:Menlo,'DejaVu Sans Mono',consolas,'Courier New',monospace\">Eval num_timesteps=6240000, episode_reward=38875.20 +/- 101.27\n",
       "</pre>\n"
      ],
      "text/plain": [
       "Eval num_timesteps=6240000, episode_reward=38875.20 +/- 101.27\n"
      ]
     },
     "metadata": {},
     "output_type": "display_data"
    },
    {
     "data": {
      "text/html": [
       "<pre style=\"white-space:pre;overflow-x:auto;line-height:normal;font-family:Menlo,'DejaVu Sans Mono',consolas,'Courier New',monospace\">Episode length: 40000.00 +/- 0.00\n",
       "</pre>\n"
      ],
      "text/plain": [
       "Episode length: 40000.00 +/- 0.00\n"
      ]
     },
     "metadata": {},
     "output_type": "display_data"
    },
    {
     "data": {
      "text/html": [
       "<pre style=\"white-space:pre;overflow-x:auto;line-height:normal;font-family:Menlo,'DejaVu Sans Mono',consolas,'Courier New',monospace\">Saving model checkpoint to ../logs/Train_PPO_40kReqs_300_v4_001/training/best_model_6279992_steps.zip\n",
       "</pre>\n"
      ],
      "text/plain": [
       "Saving model checkpoint to ../logs/Train_PPO_40kReqs_300_v4_001/training/best_model_6279992_steps.zip\n"
      ]
     },
     "metadata": {},
     "output_type": "display_data"
    },
    {
     "data": {
      "text/html": [
       "<pre style=\"white-space:pre;overflow-x:auto;line-height:normal;font-family:Menlo,'DejaVu Sans Mono',consolas,'Courier New',monospace\">Eval num_timesteps=6280000, episode_reward=39069.60 +/- 122.08\n",
       "</pre>\n"
      ],
      "text/plain": [
       "Eval num_timesteps=6280000, episode_reward=39069.60 +/- 122.08\n"
      ]
     },
     "metadata": {},
     "output_type": "display_data"
    },
    {
     "data": {
      "text/html": [
       "<pre style=\"white-space:pre;overflow-x:auto;line-height:normal;font-family:Menlo,'DejaVu Sans Mono',consolas,'Courier New',monospace\">Episode length: 40000.00 +/- 0.00\n",
       "</pre>\n"
      ],
      "text/plain": [
       "Episode length: 40000.00 +/- 0.00\n"
      ]
     },
     "metadata": {},
     "output_type": "display_data"
    },
    {
     "data": {
      "text/html": [
       "<pre style=\"white-space:pre;overflow-x:auto;line-height:normal;font-family:Menlo,'DejaVu Sans Mono',consolas,'Courier New',monospace\">Saving model checkpoint to ../logs/Train_PPO_40kReqs_300_v4_001/training/best_model_6319992_steps.zip\n",
       "</pre>\n"
      ],
      "text/plain": [
       "Saving model checkpoint to ../logs/Train_PPO_40kReqs_300_v4_001/training/best_model_6319992_steps.zip\n"
      ]
     },
     "metadata": {},
     "output_type": "display_data"
    },
    {
     "data": {
      "text/html": [
       "<pre style=\"white-space:pre;overflow-x:auto;line-height:normal;font-family:Menlo,'DejaVu Sans Mono',consolas,'Courier New',monospace\">Eval num_timesteps=6320000, episode_reward=39114.40 +/- 78.60\n",
       "</pre>\n"
      ],
      "text/plain": [
       "Eval num_timesteps=6320000, episode_reward=39114.40 +/- 78.60\n"
      ]
     },
     "metadata": {},
     "output_type": "display_data"
    },
    {
     "data": {
      "text/html": [
       "<pre style=\"white-space:pre;overflow-x:auto;line-height:normal;font-family:Menlo,'DejaVu Sans Mono',consolas,'Courier New',monospace\">Episode length: 40000.00 +/- 0.00\n",
       "</pre>\n"
      ],
      "text/plain": [
       "Episode length: 40000.00 +/- 0.00\n"
      ]
     },
     "metadata": {},
     "output_type": "display_data"
    },
    {
     "data": {
      "text/html": [
       "<pre style=\"white-space:pre;overflow-x:auto;line-height:normal;font-family:Menlo,'DejaVu Sans Mono',consolas,'Courier New',monospace\">Saving model checkpoint to ../logs/Train_PPO_40kReqs_300_v4_001/training/best_model_6359992_steps.zip\n",
       "</pre>\n"
      ],
      "text/plain": [
       "Saving model checkpoint to ../logs/Train_PPO_40kReqs_300_v4_001/training/best_model_6359992_steps.zip\n"
      ]
     },
     "metadata": {},
     "output_type": "display_data"
    },
    {
     "data": {
      "text/html": [
       "<pre style=\"white-space:pre;overflow-x:auto;line-height:normal;font-family:Menlo,'DejaVu Sans Mono',consolas,'Courier New',monospace\">Eval num_timesteps=6360000, episode_reward=38913.20 +/- 127.20\n",
       "</pre>\n"
      ],
      "text/plain": [
       "Eval num_timesteps=6360000, episode_reward=38913.20 +/- 127.20\n"
      ]
     },
     "metadata": {},
     "output_type": "display_data"
    },
    {
     "data": {
      "text/html": [
       "<pre style=\"white-space:pre;overflow-x:auto;line-height:normal;font-family:Menlo,'DejaVu Sans Mono',consolas,'Courier New',monospace\">Episode length: 40000.00 +/- 0.00\n",
       "</pre>\n"
      ],
      "text/plain": [
       "Episode length: 40000.00 +/- 0.00\n"
      ]
     },
     "metadata": {},
     "output_type": "display_data"
    },
    {
     "data": {
      "text/html": [
       "<pre style=\"white-space:pre;overflow-x:auto;line-height:normal;font-family:Menlo,'DejaVu Sans Mono',consolas,'Courier New',monospace\">Saving model checkpoint to ../logs/Train_PPO_40kReqs_300_v4_001/training/best_model_6399992_steps.zip\n",
       "</pre>\n"
      ],
      "text/plain": [
       "Saving model checkpoint to ../logs/Train_PPO_40kReqs_300_v4_001/training/best_model_6399992_steps.zip\n"
      ]
     },
     "metadata": {},
     "output_type": "display_data"
    },
    {
     "data": {
      "text/html": [
       "<pre style=\"white-space:pre;overflow-x:auto;line-height:normal;font-family:Menlo,'DejaVu Sans Mono',consolas,'Courier New',monospace\">Eval num_timesteps=6400000, episode_reward=38980.40 +/- 143.72\n",
       "</pre>\n"
      ],
      "text/plain": [
       "Eval num_timesteps=6400000, episode_reward=38980.40 +/- 143.72\n"
      ]
     },
     "metadata": {},
     "output_type": "display_data"
    },
    {
     "data": {
      "text/html": [
       "<pre style=\"white-space:pre;overflow-x:auto;line-height:normal;font-family:Menlo,'DejaVu Sans Mono',consolas,'Courier New',monospace\">Episode length: 40000.00 +/- 0.00\n",
       "</pre>\n"
      ],
      "text/plain": [
       "Episode length: 40000.00 +/- 0.00\n"
      ]
     },
     "metadata": {},
     "output_type": "display_data"
    },
    {
     "data": {
      "text/html": [
       "<pre style=\"white-space:pre;overflow-x:auto;line-height:normal;font-family:Menlo,'DejaVu Sans Mono',consolas,'Courier New',monospace\">Saving model checkpoint to ../logs/Train_PPO_40kReqs_300_v4_001/training/best_model_6439992_steps.zip\n",
       "</pre>\n"
      ],
      "text/plain": [
       "Saving model checkpoint to ../logs/Train_PPO_40kReqs_300_v4_001/training/best_model_6439992_steps.zip\n"
      ]
     },
     "metadata": {},
     "output_type": "display_data"
    },
    {
     "data": {
      "text/html": [
       "<pre style=\"white-space:pre;overflow-x:auto;line-height:normal;font-family:Menlo,'DejaVu Sans Mono',consolas,'Courier New',monospace\">Eval num_timesteps=6440000, episode_reward=39057.60 +/- 112.76\n",
       "</pre>\n"
      ],
      "text/plain": [
       "Eval num_timesteps=6440000, episode_reward=39057.60 +/- 112.76\n"
      ]
     },
     "metadata": {},
     "output_type": "display_data"
    },
    {
     "data": {
      "text/html": [
       "<pre style=\"white-space:pre;overflow-x:auto;line-height:normal;font-family:Menlo,'DejaVu Sans Mono',consolas,'Courier New',monospace\">Episode length: 40000.00 +/- 0.00\n",
       "</pre>\n"
      ],
      "text/plain": [
       "Episode length: 40000.00 +/- 0.00\n"
      ]
     },
     "metadata": {},
     "output_type": "display_data"
    },
    {
     "data": {
      "text/html": [
       "<pre style=\"white-space:pre;overflow-x:auto;line-height:normal;font-family:Menlo,'DejaVu Sans Mono',consolas,'Courier New',monospace\">Saving model checkpoint to ../logs/Train_PPO_40kReqs_300_v4_001/training/best_model_6479992_steps.zip\n",
       "</pre>\n"
      ],
      "text/plain": [
       "Saving model checkpoint to ../logs/Train_PPO_40kReqs_300_v4_001/training/best_model_6479992_steps.zip\n"
      ]
     },
     "metadata": {},
     "output_type": "display_data"
    },
    {
     "data": {
      "text/html": [
       "<pre style=\"white-space:pre;overflow-x:auto;line-height:normal;font-family:Menlo,'DejaVu Sans Mono',consolas,'Courier New',monospace\">Eval num_timesteps=6480000, episode_reward=39010.40 +/- 76.28\n",
       "</pre>\n"
      ],
      "text/plain": [
       "Eval num_timesteps=6480000, episode_reward=39010.40 +/- 76.28\n"
      ]
     },
     "metadata": {},
     "output_type": "display_data"
    },
    {
     "data": {
      "text/html": [
       "<pre style=\"white-space:pre;overflow-x:auto;line-height:normal;font-family:Menlo,'DejaVu Sans Mono',consolas,'Courier New',monospace\">Episode length: 40000.00 +/- 0.00\n",
       "</pre>\n"
      ],
      "text/plain": [
       "Episode length: 40000.00 +/- 0.00\n"
      ]
     },
     "metadata": {},
     "output_type": "display_data"
    },
    {
     "data": {
      "text/html": [
       "<pre style=\"white-space:pre;overflow-x:auto;line-height:normal;font-family:Menlo,'DejaVu Sans Mono',consolas,'Courier New',monospace\">Saving model checkpoint to ../logs/Train_PPO_40kReqs_300_v4_001/training/best_model_6519992_steps.zip\n",
       "</pre>\n"
      ],
      "text/plain": [
       "Saving model checkpoint to ../logs/Train_PPO_40kReqs_300_v4_001/training/best_model_6519992_steps.zip\n"
      ]
     },
     "metadata": {},
     "output_type": "display_data"
    },
    {
     "data": {
      "text/html": [
       "<pre style=\"white-space:pre;overflow-x:auto;line-height:normal;font-family:Menlo,'DejaVu Sans Mono',consolas,'Courier New',monospace\">Eval num_timesteps=6520000, episode_reward=38998.40 +/- 88.88\n",
       "</pre>\n"
      ],
      "text/plain": [
       "Eval num_timesteps=6520000, episode_reward=38998.40 +/- 88.88\n"
      ]
     },
     "metadata": {},
     "output_type": "display_data"
    },
    {
     "data": {
      "text/html": [
       "<pre style=\"white-space:pre;overflow-x:auto;line-height:normal;font-family:Menlo,'DejaVu Sans Mono',consolas,'Courier New',monospace\">Episode length: 40000.00 +/- 0.00\n",
       "</pre>\n"
      ],
      "text/plain": [
       "Episode length: 40000.00 +/- 0.00\n"
      ]
     },
     "metadata": {},
     "output_type": "display_data"
    },
    {
     "data": {
      "text/html": [
       "<pre style=\"white-space:pre;overflow-x:auto;line-height:normal;font-family:Menlo,'DejaVu Sans Mono',consolas,'Courier New',monospace\">Saving model checkpoint to ../logs/Train_PPO_40kReqs_300_v4_001/training/best_model_6559992_steps.zip\n",
       "</pre>\n"
      ],
      "text/plain": [
       "Saving model checkpoint to ../logs/Train_PPO_40kReqs_300_v4_001/training/best_model_6559992_steps.zip\n"
      ]
     },
     "metadata": {},
     "output_type": "display_data"
    },
    {
     "data": {
      "text/html": [
       "<pre style=\"white-space:pre;overflow-x:auto;line-height:normal;font-family:Menlo,'DejaVu Sans Mono',consolas,'Courier New',monospace\">Eval num_timesteps=6560000, episode_reward=38966.00 +/- 79.75\n",
       "</pre>\n"
      ],
      "text/plain": [
       "Eval num_timesteps=6560000, episode_reward=38966.00 +/- 79.75\n"
      ]
     },
     "metadata": {},
     "output_type": "display_data"
    },
    {
     "data": {
      "text/html": [
       "<pre style=\"white-space:pre;overflow-x:auto;line-height:normal;font-family:Menlo,'DejaVu Sans Mono',consolas,'Courier New',monospace\">Episode length: 40000.00 +/- 0.00\n",
       "</pre>\n"
      ],
      "text/plain": [
       "Episode length: 40000.00 +/- 0.00\n"
      ]
     },
     "metadata": {},
     "output_type": "display_data"
    },
    {
     "data": {
      "text/html": [
       "<pre style=\"white-space:pre;overflow-x:auto;line-height:normal;font-family:Menlo,'DejaVu Sans Mono',consolas,'Courier New',monospace\">Saving model checkpoint to ../logs/Train_PPO_40kReqs_300_v4_001/training/best_model_6599992_steps.zip\n",
       "</pre>\n"
      ],
      "text/plain": [
       "Saving model checkpoint to ../logs/Train_PPO_40kReqs_300_v4_001/training/best_model_6599992_steps.zip\n"
      ]
     },
     "metadata": {},
     "output_type": "display_data"
    },
    {
     "data": {
      "text/html": [
       "<pre style=\"white-space:pre;overflow-x:auto;line-height:normal;font-family:Menlo,'DejaVu Sans Mono',consolas,'Courier New',monospace\">Eval num_timesteps=6600000, episode_reward=38921.60 +/- 55.27\n",
       "</pre>\n"
      ],
      "text/plain": [
       "Eval num_timesteps=6600000, episode_reward=38921.60 +/- 55.27\n"
      ]
     },
     "metadata": {},
     "output_type": "display_data"
    },
    {
     "data": {
      "text/html": [
       "<pre style=\"white-space:pre;overflow-x:auto;line-height:normal;font-family:Menlo,'DejaVu Sans Mono',consolas,'Courier New',monospace\">Episode length: 40000.00 +/- 0.00\n",
       "</pre>\n"
      ],
      "text/plain": [
       "Episode length: 40000.00 +/- 0.00\n"
      ]
     },
     "metadata": {},
     "output_type": "display_data"
    },
    {
     "data": {
      "text/html": [
       "<pre style=\"white-space:pre;overflow-x:auto;line-height:normal;font-family:Menlo,'DejaVu Sans Mono',consolas,'Courier New',monospace\">Saving model checkpoint to ../logs/Train_PPO_40kReqs_300_v4_001/training/best_model_6639992_steps.zip\n",
       "</pre>\n"
      ],
      "text/plain": [
       "Saving model checkpoint to ../logs/Train_PPO_40kReqs_300_v4_001/training/best_model_6639992_steps.zip\n"
      ]
     },
     "metadata": {},
     "output_type": "display_data"
    },
    {
     "data": {
      "text/html": [
       "<pre style=\"white-space:pre;overflow-x:auto;line-height:normal;font-family:Menlo,'DejaVu Sans Mono',consolas,'Courier New',monospace\">Eval num_timesteps=6640000, episode_reward=38931.20 +/- 136.14\n",
       "</pre>\n"
      ],
      "text/plain": [
       "Eval num_timesteps=6640000, episode_reward=38931.20 +/- 136.14\n"
      ]
     },
     "metadata": {},
     "output_type": "display_data"
    },
    {
     "data": {
      "text/html": [
       "<pre style=\"white-space:pre;overflow-x:auto;line-height:normal;font-family:Menlo,'DejaVu Sans Mono',consolas,'Courier New',monospace\">Episode length: 40000.00 +/- 0.00\n",
       "</pre>\n"
      ],
      "text/plain": [
       "Episode length: 40000.00 +/- 0.00\n"
      ]
     },
     "metadata": {},
     "output_type": "display_data"
    },
    {
     "data": {
      "text/html": [
       "<pre style=\"white-space:pre;overflow-x:auto;line-height:normal;font-family:Menlo,'DejaVu Sans Mono',consolas,'Courier New',monospace\">Saving model checkpoint to ../logs/Train_PPO_40kReqs_300_v4_001/training/best_model_6679992_steps.zip\n",
       "</pre>\n"
      ],
      "text/plain": [
       "Saving model checkpoint to ../logs/Train_PPO_40kReqs_300_v4_001/training/best_model_6679992_steps.zip\n"
      ]
     },
     "metadata": {},
     "output_type": "display_data"
    },
    {
     "data": {
      "text/html": [
       "<pre style=\"white-space:pre;overflow-x:auto;line-height:normal;font-family:Menlo,'DejaVu Sans Mono',consolas,'Courier New',monospace\">Eval num_timesteps=6680000, episode_reward=38904.40 +/- 66.46\n",
       "</pre>\n"
      ],
      "text/plain": [
       "Eval num_timesteps=6680000, episode_reward=38904.40 +/- 66.46\n"
      ]
     },
     "metadata": {},
     "output_type": "display_data"
    },
    {
     "data": {
      "text/html": [
       "<pre style=\"white-space:pre;overflow-x:auto;line-height:normal;font-family:Menlo,'DejaVu Sans Mono',consolas,'Courier New',monospace\">Episode length: 40000.00 +/- 0.00\n",
       "</pre>\n"
      ],
      "text/plain": [
       "Episode length: 40000.00 +/- 0.00\n"
      ]
     },
     "metadata": {},
     "output_type": "display_data"
    },
    {
     "data": {
      "text/html": [
       "<pre style=\"white-space:pre;overflow-x:auto;line-height:normal;font-family:Menlo,'DejaVu Sans Mono',consolas,'Courier New',monospace\">Saving model checkpoint to ../logs/Train_PPO_40kReqs_300_v4_001/training/best_model_6719992_steps.zip\n",
       "</pre>\n"
      ],
      "text/plain": [
       "Saving model checkpoint to ../logs/Train_PPO_40kReqs_300_v4_001/training/best_model_6719992_steps.zip\n"
      ]
     },
     "metadata": {},
     "output_type": "display_data"
    },
    {
     "data": {
      "text/html": [
       "<pre style=\"white-space:pre;overflow-x:auto;line-height:normal;font-family:Menlo,'DejaVu Sans Mono',consolas,'Courier New',monospace\">Eval num_timesteps=6720000, episode_reward=38930.40 +/- 95.60\n",
       "</pre>\n"
      ],
      "text/plain": [
       "Eval num_timesteps=6720000, episode_reward=38930.40 +/- 95.60\n"
      ]
     },
     "metadata": {},
     "output_type": "display_data"
    },
    {
     "data": {
      "text/html": [
       "<pre style=\"white-space:pre;overflow-x:auto;line-height:normal;font-family:Menlo,'DejaVu Sans Mono',consolas,'Courier New',monospace\">Episode length: 40000.00 +/- 0.00\n",
       "</pre>\n"
      ],
      "text/plain": [
       "Episode length: 40000.00 +/- 0.00\n"
      ]
     },
     "metadata": {},
     "output_type": "display_data"
    },
    {
     "data": {
      "text/html": [
       "<pre style=\"white-space:pre;overflow-x:auto;line-height:normal;font-family:Menlo,'DejaVu Sans Mono',consolas,'Courier New',monospace\">Saving model checkpoint to ../logs/Train_PPO_40kReqs_300_v4_001/training/best_model_6759992_steps.zip\n",
       "</pre>\n"
      ],
      "text/plain": [
       "Saving model checkpoint to ../logs/Train_PPO_40kReqs_300_v4_001/training/best_model_6759992_steps.zip\n"
      ]
     },
     "metadata": {},
     "output_type": "display_data"
    },
    {
     "data": {
      "text/html": [
       "<pre style=\"white-space:pre;overflow-x:auto;line-height:normal;font-family:Menlo,'DejaVu Sans Mono',consolas,'Courier New',monospace\">Eval num_timesteps=6760000, episode_reward=39024.00 +/- 89.38\n",
       "</pre>\n"
      ],
      "text/plain": [
       "Eval num_timesteps=6760000, episode_reward=39024.00 +/- 89.38\n"
      ]
     },
     "metadata": {},
     "output_type": "display_data"
    },
    {
     "data": {
      "text/html": [
       "<pre style=\"white-space:pre;overflow-x:auto;line-height:normal;font-family:Menlo,'DejaVu Sans Mono',consolas,'Courier New',monospace\">Episode length: 40000.00 +/- 0.00\n",
       "</pre>\n"
      ],
      "text/plain": [
       "Episode length: 40000.00 +/- 0.00\n"
      ]
     },
     "metadata": {},
     "output_type": "display_data"
    },
    {
     "data": {
      "text/html": [
       "<pre style=\"white-space:pre;overflow-x:auto;line-height:normal;font-family:Menlo,'DejaVu Sans Mono',consolas,'Courier New',monospace\">Saving model checkpoint to ../logs/Train_PPO_40kReqs_300_v4_001/training/best_model_6799992_steps.zip\n",
       "</pre>\n"
      ],
      "text/plain": [
       "Saving model checkpoint to ../logs/Train_PPO_40kReqs_300_v4_001/training/best_model_6799992_steps.zip\n"
      ]
     },
     "metadata": {},
     "output_type": "display_data"
    },
    {
     "data": {
      "text/html": [
       "<pre style=\"white-space:pre;overflow-x:auto;line-height:normal;font-family:Menlo,'DejaVu Sans Mono',consolas,'Courier New',monospace\">Eval num_timesteps=6800000, episode_reward=38959.20 +/- 194.41\n",
       "</pre>\n"
      ],
      "text/plain": [
       "Eval num_timesteps=6800000, episode_reward=38959.20 +/- 194.41\n"
      ]
     },
     "metadata": {},
     "output_type": "display_data"
    },
    {
     "data": {
      "text/html": [
       "<pre style=\"white-space:pre;overflow-x:auto;line-height:normal;font-family:Menlo,'DejaVu Sans Mono',consolas,'Courier New',monospace\">Episode length: 40000.00 +/- 0.00\n",
       "</pre>\n"
      ],
      "text/plain": [
       "Episode length: 40000.00 +/- 0.00\n"
      ]
     },
     "metadata": {},
     "output_type": "display_data"
    },
    {
     "data": {
      "text/html": [
       "<pre style=\"white-space:pre;overflow-x:auto;line-height:normal;font-family:Menlo,'DejaVu Sans Mono',consolas,'Courier New',monospace\">Saving model checkpoint to ../logs/Train_PPO_40kReqs_300_v4_001/training/best_model_6839992_steps.zip\n",
       "</pre>\n"
      ],
      "text/plain": [
       "Saving model checkpoint to ../logs/Train_PPO_40kReqs_300_v4_001/training/best_model_6839992_steps.zip\n"
      ]
     },
     "metadata": {},
     "output_type": "display_data"
    },
    {
     "data": {
      "text/html": [
       "<pre style=\"white-space:pre;overflow-x:auto;line-height:normal;font-family:Menlo,'DejaVu Sans Mono',consolas,'Courier New',monospace\">Eval num_timesteps=6840000, episode_reward=38927.20 +/- 115.30\n",
       "</pre>\n"
      ],
      "text/plain": [
       "Eval num_timesteps=6840000, episode_reward=38927.20 +/- 115.30\n"
      ]
     },
     "metadata": {},
     "output_type": "display_data"
    },
    {
     "data": {
      "text/html": [
       "<pre style=\"white-space:pre;overflow-x:auto;line-height:normal;font-family:Menlo,'DejaVu Sans Mono',consolas,'Courier New',monospace\">Episode length: 40000.00 +/- 0.00\n",
       "</pre>\n"
      ],
      "text/plain": [
       "Episode length: 40000.00 +/- 0.00\n"
      ]
     },
     "metadata": {},
     "output_type": "display_data"
    },
    {
     "data": {
      "text/html": [
       "<pre style=\"white-space:pre;overflow-x:auto;line-height:normal;font-family:Menlo,'DejaVu Sans Mono',consolas,'Courier New',monospace\">Eval num_timesteps=6880000, episode_reward=39026.80 +/- 98.27\n",
       "</pre>\n"
      ],
      "text/plain": [
       "Eval num_timesteps=6880000, episode_reward=39026.80 +/- 98.27\n"
      ]
     },
     "metadata": {},
     "output_type": "display_data"
    },
    {
     "data": {
      "text/html": [
       "<pre style=\"white-space:pre;overflow-x:auto;line-height:normal;font-family:Menlo,'DejaVu Sans Mono',consolas,'Courier New',monospace\">Episode length: 40000.00 +/- 0.00\n",
       "</pre>\n"
      ],
      "text/plain": [
       "Episode length: 40000.00 +/- 0.00\n"
      ]
     },
     "metadata": {},
     "output_type": "display_data"
    },
    {
     "data": {
      "text/html": [
       "<pre style=\"white-space:pre;overflow-x:auto;line-height:normal;font-family:Menlo,'DejaVu Sans Mono',consolas,'Courier New',monospace\">Saving model checkpoint to ../logs/Train_PPO_40kReqs_300_v4_001/training/best_model_6919992_steps.zip\n",
       "</pre>\n"
      ],
      "text/plain": [
       "Saving model checkpoint to ../logs/Train_PPO_40kReqs_300_v4_001/training/best_model_6919992_steps.zip\n"
      ]
     },
     "metadata": {},
     "output_type": "display_data"
    },
    {
     "data": {
      "text/html": [
       "<pre style=\"white-space:pre;overflow-x:auto;line-height:normal;font-family:Menlo,'DejaVu Sans Mono',consolas,'Courier New',monospace\">Eval num_timesteps=6920000, episode_reward=39018.80 +/- 115.75\n",
       "</pre>\n"
      ],
      "text/plain": [
       "Eval num_timesteps=6920000, episode_reward=39018.80 +/- 115.75\n"
      ]
     },
     "metadata": {},
     "output_type": "display_data"
    },
    {
     "data": {
      "text/html": [
       "<pre style=\"white-space:pre;overflow-x:auto;line-height:normal;font-family:Menlo,'DejaVu Sans Mono',consolas,'Courier New',monospace\">Episode length: 40000.00 +/- 0.00\n",
       "</pre>\n"
      ],
      "text/plain": [
       "Episode length: 40000.00 +/- 0.00\n"
      ]
     },
     "metadata": {},
     "output_type": "display_data"
    },
    {
     "data": {
      "text/html": [
       "<pre style=\"white-space:pre;overflow-x:auto;line-height:normal;font-family:Menlo,'DejaVu Sans Mono',consolas,'Courier New',monospace\">Saving model checkpoint to ../logs/Train_PPO_40kReqs_300_v4_001/training/best_model_6959992_steps.zip\n",
       "</pre>\n"
      ],
      "text/plain": [
       "Saving model checkpoint to ../logs/Train_PPO_40kReqs_300_v4_001/training/best_model_6959992_steps.zip\n"
      ]
     },
     "metadata": {},
     "output_type": "display_data"
    },
    {
     "data": {
      "text/html": [
       "<pre style=\"white-space:pre;overflow-x:auto;line-height:normal;font-family:Menlo,'DejaVu Sans Mono',consolas,'Courier New',monospace\">Eval num_timesteps=6960000, episode_reward=38952.00 +/- 63.62\n",
       "</pre>\n"
      ],
      "text/plain": [
       "Eval num_timesteps=6960000, episode_reward=38952.00 +/- 63.62\n"
      ]
     },
     "metadata": {},
     "output_type": "display_data"
    },
    {
     "data": {
      "text/html": [
       "<pre style=\"white-space:pre;overflow-x:auto;line-height:normal;font-family:Menlo,'DejaVu Sans Mono',consolas,'Courier New',monospace\">Episode length: 40000.00 +/- 0.00\n",
       "</pre>\n"
      ],
      "text/plain": [
       "Episode length: 40000.00 +/- 0.00\n"
      ]
     },
     "metadata": {},
     "output_type": "display_data"
    },
    {
     "data": {
      "text/html": [
       "<pre style=\"white-space:pre;overflow-x:auto;line-height:normal;font-family:Menlo,'DejaVu Sans Mono',consolas,'Courier New',monospace\">Saving model checkpoint to ../logs/Train_PPO_40kReqs_300_v4_001/training/best_model_6999992_steps.zip\n",
       "</pre>\n"
      ],
      "text/plain": [
       "Saving model checkpoint to ../logs/Train_PPO_40kReqs_300_v4_001/training/best_model_6999992_steps.zip\n"
      ]
     },
     "metadata": {},
     "output_type": "display_data"
    },
    {
     "data": {
      "text/html": [
       "<pre style=\"white-space:pre;overflow-x:auto;line-height:normal;font-family:Menlo,'DejaVu Sans Mono',consolas,'Courier New',monospace\">Eval num_timesteps=7000000, episode_reward=39066.40 +/- 50.49\n",
       "</pre>\n"
      ],
      "text/plain": [
       "Eval num_timesteps=7000000, episode_reward=39066.40 +/- 50.49\n"
      ]
     },
     "metadata": {},
     "output_type": "display_data"
    },
    {
     "data": {
      "text/html": [
       "<pre style=\"white-space:pre;overflow-x:auto;line-height:normal;font-family:Menlo,'DejaVu Sans Mono',consolas,'Courier New',monospace\">Episode length: 40000.00 +/- 0.00\n",
       "</pre>\n"
      ],
      "text/plain": [
       "Episode length: 40000.00 +/- 0.00\n"
      ]
     },
     "metadata": {},
     "output_type": "display_data"
    },
    {
     "data": {
      "text/html": [
       "<pre style=\"white-space:pre;overflow-x:auto;line-height:normal;font-family:Menlo,'DejaVu Sans Mono',consolas,'Courier New',monospace\">Saving model checkpoint to ../logs/Train_PPO_40kReqs_300_v4_001/training/best_model_7039992_steps.zip\n",
       "</pre>\n"
      ],
      "text/plain": [
       "Saving model checkpoint to ../logs/Train_PPO_40kReqs_300_v4_001/training/best_model_7039992_steps.zip\n"
      ]
     },
     "metadata": {},
     "output_type": "display_data"
    },
    {
     "data": {
      "text/html": [
       "<pre style=\"white-space:pre;overflow-x:auto;line-height:normal;font-family:Menlo,'DejaVu Sans Mono',consolas,'Courier New',monospace\">Eval num_timesteps=7040000, episode_reward=39013.60 +/- 45.81\n",
       "</pre>\n"
      ],
      "text/plain": [
       "Eval num_timesteps=7040000, episode_reward=39013.60 +/- 45.81\n"
      ]
     },
     "metadata": {},
     "output_type": "display_data"
    },
    {
     "data": {
      "text/html": [
       "<pre style=\"white-space:pre;overflow-x:auto;line-height:normal;font-family:Menlo,'DejaVu Sans Mono',consolas,'Courier New',monospace\">Episode length: 40000.00 +/- 0.00\n",
       "</pre>\n"
      ],
      "text/plain": [
       "Episode length: 40000.00 +/- 0.00\n"
      ]
     },
     "metadata": {},
     "output_type": "display_data"
    },
    {
     "data": {
      "text/html": [
       "<pre style=\"white-space:pre;overflow-x:auto;line-height:normal;font-family:Menlo,'DejaVu Sans Mono',consolas,'Courier New',monospace\">Saving model checkpoint to ../logs/Train_PPO_40kReqs_300_v4_001/training/best_model_7079992_steps.zip\n",
       "</pre>\n"
      ],
      "text/plain": [
       "Saving model checkpoint to ../logs/Train_PPO_40kReqs_300_v4_001/training/best_model_7079992_steps.zip\n"
      ]
     },
     "metadata": {},
     "output_type": "display_data"
    },
    {
     "data": {
      "text/html": [
       "<pre style=\"white-space:pre;overflow-x:auto;line-height:normal;font-family:Menlo,'DejaVu Sans Mono',consolas,'Courier New',monospace\">Eval num_timesteps=7080000, episode_reward=38979.20 +/- 141.79\n",
       "</pre>\n"
      ],
      "text/plain": [
       "Eval num_timesteps=7080000, episode_reward=38979.20 +/- 141.79\n"
      ]
     },
     "metadata": {},
     "output_type": "display_data"
    },
    {
     "data": {
      "text/html": [
       "<pre style=\"white-space:pre;overflow-x:auto;line-height:normal;font-family:Menlo,'DejaVu Sans Mono',consolas,'Courier New',monospace\">Episode length: 40000.00 +/- 0.00\n",
       "</pre>\n"
      ],
      "text/plain": [
       "Episode length: 40000.00 +/- 0.00\n"
      ]
     },
     "metadata": {},
     "output_type": "display_data"
    },
    {
     "data": {
      "text/html": [
       "<pre style=\"white-space:pre;overflow-x:auto;line-height:normal;font-family:Menlo,'DejaVu Sans Mono',consolas,'Courier New',monospace\">Saving model checkpoint to ../logs/Train_PPO_40kReqs_300_v4_001/training/best_model_7119992_steps.zip\n",
       "</pre>\n"
      ],
      "text/plain": [
       "Saving model checkpoint to ../logs/Train_PPO_40kReqs_300_v4_001/training/best_model_7119992_steps.zip\n"
      ]
     },
     "metadata": {},
     "output_type": "display_data"
    },
    {
     "data": {
      "text/html": [
       "<pre style=\"white-space:pre;overflow-x:auto;line-height:normal;font-family:Menlo,'DejaVu Sans Mono',consolas,'Courier New',monospace\">Eval num_timesteps=7120000, episode_reward=38984.00 +/- 128.30\n",
       "</pre>\n"
      ],
      "text/plain": [
       "Eval num_timesteps=7120000, episode_reward=38984.00 +/- 128.30\n"
      ]
     },
     "metadata": {},
     "output_type": "display_data"
    },
    {
     "data": {
      "text/html": [
       "<pre style=\"white-space:pre;overflow-x:auto;line-height:normal;font-family:Menlo,'DejaVu Sans Mono',consolas,'Courier New',monospace\">Episode length: 40000.00 +/- 0.00\n",
       "</pre>\n"
      ],
      "text/plain": [
       "Episode length: 40000.00 +/- 0.00\n"
      ]
     },
     "metadata": {},
     "output_type": "display_data"
    },
    {
     "data": {
      "text/html": [
       "<pre style=\"white-space:pre;overflow-x:auto;line-height:normal;font-family:Menlo,'DejaVu Sans Mono',consolas,'Courier New',monospace\">Saving model checkpoint to ../logs/Train_PPO_40kReqs_300_v4_001/training/best_model_7159992_steps.zip\n",
       "</pre>\n"
      ],
      "text/plain": [
       "Saving model checkpoint to ../logs/Train_PPO_40kReqs_300_v4_001/training/best_model_7159992_steps.zip\n"
      ]
     },
     "metadata": {},
     "output_type": "display_data"
    },
    {
     "data": {
      "text/html": [
       "<pre style=\"white-space:pre;overflow-x:auto;line-height:normal;font-family:Menlo,'DejaVu Sans Mono',consolas,'Courier New',monospace\">Eval num_timesteps=7160000, episode_reward=38954.00 +/- 113.72\n",
       "</pre>\n"
      ],
      "text/plain": [
       "Eval num_timesteps=7160000, episode_reward=38954.00 +/- 113.72\n"
      ]
     },
     "metadata": {},
     "output_type": "display_data"
    },
    {
     "data": {
      "text/html": [
       "<pre style=\"white-space:pre;overflow-x:auto;line-height:normal;font-family:Menlo,'DejaVu Sans Mono',consolas,'Courier New',monospace\">Episode length: 40000.00 +/- 0.00\n",
       "</pre>\n"
      ],
      "text/plain": [
       "Episode length: 40000.00 +/- 0.00\n"
      ]
     },
     "metadata": {},
     "output_type": "display_data"
    },
    {
     "data": {
      "text/html": [
       "<pre style=\"white-space:pre;overflow-x:auto;line-height:normal;font-family:Menlo,'DejaVu Sans Mono',consolas,'Courier New',monospace\">Saving model checkpoint to ../logs/Train_PPO_40kReqs_300_v4_001/training/best_model_7199992_steps.zip\n",
       "</pre>\n"
      ],
      "text/plain": [
       "Saving model checkpoint to ../logs/Train_PPO_40kReqs_300_v4_001/training/best_model_7199992_steps.zip\n"
      ]
     },
     "metadata": {},
     "output_type": "display_data"
    },
    {
     "data": {
      "text/html": [
       "<pre style=\"white-space:pre;overflow-x:auto;line-height:normal;font-family:Menlo,'DejaVu Sans Mono',consolas,'Courier New',monospace\">Eval num_timesteps=7200000, episode_reward=38945.20 +/- 118.74\n",
       "</pre>\n"
      ],
      "text/plain": [
       "Eval num_timesteps=7200000, episode_reward=38945.20 +/- 118.74\n"
      ]
     },
     "metadata": {},
     "output_type": "display_data"
    },
    {
     "data": {
      "text/html": [
       "<pre style=\"white-space:pre;overflow-x:auto;line-height:normal;font-family:Menlo,'DejaVu Sans Mono',consolas,'Courier New',monospace\">Episode length: 40000.00 +/- 0.00\n",
       "</pre>\n"
      ],
      "text/plain": [
       "Episode length: 40000.00 +/- 0.00\n"
      ]
     },
     "metadata": {},
     "output_type": "display_data"
    },
    {
     "data": {
      "text/html": [
       "<pre style=\"white-space:pre;overflow-x:auto;line-height:normal;font-family:Menlo,'DejaVu Sans Mono',consolas,'Courier New',monospace\">Saving model checkpoint to ../logs/Train_PPO_40kReqs_300_v4_001/training/best_model_7239992_steps.zip\n",
       "</pre>\n"
      ],
      "text/plain": [
       "Saving model checkpoint to ../logs/Train_PPO_40kReqs_300_v4_001/training/best_model_7239992_steps.zip\n"
      ]
     },
     "metadata": {},
     "output_type": "display_data"
    },
    {
     "data": {
      "text/html": [
       "<pre style=\"white-space:pre;overflow-x:auto;line-height:normal;font-family:Menlo,'DejaVu Sans Mono',consolas,'Courier New',monospace\">Eval num_timesteps=7240000, episode_reward=39050.00 +/- 106.15\n",
       "</pre>\n"
      ],
      "text/plain": [
       "Eval num_timesteps=7240000, episode_reward=39050.00 +/- 106.15\n"
      ]
     },
     "metadata": {},
     "output_type": "display_data"
    },
    {
     "data": {
      "text/html": [
       "<pre style=\"white-space:pre;overflow-x:auto;line-height:normal;font-family:Menlo,'DejaVu Sans Mono',consolas,'Courier New',monospace\">Episode length: 40000.00 +/- 0.00\n",
       "</pre>\n"
      ],
      "text/plain": [
       "Episode length: 40000.00 +/- 0.00\n"
      ]
     },
     "metadata": {},
     "output_type": "display_data"
    },
    {
     "data": {
      "text/html": [
       "<pre style=\"white-space:pre;overflow-x:auto;line-height:normal;font-family:Menlo,'DejaVu Sans Mono',consolas,'Courier New',monospace\">Saving model checkpoint to ../logs/Train_PPO_40kReqs_300_v4_001/training/best_model_7279992_steps.zip\n",
       "</pre>\n"
      ],
      "text/plain": [
       "Saving model checkpoint to ../logs/Train_PPO_40kReqs_300_v4_001/training/best_model_7279992_steps.zip\n"
      ]
     },
     "metadata": {},
     "output_type": "display_data"
    },
    {
     "data": {
      "text/html": [
       "<pre style=\"white-space:pre;overflow-x:auto;line-height:normal;font-family:Menlo,'DejaVu Sans Mono',consolas,'Courier New',monospace\">Eval num_timesteps=7280000, episode_reward=39055.60 +/- 90.47\n",
       "</pre>\n"
      ],
      "text/plain": [
       "Eval num_timesteps=7280000, episode_reward=39055.60 +/- 90.47\n"
      ]
     },
     "metadata": {},
     "output_type": "display_data"
    },
    {
     "data": {
      "text/html": [
       "<pre style=\"white-space:pre;overflow-x:auto;line-height:normal;font-family:Menlo,'DejaVu Sans Mono',consolas,'Courier New',monospace\">Episode length: 40000.00 +/- 0.00\n",
       "</pre>\n"
      ],
      "text/plain": [
       "Episode length: 40000.00 +/- 0.00\n"
      ]
     },
     "metadata": {},
     "output_type": "display_data"
    },
    {
     "data": {
      "text/html": [
       "<pre style=\"white-space:pre;overflow-x:auto;line-height:normal;font-family:Menlo,'DejaVu Sans Mono',consolas,'Courier New',monospace\">Saving model checkpoint to ../logs/Train_PPO_40kReqs_300_v4_001/training/best_model_7319992_steps.zip\n",
       "</pre>\n"
      ],
      "text/plain": [
       "Saving model checkpoint to ../logs/Train_PPO_40kReqs_300_v4_001/training/best_model_7319992_steps.zip\n"
      ]
     },
     "metadata": {},
     "output_type": "display_data"
    },
    {
     "data": {
      "text/html": [
       "<pre style=\"white-space:pre;overflow-x:auto;line-height:normal;font-family:Menlo,'DejaVu Sans Mono',consolas,'Courier New',monospace\">Eval num_timesteps=7320000, episode_reward=38952.40 +/- 147.93\n",
       "</pre>\n"
      ],
      "text/plain": [
       "Eval num_timesteps=7320000, episode_reward=38952.40 +/- 147.93\n"
      ]
     },
     "metadata": {},
     "output_type": "display_data"
    },
    {
     "data": {
      "text/html": [
       "<pre style=\"white-space:pre;overflow-x:auto;line-height:normal;font-family:Menlo,'DejaVu Sans Mono',consolas,'Courier New',monospace\">Episode length: 40000.00 +/- 0.00\n",
       "</pre>\n"
      ],
      "text/plain": [
       "Episode length: 40000.00 +/- 0.00\n"
      ]
     },
     "metadata": {},
     "output_type": "display_data"
    },
    {
     "data": {
      "text/html": [
       "<pre style=\"white-space:pre;overflow-x:auto;line-height:normal;font-family:Menlo,'DejaVu Sans Mono',consolas,'Courier New',monospace\">Saving model checkpoint to ../logs/Train_PPO_40kReqs_300_v4_001/training/best_model_7359992_steps.zip\n",
       "</pre>\n"
      ],
      "text/plain": [
       "Saving model checkpoint to ../logs/Train_PPO_40kReqs_300_v4_001/training/best_model_7359992_steps.zip\n"
      ]
     },
     "metadata": {},
     "output_type": "display_data"
    },
    {
     "data": {
      "text/html": [
       "<pre style=\"white-space:pre;overflow-x:auto;line-height:normal;font-family:Menlo,'DejaVu Sans Mono',consolas,'Courier New',monospace\">Eval num_timesteps=7360000, episode_reward=38928.00 +/- 78.15\n",
       "</pre>\n"
      ],
      "text/plain": [
       "Eval num_timesteps=7360000, episode_reward=38928.00 +/- 78.15\n"
      ]
     },
     "metadata": {},
     "output_type": "display_data"
    },
    {
     "data": {
      "text/html": [
       "<pre style=\"white-space:pre;overflow-x:auto;line-height:normal;font-family:Menlo,'DejaVu Sans Mono',consolas,'Courier New',monospace\">Episode length: 40000.00 +/- 0.00\n",
       "</pre>\n"
      ],
      "text/plain": [
       "Episode length: 40000.00 +/- 0.00\n"
      ]
     },
     "metadata": {},
     "output_type": "display_data"
    },
    {
     "data": {
      "text/html": [
       "<pre style=\"white-space:pre;overflow-x:auto;line-height:normal;font-family:Menlo,'DejaVu Sans Mono',consolas,'Courier New',monospace\">Saving model checkpoint to ../logs/Train_PPO_40kReqs_300_v4_001/training/best_model_7399992_steps.zip\n",
       "</pre>\n"
      ],
      "text/plain": [
       "Saving model checkpoint to ../logs/Train_PPO_40kReqs_300_v4_001/training/best_model_7399992_steps.zip\n"
      ]
     },
     "metadata": {},
     "output_type": "display_data"
    },
    {
     "data": {
      "text/html": [
       "<pre style=\"white-space:pre;overflow-x:auto;line-height:normal;font-family:Menlo,'DejaVu Sans Mono',consolas,'Courier New',monospace\">Eval num_timesteps=7400000, episode_reward=38938.00 +/- 52.85\n",
       "</pre>\n"
      ],
      "text/plain": [
       "Eval num_timesteps=7400000, episode_reward=38938.00 +/- 52.85\n"
      ]
     },
     "metadata": {},
     "output_type": "display_data"
    },
    {
     "data": {
      "text/html": [
       "<pre style=\"white-space:pre;overflow-x:auto;line-height:normal;font-family:Menlo,'DejaVu Sans Mono',consolas,'Courier New',monospace\">Episode length: 40000.00 +/- 0.00\n",
       "</pre>\n"
      ],
      "text/plain": [
       "Episode length: 40000.00 +/- 0.00\n"
      ]
     },
     "metadata": {},
     "output_type": "display_data"
    },
    {
     "data": {
      "text/html": [
       "<pre style=\"white-space:pre;overflow-x:auto;line-height:normal;font-family:Menlo,'DejaVu Sans Mono',consolas,'Courier New',monospace\">Saving model checkpoint to ../logs/Train_PPO_40kReqs_300_v4_001/training/best_model_7439992_steps.zip\n",
       "</pre>\n"
      ],
      "text/plain": [
       "Saving model checkpoint to ../logs/Train_PPO_40kReqs_300_v4_001/training/best_model_7439992_steps.zip\n"
      ]
     },
     "metadata": {},
     "output_type": "display_data"
    },
    {
     "data": {
      "text/html": [
       "<pre style=\"white-space:pre;overflow-x:auto;line-height:normal;font-family:Menlo,'DejaVu Sans Mono',consolas,'Courier New',monospace\">Eval num_timesteps=7440000, episode_reward=38988.00 +/- 79.85\n",
       "</pre>\n"
      ],
      "text/plain": [
       "Eval num_timesteps=7440000, episode_reward=38988.00 +/- 79.85\n"
      ]
     },
     "metadata": {},
     "output_type": "display_data"
    },
    {
     "data": {
      "text/html": [
       "<pre style=\"white-space:pre;overflow-x:auto;line-height:normal;font-family:Menlo,'DejaVu Sans Mono',consolas,'Courier New',monospace\">Episode length: 40000.00 +/- 0.00\n",
       "</pre>\n"
      ],
      "text/plain": [
       "Episode length: 40000.00 +/- 0.00\n"
      ]
     },
     "metadata": {},
     "output_type": "display_data"
    },
    {
     "data": {
      "text/html": [
       "<pre style=\"white-space:pre;overflow-x:auto;line-height:normal;font-family:Menlo,'DejaVu Sans Mono',consolas,'Courier New',monospace\">Saving model checkpoint to ../logs/Train_PPO_40kReqs_300_v4_001/training/best_model_7479992_steps.zip\n",
       "</pre>\n"
      ],
      "text/plain": [
       "Saving model checkpoint to ../logs/Train_PPO_40kReqs_300_v4_001/training/best_model_7479992_steps.zip\n"
      ]
     },
     "metadata": {},
     "output_type": "display_data"
    },
    {
     "data": {
      "text/html": [
       "<pre style=\"white-space:pre;overflow-x:auto;line-height:normal;font-family:Menlo,'DejaVu Sans Mono',consolas,'Courier New',monospace\">Eval num_timesteps=7480000, episode_reward=38954.00 +/- 104.41\n",
       "</pre>\n"
      ],
      "text/plain": [
       "Eval num_timesteps=7480000, episode_reward=38954.00 +/- 104.41\n"
      ]
     },
     "metadata": {},
     "output_type": "display_data"
    },
    {
     "data": {
      "text/html": [
       "<pre style=\"white-space:pre;overflow-x:auto;line-height:normal;font-family:Menlo,'DejaVu Sans Mono',consolas,'Courier New',monospace\">Episode length: 40000.00 +/- 0.00\n",
       "</pre>\n"
      ],
      "text/plain": [
       "Episode length: 40000.00 +/- 0.00\n"
      ]
     },
     "metadata": {},
     "output_type": "display_data"
    },
    {
     "data": {
      "text/html": [
       "<pre style=\"white-space:pre;overflow-x:auto;line-height:normal;font-family:Menlo,'DejaVu Sans Mono',consolas,'Courier New',monospace\">Saving model checkpoint to ../logs/Train_PPO_40kReqs_300_v4_001/training/best_model_7519992_steps.zip\n",
       "</pre>\n"
      ],
      "text/plain": [
       "Saving model checkpoint to ../logs/Train_PPO_40kReqs_300_v4_001/training/best_model_7519992_steps.zip\n"
      ]
     },
     "metadata": {},
     "output_type": "display_data"
    },
    {
     "data": {
      "text/html": [
       "<pre style=\"white-space:pre;overflow-x:auto;line-height:normal;font-family:Menlo,'DejaVu Sans Mono',consolas,'Courier New',monospace\">Eval num_timesteps=7520000, episode_reward=39026.80 +/- 78.46\n",
       "</pre>\n"
      ],
      "text/plain": [
       "Eval num_timesteps=7520000, episode_reward=39026.80 +/- 78.46\n"
      ]
     },
     "metadata": {},
     "output_type": "display_data"
    },
    {
     "data": {
      "text/html": [
       "<pre style=\"white-space:pre;overflow-x:auto;line-height:normal;font-family:Menlo,'DejaVu Sans Mono',consolas,'Courier New',monospace\">Episode length: 40000.00 +/- 0.00\n",
       "</pre>\n"
      ],
      "text/plain": [
       "Episode length: 40000.00 +/- 0.00\n"
      ]
     },
     "metadata": {},
     "output_type": "display_data"
    },
    {
     "data": {
      "text/html": [
       "<pre style=\"white-space:pre;overflow-x:auto;line-height:normal;font-family:Menlo,'DejaVu Sans Mono',consolas,'Courier New',monospace\">Saving model checkpoint to ../logs/Train_PPO_40kReqs_300_v4_001/training/best_model_7559992_steps.zip\n",
       "</pre>\n"
      ],
      "text/plain": [
       "Saving model checkpoint to ../logs/Train_PPO_40kReqs_300_v4_001/training/best_model_7559992_steps.zip\n"
      ]
     },
     "metadata": {},
     "output_type": "display_data"
    },
    {
     "data": {
      "text/html": [
       "<pre style=\"white-space:pre;overflow-x:auto;line-height:normal;font-family:Menlo,'DejaVu Sans Mono',consolas,'Courier New',monospace\">Eval num_timesteps=7560000, episode_reward=39020.00 +/- 60.44\n",
       "</pre>\n"
      ],
      "text/plain": [
       "Eval num_timesteps=7560000, episode_reward=39020.00 +/- 60.44\n"
      ]
     },
     "metadata": {},
     "output_type": "display_data"
    },
    {
     "data": {
      "text/html": [
       "<pre style=\"white-space:pre;overflow-x:auto;line-height:normal;font-family:Menlo,'DejaVu Sans Mono',consolas,'Courier New',monospace\">Episode length: 40000.00 +/- 0.00\n",
       "</pre>\n"
      ],
      "text/plain": [
       "Episode length: 40000.00 +/- 0.00\n"
      ]
     },
     "metadata": {},
     "output_type": "display_data"
    },
    {
     "data": {
      "text/html": [
       "<pre style=\"white-space:pre;overflow-x:auto;line-height:normal;font-family:Menlo,'DejaVu Sans Mono',consolas,'Courier New',monospace\">Saving model checkpoint to ../logs/Train_PPO_40kReqs_300_v4_001/training/best_model_7599992_steps.zip\n",
       "</pre>\n"
      ],
      "text/plain": [
       "Saving model checkpoint to ../logs/Train_PPO_40kReqs_300_v4_001/training/best_model_7599992_steps.zip\n"
      ]
     },
     "metadata": {},
     "output_type": "display_data"
    },
    {
     "data": {
      "text/html": [
       "<pre style=\"white-space:pre;overflow-x:auto;line-height:normal;font-family:Menlo,'DejaVu Sans Mono',consolas,'Courier New',monospace\">Eval num_timesteps=7600000, episode_reward=38939.20 +/- 119.44\n",
       "</pre>\n"
      ],
      "text/plain": [
       "Eval num_timesteps=7600000, episode_reward=38939.20 +/- 119.44\n"
      ]
     },
     "metadata": {},
     "output_type": "display_data"
    },
    {
     "data": {
      "text/html": [
       "<pre style=\"white-space:pre;overflow-x:auto;line-height:normal;font-family:Menlo,'DejaVu Sans Mono',consolas,'Courier New',monospace\">Episode length: 40000.00 +/- 0.00\n",
       "</pre>\n"
      ],
      "text/plain": [
       "Episode length: 40000.00 +/- 0.00\n"
      ]
     },
     "metadata": {},
     "output_type": "display_data"
    },
    {
     "data": {
      "text/html": [
       "<pre style=\"white-space:pre;overflow-x:auto;line-height:normal;font-family:Menlo,'DejaVu Sans Mono',consolas,'Courier New',monospace\">Saving model checkpoint to ../logs/Train_PPO_40kReqs_300_v4_001/training/best_model_7639992_steps.zip\n",
       "</pre>\n"
      ],
      "text/plain": [
       "Saving model checkpoint to ../logs/Train_PPO_40kReqs_300_v4_001/training/best_model_7639992_steps.zip\n"
      ]
     },
     "metadata": {},
     "output_type": "display_data"
    },
    {
     "data": {
      "text/html": [
       "<pre style=\"white-space:pre;overflow-x:auto;line-height:normal;font-family:Menlo,'DejaVu Sans Mono',consolas,'Courier New',monospace\">Eval num_timesteps=7640000, episode_reward=39024.00 +/- 92.99\n",
       "</pre>\n"
      ],
      "text/plain": [
       "Eval num_timesteps=7640000, episode_reward=39024.00 +/- 92.99\n"
      ]
     },
     "metadata": {},
     "output_type": "display_data"
    },
    {
     "data": {
      "text/html": [
       "<pre style=\"white-space:pre;overflow-x:auto;line-height:normal;font-family:Menlo,'DejaVu Sans Mono',consolas,'Courier New',monospace\">Episode length: 40000.00 +/- 0.00\n",
       "</pre>\n"
      ],
      "text/plain": [
       "Episode length: 40000.00 +/- 0.00\n"
      ]
     },
     "metadata": {},
     "output_type": "display_data"
    },
    {
     "data": {
      "text/html": [
       "<pre style=\"white-space:pre;overflow-x:auto;line-height:normal;font-family:Menlo,'DejaVu Sans Mono',consolas,'Courier New',monospace\">Saving model checkpoint to ../logs/Train_PPO_40kReqs_300_v4_001/training/best_model_7679992_steps.zip\n",
       "</pre>\n"
      ],
      "text/plain": [
       "Saving model checkpoint to ../logs/Train_PPO_40kReqs_300_v4_001/training/best_model_7679992_steps.zip\n"
      ]
     },
     "metadata": {},
     "output_type": "display_data"
    },
    {
     "data": {
      "text/html": [
       "<pre style=\"white-space:pre;overflow-x:auto;line-height:normal;font-family:Menlo,'DejaVu Sans Mono',consolas,'Courier New',monospace\">Eval num_timesteps=7680000, episode_reward=39044.00 +/- 23.49\n",
       "</pre>\n"
      ],
      "text/plain": [
       "Eval num_timesteps=7680000, episode_reward=39044.00 +/- 23.49\n"
      ]
     },
     "metadata": {},
     "output_type": "display_data"
    },
    {
     "data": {
      "text/html": [
       "<pre style=\"white-space:pre;overflow-x:auto;line-height:normal;font-family:Menlo,'DejaVu Sans Mono',consolas,'Courier New',monospace\">Episode length: 40000.00 +/- 0.00\n",
       "</pre>\n"
      ],
      "text/plain": [
       "Episode length: 40000.00 +/- 0.00\n"
      ]
     },
     "metadata": {},
     "output_type": "display_data"
    },
    {
     "data": {
      "text/html": [
       "<pre style=\"white-space:pre;overflow-x:auto;line-height:normal;font-family:Menlo,'DejaVu Sans Mono',consolas,'Courier New',monospace\">Saving model checkpoint to ../logs/Train_PPO_40kReqs_300_v4_001/training/best_model_7719992_steps.zip\n",
       "</pre>\n"
      ],
      "text/plain": [
       "Saving model checkpoint to ../logs/Train_PPO_40kReqs_300_v4_001/training/best_model_7719992_steps.zip\n"
      ]
     },
     "metadata": {},
     "output_type": "display_data"
    },
    {
     "data": {
      "text/html": [
       "<pre style=\"white-space:pre;overflow-x:auto;line-height:normal;font-family:Menlo,'DejaVu Sans Mono',consolas,'Courier New',monospace\">Eval num_timesteps=7720000, episode_reward=39101.60 +/- 65.11\n",
       "</pre>\n"
      ],
      "text/plain": [
       "Eval num_timesteps=7720000, episode_reward=39101.60 +/- 65.11\n"
      ]
     },
     "metadata": {},
     "output_type": "display_data"
    },
    {
     "data": {
      "text/html": [
       "<pre style=\"white-space:pre;overflow-x:auto;line-height:normal;font-family:Menlo,'DejaVu Sans Mono',consolas,'Courier New',monospace\">Episode length: 40000.00 +/- 0.00\n",
       "</pre>\n"
      ],
      "text/plain": [
       "Episode length: 40000.00 +/- 0.00\n"
      ]
     },
     "metadata": {},
     "output_type": "display_data"
    },
    {
     "data": {
      "text/html": [
       "<pre style=\"white-space:pre;overflow-x:auto;line-height:normal;font-family:Menlo,'DejaVu Sans Mono',consolas,'Courier New',monospace\">Saving model checkpoint to ../logs/Train_PPO_40kReqs_300_v4_001/training/best_model_7759992_steps.zip\n",
       "</pre>\n"
      ],
      "text/plain": [
       "Saving model checkpoint to ../logs/Train_PPO_40kReqs_300_v4_001/training/best_model_7759992_steps.zip\n"
      ]
     },
     "metadata": {},
     "output_type": "display_data"
    },
    {
     "data": {
      "text/html": [
       "<pre style=\"white-space:pre;overflow-x:auto;line-height:normal;font-family:Menlo,'DejaVu Sans Mono',consolas,'Courier New',monospace\">Eval num_timesteps=7760000, episode_reward=38915.60 +/- 74.49\n",
       "</pre>\n"
      ],
      "text/plain": [
       "Eval num_timesteps=7760000, episode_reward=38915.60 +/- 74.49\n"
      ]
     },
     "metadata": {},
     "output_type": "display_data"
    },
    {
     "data": {
      "text/html": [
       "<pre style=\"white-space:pre;overflow-x:auto;line-height:normal;font-family:Menlo,'DejaVu Sans Mono',consolas,'Courier New',monospace\">Episode length: 40000.00 +/- 0.00\n",
       "</pre>\n"
      ],
      "text/plain": [
       "Episode length: 40000.00 +/- 0.00\n"
      ]
     },
     "metadata": {},
     "output_type": "display_data"
    },
    {
     "data": {
      "text/html": [
       "<pre style=\"white-space:pre;overflow-x:auto;line-height:normal;font-family:Menlo,'DejaVu Sans Mono',consolas,'Courier New',monospace\">Saving model checkpoint to ../logs/Train_PPO_40kReqs_300_v4_001/training/best_model_7799992_steps.zip\n",
       "</pre>\n"
      ],
      "text/plain": [
       "Saving model checkpoint to ../logs/Train_PPO_40kReqs_300_v4_001/training/best_model_7799992_steps.zip\n"
      ]
     },
     "metadata": {},
     "output_type": "display_data"
    },
    {
     "data": {
      "text/html": [
       "<pre style=\"white-space:pre;overflow-x:auto;line-height:normal;font-family:Menlo,'DejaVu Sans Mono',consolas,'Courier New',monospace\">Eval num_timesteps=7800000, episode_reward=38927.20 +/- 74.42\n",
       "</pre>\n"
      ],
      "text/plain": [
       "Eval num_timesteps=7800000, episode_reward=38927.20 +/- 74.42\n"
      ]
     },
     "metadata": {},
     "output_type": "display_data"
    },
    {
     "data": {
      "text/html": [
       "<pre style=\"white-space:pre;overflow-x:auto;line-height:normal;font-family:Menlo,'DejaVu Sans Mono',consolas,'Courier New',monospace\">Episode length: 40000.00 +/- 0.00\n",
       "</pre>\n"
      ],
      "text/plain": [
       "Episode length: 40000.00 +/- 0.00\n"
      ]
     },
     "metadata": {},
     "output_type": "display_data"
    },
    {
     "data": {
      "text/html": [
       "<pre style=\"white-space:pre;overflow-x:auto;line-height:normal;font-family:Menlo,'DejaVu Sans Mono',consolas,'Courier New',monospace\">Saving model checkpoint to ../logs/Train_PPO_40kReqs_300_v4_001/training/best_model_7839992_steps.zip\n",
       "</pre>\n"
      ],
      "text/plain": [
       "Saving model checkpoint to ../logs/Train_PPO_40kReqs_300_v4_001/training/best_model_7839992_steps.zip\n"
      ]
     },
     "metadata": {},
     "output_type": "display_data"
    },
    {
     "data": {
      "text/html": [
       "<pre style=\"white-space:pre;overflow-x:auto;line-height:normal;font-family:Menlo,'DejaVu Sans Mono',consolas,'Courier New',monospace\">Eval num_timesteps=7840000, episode_reward=38992.80 +/- 48.13\n",
       "</pre>\n"
      ],
      "text/plain": [
       "Eval num_timesteps=7840000, episode_reward=38992.80 +/- 48.13\n"
      ]
     },
     "metadata": {},
     "output_type": "display_data"
    },
    {
     "data": {
      "text/html": [
       "<pre style=\"white-space:pre;overflow-x:auto;line-height:normal;font-family:Menlo,'DejaVu Sans Mono',consolas,'Courier New',monospace\">Episode length: 40000.00 +/- 0.00\n",
       "</pre>\n"
      ],
      "text/plain": [
       "Episode length: 40000.00 +/- 0.00\n"
      ]
     },
     "metadata": {},
     "output_type": "display_data"
    },
    {
     "data": {
      "text/html": [
       "<pre style=\"white-space:pre;overflow-x:auto;line-height:normal;font-family:Menlo,'DejaVu Sans Mono',consolas,'Courier New',monospace\">Saving model checkpoint to ../logs/Train_PPO_40kReqs_300_v4_001/training/best_model_7879992_steps.zip\n",
       "</pre>\n"
      ],
      "text/plain": [
       "Saving model checkpoint to ../logs/Train_PPO_40kReqs_300_v4_001/training/best_model_7879992_steps.zip\n"
      ]
     },
     "metadata": {},
     "output_type": "display_data"
    },
    {
     "data": {
      "text/html": [
       "<pre style=\"white-space:pre;overflow-x:auto;line-height:normal;font-family:Menlo,'DejaVu Sans Mono',consolas,'Courier New',monospace\">Eval num_timesteps=7880000, episode_reward=39061.60 +/- 56.09\n",
       "</pre>\n"
      ],
      "text/plain": [
       "Eval num_timesteps=7880000, episode_reward=39061.60 +/- 56.09\n"
      ]
     },
     "metadata": {},
     "output_type": "display_data"
    },
    {
     "data": {
      "text/html": [
       "<pre style=\"white-space:pre;overflow-x:auto;line-height:normal;font-family:Menlo,'DejaVu Sans Mono',consolas,'Courier New',monospace\">Episode length: 40000.00 +/- 0.00\n",
       "</pre>\n"
      ],
      "text/plain": [
       "Episode length: 40000.00 +/- 0.00\n"
      ]
     },
     "metadata": {},
     "output_type": "display_data"
    },
    {
     "data": {
      "text/html": [
       "<pre style=\"white-space:pre;overflow-x:auto;line-height:normal;font-family:Menlo,'DejaVu Sans Mono',consolas,'Courier New',monospace\">Saving model checkpoint to ../logs/Train_PPO_40kReqs_300_v4_001/training/best_model_7919992_steps.zip\n",
       "</pre>\n"
      ],
      "text/plain": [
       "Saving model checkpoint to ../logs/Train_PPO_40kReqs_300_v4_001/training/best_model_7919992_steps.zip\n"
      ]
     },
     "metadata": {},
     "output_type": "display_data"
    },
    {
     "data": {
      "text/html": [
       "<pre style=\"white-space:pre;overflow-x:auto;line-height:normal;font-family:Menlo,'DejaVu Sans Mono',consolas,'Courier New',monospace\">Eval num_timesteps=7920000, episode_reward=39038.40 +/- 86.18\n",
       "</pre>\n"
      ],
      "text/plain": [
       "Eval num_timesteps=7920000, episode_reward=39038.40 +/- 86.18\n"
      ]
     },
     "metadata": {},
     "output_type": "display_data"
    },
    {
     "data": {
      "text/html": [
       "<pre style=\"white-space:pre;overflow-x:auto;line-height:normal;font-family:Menlo,'DejaVu Sans Mono',consolas,'Courier New',monospace\">Episode length: 40000.00 +/- 0.00\n",
       "</pre>\n"
      ],
      "text/plain": [
       "Episode length: 40000.00 +/- 0.00\n"
      ]
     },
     "metadata": {},
     "output_type": "display_data"
    },
    {
     "data": {
      "text/html": [
       "<pre style=\"white-space:pre;overflow-x:auto;line-height:normal;font-family:Menlo,'DejaVu Sans Mono',consolas,'Courier New',monospace\">Saving model checkpoint to ../logs/Train_PPO_40kReqs_300_v4_001/training/best_model_7959992_steps.zip\n",
       "</pre>\n"
      ],
      "text/plain": [
       "Saving model checkpoint to ../logs/Train_PPO_40kReqs_300_v4_001/training/best_model_7959992_steps.zip\n"
      ]
     },
     "metadata": {},
     "output_type": "display_data"
    },
    {
     "data": {
      "text/html": [
       "<pre style=\"white-space:pre;overflow-x:auto;line-height:normal;font-family:Menlo,'DejaVu Sans Mono',consolas,'Courier New',monospace\">Eval num_timesteps=7960000, episode_reward=38934.80 +/- 103.43\n",
       "</pre>\n"
      ],
      "text/plain": [
       "Eval num_timesteps=7960000, episode_reward=38934.80 +/- 103.43\n"
      ]
     },
     "metadata": {},
     "output_type": "display_data"
    },
    {
     "data": {
      "text/html": [
       "<pre style=\"white-space:pre;overflow-x:auto;line-height:normal;font-family:Menlo,'DejaVu Sans Mono',consolas,'Courier New',monospace\">Episode length: 40000.00 +/- 0.00\n",
       "</pre>\n"
      ],
      "text/plain": [
       "Episode length: 40000.00 +/- 0.00\n"
      ]
     },
     "metadata": {},
     "output_type": "display_data"
    },
    {
     "data": {
      "text/html": [
       "<pre style=\"white-space:pre;overflow-x:auto;line-height:normal;font-family:Menlo,'DejaVu Sans Mono',consolas,'Courier New',monospace\">Saving model checkpoint to ../logs/Train_PPO_40kReqs_300_v4_001/training/best_model_7999992_steps.zip\n",
       "</pre>\n"
      ],
      "text/plain": [
       "Saving model checkpoint to ../logs/Train_PPO_40kReqs_300_v4_001/training/best_model_7999992_steps.zip\n"
      ]
     },
     "metadata": {},
     "output_type": "display_data"
    },
    {
     "data": {
      "text/html": [
       "<pre style=\"white-space:pre;overflow-x:auto;line-height:normal;font-family:Menlo,'DejaVu Sans Mono',consolas,'Courier New',monospace\">Eval num_timesteps=8000000, episode_reward=38967.20 +/- 66.56\n",
       "</pre>\n"
      ],
      "text/plain": [
       "Eval num_timesteps=8000000, episode_reward=38967.20 +/- 66.56\n"
      ]
     },
     "metadata": {},
     "output_type": "display_data"
    },
    {
     "data": {
      "text/html": [
       "<pre style=\"white-space:pre;overflow-x:auto;line-height:normal;font-family:Menlo,'DejaVu Sans Mono',consolas,'Courier New',monospace\">Episode length: 40000.00 +/- 0.00\n",
       "</pre>\n"
      ],
      "text/plain": [
       "Episode length: 40000.00 +/- 0.00\n"
      ]
     },
     "metadata": {},
     "output_type": "display_data"
    },
    {
     "data": {
      "text/html": [
       "<pre style=\"white-space:pre;overflow-x:auto;line-height:normal;font-family:Menlo,'DejaVu Sans Mono',consolas,'Courier New',monospace\"></pre>\n"
      ],
      "text/plain": []
     },
     "metadata": {},
     "output_type": "display_data"
    },
    {
     "data": {
      "text/html": [
       "<pre style=\"white-space:pre;overflow-x:auto;line-height:normal;font-family:Menlo,'DejaVu Sans Mono',consolas,'Courier New',monospace\">\n",
       "</pre>\n"
      ],
      "text/plain": [
       "\n"
      ]
     },
     "metadata": {},
     "output_type": "display_data"
    }
   ],
   "source": [
    "# Configura como deve ser o ambiente\n",
    "enviroment_type = {\n",
    "    \"Observation\": \"availability-vector\",\n",
    "    \"Action\": \"RSA-SAR\",\n",
    "    \"Reward\": \"RL-defaut\",\n",
    "    \"StopCond\": \"40kReqs\",\n",
    "    \"StartCond\": \"Empty\"\n",
    "}\n",
    "\n",
    "# Cria o ambiente de simulação\n",
    "env = Enviroment(\n",
    "    network_load=300,\n",
    "    k_routes=K_ROUTES,\n",
    "    number_of_slots=NUMBER_OF_SLOTS,\n",
    "    enviroment_type=enviroment_type,\n",
    "    data_folder=\"Train_PPO_40kReqs_300_v4\",\n",
    ")\n",
    "\n",
    "# Cria o log path\n",
    "LOG_PATH = env.folder_name\n",
    "\n",
    "print(f\"Using the enviroment {enviroment_type}\")\n",
    "\n",
    "print(f\"Using the log path {LOG_PATH}\")\n",
    "\n",
    "# Criando o diretório para o monitoramento\n",
    "monitor_dir = LOG_PATH + \"\\\\monitor_logs\"\n",
    "os.makedirs(monitor_dir, exist_ok=True)\n",
    "\n",
    "# Criando o monitor para monitorar o ambiente\n",
    "env = Monitor(env, monitor_dir)\n",
    "\n",
    "# Cria o dicionário com as configurações da política da rede. \n",
    "policy_kwargs = dict(\n",
    "    activation_fn=th.nn.LeakyReLU,\n",
    "    net_arch=dict(pi=[512, 128], vf=[512, 128]))\n",
    "\n",
    "# Create the agent\n",
    "model = PPO(\n",
    "    \"MlpPolicy\", \n",
    "    env,\n",
    "    policy_kwargs=policy_kwargs,\n",
    "    learning_rate=0.0002,\n",
    "    verbose=0, \n",
    "    tensorboard_log=LOG_PATH + '\\\\tensorboard\\\\', \n",
    "    seed=42\n",
    ")\n",
    "\n",
    "# Callback para salvar o melhor modelo\n",
    "best_model_callback = CheckpointCallback(\n",
    "    save_freq=40_000, \n",
    "    save_path=LOG_PATH + '/training/', \n",
    "    name_prefix='best_model',\n",
    "    verbose=2\n",
    ")\n",
    "\n",
    "# Callback de avaliação\n",
    "eval_callback = EvalCallback(\n",
    "    env, \n",
    "    best_model_callback, \n",
    "    eval_freq=40_000, \n",
    "    deterministic=True, \n",
    "    best_model_save_path=LOG_PATH + '\\\\training\\\\best_model',\n",
    "    log_path=LOG_PATH + '\\\\training\\\\logs',\n",
    "    render=False, \n",
    "    verbose=2\n",
    ")\n",
    "\n",
    "model.learn(\n",
    "    total_timesteps=8_000_000, \n",
    "    callback=[TensorboardCallback(), best_model_callback, eval_callback],\n",
    "    progress_bar=True, \n",
    "    tb_log_name=\"Model_v4\"\n",
    ")\n",
    "\n",
    "# Salva o modelo treinado\n",
    "model.save(LOG_PATH + '\\\\training\\\\final_model')\n"
   ]
  }
 ],
 "metadata": {
  "kernelspec": {
   "display_name": "venv",
   "language": "python",
   "name": "python3"
  },
  "language_info": {
   "codemirror_mode": {
    "name": "ipython",
    "version": 3
   },
   "file_extension": ".py",
   "mimetype": "text/x-python",
   "name": "python",
   "nbconvert_exporter": "python",
   "pygments_lexer": "ipython3",
   "version": "3.11.7"
  }
 },
 "nbformat": 4,
 "nbformat_minor": 2
}
