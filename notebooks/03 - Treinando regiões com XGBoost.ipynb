{
 "cells": [
  {
   "cell_type": "code",
   "execution_count": 1,
   "metadata": {},
   "outputs": [],
   "source": [
    "import xgboost as xgb\n",
    "import numpy as np\n",
    "import pandas as pd\n",
    "import torch"
   ]
  },
  {
   "cell_type": "code",
   "execution_count": 2,
   "metadata": {},
   "outputs": [],
   "source": [
    "X_train = pd.read_pickle('X_train.pkl')\n",
    "y_train = pd.read_pickle('y_train.pkl')\n",
    "X_test = pd.read_pickle('X_test.pkl')\n",
    "y_test = pd.read_pickle('y_test.pkl')\n"
   ]
  },
  {
   "cell_type": "code",
   "execution_count": 3,
   "metadata": {},
   "outputs": [],
   "source": [
    "# Converte os tipos das variáveis para boleano\n",
    "X_train = X_train.astype(np.float32)\n",
    "X_test = X_test.astype(np.float32)\n",
    "y_train = y_train.astype(np.int8)\n",
    "y_test = y_test.astype(np.int8)"
   ]
  },
  {
   "cell_type": "code",
   "execution_count": 4,
   "metadata": {},
   "outputs": [],
   "source": [
    "X_train = X_train.to_numpy()\n",
    "X_test = X_test.to_numpy()\n",
    "\n",
    "y_train = y_train.to_numpy()\n",
    "y_test = y_test.to_numpy()"
   ]
  },
  {
   "cell_type": "code",
   "execution_count": 5,
   "metadata": {},
   "outputs": [
    {
     "name": "stdout",
     "output_type": "stream",
     "text": [
      "FIM\n"
     ]
    }
   ],
   "source": [
    "X_train = torch.from_numpy(X_train).type(torch.float)\n",
    "X_test = torch.from_numpy(X_test).type(torch.float)\n",
    "\n",
    "y_train = torch.from_numpy(y_train).type(torch.LongTensor)\n",
    "y_test = torch.from_numpy(y_test).type(torch.LongTensor)\n",
    "\n",
    "y_train = y_train.squeeze()\n",
    "y_test = y_test.squeeze()\n",
    "\n",
    "print(\"FIM\")"
   ]
  },
  {
   "cell_type": "code",
   "execution_count": 6,
   "metadata": {},
   "outputs": [
    {
     "data": {
      "text/plain": [
       "torch.Size([900000, 741])"
      ]
     },
     "execution_count": 6,
     "metadata": {},
     "output_type": "execute_result"
    }
   ],
   "source": [
    "X_train.shape"
   ]
  },
  {
   "cell_type": "code",
   "execution_count": 7,
   "metadata": {},
   "outputs": [],
   "source": [
    "from torch import nn\n",
    "    \n",
    "class Model_Mul1_4_v1(nn.Module):\n",
    "    def __init__(self):\n",
    "        super().__init__()\n",
    "        self.linear_layer_stack = nn.Sequential(\n",
    "            nn.Linear(741, 4096),\n",
    "            nn.LeakyReLU(inplace=True),\n",
    "            nn.Dropout(p=0.25),\n",
    "            nn.Linear(4096, 512),\n",
    "            nn.LeakyReLU(inplace=True),\n",
    "            nn.Dropout(p=0.25),\n",
    "            nn.Linear(512, 4)\n",
    "        )\n",
    "\n",
    "    def forward(self, x):\n",
    "        return self.linear_layer_stack(x)"
   ]
  },
  {
   "cell_type": "code",
   "execution_count": 8,
   "metadata": {},
   "outputs": [
    {
     "name": "stdout",
     "output_type": "stream",
     "text": [
      "5,138,948 parâmetros livres\n"
     ]
    }
   ],
   "source": [
    "# importando o ReduceLROnPlateau\n",
    "from torch.optim.lr_scheduler import StepLR\n",
    "\n",
    "# Criando uma instância do nosso modelo\n",
    "model = Model_Mul1_4_v1()\n",
    "\n",
    "total_params = sum(p.numel() for p in model.parameters() if p.requires_grad)\n",
    "print(f'{total_params:,} parâmetros livres')\n",
    "\n",
    "# Cria uma função de erro otimizada para binário\n",
    "loss_fn = nn.CrossEntropyLoss()\n",
    "\n",
    "# Cria o otimizador do modelo\n",
    "optimizer = torch.optim.Adam(model.parameters(),\n",
    "                            lr=0.0004059707459502205,\n",
    "                            weight_decay=8.8e-07,\n",
    "                            betas=(0.9, 0.999),\n",
    "                            eps=1e-08,\n",
    "                            amsgrad=True\n",
    "                            ) \n",
    "\n",
    "# Cria o escalonador de taxa de aprendizado\n",
    "scheduler = StepLR(optimizer, step_size=1, gamma=0.997)"
   ]
  },
  {
   "cell_type": "code",
   "execution_count": 9,
   "metadata": {},
   "outputs": [
    {
     "name": "stdout",
     "output_type": "stream",
     "text": [
      "Epoch: 0 | Treinamento: 880/878 | Teste: 118/117 | Loss: 1.1984, Acc: 0.4530 | Test Loss: 1.1171, Test acc: 0.5046 | Learning rate: 0.00040597\n",
      "Epoch: 1 | Treinamento: 880/878 | Teste: 118/117 | Loss: 1.0725, Acc: 0.5226 | Test Loss: 1.0165, Test acc: 0.5516 | Learning rate: 0.00040475\n",
      "Epoch: 2 | Treinamento: 880/878 | Teste: 118/117 | Loss: 1.0183, Acc: 0.5490 | Test Loss: 0.9881, Test acc: 0.5683 | Learning rate: 0.00040354\n",
      "Epoch: 3 | Treinamento: 880/878 | Teste: 118/117 | Loss: 0.9826, Acc: 0.5669 | Test Loss: 0.9512, Test acc: 0.5849 | Learning rate: 0.00040233\n",
      "Epoch: 4 | Treinamento: 880/878 | Teste: 118/117 | Loss: 0.9556, Acc: 0.5807 | Test Loss: 0.9216, Test acc: 0.5992 | Learning rate: 0.00040112\n",
      "Epoch: 5 | Treinamento: 880/878 | Teste: 118/117 | Loss: 0.9313, Acc: 0.5927 | Test Loss: 0.9248, Test acc: 0.5981 | Learning rate: 0.00039992\n",
      "Epoch: 6 | Treinamento: 880/878 | Teste: 118/117 | Loss: 0.9112, Acc: 0.6036 | Test Loss: 0.8848, Test acc: 0.6214 | Learning rate: 0.00039872\n",
      "Epoch: 7 | Treinamento: 880/878 | Teste: 118/117 | Loss: 0.8928, Acc: 0.6130 | Test Loss: 0.8757, Test acc: 0.6247 | Learning rate: 0.00039752\n",
      "Epoch: 8 | Treinamento: 880/878 | Teste: 118/117 | Loss: 0.8736, Acc: 0.6225 | Test Loss: 0.8669, Test acc: 0.6283 | Learning rate: 0.00039633\n",
      "Epoch: 9 | Treinamento: 880/878 | Teste: 118/117 | Loss: 0.8581, Acc: 0.6300 | Test Loss: 0.8584, Test acc: 0.6344 | Learning rate: 0.00039514\n",
      "Epoch: 10 | Treinamento: 880/878 | Teste: 118/117 | Loss: 0.8458, Acc: 0.6370 | Test Loss: 0.8334, Test acc: 0.6447 | Learning rate: 0.00039395\n",
      "Epoch: 11 | Treinamento: 880/878 | Teste: 118/117 | Loss: 0.8321, Acc: 0.6429 | Test Loss: 0.8330, Test acc: 0.6456 | Learning rate: 0.00039277\n",
      "Epoch: 12 | Treinamento: 880/878 | Teste: 118/117 | Loss: 0.8199, Acc: 0.6487 | Test Loss: 0.8140, Test acc: 0.6563 | Learning rate: 0.00039159\n",
      "Epoch: 13 | Treinamento: 880/878 | Teste: 118/117 | Loss: 0.8061, Acc: 0.6557 | Test Loss: 0.8074, Test acc: 0.6566 | Learning rate: 0.00039042\n",
      "Epoch: 14 | Treinamento: 428/878"
     ]
    },
    {
     "ename": "KeyboardInterrupt",
     "evalue": "",
     "output_type": "error",
     "traceback": [
      "\u001b[1;31m---------------------------------------------------------------------------\u001b[0m",
      "\u001b[1;31mKeyboardInterrupt\u001b[0m                         Traceback (most recent call last)",
      "Cell \u001b[1;32mIn[9], line 68\u001b[0m\n\u001b[0;32m     65\u001b[0m num_samples \u001b[38;5;241m+\u001b[39m\u001b[38;5;241m=\u001b[39m \u001b[38;5;28mlen\u001b[39m(inputs)\n\u001b[0;32m     67\u001b[0m \u001b[38;5;66;03m# Backward pass\u001b[39;00m\n\u001b[1;32m---> 68\u001b[0m \u001b[43mloss\u001b[49m\u001b[38;5;241;43m.\u001b[39;49m\u001b[43mbackward\u001b[49m\u001b[43m(\u001b[49m\u001b[43m)\u001b[49m\n\u001b[0;32m     70\u001b[0m \u001b[38;5;66;03m# Atualiza os pesos\u001b[39;00m\n\u001b[0;32m     71\u001b[0m optimizer\u001b[38;5;241m.\u001b[39mstep()\n",
      "File \u001b[1;32md:\\PythonEnvironment\\PhDVenv\\Lib\\site-packages\\torch\\_tensor.py:487\u001b[0m, in \u001b[0;36mTensor.backward\u001b[1;34m(self, gradient, retain_graph, create_graph, inputs)\u001b[0m\n\u001b[0;32m    477\u001b[0m \u001b[38;5;28;01mif\u001b[39;00m has_torch_function_unary(\u001b[38;5;28mself\u001b[39m):\n\u001b[0;32m    478\u001b[0m     \u001b[38;5;28;01mreturn\u001b[39;00m handle_torch_function(\n\u001b[0;32m    479\u001b[0m         Tensor\u001b[38;5;241m.\u001b[39mbackward,\n\u001b[0;32m    480\u001b[0m         (\u001b[38;5;28mself\u001b[39m,),\n\u001b[1;32m   (...)\u001b[0m\n\u001b[0;32m    485\u001b[0m         inputs\u001b[38;5;241m=\u001b[39minputs,\n\u001b[0;32m    486\u001b[0m     )\n\u001b[1;32m--> 487\u001b[0m \u001b[43mtorch\u001b[49m\u001b[38;5;241;43m.\u001b[39;49m\u001b[43mautograd\u001b[49m\u001b[38;5;241;43m.\u001b[39;49m\u001b[43mbackward\u001b[49m\u001b[43m(\u001b[49m\n\u001b[0;32m    488\u001b[0m \u001b[43m    \u001b[49m\u001b[38;5;28;43mself\u001b[39;49m\u001b[43m,\u001b[49m\u001b[43m \u001b[49m\u001b[43mgradient\u001b[49m\u001b[43m,\u001b[49m\u001b[43m \u001b[49m\u001b[43mretain_graph\u001b[49m\u001b[43m,\u001b[49m\u001b[43m \u001b[49m\u001b[43mcreate_graph\u001b[49m\u001b[43m,\u001b[49m\u001b[43m \u001b[49m\u001b[43minputs\u001b[49m\u001b[38;5;241;43m=\u001b[39;49m\u001b[43minputs\u001b[49m\n\u001b[0;32m    489\u001b[0m \u001b[43m\u001b[49m\u001b[43m)\u001b[49m\n",
      "File \u001b[1;32md:\\PythonEnvironment\\PhDVenv\\Lib\\site-packages\\torch\\autograd\\__init__.py:200\u001b[0m, in \u001b[0;36mbackward\u001b[1;34m(tensors, grad_tensors, retain_graph, create_graph, grad_variables, inputs)\u001b[0m\n\u001b[0;32m    195\u001b[0m     retain_graph \u001b[38;5;241m=\u001b[39m create_graph\n\u001b[0;32m    197\u001b[0m \u001b[38;5;66;03m# The reason we repeat same the comment below is that\u001b[39;00m\n\u001b[0;32m    198\u001b[0m \u001b[38;5;66;03m# some Python versions print out the first line of a multi-line function\u001b[39;00m\n\u001b[0;32m    199\u001b[0m \u001b[38;5;66;03m# calls in the traceback and some print out the last line\u001b[39;00m\n\u001b[1;32m--> 200\u001b[0m \u001b[43mVariable\u001b[49m\u001b[38;5;241;43m.\u001b[39;49m\u001b[43m_execution_engine\u001b[49m\u001b[38;5;241;43m.\u001b[39;49m\u001b[43mrun_backward\u001b[49m\u001b[43m(\u001b[49m\u001b[43m  \u001b[49m\u001b[38;5;66;43;03m# Calls into the C++ engine to run the backward pass\u001b[39;49;00m\n\u001b[0;32m    201\u001b[0m \u001b[43m    \u001b[49m\u001b[43mtensors\u001b[49m\u001b[43m,\u001b[49m\u001b[43m \u001b[49m\u001b[43mgrad_tensors_\u001b[49m\u001b[43m,\u001b[49m\u001b[43m \u001b[49m\u001b[43mretain_graph\u001b[49m\u001b[43m,\u001b[49m\u001b[43m \u001b[49m\u001b[43mcreate_graph\u001b[49m\u001b[43m,\u001b[49m\u001b[43m \u001b[49m\u001b[43minputs\u001b[49m\u001b[43m,\u001b[49m\n\u001b[0;32m    202\u001b[0m \u001b[43m    \u001b[49m\u001b[43mallow_unreachable\u001b[49m\u001b[38;5;241;43m=\u001b[39;49m\u001b[38;5;28;43;01mTrue\u001b[39;49;00m\u001b[43m,\u001b[49m\u001b[43m \u001b[49m\u001b[43maccumulate_grad\u001b[49m\u001b[38;5;241;43m=\u001b[39;49m\u001b[38;5;28;43;01mTrue\u001b[39;49;00m\u001b[43m)\u001b[49m\n",
      "\u001b[1;31mKeyboardInterrupt\u001b[0m: "
     ]
    }
   ],
   "source": [
    "from sklearn.metrics import accuracy_score\n",
    "from torch.utils.data import TensorDataset, DataLoader\n",
    "\n",
    "epochs = 500 \n",
    "\n",
    "batch_size = 1024\n",
    "\n",
    "# Calcula o número de mini-batches com base no tamanho do conjunto de treinamento\n",
    "num_batches = len(X_train) // batch_size\n",
    "\n",
    "# Calcula o número de mini-batches com base no tamanho do conjunto de teste\n",
    "num_test_batches = len(X_test) // batch_size\n",
    "\n",
    "# Cria um DataLoader para carregar os dados de treinamento em mini-batches\n",
    "train_data = TensorDataset(X_train, y_train)\n",
    "train_loader = DataLoader(train_data, batch_size=batch_size, shuffle=True, num_workers=2)\n",
    "\n",
    "# Cria um DataLoader para carregar os dados de teste em mini-batches\n",
    "test_data = TensorDataset(X_test, y_test)\n",
    "test_loader = DataLoader(test_data, batch_size=batch_size, shuffle=False, num_workers=2)\n",
    "\n",
    "del X_train, y_train, X_test, y_test\n",
    "\n",
    "# Cria listas para armazenar os valores de perda, acurácia e taxa de aprendizado\n",
    "store_train_loss = []\n",
    "store_test_loss = []\n",
    "store_train_acc = []\n",
    "store_test_acc = []\n",
    "store_lr = []\n",
    "\n",
    "# Loop das épocas\n",
    "for epoch in range(epochs):\n",
    "\n",
    "    ### Treinamento\n",
    "    # Habilita o modelo para treinamento\n",
    "    model.train()\n",
    "\n",
    "    train_loss = 0.0\n",
    "    train_acc = 0.0\n",
    "    num_samples = 0\n",
    "\n",
    "    num_train_batch = 1\n",
    "    num_test_batch = 1\n",
    "\n",
    "    # Loop dos mini-batches de treinamento\n",
    "    for inputs, targets in train_loader:\n",
    "\n",
    "        # Print atualizando a evolução do treinamento, como uma barra de progresso\n",
    "        print(f'\\rEpoch: {epoch} | Treinamento: {num_train_batch}/{(num_batches)}', end='')\n",
    "\n",
    "        # Zera os gradientes\n",
    "        optimizer.zero_grad()\n",
    "\n",
    "        # Forward pass\n",
    "        y_logits = model(inputs)\n",
    "        y_pred = torch.softmax(y_logits, dim=1).argmax(dim=1)\n",
    "\n",
    "        # Calcula a perda do treinamento\n",
    "        loss = loss_fn(y_logits, targets)\n",
    "        train_loss += loss.item()\n",
    "\n",
    "        # Calcula a acurácia do treinamento\n",
    "        batch_acc =  accuracy_score(targets.detach(), y_pred.detach())\n",
    "        train_acc += batch_acc * len(inputs)\n",
    "        num_samples += len(inputs)\n",
    "\n",
    "        # Backward pass\n",
    "        loss.backward()\n",
    "\n",
    "        # Atualiza os pesos\n",
    "        optimizer.step()\n",
    "\n",
    "        num_train_batch += 1\n",
    "\n",
    "    # Calcula a perda e acurácia média do treinamento\n",
    "    train_loss /= num_batches\n",
    "    train_acc /= num_samples\n",
    "\n",
    "    # Armazena os valores de perda e acurácia do treinamento\n",
    "    store_train_loss.append(train_loss)\n",
    "    store_train_acc.append(train_acc)\n",
    "\n",
    "    ### Validação\n",
    "    # Desabilita o modelo para treinamento\n",
    "    model.eval()\n",
    "\n",
    "    val_loss = 0.0\n",
    "    val_acc = 0.0\n",
    "    val_samples = 0\n",
    "\n",
    "    # Loop dos mini-batches de teste\n",
    "    with torch.inference_mode():\n",
    "        for inputs, targets in test_loader:\n",
    "\n",
    "            # Print atualizando a evolução do teste, como uma barra de progresso\n",
    "            print(f'\\rEpoch: {epoch} | Treinamento: {num_train_batch}/{(num_batches)} | Teste: {num_test_batch}/{(num_test_batches)} | ', end='')\n",
    "\n",
    "            # Forward pass\n",
    "            test_logits = model(inputs)\n",
    "            y_pred = torch.softmax(test_logits, dim=1).argmax(dim=1)\n",
    "\n",
    "            loss = loss_fn(test_logits, targets)\n",
    "            val_loss += loss.item()\n",
    "\n",
    "            # Calcula a acurácia do teste\n",
    "            batch_acc = accuracy_score(targets.detach(), y_pred.detach())\n",
    "            val_acc += batch_acc * len(inputs)\n",
    "\n",
    "            val_samples += len(inputs)\n",
    "\n",
    "            num_test_batch += 1\n",
    "\n",
    "    # Calcula a perda e acurácia média do teste\n",
    "    val_loss /= num_test_batches\n",
    "    val_acc /= val_samples\n",
    "\n",
    "    # Armazena os valores de perda e acurácia do teste\n",
    "    store_test_loss.append(val_loss)\n",
    "    store_test_acc.append(val_acc)\n",
    "\n",
    "    # Apresenta os resultados do treinamento e teste\n",
    "    print(f'Loss: {train_loss:.4f}, Acc: {train_acc:.4f} | Test Loss: {val_loss:.4f}, Test acc: {val_acc:.4f} | Learning rate: {optimizer.param_groups[0][\"lr\"]:.8f}')\n",
    "\n",
    "    # Atualiza o escalonador de taxa de aprendizado\n",
    "    scheduler.step()\n",
    "\n",
    "    # Armazena a taxa de aprendizado\n",
    "    store_lr.append(optimizer.param_groups[0][\"lr\"])\n",
    "\n",
    "    # Salva o modelo a cada 50 épocas\n",
    "    if epoch % 50 == 0:\n",
    "        torch.save(model.state_dict(), f'model_mul1-4_v4_{epoch}.pth')\n"
   ]
  }
 ],
 "metadata": {
  "kernelspec": {
   "display_name": "venv",
   "language": "python",
   "name": "python3"
  },
  "language_info": {
   "codemirror_mode": {
    "name": "ipython",
    "version": 3
   },
   "file_extension": ".py",
   "mimetype": "text/x-python",
   "name": "python",
   "nbconvert_exporter": "python",
   "pygments_lexer": "ipython3",
   "version": "3.11.7"
  }
 },
 "nbformat": 4,
 "nbformat_minor": 2
}
