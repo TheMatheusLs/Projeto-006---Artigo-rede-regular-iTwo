{
 "cells": [
  {
   "cell_type": "code",
   "execution_count": 1,
   "metadata": {},
   "outputs": [],
   "source": [
    "from torch import nn\n",
    "import torch\n",
    "import time\n",
    "    \n",
    "class Model_Mul1_4_v1(nn.Module):\n",
    "    def __init__(self):\n",
    "        super().__init__()\n",
    "        self.linear_layer_stack = nn.Sequential(\n",
    "            nn.Linear(323, 646),\n",
    "            nn.ReLU(inplace=True),\n",
    "            nn.Linear(646, 230),\n",
    "            nn.ReLU(inplace=True),\n",
    "            nn.Linear(230, 115),\n",
    "            nn.ReLU(inplace=True),\n",
    "            nn.Linear(115, 5)\n",
    "        )\n",
    "\n",
    "    def forward(self, x):\n",
    "        return self.linear_layer_stack(x)"
   ]
  },
  {
   "cell_type": "code",
   "execution_count": 2,
   "metadata": {},
   "outputs": [],
   "source": [
    "# Mudando todos os valores dos pesos para 0,3 e dos bias para 0,5\n",
    "class Model_Mul1_4_v2(nn.Module):\n",
    "    def __init__(self):\n",
    "        super().__init__()\n",
    "        self.linear_layer_stack = nn.Sequential(\n",
    "            nn.Linear(750, 2000),\n",
    "            nn.ReLU(inplace=True),\n",
    "            nn.Linear(2000, 500),\n",
    "            nn.ReLU(inplace=True),\n",
    "            nn.Linear(500, 100),\n",
    "            nn.ReLU(inplace=True),\n",
    "            nn.Linear(100, 3)\n",
    "        )\n",
    "\n",
    "    def forward(self, x):\n",
    "        return self.linear_layer_stack(x)   "
   ]
  },
  {
   "cell_type": "code",
   "execution_count": 3,
   "metadata": {},
   "outputs": [
    {
     "data": {
      "text/plain": [
       "41346"
      ]
     },
     "execution_count": 3,
     "metadata": {},
     "output_type": "execute_result"
    }
   ],
   "source": [
    "class DNN(nn.Module):\n",
    "        def __init__(self, input_size, output_size):\n",
    "            super(DNN, self).__init__()\n",
    "            self.linear_layer_stack = nn.Sequential(\n",
    "                nn.Linear(input_size, 256),\n",
    "                nn.LeakyReLU(inplace=True),\n",
    "                nn.Linear(256, 128),\n",
    "                nn.LeakyReLU(inplace=True),\n",
    "                nn.Linear(128, output_size),\n",
    "                nn.Softmax(dim=1) if output_size > 1 else nn.Sigmoid()\n",
    "            )\n",
    "\n",
    "        def forward(self, x):\n",
    "            return self.linear_layer_stack(x)\n",
    "        \n",
    "count_parameters(DNN(14 + 14 + 3, 2))"
   ]
  },
  {
   "cell_type": "code",
   "execution_count": 2,
   "metadata": {},
   "outputs": [
    {
     "data": {
      "text/plain": [
       "385259"
      ]
     },
     "execution_count": 2,
     "metadata": {},
     "output_type": "execute_result"
    }
   ],
   "source": [
    "#  Quantidade de parametros livres do modelo Model_Mul1_4_v1\n",
    "def count_parameters(model):\n",
    "    return sum(p.numel() for p in model.parameters() if p.requires_grad)\n",
    "\n",
    "count_parameters(Model_Mul1_4_v1())"
   ]
  },
  {
   "cell_type": "code",
   "execution_count": null,
   "metadata": {},
   "outputs": [],
   "source": []
  },
  {
   "cell_type": "code",
   "execution_count": 4,
   "metadata": {},
   "outputs": [
    {
     "name": "stdout",
     "output_type": "stream",
     "text": [
      "Tempo total:  6.430840015411377\n",
      "Tempo médio:  0.00012861680030822753\n"
     ]
    },
    {
     "data": {
      "text/plain": [
       "tensor([-0.0370, -0.0820, -0.1709, -0.0816,  0.1030], grad_fn=<AddBackward0>)"
      ]
     },
     "execution_count": 4,
     "metadata": {},
     "output_type": "execute_result"
    }
   ],
   "source": [
    "# Cria um vetor de entrada com 323 elementos em 1\n",
    "input_vector = torch.ones(323)\n",
    "\n",
    "model = Model_Mul1_4_v1()\n",
    "\n",
    "times2run = 50000\n",
    "\n",
    "start_time = time.time()\n",
    "\n",
    "for i in range(times2run):\n",
    "    model(input_vector)\n",
    "\n",
    "end_time = time.time()\n",
    "\n",
    "print(\"Tempo total: \", end_time - start_time)\n",
    "print(\"Tempo médio: \", (end_time - start_time)/times2run)\n",
    "\n",
    "model(input_vector)"
   ]
  },
  {
   "cell_type": "code",
   "execution_count": 24,
   "metadata": {},
   "outputs": [
    {
     "data": {
      "text/plain": [
       "tensor([0.5493, 0.5493, 0.5493, 0.5493, 0.5493], grad_fn=<AddBackward0>)"
      ]
     },
     "execution_count": 24,
     "metadata": {},
     "output_type": "execute_result"
    }
   ],
   "source": [
    "model(input_vector)"
   ]
  },
  {
   "cell_type": "code",
   "execution_count": 16,
   "metadata": {},
   "outputs": [
    {
     "data": {
      "text/plain": [
       "tensor([44935800., 44935800., 44935800., 44935800., 44935828.],\n",
       "       grad_fn=<AddBackward0>)"
      ]
     },
     "execution_count": 16,
     "metadata": {},
     "output_type": "execute_result"
    }
   ],
   "source": [
    "model(input_vector)"
   ]
  },
  {
   "cell_type": "code",
   "execution_count": 17,
   "metadata": {},
   "outputs": [
    {
     "data": {
      "text/plain": [
       "tensor([44935800., 44935800., 44935800., 44935800., 44935828.],\n",
       "       grad_fn=<AddBackward0>)"
      ]
     },
     "execution_count": 17,
     "metadata": {},
     "output_type": "execute_result"
    }
   ],
   "source": [
    "model(input_vector)"
   ]
  },
  {
   "cell_type": "code",
   "execution_count": null,
   "metadata": {},
   "outputs": [],
   "source": []
  },
  {
   "cell_type": "code",
   "execution_count": null,
   "metadata": {},
   "outputs": [],
   "source": [
    "class NN:\n",
    "    def __init__(self, inputSize, hidden1Size, hidden2Size, hidden3Size, outputSize) -> None:\n",
    "        self.weights1 = self.initializeWeights(inputSize, hidden1Size)\n",
    "        self.weights2 = self.initializeWeights(hidden1Size, hidden2Size)\n",
    "        self.weights3 = self.initializeWeights(hidden2Size, hidden3Size)\n",
    "        self.weightsOutput = self.initializeWeights(hidden3Size, outputSize)\n",
    "\n",
    "\n",
    "        private double[][] weights1; // Pesos da primeira camada oculta\n",
    "    private double[][] weights2; // Pesos da segunda camada oculta\n",
    "    private double[][] weights3; // Pesos da terceira camada oculta\n",
    "    private double[][] weightsOutput; // Pesos da camada de saída\n",
    "\n",
    "    private double[] biases1; // Biases da primeira camada oculta\n",
    "    private double[] biases2; // Biases da segunda camada oculta\n",
    "    private double[] biases3; // Biases da terceira camada oculta\n",
    "    private double[] biasesOutput; // Biases da camada de saída\n",
    "\n",
    "    def initializeWeights(self, inSize, outSize):\n",
    "        return [[0.003 for i in range(inSize)] for j in range(outSize)]"
   ]
  },
  {
   "cell_type": "code",
   "execution_count": null,
   "metadata": {},
   "outputs": [],
   "source": []
  },
  {
   "cell_type": "code",
   "execution_count": 26,
   "metadata": {},
   "outputs": [
    {
     "ename": "ValueError",
     "evalue": "shapes (323,) and (646,323) not aligned: 323 (dim 0) != 646 (dim 0)",
     "output_type": "error",
     "traceback": [
      "\u001b[1;31m---------------------------------------------------------------------------\u001b[0m",
      "\u001b[1;31mValueError\u001b[0m                                Traceback (most recent call last)",
      "Cell \u001b[1;32mIn[26], line 68\u001b[0m\n\u001b[0;32m     64\u001b[0m neural_network \u001b[38;5;241m=\u001b[39m NeuralNetwork(input_size, hidden1_size, hidden2_size, hidden3_size, output_size)\n\u001b[0;32m     66\u001b[0m input_data \u001b[38;5;241m=\u001b[39m np\u001b[38;5;241m.\u001b[39mones(input_size)\n\u001b[1;32m---> 68\u001b[0m output \u001b[38;5;241m=\u001b[39m \u001b[43mneural_network\u001b[49m\u001b[38;5;241;43m.\u001b[39;49m\u001b[43mpredict\u001b[49m\u001b[43m(\u001b[49m\u001b[43minput_data\u001b[49m\u001b[43m)\u001b[49m\n",
      "Cell \u001b[1;32mIn[26], line 43\u001b[0m, in \u001b[0;36mNeuralNetwork.predict\u001b[1;34m(self, input_data)\u001b[0m\n\u001b[0;32m     41\u001b[0m \u001b[38;5;28;01mdef\u001b[39;00m \u001b[38;5;21mpredict\u001b[39m(\u001b[38;5;28mself\u001b[39m, input_data):\n\u001b[0;32m     42\u001b[0m     \u001b[38;5;66;03m# Propagação para frente (forward propagation)\u001b[39;00m\n\u001b[1;32m---> 43\u001b[0m     product1 \u001b[38;5;241m=\u001b[39m \u001b[38;5;28;43mself\u001b[39;49m\u001b[38;5;241;43m.\u001b[39;49m\u001b[43mmatrix_vector_multiplication\u001b[49m\u001b[43m(\u001b[49m\u001b[43minput_data\u001b[49m\u001b[43m,\u001b[49m\u001b[43m \u001b[49m\u001b[38;5;28;43mself\u001b[39;49m\u001b[38;5;241;43m.\u001b[39;49m\u001b[43mweights1\u001b[49m\u001b[43m)\u001b[49m\n\u001b[0;32m     44\u001b[0m     hidden1 \u001b[38;5;241m=\u001b[39m \u001b[38;5;28mself\u001b[39m\u001b[38;5;241m.\u001b[39mrelu(\u001b[38;5;28mself\u001b[39m\u001b[38;5;241m.\u001b[39mvector_vector_sum(product1, \u001b[38;5;28mself\u001b[39m\u001b[38;5;241m.\u001b[39mbiases1))\n\u001b[0;32m     46\u001b[0m     product2 \u001b[38;5;241m=\u001b[39m \u001b[38;5;28mself\u001b[39m\u001b[38;5;241m.\u001b[39mmatrix_vector_multiplication(hidden1, \u001b[38;5;28mself\u001b[39m\u001b[38;5;241m.\u001b[39mweights2)\n",
      "Cell \u001b[1;32mIn[26], line 35\u001b[0m, in \u001b[0;36mNeuralNetwork.matrix_vector_multiplication\u001b[1;34m(self, vector, matrix)\u001b[0m\n\u001b[0;32m     33\u001b[0m \u001b[38;5;28;01mdef\u001b[39;00m \u001b[38;5;21mmatrix_vector_multiplication\u001b[39m(\u001b[38;5;28mself\u001b[39m, vector, matrix):\n\u001b[0;32m     34\u001b[0m     \u001b[38;5;66;03m# Implementar a multiplicação de vetor por matriz\u001b[39;00m\n\u001b[1;32m---> 35\u001b[0m     \u001b[38;5;28;01mreturn\u001b[39;00m \u001b[43mnp\u001b[49m\u001b[38;5;241;43m.\u001b[39;49m\u001b[43mdot\u001b[49m\u001b[43m(\u001b[49m\u001b[43mvector\u001b[49m\u001b[43m,\u001b[49m\u001b[43m \u001b[49m\u001b[43mmatrix\u001b[49m\u001b[43m)\u001b[49m\n",
      "\u001b[1;31mValueError\u001b[0m: shapes (323,) and (646,323) not aligned: 323 (dim 0) != 646 (dim 0)"
     ]
    }
   ],
   "source": [
    "import numpy as np\n",
    "\n",
    "class NeuralNetwork:\n",
    "    def __init__(self, input_size, hidden1_size, hidden2_size, hidden3_size, output_size):\n",
    "        # Inicializar pesos e biases com valores aleatórios\n",
    "        self.weights1 = self.initialize_weights(input_size, hidden1_size)\n",
    "        self.weights2 = self.initialize_weights(hidden1_size, hidden2_size)\n",
    "        self.weights3 = self.initialize_weights(hidden2_size, hidden3_size)\n",
    "        self.weights_output = self.initialize_weights(hidden3_size, output_size)\n",
    "\n",
    "        self.biases1 = self.initialize_biases(hidden1_size)\n",
    "        self.biases2 = self.initialize_biases(hidden2_size)\n",
    "        self.biases3 = self.initialize_biases(hidden3_size)\n",
    "        self.biases_output = self.initialize_biases(output_size)\n",
    "\n",
    "    def initialize_weights(self, in_size, out_size):\n",
    "        # Implementar a lógica para inicializar pesos aleatórios\n",
    "        return np.ones((out_size, in_size)) * 0.003\n",
    "\n",
    "    def initialize_biases(self, size):\n",
    "        # Implementar a lógica para inicializar biases aleatórios\n",
    "        return np.ones(size) * 0.05\n",
    "\n",
    "    def relu(self, x):\n",
    "        # Implementar a função de ativação ReLU\n",
    "        return np.maximum(0, x)\n",
    "\n",
    "    def softmax(self, x):\n",
    "        # Implementar a função de ativação Softmax\n",
    "        exp_values = np.exp(x)\n",
    "        return exp_values / np.sum(exp_values)\n",
    "\n",
    "    def matrix_vector_multiplication(self, vector, matrix):\n",
    "        # Implementar a multiplicação de vetor por matriz\n",
    "        return np.dot(vector, matrix)\n",
    "\n",
    "    def vector_vector_sum(self, vector1, vector2):\n",
    "        # Implementar a soma de vetores\n",
    "        return vector1 + vector2\n",
    "\n",
    "    def predict(self, input_data):\n",
    "        # Propagação para frente (forward propagation)\n",
    "        product1 = self.matrix_vector_multiplication(input_data, self.weights1)\n",
    "        hidden1 = self.relu(self.vector_vector_sum(product1, self.biases1))\n",
    "\n",
    "        product2 = self.matrix_vector_multiplication(hidden1, self.weights2)\n",
    "        hidden2 = self.relu(self.vector_vector_sum(product2, self.biases2))\n",
    "\n",
    "        product3 = self.matrix_vector_multiplication(hidden2, self.weights3)\n",
    "        hidden3 = self.relu(self.vector_vector_sum(product3, self.biases3))\n",
    "\n",
    "        product_output = self.matrix_vector_multiplication(hidden3, self.weights_output)\n",
    "        output = self.vector_vector_sum(product_output, self.biases_output)\n",
    "\n",
    "        return output\n",
    "\n",
    "# Exemplo de uso\n",
    "input_size = 323\n",
    "hidden1_size = 646\n",
    "hidden2_size = 230\n",
    "hidden3_size = 115\n",
    "output_size = 5\n",
    "\n",
    "neural_network = NeuralNetwork(input_size, hidden1_size, hidden2_size, hidden3_size, output_size)\n",
    "\n",
    "input_data = np.ones(input_size)\n",
    "\n",
    "output = neural_network.predict(input_data)\n"
   ]
  }
 ],
 "metadata": {
  "kernelspec": {
   "display_name": "venv",
   "language": "python",
   "name": "python3"
  },
  "language_info": {
   "codemirror_mode": {
    "name": "ipython",
    "version": 3
   },
   "file_extension": ".py",
   "mimetype": "text/x-python",
   "name": "python",
   "nbconvert_exporter": "python",
   "pygments_lexer": "ipython3",
   "version": "3.11.7"
  }
 },
 "nbformat": 4,
 "nbformat_minor": 2
}
