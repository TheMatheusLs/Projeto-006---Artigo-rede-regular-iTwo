{
 "cells": [
  {
   "cell_type": "markdown",
   "metadata": {},
   "source": [
    "## Simulação em Java, rede iTwo"
   ]
  },
  {
   "cell_type": "code",
   "execution_count": 8,
   "metadata": {},
   "outputs": [],
   "source": [
    "# Para 50000 requisições\n",
    "\n",
    "JAVA_MSCL_PB = 0.00396\n",
    "JAVA_MSCL_ET = 2764.0 # Em milliseconds\n",
    "\n",
    "JAVA_FF_PB = 0.0056\n",
    "JAVA_FF_ET = 213.0 # Em milliseconds\n",
    "\n",
    "JAVA_NN_ET = 340437 # Em milliseconds\n",
    "PYTHON_NN_ET = 16.778579473495483 * 1000 # Em milliseconds\n",
    "\n",
    "PYTHON_FF_PB = 6.120000e-03\n",
    "PYTHON_FF_ET = 1.3435065746307373 * 1000 # Em milliseconds\n",
    "\n",
    "# ANTIGO. ANTES DO GPT\n",
    "PYTHON_MSCL_PB = 4.560000e-03\n",
    "PYTHON_MSCL_ET = 1690.0666263103485 * 1000 # Em milliseconds\n",
    "\n",
    "# Depois de uma simples alteração com o chatGPT\n",
    "PYTHON_MSCL_PB = 4.560000e-03\n",
    "PYTHON_MSCL_ET = 194.61434721946716 * 1000 # Em milliseconds"
   ]
  },
  {
   "cell_type": "code",
   "execution_count": 9,
   "metadata": {},
   "outputs": [
    {
     "name": "stdout",
     "output_type": "stream",
     "text": [
      "** Resumo dos resultados: (Uma única simulação de 50.000 requisições) - Topologia iTwo (regular)\n",
      "\n",
      "*Probabilidade de bloqueio - First-Fit: \n",
      "Em Java: 0.0056 ou 5.60e-03\n",
      "Em Python: 0.00612 ou 6.12e-03\n",
      "\n",
      "\n",
      "*Probabilidade de bloqueio - MSCL: \n",
      "Em Java: 0.00396 ou 3.96e-03\n",
      "Em Python: 0.00456 ou 4.56e-03\n",
      "\n",
      "\n",
      "*Tempo de execução - First-Fit: \n",
      "Em Java: 213.00 ms total ou 4.26 us por requisição\n",
      "Em Python: 1343.51 ms total ou 26.87 us por requisição\n",
      "O Java é 6.31 vezes mais rápido que o Python\n",
      "\n",
      "\n",
      "*Tempo de execução - MSCL: \n",
      "Em Java: 2764.00 ms total ou 55.28 us por requisição\n",
      "Em Python: 194614.35 ms total ou 3892.29 us por requisição\n",
      "O Java é 70.41 vezes mais rápido que o Python\n",
      "\n",
      "\n",
      "*Tempo de execução - Rede Neural: \n",
      "Em Java (Loops Puros): 340437.00 ms total ou 6808.74 us na média\n",
      "Em Python (Pytorch): 16778.58 ms total ou 335.57 us na média\n",
      "O Python é 20.29 vezes mais rápido que o Java\n",
      "\n"
     ]
    }
   ],
   "source": [
    "# Resumo dos resultados\n",
    "print(\"** Resumo dos resultados: (Uma única simulação de 50.000 requisições) - Topologia iTwo (regular)\\n\")\n",
    "print(\"*Probabilidade de bloqueio - First-Fit: \")\n",
    "print(f\"Em Java: {JAVA_FF_PB} ou {JAVA_FF_PB:.2e}\")\n",
    "print(f\"Em Python: {PYTHON_FF_PB} ou {PYTHON_FF_PB:.2e}\\n\")\n",
    "\n",
    "print(\"\\n*Probabilidade de bloqueio - MSCL: \")\n",
    "print(f\"Em Java: {JAVA_MSCL_PB} ou {JAVA_MSCL_PB:.2e}\")\n",
    "print(f\"Em Python: {PYTHON_MSCL_PB} ou {PYTHON_MSCL_PB:.2e}\\n\")\n",
    "\n",
    "print(\"\\n*Tempo de execução - First-Fit: \")\n",
    "print(f\"Em Java: {JAVA_FF_ET:.2f} ms total ou {(JAVA_FF_ET/50000) * 1000:.2f} us por requisição\")\n",
    "print(f\"Em Python: {PYTHON_FF_ET:.2f} ms total ou {(PYTHON_FF_ET/50000) * 1000:.2f} us por requisição\")\n",
    "print(f\"O Java é {(PYTHON_FF_ET/JAVA_FF_ET):.2f} vezes mais rápido que o Python\\n\")\n",
    "\n",
    "print(\"\\n*Tempo de execução - MSCL: \")\n",
    "print(f\"Em Java: {JAVA_MSCL_ET:.2f} ms total ou {(JAVA_MSCL_ET/50000) * 1000:.2f} us por requisição\")\n",
    "print(f\"Em Python: {PYTHON_MSCL_ET:.2f} ms total ou {(PYTHON_MSCL_ET/50000) * 1000:.2f} us por requisição\")\n",
    "print(f\"O Java é {(PYTHON_MSCL_ET/JAVA_MSCL_ET):.2f} vezes mais rápido que o Python\\n\")\n",
    "\n",
    "print(\"\\n*Tempo de execução - Rede Neural: \")\n",
    "print(f\"Em Java (Loops Puros): {JAVA_NN_ET:.2f} ms total ou {(JAVA_NN_ET/50000) * 1000:.2f} us na média\")\n",
    "print(f\"Em Python (Pytorch): {PYTHON_NN_ET:.2f} ms total ou {(PYTHON_NN_ET/50000) * 1000:.2f} us na média\")\n",
    "print(f\"O Python é {(JAVA_NN_ET/PYTHON_NN_ET):.2f} vezes mais rápido que o Java\\n\")\n",
    "\n",
    "\n",
    "\n"
   ]
  },
  {
   "cell_type": "code",
   "execution_count": 10,
   "metadata": {},
   "outputs": [
    {
     "data": {
      "text/plain": [
       "386.96000000000004"
      ]
     },
     "execution_count": 10,
     "metadata": {},
     "output_type": "execute_result"
    }
   ],
   "source": [
    "55.28 * 7"
   ]
  },
  {
   "cell_type": "code",
   "execution_count": 11,
   "metadata": {},
   "outputs": [
    {
     "data": {
      "text/plain": [
       "147"
      ]
     },
     "execution_count": 11,
     "metadata": {},
     "output_type": "execute_result"
    }
   ],
   "source": [
    "21 * 7 "
   ]
  }
 ],
 "metadata": {
  "kernelspec": {
   "display_name": "venv",
   "language": "python",
   "name": "python3"
  },
  "language_info": {
   "codemirror_mode": {
    "name": "ipython",
    "version": 3
   },
   "file_extension": ".py",
   "mimetype": "text/x-python",
   "name": "python",
   "nbconvert_exporter": "python",
   "pygments_lexer": "ipython3",
   "version": "3.12.0"
  }
 },
 "nbformat": 4,
 "nbformat_minor": 2
}
